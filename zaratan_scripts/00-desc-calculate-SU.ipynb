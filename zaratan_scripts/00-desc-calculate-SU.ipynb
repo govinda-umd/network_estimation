{
 "cells": [
  {
   "cell_type": "code",
   "execution_count": 1,
   "metadata": {},
   "outputs": [],
   "source": [
    "import os\n",
    "import sys\n",
    "import numpy as np \n",
    "import pandas as pd\n",
    "\n"
   ]
  },
  {
   "cell_type": "code",
   "execution_count": 2,
   "metadata": {},
   "outputs": [],
   "source": [
    "class ARGS():\n",
    "    pass\n",
    "\n",
    "args = ARGS()"
   ]
  },
  {
   "cell_type": "code",
   "execution_count": 3,
   "metadata": {},
   "outputs": [],
   "source": [
    "sacct_df = pd.read_fwf(f'sacct.txt').iloc[1:].reset_index(drop=True)\n",
    "sacct_df['ElapsedRaw'] = sacct_df['ElapsedRaw'].apply(lambda x: float(x) / (60 * 60)) # seconds to hours\n",
    "# sacct_df"
   ]
  },
  {
   "cell_type": "code",
   "execution_count": 4,
   "metadata": {},
   "outputs": [
    {
     "data": {
      "text/html": [
       "<div>\n",
       "<style scoped>\n",
       "    .dataframe tbody tr th:only-of-type {\n",
       "        vertical-align: middle;\n",
       "    }\n",
       "\n",
       "    .dataframe tbody tr th {\n",
       "        vertical-align: top;\n",
       "    }\n",
       "\n",
       "    .dataframe thead th {\n",
       "        text-align: right;\n",
       "    }\n",
       "</style>\n",
       "<table border=\"1\" class=\"dataframe\">\n",
       "  <thead>\n",
       "    <tr style=\"text-align: right;\">\n",
       "      <th></th>\n",
       "      <th>JobID</th>\n",
       "      <th>arrayID</th>\n",
       "      <th>kSU</th>\n",
       "    </tr>\n",
       "  </thead>\n",
       "  <tbody>\n",
       "    <tr>\n",
       "      <th>0</th>\n",
       "      <td>5797586</td>\n",
       "      <td>5797586</td>\n",
       "      <td>1.638889e-05</td>\n",
       "    </tr>\n",
       "    <tr>\n",
       "      <th>0</th>\n",
       "      <td>5857825</td>\n",
       "      <td>5857825</td>\n",
       "      <td>2.305556e-05</td>\n",
       "    </tr>\n",
       "    <tr>\n",
       "      <th>0</th>\n",
       "      <td>5857829</td>\n",
       "      <td>5857829</td>\n",
       "      <td>1.006111e-03</td>\n",
       "    </tr>\n",
       "    <tr>\n",
       "      <th>0</th>\n",
       "      <td>5860134</td>\n",
       "      <td>5860134</td>\n",
       "      <td>2.777778e-07</td>\n",
       "    </tr>\n",
       "    <tr>\n",
       "      <th>0</th>\n",
       "      <td>5860142</td>\n",
       "      <td>5860142</td>\n",
       "      <td>2.777778e-07</td>\n",
       "    </tr>\n",
       "    <tr>\n",
       "      <th>...</th>\n",
       "      <td>...</td>\n",
       "      <td>...</td>\n",
       "      <td>...</td>\n",
       "    </tr>\n",
       "    <tr>\n",
       "      <th>0</th>\n",
       "      <td>6133262</td>\n",
       "      <td>25</td>\n",
       "      <td>2.154486e-01</td>\n",
       "    </tr>\n",
       "    <tr>\n",
       "      <th>0</th>\n",
       "      <td>6133262</td>\n",
       "      <td>26</td>\n",
       "      <td>1.764472e-01</td>\n",
       "    </tr>\n",
       "    <tr>\n",
       "      <th>0</th>\n",
       "      <td>6133262</td>\n",
       "      <td>27</td>\n",
       "      <td>8.580417e-02</td>\n",
       "    </tr>\n",
       "    <tr>\n",
       "      <th>0</th>\n",
       "      <td>6133262</td>\n",
       "      <td>28</td>\n",
       "      <td>2.056111e-01</td>\n",
       "    </tr>\n",
       "    <tr>\n",
       "      <th>0</th>\n",
       "      <td>6133262</td>\n",
       "      <td>29</td>\n",
       "      <td>3.557472e-01</td>\n",
       "    </tr>\n",
       "  </tbody>\n",
       "</table>\n",
       "<p>651 rows × 3 columns</p>\n",
       "</div>"
      ],
      "text/plain": [
       "      JobID  arrayID           kSU\n",
       "0   5797586  5797586  1.638889e-05\n",
       "0   5857825  5857825  2.305556e-05\n",
       "0   5857829  5857829  1.006111e-03\n",
       "0   5860134  5860134  2.777778e-07\n",
       "0   5860142  5860142  2.777778e-07\n",
       "..      ...      ...           ...\n",
       "0   6133262       25  2.154486e-01\n",
       "0   6133262       26  1.764472e-01\n",
       "0   6133262       27  8.580417e-02\n",
       "0   6133262       28  2.056111e-01\n",
       "0   6133262       29  3.557472e-01\n",
       "\n",
       "[651 rows x 3 columns]"
      ]
     },
     "execution_count": 4,
     "metadata": {},
     "output_type": "execute_result"
    }
   ],
   "source": [
    "ksu_df = []\n",
    "for idx, row in sacct_df.iterrows():\n",
    "    try:\n",
    "        jobid = row['JobID'].split('_')[0]\n",
    "        array_id = row['JobID'].split('_')[-1]\n",
    "        ksu = (row['ElapsedRaw'] * int(row['AllocTRES'].split(',')[0].split('=')[-1])) / 1000\n",
    "        df = pd.DataFrame({\n",
    "            'JobID':[jobid],\n",
    "            'arrayID':[array_id],\n",
    "            'kSU':[ksu]\n",
    "        })\n",
    "        ksu_df.append(df)\n",
    "    except:\n",
    "        pass\n",
    "\n",
    "ksu_df = pd.concat(ksu_df)\n",
    "ksu_df"
   ]
  },
  {
   "cell_type": "code",
   "execution_count": 13,
   "metadata": {},
   "outputs": [
    {
     "data": {
      "text/plain": [
       "1.8763597222222221"
      ]
     },
     "execution_count": 13,
     "metadata": {},
     "output_type": "execute_result"
    }
   ],
   "source": [
    "ksu_df[ksu_df['JobID'] == '6051189']['kSU'].sum()"
   ]
  },
  {
   "cell_type": "code",
   "execution_count": 16,
   "metadata": {},
   "outputs": [
    {
     "data": {
      "text/plain": [
       "17.279999999999998"
      ]
     },
     "execution_count": 16,
     "metadata": {},
     "output_type": "execute_result"
    }
   ],
   "source": [
    "# estimating for overlapping SBM\n",
    "\n",
    "billing = 12 # 50G, at least\n",
    "hours = 2 * 24 # days * hours, at least\n",
    "kSU = hours * billing / 1000\n",
    "kSU *= 30 # 30 sessions\n",
    "kSU"
   ]
  }
 ],
 "metadata": {
  "kernelspec": {
   "display_name": "nw_estim",
   "language": "python",
   "name": "python3"
  },
  "language_info": {
   "codemirror_mode": {
    "name": "ipython",
    "version": 3
   },
   "file_extension": ".py",
   "mimetype": "text/x-python",
   "name": "python",
   "nbconvert_exporter": "python",
   "pygments_lexer": "ipython3",
   "version": "3.9.17"
  }
 },
 "nbformat": 4,
 "nbformat_minor": 2
}
