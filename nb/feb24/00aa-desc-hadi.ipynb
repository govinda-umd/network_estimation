{
 "cells": [
  {
   "cell_type": "code",
   "execution_count": 4,
   "metadata": {},
   "outputs": [],
   "source": [
    "import sys\n",
    "sys.path.append(f'/home/govindas/hadi/Ca-fMRI')\n",
    "import numpy as np \n",
    "import pandas as pd \n",
    "\n",
    "from model import mouse\n",
    "from model.configuration import Config"
   ]
  },
  {
   "cell_type": "code",
   "execution_count": 5,
   "metadata": {},
   "outputs": [
    {
     "data": {
      "text/html": [
       "<pre style=\"white-space:pre;overflow-x:auto;line-height:normal;font-family:Menlo,'DejaVu Sans Mono',consolas,'Courier New',monospace\"><span style=\"font-weight: bold\">[</span>PROGRESS<span style=\"font-weight: bold\">]</span> <span style=\"color: #008000; text-decoration-color: #008000\">'config.json'</span> saved at\n",
       "<span style=\"color: #800080; text-decoration-color: #800080\">/home/govindas/Documents/CafMRI/processed/</span><span style=\"color: #ff00ff; text-decoration-color: #ff00ff\">norm-global_parcel-columnar_n-128</span>*<span style=\"color: #008080; text-decoration-color: #008080; font-weight: bold\">3</span>\n",
       "</pre>\n"
      ],
      "text/plain": [
       "\u001b[1m[\u001b[0mPROGRESS\u001b[1m]\u001b[0m \u001b[32m'config.json'\u001b[0m saved at\n",
       "\u001b[35m/home/govindas/Documents/CafMRI/processed/\u001b[0m\u001b[95mnorm-global_parcel-columnar_n-128\u001b[0m*\u001b[1;36m3\u001b[0m\n"
      ]
     },
     "metadata": {},
     "output_type": "display_data"
    }
   ],
   "source": [
    "cfg = Config(nn=128, base_dir='Documents/CafMRI')"
   ]
  },
  {
   "cell_type": "code",
   "execution_count": 6,
   "metadata": {},
   "outputs": [
    {
     "data": {
      "text/html": [
       "<pre style=\"white-space:pre;overflow-x:auto;line-height:normal;font-family:Menlo,'DejaVu Sans Mono',consolas,'Courier New',monospace\">ROI lookup not found, time to run <span style=\"color: #800080; text-decoration-color: #800080; font-weight: bold\">organize_func</span><span style=\"font-weight: bold\">()</span> . . .\n",
       "</pre>\n"
      ],
      "text/plain": [
       "ROI lookup not found, time to run \u001b[1;35morganize_func\u001b[0m\u001b[1m(\u001b[0m\u001b[1m)\u001b[0m . . .\n"
      ]
     },
     "metadata": {},
     "output_type": "display_data"
    }
   ],
   "source": [
    "mice = mouse.Mice(cfg)"
   ]
  },
  {
   "cell_type": "code",
   "execution_count": 7,
   "metadata": {},
   "outputs": [
    {
     "data": {
      "text/html": [
       "<pre style=\"white-space:pre;overflow-x:auto;line-height:normal;font-family:Menlo,'DejaVu Sans Mono',consolas,'Courier New',monospace\">Parcellation not found, initiating fit\n",
       "</pre>\n"
      ],
      "text/plain": [
       "Parcellation not found, initiating fit\n"
      ]
     },
     "metadata": {},
     "output_type": "display_data"
    },
    {
     "data": {
      "text/html": [
       "<pre style=\"white-space:pre;overflow-x:auto;line-height:normal;font-family:Menlo,'DejaVu Sans Mono',consolas,'Courier New',monospace\"><span style=\"font-weight: bold\">[</span>PROGRESS<span style=\"font-weight: bold\">]</span> fit columnar: initiated\n",
       "</pre>\n"
      ],
      "text/plain": [
       "\u001b[1m[\u001b[0mPROGRESS\u001b[1m]\u001b[0m fit columnar: initiated\n"
      ]
     },
     "metadata": {},
     "output_type": "display_data"
    },
    {
     "data": {
      "text/html": [
       "<pre style=\"white-space:pre;overflow-x:auto;line-height:normal;font-family:Menlo,'DejaVu Sans Mono',consolas,'Courier New',monospace\"><span style=\"font-weight: bold\">[</span>PROGRESS<span style=\"font-weight: bold\">]</span> kmeans fit: done\n",
       "</pre>\n"
      ],
      "text/plain": [
       "\u001b[1m[\u001b[0mPROGRESS\u001b[1m]\u001b[0m kmeans fit: done\n"
      ]
     },
     "metadata": {},
     "output_type": "display_data"
    },
    {
     "data": {
      "text/html": [
       "<pre style=\"white-space:pre;overflow-x:auto;line-height:normal;font-family:Menlo,'DejaVu Sans Mono',consolas,'Courier New',monospace\"><span style=\"font-weight: bold\">[</span>PROGRESS<span style=\"font-weight: bold\">]</span> save 2D, 10um: done\n",
       "</pre>\n"
      ],
      "text/plain": [
       "\u001b[1m[\u001b[0mPROGRESS\u001b[1m]\u001b[0m save 2D, 10um: done\n"
      ]
     },
     "metadata": {},
     "output_type": "display_data"
    },
    {
     "ename": "IndexError",
     "evalue": "index 1140 is out of bounds for axis 1 with size 1140",
     "output_type": "error",
     "traceback": [
      "\u001b[0;31m---------------------------------------------------------------------------\u001b[0m",
      "\u001b[0;31mIndexError\u001b[0m                                Traceback (most recent call last)",
      "Cell \u001b[0;32mIn[7], line 1\u001b[0m\n\u001b[0;32m----> 1\u001b[0m \u001b[43mmice\u001b[49m\u001b[38;5;241;43m.\u001b[39;49m\u001b[43mparcel\u001b[49m\u001b[38;5;241;43m.\u001b[39;49m\u001b[43mfit_parcel\u001b[49m\u001b[43m(\u001b[49m\u001b[43m)\u001b[49m\n",
      "File \u001b[0;32m~/hadi/Ca-fMRI/register/parcellation.py:344\u001b[0m, in \u001b[0;36mParcellation.fit_parcel\u001b[0;34m(self, radius, force_fit, **kwargs)\u001b[0m\n\u001b[1;32m    342\u001b[0m \u001b[38;5;28;01mif\u001b[39;00m force_fit:\n\u001b[1;32m    343\u001b[0m \t\u001b[38;5;28;01mif\u001b[39;00m \u001b[38;5;28mself\u001b[39m\u001b[38;5;241m.\u001b[39mcfg\u001b[38;5;241m.\u001b[39mparcel_mode \u001b[38;5;241m==\u001b[39m \u001b[38;5;124m'\u001b[39m\u001b[38;5;124mcolumnar\u001b[39m\u001b[38;5;124m'\u001b[39m:\n\u001b[0;32m--> 344\u001b[0m \t\t\u001b[38;5;28;43mself\u001b[39;49m\u001b[38;5;241;43m.\u001b[39;49m\u001b[43m_fit_columnar\u001b[49m\u001b[43m(\u001b[49m\u001b[43m)\u001b[49m\n\u001b[1;32m    345\u001b[0m \t\u001b[38;5;28;01melif\u001b[39;00m \u001b[38;5;28mself\u001b[39m\u001b[38;5;241m.\u001b[39mcfg\u001b[38;5;241m.\u001b[39mparcel_mode \u001b[38;5;241m==\u001b[39m \u001b[38;5;124m'\u001b[39m\u001b[38;5;124mspatial\u001b[39m\u001b[38;5;124m'\u001b[39m:\n\u001b[1;32m    346\u001b[0m \t\t\u001b[38;5;28mself\u001b[39m\u001b[38;5;241m.\u001b[39m_fit_spatial()\n",
      "File \u001b[0;32m~/hadi/Ca-fMRI/register/parcellation.py:135\u001b[0m, in \u001b[0;36mParcellation._fit_columnar\u001b[0;34m(self)\u001b[0m\n\u001b[1;32m    133\u001b[0m \u001b[38;5;28;01mfor\u001b[39;00m i \u001b[38;5;129;01min\u001b[39;00m regions:\n\u001b[1;32m    134\u001b[0m \tidxs \u001b[38;5;241m=\u001b[39m np\u001b[38;5;241m.\u001b[39mwhere(parcel2d \u001b[38;5;241m==\u001b[39m i)\n\u001b[0;32m--> 135\u001b[0m \t\u001b[38;5;28;01mfor\u001b[39;00m item \u001b[38;5;129;01min\u001b[39;00m \u001b[43mal10\u001b[49m\u001b[38;5;241;43m.\u001b[39;49m\u001b[43mlookup\u001b[49m\u001b[43m[\u001b[49m\u001b[43midxs\u001b[49m\u001b[43m]\u001b[49m:\n\u001b[1;32m    136\u001b[0m \t\tpath \u001b[38;5;241m=\u001b[39m al10\u001b[38;5;241m.\u001b[39mpaths[item]\n\u001b[1;32m    137\u001b[0m \t\tpath \u001b[38;5;241m=\u001b[39m path[path\u001b[38;5;241m.\u001b[39mnonzero()]\n",
      "\u001b[0;31mIndexError\u001b[0m: index 1140 is out of bounds for axis 1 with size 1140"
     ]
    }
   ],
   "source": [
    "mice.parcel.fit_parcel()"
   ]
  },
  {
   "cell_type": "code",
   "execution_count": 8,
   "metadata": {},
   "outputs": [],
   "source": [
    "from register.atlas import Allen"
   ]
  },
  {
   "cell_type": "code",
   "execution_count": 9,
   "metadata": {},
   "outputs": [],
   "source": [
    "al10 = Allen(\n",
    "\tresolution=10,\n",
    "\tproj_mode='dorsal_flatmap',\n",
    "\tfull_load=True,\n",
    ")"
   ]
  },
  {
   "cell_type": "code",
   "execution_count": 12,
   "metadata": {},
   "outputs": [
    {
     "data": {
      "text/plain": [
       "'/home/govindas/Documents/workspaces/allen/MouseConnectivity'"
      ]
     },
     "execution_count": 12,
     "metadata": {},
     "output_type": "execute_result"
    }
   ],
   "source": [
    "al10.ws_dir"
   ]
  },
  {
   "cell_type": "code",
   "execution_count": 18,
   "metadata": {},
   "outputs": [
    {
     "data": {
      "text/plain": [
       "['top_view_paths_10.h5',\n",
       " 'isocortex_boundary_10.nrrd',\n",
       " 'isocortex_mask_10.nrrd',\n",
       " 'laplacian_10.nrrd',\n",
       " 'dorsal_flatmap_paths_10.h5']"
      ]
     },
     "execution_count": 18,
     "metadata": {},
     "output_type": "execute_result"
    }
   ],
   "source": [
    "import os\n",
    "os.listdir(os.path.join(al10.ws_dir, 'cortical_coordinates', 'ccf_2017'))"
   ]
  },
  {
   "cell_type": "code",
   "execution_count": 20,
   "metadata": {},
   "outputs": [
    {
     "data": {
      "text/plain": [
       "(1360, 2720)"
      ]
     },
     "execution_count": 20,
     "metadata": {},
     "output_type": "execute_result"
    }
   ],
   "source": [
    "al10.lookup.shape"
   ]
  },
  {
   "cell_type": "code",
   "execution_count": 21,
   "metadata": {},
   "outputs": [
    {
     "data": {
      "text/plain": [
       "(1320, 800, 1140)"
      ]
     },
     "execution_count": 21,
     "metadata": {},
     "output_type": "execute_result"
    }
   ],
   "source": [
    "al10.annotation.shape"
   ]
  },
  {
   "cell_type": "code",
   "execution_count": 23,
   "metadata": {},
   "outputs": [
    {
     "data": {
      "text/plain": [
       "(2029520, 200)"
      ]
     },
     "execution_count": 23,
     "metadata": {},
     "output_type": "execute_result"
    }
   ],
   "source": [
    "al10.paths.shape"
   ]
  },
  {
   "cell_type": "code",
   "execution_count": null,
   "metadata": {},
   "outputs": [],
   "source": []
  }
 ],
 "metadata": {
  "kernelspec": {
   "display_name": "nw_estim",
   "language": "python",
   "name": "python3"
  },
  "language_info": {
   "codemirror_mode": {
    "name": "ipython",
    "version": 3
   },
   "file_extension": ".py",
   "mimetype": "text/x-python",
   "name": "python",
   "nbconvert_exporter": "python",
   "pygments_lexer": "ipython3",
   "version": "3.9.17"
  }
 },
 "nbformat": 4,
 "nbformat_minor": 2
}
