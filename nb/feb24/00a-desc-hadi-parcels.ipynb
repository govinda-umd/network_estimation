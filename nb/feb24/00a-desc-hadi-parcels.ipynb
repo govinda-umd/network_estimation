{
 "cells": [
  {
   "cell_type": "markdown",
   "metadata": {},
   "source": [
    "# Jan 31 2024: generate parcellation: in Allen then transform to N162"
   ]
  },
  {
   "cell_type": "markdown",
   "metadata": {},
   "source": [
    "REFERENCE:\n",
    "https://allensdk.readthedocs.io/en/latest/_static/examples/nb/mouse_connectivity.html?highlight=major#"
   ]
  },
  {
   "cell_type": "code",
   "execution_count": 1,
   "metadata": {},
   "outputs": [],
   "source": [
    "import os\n",
    "import numpy as np \n",
    "import pandas as pd\n",
    "import ants\n",
    "import seaborn as sns \n",
    "\n",
    "from allensdk.core.mouse_connectivity_cache import (\n",
    "    MouseConnectivityCache,\n",
    "    MouseConnectivityApi\n",
    ")\n",
    "from allensdk.api.queries.ontologies_api import OntologiesApi\n",
    "\n",
    "from sklearn.cluster import KMeans\n",
    "from tqdm import tqdm\n",
    "\n",
    "# ignore user warnings\n",
    "import warnings\n",
    "warnings.filterwarnings(\"ignore\") #, category=UserWarning)"
   ]
  },
  {
   "cell_type": "code",
   "execution_count": 2,
   "metadata": {},
   "outputs": [],
   "source": [
    "class ARGS():\n",
    "    pass\n",
    "\n",
    "args = ARGS()\n",
    "\n",
    "args.SEED = 100"
   ]
  },
  {
   "cell_type": "code",
   "execution_count": 3,
   "metadata": {},
   "outputs": [],
   "source": [
    "def to_nifti(args, img):\n",
    "    img = img.transpose(2, 0, 1)\n",
    "    img = img[::-1,:,::-1]\n",
    "    img = np.pad(\n",
    "        img, \n",
    "        pad_width=((2, 2), (4, 24), (8, 2)), \n",
    "        mode='constant',\n",
    "        constant_values=((0, 0), (0, 0), (0, 0))\n",
    "        )\n",
    "    print(img.dtype, img.shape)\n",
    "    ndims = len(img.shape)\n",
    "    ants_img = ants.from_numpy(\n",
    "        data=img.astype(np.float32), \n",
    "        origin=[6.4, -13.2, -7.8],\n",
    "        spacing=[0.1]*ndims,\n",
    "    )\n",
    "    return ants_img"
   ]
  },
  {
   "cell_type": "code",
   "execution_count": 4,
   "metadata": {},
   "outputs": [
    {
     "name": "stdout",
     "output_type": "stream",
     "text": [
      "(132, 80, 114) (132, 80, 114)\n"
     ]
    }
   ],
   "source": [
    "args.atlas_path = f'/home/govindas/mouse_dataset/allen_atlas_ccfv3'\n",
    "args.mcc_path = f'{args.atlas_path}/MouseConnectivity'\n",
    "mcc = MouseConnectivityCache(\n",
    "    resolution=100,\n",
    "    ccf_version=MouseConnectivityApi().CCF_2017,\n",
    "    manifest_file=f'{args.mcc_path}/manifest.json',\n",
    ")\n",
    "AVGT, metaAVGT = mcc.get_template_volume()\n",
    "ANO, metaANO = mcc.get_annotation_volume()\n",
    "AVGT = AVGT.astype(np.float32)\n",
    "ANO = ANO.astype(np.uint32)\n",
    "print(AVGT.shape, ANO.shape)\n",
    "\n",
    "STree = mcc.get_structure_tree()\n",
    "STree_df = pd.DataFrame(STree.nodes()) \n",
    "# for idx in STree_df.id.to_list():\n",
    "#     try: \n",
    "#         mcc.get_structure_mask(structure_id=idx) \n",
    "#     except:\n",
    "#         pass"
   ]
  },
  {
   "cell_type": "code",
   "execution_count": 5,
   "metadata": {},
   "outputs": [
    {
     "data": {
      "text/plain": [
       "0"
      ]
     },
     "execution_count": 5,
     "metadata": {},
     "output_type": "execute_result"
    }
   ],
   "source": [
    "args.out_path = f'{args.mcc_path}/parcels'\n",
    "cmd = (\n",
    "    f'mkdir -p {args.out_path}'\n",
    ")\n",
    "os.system(cmd)"
   ]
  },
  {
   "cell_type": "code",
   "execution_count": 6,
   "metadata": {},
   "outputs": [],
   "source": [
    "def separate_hemis(args, mask, lr_axis=2):\n",
    "    # separate hemispheres\n",
    "    \n",
    "    nvxl_lr = mask.shape[lr_axis]\n",
    "    coverage = int(np.ceil(nvxl_lr / 2))\n",
    "    \n",
    "    # create separate left-right masks\n",
    "    slices_l = tuple(\n",
    "        slice(0, coverage) if i == lr_axis\n",
    "        else slice(mask.shape[i])\n",
    "        for i in range(len(mask.shape))\n",
    "    )\n",
    "    slices_r = tuple(\n",
    "        slice(nvxl_lr - coverage, nvxl_lr)\n",
    "        if i == lr_axis else slice(mask.shape[i])\n",
    "        for i in range(len(mask.shape))\n",
    "    )\n",
    "    mask_l = mask.copy().astype(bool)\n",
    "    mask_r = mask.copy().astype(bool)\n",
    "    mask_l[slices_r] = 0\n",
    "    mask_r[slices_l] = 0\n",
    "    \n",
    "    # ensure symmetry\n",
    "    mask_r_full = mask_r.copy()\n",
    "    mask_l_full = mask_l.copy()\n",
    "    mask_r_full[slices_l] = np.flip(mask_r[slices_r], axis=lr_axis)\n",
    "    mask_l_full[slices_r] = np.flip(mask_l[slices_l], axis=lr_axis)\n",
    "    mask_sym = np.logical_and(mask_r_full, mask_l_full)\n",
    "\n",
    "    mask_l = mask_sym.copy().astype(bool)\n",
    "    mask_r = mask_sym.copy().astype(bool)\n",
    "    mask_l[slices_r] = 0\n",
    "    mask_r[slices_l] = 0\n",
    "    \n",
    "    return slices_l, slices_r, mask_l, mask_r, nvxl_lr\n",
    "\n",
    "def do_kmeans(args, mask, ):\n",
    "    # k-means\n",
    "    \n",
    "    nonzero_voxels = list(zip(*np.where(mask.astype(bool))))\n",
    "    nonzero_voxels = np.reshape(nonzero_voxels, (-1, len(mask.shape))).astype(int)\n",
    "    \n",
    "    num_rois = int(len(nonzero_voxels) // args.roi_size)\n",
    "    num_rois = num_rois if num_rois > 0 else 1\n",
    "\n",
    "    kmeans = KMeans(\n",
    "        n_clusters=num_rois,\n",
    "        init='k-means++',\n",
    "        random_state=args.SEED,\n",
    "    ).fit(nonzero_voxels.astype(float))\n",
    "    rois = kmeans.predict(nonzero_voxels.astype(float)) + 1\n",
    "\n",
    "    parcels = np.zeros_like(mask, dtype=int)\n",
    "    for roi in np.unique(rois):\n",
    "        vxls = nonzero_voxels[rois == roi]\n",
    "        parcels[tuple(zip(*vxls))] = roi\n",
    "        \n",
    "    clust_cntrs = {\n",
    "        k:v \n",
    "        for k, v in zip(range(1, num_rois+1), kmeans.cluster_centers_)\n",
    "    }\n",
    "    return parcels, clust_cntrs, num_rois\n",
    "\n",
    "def kmeans_parcellation(args, mask, ):\n",
    "    lr_axis = 2\n",
    "    (\n",
    "        slices_l, slices_r, \n",
    "        mask_l, mask_r,\n",
    "        nvxl_lr\n",
    "    ) = separate_hemis(\n",
    "        args, mask=mask, lr_axis=lr_axis,\n",
    "    )\n",
    "\n",
    "    parcels_l, cntrs_l, num_rois_l = do_kmeans(args, mask_l)\n",
    "    if not args.maintain_symmetry:\n",
    "        parcels_r, cntrs_r, num_rois_r = do_kmeans(args, mask_r)\n",
    "    else:\n",
    "        parcels_r = np.flip(parcels_l, axis=lr_axis).copy() * mask_r\n",
    "        cntrs_r = {k:np.array([v[0], v[1], nvxl_lr-v[2]]) for k,v in cntrs_l.items()}\n",
    "        num_rois_r = num_rois_l\n",
    "    \n",
    "    return [\n",
    "        {'parcels': parcels_l, 'cntrs':cntrs_l, 'mask': mask_l, 'num_rois':num_rois_l, 'hemi':'l'},\n",
    "        {'parcels': parcels_r, 'cntrs':cntrs_r, 'mask': mask_r, 'num_rois':num_rois_r, 'hemi':'r'}\n",
    "    ]"
   ]
  },
  {
   "cell_type": "code",
   "execution_count": 7,
   "metadata": {},
   "outputs": [
    {
     "name": "stderr",
     "output_type": "stream",
     "text": [
      "0it [00:00, ?it/s]"
     ]
    },
    {
     "name": "stderr",
     "output_type": "stream",
     "text": [
      "12it [00:15,  1.28s/it]\n"
     ]
    },
    {
     "name": "stdout",
     "output_type": "stream",
     "text": [
      "5512\n",
      "int64 (118, 160, 90)\n"
     ]
    }
   ],
   "source": [
    "# major brain divisions\n",
    "set_ids = STree.get_structure_sets()\n",
    "onto_df = pd.DataFrame(\n",
    "    OntologiesApi().get_structure_sets(set_ids)\n",
    ")\n",
    "major_divs_id = onto_df[onto_df['name'] == 'Brain - Major Divisions']['id'].item()\n",
    "major_divs_df = pd.DataFrame(STree.get_structures_by_set_id([major_divs_id]))\n",
    "\n",
    "# kmeans within each division\n",
    "args.maintain_symmetry = True\n",
    "args.roi_size = 75 # voxels in roi: 3000, 1500, 500, 250, 30000, etc\n",
    "rois_all = []\n",
    "for idx, row in tqdm(major_divs_df.iterrows()):\n",
    "    acro, div_id = row[['acronym', 'id']].to_list()\n",
    "    DIV, metaDIV = mcc.get_structure_mask(div_id)\n",
    "    DIV = DIV.astype(np.uint32)\n",
    "    rois_all += kmeans_parcellation(args, mask=DIV)\n",
    "\n",
    "# collect all kmeans outputs\n",
    "rois_df = pd.DataFrame(rois_all)\n",
    "parcels_all = np.zeros_like(AVGT, dtype=int)\n",
    "cntrs_all = {}\n",
    "for hemi, group in rois_df.groupby(by='hemi'):\n",
    "    for idx, row in group.iterrows():\n",
    "        num_rois = len(np.unique(parcels_all)[1:])\n",
    "        \n",
    "        parcels, cntrs, mask = row[['parcels', 'cntrs', 'mask']].to_list()\n",
    "        parcels += mask * num_rois\n",
    "        parcels_all += parcels\n",
    "        \n",
    "        cntrs = {k+num_rois:cntr for k, cntr in cntrs.items()}\n",
    "        cntrs_all = {**cntrs_all, **cntrs}\n",
    "        \n",
    "num_rois = len(np.unique(parcels_all)[1:])\n",
    "print(num_rois)\n",
    "to_nifti(args, parcels_all).to_filename(f'{args.out_path}/parcels_{num_rois}.nii.gz')"
   ]
  },
  {
   "cell_type": "markdown",
   "metadata": {},
   "source": [
    "---"
   ]
  },
  {
   "cell_type": "code",
   "execution_count": 8,
   "metadata": {},
   "outputs": [
    {
     "data": {
      "text/plain": [
       "(118, 160, 90)"
      ]
     },
     "execution_count": 8,
     "metadata": {},
     "output_type": "execute_result"
    }
   ],
   "source": [
    "n162_template = f'/home/govindas/mouse_dataset/gabe_symmetric_N162/Symmetric_N162_0.10_RAS.nii.gz'\n",
    "n162_template = ants.image_read(n162_template)\n",
    "n162_template.numpy().shape"
   ]
  },
  {
   "cell_type": "code",
   "execution_count": 9,
   "metadata": {},
   "outputs": [
    {
     "name": "stdout",
     "output_type": "stream",
     "text": [
      "float32 (118, 160, 90)\n"
     ]
    }
   ],
   "source": [
    "allen_template = to_nifti(args, AVGT)"
   ]
  },
  {
   "cell_type": "code",
   "execution_count": 10,
   "metadata": {},
   "outputs": [],
   "source": [
    "tx = ants.registration(\n",
    "    fixed=n162_template,\n",
    "    moving=allen_template,\n",
    "    type_of_transform=('SyN'),\n",
    ")"
   ]
  },
  {
   "cell_type": "code",
   "execution_count": 11,
   "metadata": {},
   "outputs": [],
   "source": [
    "allen_template_warped = ants.apply_transforms(\n",
    "    fixed=n162_template,\n",
    "    moving=allen_template,\n",
    "    transformlist=tx['fwdtransforms'],\n",
    "    interpolator='genericLabel',\n",
    ")\n",
    "allen_template_warped.to_filename(f'allen_warped.nii.gz')"
   ]
  },
  {
   "cell_type": "code",
   "execution_count": 31,
   "metadata": {},
   "outputs": [],
   "source": [
    "num_rois = 266\n",
    "parcels = f'{args.out_path}/parcels_{num_rois}.nii.gz'\n",
    "parcels = ants.image_read(parcels)\n",
    "parcels_warped = ants.apply_transforms(\n",
    "    fixed=n162_template,\n",
    "    moving=parcels,\n",
    "    transformlist=tx['fwdtransforms'],\n",
    "    interpolator='genericLabel',\n",
    ")\n",
    "parcels_warped.to_filename(f'parcels_warped_{num_rois}.nii.gz')"
   ]
  },
  {
   "cell_type": "code",
   "execution_count": 32,
   "metadata": {},
   "outputs": [],
   "source": [
    "cmask = f'/home/govindas/mouse_dataset/voxel/common_brain_mask.nii.gz'\n",
    "cmask = ants.image_read(cmask)"
   ]
  },
  {
   "cell_type": "code",
   "execution_count": 33,
   "metadata": {},
   "outputs": [],
   "source": [
    "parcels_warped_cm = ants.resample_image_to_target(\n",
    "    image=parcels_warped,\n",
    "    target=cmask,\n",
    "    interp_type='genericLabel',\n",
    ")\n",
    "parcels_warped_cm = parcels_warped_cm.new_image_like(\n",
    "    data=parcels_warped_cm.numpy() * cmask.numpy()\n",
    ")\n",
    "parcels_warped_cm.to_filename(f'parcels_warped_cm_{num_rois}.nii.gz')"
   ]
  }
 ],
 "metadata": {
  "kernelspec": {
   "display_name": "hadi",
   "language": "python",
   "name": "python3"
  },
  "language_info": {
   "codemirror_mode": {
    "name": "ipython",
    "version": 3
   },
   "file_extension": ".py",
   "mimetype": "text/x-python",
   "name": "python",
   "nbconvert_exporter": "python",
   "pygments_lexer": "ipython3",
   "version": "3.9.17"
  }
 },
 "nbformat": 4,
 "nbformat_minor": 2
}
