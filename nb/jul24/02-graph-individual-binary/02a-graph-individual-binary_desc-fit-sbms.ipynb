{
 "cells": [
  {
   "cell_type": "markdown",
   "metadata": {},
   "source": [
    "# June 16, 2024: fit sbms on graphs"
   ]
  },
  {
   "cell_type": "code",
   "execution_count": 1,
   "metadata": {},
   "outputs": [],
   "source": [
    "import csv\n",
    "import os\n",
    "import sys\n",
    "import numpy as np\n",
    "import pandas as pd\n",
    "import scipy as sp \n",
    "import dill as pickle \n",
    "from os.path import join as pjoin\n",
    "from itertools import product\n",
    "from tqdm import tqdm\n",
    "from copy import deepcopy\n",
    "from pathlib import Path\n",
    "import subprocess\n",
    "from scipy import sparse, stats\n",
    "from multiprocessing import Pool\n",
    "import glob\n",
    "\n",
    "# import arviz as az\n",
    "\n",
    "from itertools import product, combinations\n",
    "\n",
    "# networks\n",
    "import graph_tool.all as gt\n",
    "\n",
    "# plotting\n",
    "import matplotlib as mpl\n",
    "import matplotlib.pyplot as plt\n",
    "import seaborn as sns\n",
    "from mpl_toolkits.mplot3d import Axes3D\n",
    "from matplotlib.cm import rainbow\n",
    "\n",
    "plt.rcParamsDefault['font.family'] = \"sans-serif\"\n",
    "plt.rcParamsDefault['font.sans-serif'] = \"Arial\"\n",
    "plt.rcParams['font.size'] = 14\n",
    "plt.rcParams[\"errorbar.capsize\"] = 0.5\n",
    "\n",
    "# import cmasher as cmr  # CITE ITS PAPER IN YOUR MANUSCRIPT\n",
    "\n",
    "# ignore user warnings\n",
    "import warnings\n",
    "warnings.filterwarnings(\"ignore\") #, category=UserWarning)"
   ]
  },
  {
   "cell_type": "code",
   "execution_count": 2,
   "metadata": {},
   "outputs": [
    {
     "data": {
      "text/plain": [
       "'2.79 (commit f935ec6a, )'"
      ]
     },
     "execution_count": 2,
     "metadata": {},
     "output_type": "execute_result"
    }
   ],
   "source": [
    "gt.__version__"
   ]
  },
  {
   "cell_type": "code",
   "execution_count": 3,
   "metadata": {},
   "outputs": [],
   "source": [
    "class ARGS():\n",
    "    pass\n",
    "\n",
    "args = ARGS()\n",
    "\n",
    "args.SEED = 100\n",
    "\n",
    "gt.seed_rng(args.SEED)\n",
    "np.random.seed(args.SEED)"
   ]
  },
  {
   "cell_type": "code",
   "execution_count": 4,
   "metadata": {},
   "outputs": [],
   "source": [
    "args.type = 'spatial'\n",
    "args.roi_size = 225\n",
    "args.maintain_symmetry = True\n",
    "args.brain_div = 'whl'\n",
    "args.num_rois = 162\n",
    "\n",
    "PARC_DESC = (\n",
    "    f'type-{args.type}'\n",
    "    f'_size-{args.roi_size}'\n",
    "    f'_symm-{args.maintain_symmetry}'\n",
    "    f'_braindiv-{args.brain_div}'\n",
    "    f'_nrois-{args.num_rois}'\n",
    ")"
   ]
  },
  {
   "cell_type": "code",
   "execution_count": 5,
   "metadata": {},
   "outputs": [
    {
     "data": {
      "text/plain": [
       "0"
      ]
     },
     "execution_count": 5,
     "metadata": {},
     "output_type": "execute_result"
    }
   ],
   "source": [
    "args.GRAPH_DEF = f'constructed'\n",
    "args.GRAPH_METHOD = f'pearson-corr'\n",
    "args.THRESHOLDING = f'positive'\n",
    "args.EDGE_DEF = f'binary'\n",
    "args.EDGE_DENSITY = 20\n",
    "args.LAYER_DEF = f'individual'\n",
    "args.DATA_UNIT = f'ses'\n",
    "\n",
    "BASE_path = f'{os.environ[\"HOME\"]}/mouse_dataset/roi_results_v2'\n",
    "ROI_path = f'{BASE_path}/{PARC_DESC}'\n",
    "TS_path = f'{ROI_path}/runwise_timeseries'\n",
    "ROI_RESULTS_path = (\n",
    "    f'{ROI_path}'\n",
    "    f'/graph-{args.GRAPH_DEF}/method-{args.GRAPH_METHOD}'\n",
    "    f'/threshold-{args.THRESHOLDING}/edge-{args.EDGE_DEF}/density-{args.EDGE_DENSITY}'\n",
    "    f'/layer-{args.LAYER_DEF}/unit-{args.DATA_UNIT}'\n",
    ")\n",
    "GRAPH_path = f'{ROI_RESULTS_path}/graphs'\n",
    "os.system(f'mkdir -p {GRAPH_path}')\n",
    "SBM_path = f'{ROI_RESULTS_path}/model-fits'\n",
    "os.system(f'mkdir -p {SBM_path}')"
   ]
  },
  {
   "cell_type": "code",
   "execution_count": 6,
   "metadata": {},
   "outputs": [],
   "source": [
    "args.dc = True\n",
    "args.sbm = 'o'\n",
    "args.wait = 12 #6000\n",
    "args.force_niter = 500 #10000\n",
    "args.niter = 10\n",
    "args.Bs = '1' #' '.join([str(i) for i in (np.round(np.linspace(1, args.num_rois, 5)).astype(int))])"
   ]
  },
  {
   "cell_type": "code",
   "execution_count": 7,
   "metadata": {},
   "outputs": [],
   "source": [
    "args.num_draws = int((1/2) * args.force_niter)"
   ]
  },
  {
   "cell_type": "code",
   "execution_count": 8,
   "metadata": {},
   "outputs": [
    {
     "data": {
      "text/plain": [
       "'sbm-dc-o'"
      ]
     },
     "execution_count": 8,
     "metadata": {},
     "output_type": "execute_result"
    }
   ],
   "source": [
    "def sbm_name(args):\n",
    "    dc = f'dc' if args.dc else f'nd'\n",
    "    dc = f'' if args.sbm in ['a'] else dc\n",
    "    file = f'sbm-{dc}-{args.sbm}'\n",
    "    return file\n",
    "\n",
    "SBM = sbm_name(args)\n",
    "SBM"
   ]
  },
  {
   "cell_type": "code",
   "execution_count": 9,
   "metadata": {},
   "outputs": [],
   "source": [
    "files = sorted(glob.glob(f'{GRAPH_path}/*', recursive=True))\n",
    "file = files[0]"
   ]
  },
  {
   "cell_type": "code",
   "execution_count": 10,
   "metadata": {},
   "outputs": [
    {
     "data": {
      "text/plain": [
       "'sub-SLC01_ses-1'"
      ]
     },
     "execution_count": 10,
     "metadata": {},
     "output_type": "execute_result"
    }
   ],
   "source": [
    "ss = '_'.join([s for s in file.split('/') if 'sub' in s][0].split('_')[:2])\n",
    "ss"
   ]
  },
  {
   "cell_type": "code",
   "execution_count": 11,
   "metadata": {},
   "outputs": [
    {
     "data": {
      "text/plain": [
       "<Graph object, undirected, with 162 vertices and 2608 edges, 1 internal edge property, at 0x7f37e4e99c70>"
      ]
     },
     "execution_count": 11,
     "metadata": {},
     "output_type": "execute_result"
    }
   ],
   "source": [
    "g = gt.load_graph(file)\n",
    "g"
   ]
  },
  {
   "cell_type": "code",
   "execution_count": 12,
   "metadata": {},
   "outputs": [],
   "source": [
    "with open(f'graph.pkl', 'wb') as f:\n",
    "    pickle.dump(g, f)"
   ]
  },
  {
   "cell_type": "code",
   "execution_count": 13,
   "metadata": {},
   "outputs": [
    {
     "data": {
      "text/plain": [
       "'1'"
      ]
     },
     "execution_count": 13,
     "metadata": {},
     "output_type": "execute_result"
    }
   ],
   "source": [
    "args.Bs"
   ]
  },
  {
   "cell_type": "code",
   "execution_count": 14,
   "metadata": {},
   "outputs": [],
   "source": [
    "def mcmc_eq(args, g, state):\n",
    "    bs = [] # partitions\n",
    "    Bs = np.zeros(g.num_vertices() + 1) # number of blocks\n",
    "    Bes = [] # number of effective blocks\n",
    "    dls = [] # description length history\n",
    "    def collect_partitions(s):\n",
    "        bs.append(s.b.a.copy())\n",
    "        B = s.get_nonempty_B()\n",
    "        Bs[B] += 1\n",
    "        Bes.append(s.get_Be())\n",
    "        dls.append(s.entropy())\n",
    "        \n",
    "    gt.mcmc_equilibrate(\n",
    "        state, \n",
    "        wait=args.wait, \n",
    "        force_niter=args.force_niter,\n",
    "        mcmc_args=dict(niter=args.niter), \n",
    "        callback=collect_partitions,\n",
    "    )\n",
    "    return state, bs, Bs, Bes, dls"
   ]
  },
  {
   "cell_type": "code",
   "execution_count": 15,
   "metadata": {},
   "outputs": [
    {
     "data": {
      "text/plain": [
       "<OverlapBlockState object with 41 blocks, degree corrected, for graph <Graph object, undirected, with 162 vertices and 2608 edges, 1 internal edge property, at 0x7f37e4e98290>, at 0x7f37e4e6b3e0>"
      ]
     },
     "execution_count": 15,
     "metadata": {},
     "output_type": "execute_result"
    }
   ],
   "source": [
    "# stateo = gt.minimize_blockmodel_dl(\n",
    "#     g, \n",
    "#     state=gt.OverlapBlockState,\n",
    "#     state_args=dict(deg_corr=True, B=1),\n",
    "# )\n",
    "# stateo\n",
    "\n",
    "with open(f'graph.pkl', 'rb') as f:\n",
    "    g = pickle.load(f)\n",
    "\n",
    "stateo = gt.OverlapBlockState(g, **dict(deg_corr=True, B=41))\n",
    "stateo"
   ]
  },
  {
   "cell_type": "code",
   "execution_count": 16,
   "metadata": {},
   "outputs": [
    {
     "ename": "",
     "evalue": "",
     "output_type": "error",
     "traceback": [
      "\u001b[1;31mThe Kernel crashed while executing code in the current cell or a previous cell. \n",
      "\u001b[1;31mPlease review the code in the cell(s) to identify a possible cause of the failure. \n",
      "\u001b[1;31mClick <a href='https://aka.ms/vscodeJupyterKernelCrash'>here</a> for more info. \n",
      "\u001b[1;31mView Jupyter <a href='command:jupyter.viewOutput'>log</a> for further details."
     ]
    }
   ],
   "source": [
    "stateo, bs, Bs, Bes, dls = mcmc_eq(args, g, stateo)"
   ]
  },
  {
   "cell_type": "code",
   "execution_count": null,
   "metadata": {},
   "outputs": [
    {
     "data": {
      "text/plain": [
       "[4.998836620709602,\n",
       " 5.999014819144572,\n",
       " 5.998935220720601,\n",
       " 6.99617757021276,\n",
       " 6.998197181094259,\n",
       " 6.998518485974266,\n",
       " 6.998518485974266,\n",
       " 6.998518485974266,\n",
       " 6.998518485974266,\n",
       " 6.998518485974266,\n",
       " 6.998518485974266,\n",
       " 6.998518485974266,\n",
       " 6.998518485974266,\n",
       " 6.998518485974266,\n",
       " 6.998518485974266,\n",
       " 6.998518485974266,\n",
       " 6.998518485974266,\n",
       " 6.998518485974266,\n",
       " 6.998518485974269,\n",
       " 6.998518485974269,\n",
       " 6.998518485974269,\n",
       " 6.998518485974269,\n",
       " 6.998518485974269,\n",
       " 6.9984063258546465,\n",
       " 6.9984063258546465,\n",
       " 6.9984063258546465,\n",
       " 6.9984063258546465,\n",
       " 6.9984063258546465,\n",
       " 6.9984063258546465,\n",
       " 6.9984063258546465,\n",
       " 6.9984063258546465,\n",
       " 6.9984063258546465,\n",
       " 6.9984063258546465,\n",
       " 6.9984063258546465,\n",
       " 6.9984063258546465,\n",
       " 6.9984063258546465,\n",
       " 6.9984063258546465,\n",
       " 6.9984063258546465,\n",
       " 6.9984063258546465,\n",
       " 6.9984063258546465,\n",
       " 6.9984063258546465,\n",
       " 6.9984063258546465,\n",
       " 6.9984063258546465,\n",
       " 6.9984063258546465,\n",
       " 6.9984063258546465,\n",
       " 6.9984063258546465,\n",
       " 6.9984063258546465,\n",
       " 6.9984063258546465,\n",
       " 6.9984063258546465,\n",
       " 6.9984063258546465,\n",
       " 6.9984063258546465,\n",
       " 6.9984063258546465,\n",
       " 6.9984063258546465,\n",
       " 6.9984063258546465,\n",
       " 6.9984063258546465,\n",
       " 6.9984063258546465,\n",
       " 6.9984063258546465,\n",
       " 6.9984063258546465,\n",
       " 6.9984063258546465,\n",
       " 6.9984063258546465,\n",
       " 6.9984063258546465,\n",
       " 6.9984063258546465,\n",
       " 6.9984063258546465,\n",
       " 6.9984063258546465,\n",
       " 6.9984063258546465,\n",
       " 6.9984063258546465,\n",
       " 6.9984063258546465,\n",
       " 6.9984063258546465,\n",
       " 6.9984063258546465,\n",
       " 6.9984063258546465,\n",
       " 6.9984063258546465,\n",
       " 6.9984063258546465,\n",
       " 6.9984063258546465,\n",
       " 6.9984063258546465,\n",
       " 6.9984063258546465,\n",
       " 6.9984063258546465,\n",
       " 6.9984063258546465,\n",
       " 6.9984063258546465,\n",
       " 6.9984063258546465,\n",
       " 6.9984063258546465,\n",
       " 6.9984063258546465,\n",
       " 6.99823682705281,\n",
       " 6.9984063258546465,\n",
       " 6.9984063258546465,\n",
       " 6.9984063258546465,\n",
       " 6.9984063258546465,\n",
       " 6.9984063258546465,\n",
       " 6.9984063258546465,\n",
       " 6.9984063258546465,\n",
       " 6.9984063258546465,\n",
       " 6.9984063258546465,\n",
       " 6.9984063258546465,\n",
       " 6.9984063258546465,\n",
       " 6.9984063258546465,\n",
       " 6.9984063258546465,\n",
       " 6.9984063258546465,\n",
       " 6.9984063258546465,\n",
       " 6.9984063258546465,\n",
       " 6.9984063258546465]"
      ]
     },
     "execution_count": 16,
     "metadata": {},
     "output_type": "execute_result"
    }
   ],
   "source": [
    "Bes"
   ]
  },
  {
   "cell_type": "code",
   "execution_count": null,
   "metadata": {},
   "outputs": [],
   "source": [
    "os.system((\n",
    "    f'bash 02a-graph-individual-binary_desc-equilibrate.sh '\n",
    "    f'{file} ' \n",
    "    f'{args.sbm} ' \n",
    "    f'{args.dc} ' \n",
    "    f'{args.wait} ' \n",
    "    f'{args.force_niter} ' \n",
    "    f'\"{args.Bs}\" '\n",
    "    f'{args.SEED} '\n",
    "))"
   ]
  },
  {
   "cell_type": "code",
   "execution_count": null,
   "metadata": {},
   "outputs": [],
   "source": [
    "sbm_files = sorted(glob.glob(f'{SBM_path}/{ss}/{SBM}/*/desc-partitions.pkl'))\n",
    "sbm_files\n",
    "\n",
    "with open(sbm_files[0], 'rb') as f:\n",
    "    var = pickle.load(f)\n",
    "\n",
    "# var"
   ]
  },
  {
   "cell_type": "code",
   "execution_count": null,
   "metadata": {},
   "outputs": [
    {
     "name": "stderr",
     "output_type": "stream",
     "text": [
      "5it [00:00, 124.66it/s]\n"
     ]
    }
   ],
   "source": [
    "chains_df = []\n",
    "for idx, sbm_file in tqdm(enumerate(sbm_files)):\n",
    "    with open(sbm_file, 'rb') as f:\n",
    "        [bs, Bs, Bes, dls] = pickle.load(f)\n",
    "    \n",
    "    Bes = Bes[0] if args.sbm in ['h'] else Bes\n",
    "    \n",
    "    df = pd.DataFrame({\n",
    "        'chain': [idx],\n",
    "        # 'state':[state],\n",
    "        'Bs': [Bs],\n",
    "        'Bes': [Bes],\n",
    "        'dls': [dls],\n",
    "        'bs':[bs],\n",
    "        # 'modes': [modes],\n",
    "        # 'evidence': [L],\n",
    "    })\n",
    "    chains_df.append(df)\n",
    "    \n",
    "chains_df = pd.concat(chains_df).reset_index(drop=True)"
   ]
  },
  {
   "cell_type": "code",
   "execution_count": null,
   "metadata": {},
   "outputs": [
    {
     "data": {
      "text/html": [
       "<div>\n",
       "<style scoped>\n",
       "    .dataframe tbody tr th:only-of-type {\n",
       "        vertical-align: middle;\n",
       "    }\n",
       "\n",
       "    .dataframe tbody tr th {\n",
       "        vertical-align: top;\n",
       "    }\n",
       "\n",
       "    .dataframe thead th {\n",
       "        text-align: right;\n",
       "    }\n",
       "</style>\n",
       "<table border=\"1\" class=\"dataframe\">\n",
       "  <thead>\n",
       "    <tr style=\"text-align: right;\">\n",
       "      <th></th>\n",
       "      <th>chain</th>\n",
       "      <th>Bs</th>\n",
       "      <th>Bes</th>\n",
       "      <th>dls</th>\n",
       "      <th>bs</th>\n",
       "    </tr>\n",
       "  </thead>\n",
       "  <tbody>\n",
       "    <tr>\n",
       "      <th>0</th>\n",
       "      <td>0</td>\n",
       "      <td>[0.0, 0.0, 0.0, 0.0, 0.0, 1.0, 998.0, 0.0, 0.0...</td>\n",
       "      <td>[4.99779121504749, 5.990173990820626, 5.993730...</td>\n",
       "      <td>[7054.462261910424, 7392.271824107299, 7262.43...</td>\n",
       "      <td>[[934, 1211, 1211, 1315, 1367, 1315, 934, 1315...</td>\n",
       "    </tr>\n",
       "    <tr>\n",
       "      <th>1</th>\n",
       "      <td>1</td>\n",
       "      <td>[0.0, 0.0, 0.0, 0.0, 0.0, 0.0, 0.0, 0.0, 0.0, ...</td>\n",
       "      <td>[114.93999591569747, 112.74177118883797, 111.1...</td>\n",
       "      <td>[11754.507906914381, 10908.613264985446, 10327...</td>\n",
       "      <td>[[70, 27, 49, 112, 39, 48, 63, 74, 27, 74, 49,...</td>\n",
       "    </tr>\n",
       "    <tr>\n",
       "      <th>2</th>\n",
       "      <td>2</td>\n",
       "      <td>[0.0, 0.0, 0.0, 0.0, 0.0, 0.0, 0.0, 0.0, 0.0, ...</td>\n",
       "      <td>[148.1378872340359, 143.66292110039706, 136.61...</td>\n",
       "      <td>[12389.64567148907, 11359.558517288378, 10882....</td>\n",
       "      <td>[[58, 116, 118, 139, 58, 140, 118, 86, 91, 75,...</td>\n",
       "    </tr>\n",
       "    <tr>\n",
       "      <th>3</th>\n",
       "      <td>3</td>\n",
       "      <td>[0.0, 0.0, 0.0, 0.0, 0.0, 0.0, 0.0, 0.0, 0.0, ...</td>\n",
       "      <td>[40.27507043033958, 39.70037011073194, 39.3947...</td>\n",
       "      <td>[9618.442377685584, 8647.96677945936, 7585.246...</td>\n",
       "      <td>[[1, 30, 28, 31, 40, 22, 21, 36, 7, 39, 21, 8,...</td>\n",
       "    </tr>\n",
       "    <tr>\n",
       "      <th>4</th>\n",
       "      <td>4</td>\n",
       "      <td>[0.0, 0.0, 0.0, 0.0, 0.0, 0.0, 0.0, 0.0, 0.0, ...</td>\n",
       "      <td>[79.8643108426197, 78.45585951518497, 78.36346...</td>\n",
       "      <td>[10976.306080375025, 9969.231858765002, 9567.7...</td>\n",
       "      <td>[[70, 57, 35, 51, 18, 51, 60, 27, 56, 47, 35, ...</td>\n",
       "    </tr>\n",
       "  </tbody>\n",
       "</table>\n",
       "</div>"
      ],
      "text/plain": [
       "   chain                                                 Bs  \\\n",
       "0      0  [0.0, 0.0, 0.0, 0.0, 0.0, 1.0, 998.0, 0.0, 0.0...   \n",
       "1      1  [0.0, 0.0, 0.0, 0.0, 0.0, 0.0, 0.0, 0.0, 0.0, ...   \n",
       "2      2  [0.0, 0.0, 0.0, 0.0, 0.0, 0.0, 0.0, 0.0, 0.0, ...   \n",
       "3      3  [0.0, 0.0, 0.0, 0.0, 0.0, 0.0, 0.0, 0.0, 0.0, ...   \n",
       "4      4  [0.0, 0.0, 0.0, 0.0, 0.0, 0.0, 0.0, 0.0, 0.0, ...   \n",
       "\n",
       "                                                 Bes  \\\n",
       "0  [4.99779121504749, 5.990173990820626, 5.993730...   \n",
       "1  [114.93999591569747, 112.74177118883797, 111.1...   \n",
       "2  [148.1378872340359, 143.66292110039706, 136.61...   \n",
       "3  [40.27507043033958, 39.70037011073194, 39.3947...   \n",
       "4  [79.8643108426197, 78.45585951518497, 78.36346...   \n",
       "\n",
       "                                                 dls  \\\n",
       "0  [7054.462261910424, 7392.271824107299, 7262.43...   \n",
       "1  [11754.507906914381, 10908.613264985446, 10327...   \n",
       "2  [12389.64567148907, 11359.558517288378, 10882....   \n",
       "3  [9618.442377685584, 8647.96677945936, 7585.246...   \n",
       "4  [10976.306080375025, 9969.231858765002, 9567.7...   \n",
       "\n",
       "                                                  bs  \n",
       "0  [[934, 1211, 1211, 1315, 1367, 1315, 934, 1315...  \n",
       "1  [[70, 27, 49, 112, 39, 48, 63, 74, 27, 74, 49,...  \n",
       "2  [[58, 116, 118, 139, 58, 140, 118, 86, 91, 75,...  \n",
       "3  [[1, 30, 28, 31, 40, 22, 21, 36, 7, 39, 21, 8,...  \n",
       "4  [[70, 57, 35, 51, 18, 51, 60, 27, 56, 47, 35, ...  "
      ]
     },
     "execution_count": 16,
     "metadata": {},
     "output_type": "execute_result"
    }
   ],
   "source": [
    "chains_df"
   ]
  },
  {
   "cell_type": "code",
   "execution_count": null,
   "metadata": {},
   "outputs": [
    {
     "data": {
      "text/plain": [
       "[Text(0.5, 1.0, 'trace plot'),\n",
       " Text(0, 0.5, '$B_e$'),\n",
       " Text(0.5, 0, 'MCMC sweep'),\n",
       " (0.0, 30.0)]"
      ]
     },
     "execution_count": 17,
     "metadata": {},
     "output_type": "execute_result"
    },
    {
     "data": {
      "image/png": "[encoded data removed]",
      "text/plain": [
       "<Figure size 750x400 with 1 Axes>"
      ]
     },
     "metadata": {},
     "output_type": "display_data"
    }
   ],
   "source": [
    "fig, axs = plt.subplots(1, 1, figsize=(7.5, 4))\n",
    "ax = axs\n",
    "for idx, row in chains_df.iterrows():\n",
    "    ax.plot(row['Bes'])\n",
    "ax.set(title='trace plot', ylabel='$B_e$', xlabel='MCMC sweep', ylim=[0, 30])"
   ]
  },
  {
   "cell_type": "code",
   "execution_count": null,
   "metadata": {},
   "outputs": [
    {
     "data": {
      "text/html": [
       "<div>\n",
       "<style scoped>\n",
       "    .dataframe tbody tr th:only-of-type {\n",
       "        vertical-align: middle;\n",
       "    }\n",
       "\n",
       "    .dataframe tbody tr th {\n",
       "        vertical-align: top;\n",
       "    }\n",
       "\n",
       "    .dataframe thead th {\n",
       "        text-align: right;\n",
       "    }\n",
       "</style>\n",
       "<table border=\"1\" class=\"dataframe\">\n",
       "  <thead>\n",
       "    <tr style=\"text-align: right;\">\n",
       "      <th></th>\n",
       "      <th>chain</th>\n",
       "      <th>state</th>\n",
       "      <th>Bs</th>\n",
       "      <th>Bes</th>\n",
       "      <th>dls</th>\n",
       "      <th>bs</th>\n",
       "      <th>modes</th>\n",
       "      <th>evidence</th>\n",
       "    </tr>\n",
       "  </thead>\n",
       "  <tbody>\n",
       "    <tr>\n",
       "      <th>0</th>\n",
       "      <td>0</td>\n",
       "      <td>&lt;NestedBlockState object, with base &lt;BlockStat...</td>\n",
       "      <td>[[0.0, 0.0, 0.0, 0.0, 0.0, 0.0, 0.0, 0.0, 0.0,...</td>\n",
       "      <td>42.303587</td>\n",
       "      <td>4022.909103</td>\n",
       "      <td>[[102, 11, 96, 65, 90, 90, 115, 48, 92, 56, 84...</td>\n",
       "      <td>[&lt;graph_tool.inference.partition_modes.Partiti...</td>\n",
       "      <td>-3109.537787</td>\n",
       "    </tr>\n",
       "    <tr>\n",
       "      <th>1</th>\n",
       "      <td>0</td>\n",
       "      <td>&lt;NestedBlockState object, with base &lt;BlockStat...</td>\n",
       "      <td>[[0.0, 0.0, 0.0, 0.0, 0.0, 0.0, 0.0, 0.0, 0.0,...</td>\n",
       "      <td>37.345648</td>\n",
       "      <td>3621.442219</td>\n",
       "      <td>[[14, 13, 13, 65, 90, 48, 53, 48, 92, 56, 44, ...</td>\n",
       "      <td>[&lt;graph_tool.inference.partition_modes.Partiti...</td>\n",
       "      <td>-3109.537787</td>\n",
       "    </tr>\n",
       "    <tr>\n",
       "      <th>2</th>\n",
       "      <td>0</td>\n",
       "      <td>&lt;NestedBlockState object, with base &lt;BlockStat...</td>\n",
       "      <td>[[0.0, 0.0, 0.0, 0.0, 0.0, 0.0, 0.0, 0.0, 0.0,...</td>\n",
       "      <td>32.69884</td>\n",
       "      <td>3525.96344</td>\n",
       "      <td>[[48, 11, 13, 65, 102, 102, 49, 48, 92, 49, 44...</td>\n",
       "      <td>[&lt;graph_tool.inference.partition_modes.Partiti...</td>\n",
       "      <td>-3109.537787</td>\n",
       "    </tr>\n",
       "    <tr>\n",
       "      <th>3</th>\n",
       "      <td>0</td>\n",
       "      <td>&lt;NestedBlockState object, with base &lt;BlockStat...</td>\n",
       "      <td>[[0.0, 0.0, 0.0, 0.0, 0.0, 0.0, 0.0, 0.0, 0.0,...</td>\n",
       "      <td>29.314046</td>\n",
       "      <td>3430.655301</td>\n",
       "      <td>[[48, 11, 13, 12, 102, 44, 49, 33, 92, 49, 44,...</td>\n",
       "      <td>[&lt;graph_tool.inference.partition_modes.Partiti...</td>\n",
       "      <td>-3109.537787</td>\n",
       "    </tr>\n",
       "    <tr>\n",
       "      <th>4</th>\n",
       "      <td>0</td>\n",
       "      <td>&lt;NestedBlockState object, with base &lt;BlockStat...</td>\n",
       "      <td>[[0.0, 0.0, 0.0, 0.0, 0.0, 0.0, 0.0, 0.0, 0.0,...</td>\n",
       "      <td>26.841869</td>\n",
       "      <td>3376.644339</td>\n",
       "      <td>[[48, 13, 13, 12, 102, 44, 49, 48, 92, 49, 44,...</td>\n",
       "      <td>[&lt;graph_tool.inference.partition_modes.Partiti...</td>\n",
       "      <td>-3109.537787</td>\n",
       "    </tr>\n",
       "    <tr>\n",
       "      <th>...</th>\n",
       "      <td>...</td>\n",
       "      <td>...</td>\n",
       "      <td>...</td>\n",
       "      <td>...</td>\n",
       "      <td>...</td>\n",
       "      <td>...</td>\n",
       "      <td>...</td>\n",
       "      <td>...</td>\n",
       "    </tr>\n",
       "    <tr>\n",
       "      <th>1240</th>\n",
       "      <td>4</td>\n",
       "      <td>&lt;NestedBlockState object, with base &lt;BlockStat...</td>\n",
       "      <td>[[0.0, 0.0, 0.0, 0.0, 0.0, 0.0, 0.0, 0.0, 0.0,...</td>\n",
       "      <td>15.729258</td>\n",
       "      <td>3212.350098</td>\n",
       "      <td>[[44, 28, 28, 49, 51, 44, 77, 44, 77, 77, 44, ...</td>\n",
       "      <td>[&lt;graph_tool.inference.partition_modes.Partiti...</td>\n",
       "      <td>-3097.290943</td>\n",
       "    </tr>\n",
       "    <tr>\n",
       "      <th>1241</th>\n",
       "      <td>4</td>\n",
       "      <td>&lt;NestedBlockState object, with base &lt;BlockStat...</td>\n",
       "      <td>[[0.0, 0.0, 0.0, 0.0, 0.0, 0.0, 0.0, 0.0, 0.0,...</td>\n",
       "      <td>15.90386</td>\n",
       "      <td>3217.610412</td>\n",
       "      <td>[[44, 28, 28, 49, 51, 44, 31, 44, 31, 31, 44, ...</td>\n",
       "      <td>[&lt;graph_tool.inference.partition_modes.Partiti...</td>\n",
       "      <td>-3097.290943</td>\n",
       "    </tr>\n",
       "    <tr>\n",
       "      <th>1242</th>\n",
       "      <td>4</td>\n",
       "      <td>&lt;NestedBlockState object, with base &lt;BlockStat...</td>\n",
       "      <td>[[0.0, 0.0, 0.0, 0.0, 0.0, 0.0, 0.0, 0.0, 0.0,...</td>\n",
       "      <td>15.843961</td>\n",
       "      <td>3218.558065</td>\n",
       "      <td>[[44, 28, 28, 49, 51, 51, 28, 44, 31, 31, 44, ...</td>\n",
       "      <td>[&lt;graph_tool.inference.partition_modes.Partiti...</td>\n",
       "      <td>-3097.290943</td>\n",
       "    </tr>\n",
       "    <tr>\n",
       "      <th>1243</th>\n",
       "      <td>4</td>\n",
       "      <td>&lt;NestedBlockState object, with base &lt;BlockStat...</td>\n",
       "      <td>[[0.0, 0.0, 0.0, 0.0, 0.0, 0.0, 0.0, 0.0, 0.0,...</td>\n",
       "      <td>15.625387</td>\n",
       "      <td>3215.682237</td>\n",
       "      <td>[[44, 28, 28, 49, 51, 44, 31, 44, 31, 31, 51, ...</td>\n",
       "      <td>[&lt;graph_tool.inference.partition_modes.Partiti...</td>\n",
       "      <td>-3097.290943</td>\n",
       "    </tr>\n",
       "    <tr>\n",
       "      <th>1244</th>\n",
       "      <td>4</td>\n",
       "      <td>&lt;NestedBlockState object, with base &lt;BlockStat...</td>\n",
       "      <td>[[0.0, 0.0, 0.0, 0.0, 0.0, 0.0, 0.0, 0.0, 0.0,...</td>\n",
       "      <td>15.657722</td>\n",
       "      <td>3206.425246</td>\n",
       "      <td>[[49, 28, 28, 51, 44, 49, 31, 49, 31, 31, 44, ...</td>\n",
       "      <td>[&lt;graph_tool.inference.partition_modes.Partiti...</td>\n",
       "      <td>-3097.290943</td>\n",
       "    </tr>\n",
       "  </tbody>\n",
       "</table>\n",
       "<p>1245 rows × 8 columns</p>\n",
       "</div>"
      ],
      "text/plain": [
       "      chain                                              state  \\\n",
       "0         0  <NestedBlockState object, with base <BlockStat...   \n",
       "1         0  <NestedBlockState object, with base <BlockStat...   \n",
       "2         0  <NestedBlockState object, with base <BlockStat...   \n",
       "3         0  <NestedBlockState object, with base <BlockStat...   \n",
       "4         0  <NestedBlockState object, with base <BlockStat...   \n",
       "...     ...                                                ...   \n",
       "1240      4  <NestedBlockState object, with base <BlockStat...   \n",
       "1241      4  <NestedBlockState object, with base <BlockStat...   \n",
       "1242      4  <NestedBlockState object, with base <BlockStat...   \n",
       "1243      4  <NestedBlockState object, with base <BlockStat...   \n",
       "1244      4  <NestedBlockState object, with base <BlockStat...   \n",
       "\n",
       "                                                     Bs        Bes  \\\n",
       "0     [[0.0, 0.0, 0.0, 0.0, 0.0, 0.0, 0.0, 0.0, 0.0,...  42.303587   \n",
       "1     [[0.0, 0.0, 0.0, 0.0, 0.0, 0.0, 0.0, 0.0, 0.0,...  37.345648   \n",
       "2     [[0.0, 0.0, 0.0, 0.0, 0.0, 0.0, 0.0, 0.0, 0.0,...   32.69884   \n",
       "3     [[0.0, 0.0, 0.0, 0.0, 0.0, 0.0, 0.0, 0.0, 0.0,...  29.314046   \n",
       "4     [[0.0, 0.0, 0.0, 0.0, 0.0, 0.0, 0.0, 0.0, 0.0,...  26.841869   \n",
       "...                                                 ...        ...   \n",
       "1240  [[0.0, 0.0, 0.0, 0.0, 0.0, 0.0, 0.0, 0.0, 0.0,...  15.729258   \n",
       "1241  [[0.0, 0.0, 0.0, 0.0, 0.0, 0.0, 0.0, 0.0, 0.0,...   15.90386   \n",
       "1242  [[0.0, 0.0, 0.0, 0.0, 0.0, 0.0, 0.0, 0.0, 0.0,...  15.843961   \n",
       "1243  [[0.0, 0.0, 0.0, 0.0, 0.0, 0.0, 0.0, 0.0, 0.0,...  15.625387   \n",
       "1244  [[0.0, 0.0, 0.0, 0.0, 0.0, 0.0, 0.0, 0.0, 0.0,...  15.657722   \n",
       "\n",
       "              dls                                                 bs  \\\n",
       "0     4022.909103  [[102, 11, 96, 65, 90, 90, 115, 48, 92, 56, 84...   \n",
       "1     3621.442219  [[14, 13, 13, 65, 90, 48, 53, 48, 92, 56, 44, ...   \n",
       "2      3525.96344  [[48, 11, 13, 65, 102, 102, 49, 48, 92, 49, 44...   \n",
       "3     3430.655301  [[48, 11, 13, 12, 102, 44, 49, 33, 92, 49, 44,...   \n",
       "4     3376.644339  [[48, 13, 13, 12, 102, 44, 49, 48, 92, 49, 44,...   \n",
       "...           ...                                                ...   \n",
       "1240  3212.350098  [[44, 28, 28, 49, 51, 44, 77, 44, 77, 77, 44, ...   \n",
       "1241  3217.610412  [[44, 28, 28, 49, 51, 44, 31, 44, 31, 31, 44, ...   \n",
       "1242  3218.558065  [[44, 28, 28, 49, 51, 51, 28, 44, 31, 31, 44, ...   \n",
       "1243  3215.682237  [[44, 28, 28, 49, 51, 44, 31, 44, 31, 31, 51, ...   \n",
       "1244  3206.425246  [[49, 28, 28, 51, 44, 49, 31, 49, 31, 31, 44, ...   \n",
       "\n",
       "                                                  modes     evidence  \n",
       "0     [<graph_tool.inference.partition_modes.Partiti... -3109.537787  \n",
       "1     [<graph_tool.inference.partition_modes.Partiti... -3109.537787  \n",
       "2     [<graph_tool.inference.partition_modes.Partiti... -3109.537787  \n",
       "3     [<graph_tool.inference.partition_modes.Partiti... -3109.537787  \n",
       "4     [<graph_tool.inference.partition_modes.Partiti... -3109.537787  \n",
       "...                                                 ...          ...  \n",
       "1240  [<graph_tool.inference.partition_modes.Partiti... -3097.290943  \n",
       "1241  [<graph_tool.inference.partition_modes.Partiti... -3097.290943  \n",
       "1242  [<graph_tool.inference.partition_modes.Partiti... -3097.290943  \n",
       "1243  [<graph_tool.inference.partition_modes.Partiti... -3097.290943  \n",
       "1244  [<graph_tool.inference.partition_modes.Partiti... -3097.290943  \n",
       "\n",
       "[1245 rows x 8 columns]"
      ]
     },
     "execution_count": 13,
     "metadata": {},
     "output_type": "execute_result"
    }
   ],
   "source": [
    "chs_df = chains_df.explode(['Bes', 'dls', 'bs']).reset_index(drop=True)\n",
    "chs_df"
   ]
  },
  {
   "cell_type": "code",
   "execution_count": null,
   "metadata": {},
   "outputs": [
    {
     "name": "stdout",
     "output_type": "stream",
     "text": [
      "[0, 1, 2, 3, 4]\n"
     ]
    },
    {
     "name": "stderr",
     "output_type": "stream",
     "text": [
      "10it [00:00, 10.57it/s]\n"
     ]
    }
   ],
   "source": [
    "def KSD(args, chains_df):\n",
    "    chain_idxs = chains_df.index.to_list()\n",
    "    print(chain_idxs)\n",
    "    \n",
    "    ksd_dfs = []\n",
    "    for idx1, idx2 in tqdm(combinations(chain_idxs, 2)):\n",
    "        Bes_ch1 = chains_df.iloc[idx1]['Bes']\n",
    "        Bes_ch2 = chains_df.iloc[idx2]['Bes']\n",
    "        Ds = []\n",
    "        for t in range(10, args.force_niter, 50):\n",
    "            res = stats.ks_2samp(Bes_ch1[:t], Bes_ch2[:t])\n",
    "            Ds.append(res.statistic)\n",
    "        df = pd.DataFrame({\n",
    "            'ch1': [idx1] * len(Ds),\n",
    "            'ch2': [idx2] * len(Ds),\n",
    "            't': np.arange(10, args.force_niter, 50),\n",
    "            'D': Ds,\n",
    "        })\n",
    "        ksd_dfs.append(df)\n",
    "    ksd_dfs = pd.concat(ksd_dfs).reset_index(drop=True)\n",
    "    return ksd_dfs\n",
    "    \n",
    "ksd_dfs = KSD(args, chains_df)"
   ]
  },
  {
   "cell_type": "code",
   "execution_count": null,
   "metadata": {},
   "outputs": [
    {
     "data": {
      "image/png": "[encoded data removed]",
      "text/plain": [
       "<Figure size 500x400 with 1 Axes>"
      ]
     },
     "metadata": {},
     "output_type": "display_data"
    }
   ],
   "source": [
    "def plot_KSD(args, chains_df, ksd_dfs, ax):\n",
    "    chain_idxs = chains_df.index.to_list()\n",
    "    for idx1, idx2 in combinations(chain_idxs, 2):\n",
    "        t_D = ksd_dfs[\n",
    "            (ksd_dfs['ch1'] == idx1) &\n",
    "            (ksd_dfs['ch2'] == idx2)\n",
    "        ][['t', 'D']].to_numpy()\n",
    "        ax.plot(t_D[:, 0], t_D[:, 1], c='tab:blue')\n",
    "    return None\n",
    "\n",
    "fig, axs = plt.subplots(1, 1, figsize=(5, 4))\n",
    "ax = axs\n",
    "plot_KSD(args, chains_df, ksd_dfs, ax)"
   ]
  },
  {
   "cell_type": "code",
   "execution_count": null,
   "metadata": {},
   "outputs": [
    {
     "data": {
      "text/plain": [
       "[Text(0.5, 0, 'MCMC sweep'), Text(0, 0.5, '$\\\\hat{R}$')]"
      ]
     },
     "execution_count": 16,
     "metadata": {},
     "output_type": "execute_result"
    },
    {
     "data": {
      "image/png": "[encoded data removed]",
      "text/plain": [
       "<Figure size 500x400 with 1 Axes>"
      ]
     },
     "metadata": {},
     "output_type": "display_data"
    }
   ],
   "source": [
    "def Rhat(args, chains_df):\n",
    "    chain_idxs = chains_df.index.to_list()\n",
    "    chains = np.stack(chains_df['Bes'].to_list(), axis=0)\n",
    "    \n",
    "    ts = np.arange(10, chains.shape[-1], 50)\n",
    "    rhats = np.zeros_like(ts)\n",
    "    for i, t in enumerate(ts):\n",
    "        rhats[i] = az.rhat(chains[:, :t])\n",
    "    return ts, rhats\n",
    "\n",
    "fig, axs = plt.subplots(1, 1, figsize=(5, 4))\n",
    "ax = axs\n",
    "ts, rhats = Rhat(args, chains_df)\n",
    "ax.plot(ts, rhats)\n",
    "ax.set(xlabel=f'MCMC sweep', ylabel='$\\hat{R}$')"
   ]
  },
  {
   "cell_type": "code",
   "execution_count": null,
   "metadata": {},
   "outputs": [
    {
     "data": {
      "text/html": [
       "<div>\n",
       "<style scoped>\n",
       "    .dataframe tbody tr th:only-of-type {\n",
       "        vertical-align: middle;\n",
       "    }\n",
       "\n",
       "    .dataframe tbody tr th {\n",
       "        vertical-align: top;\n",
       "    }\n",
       "\n",
       "    .dataframe thead th {\n",
       "        text-align: right;\n",
       "    }\n",
       "</style>\n",
       "<table border=\"1\" class=\"dataframe\">\n",
       "  <thead>\n",
       "    <tr style=\"text-align: right;\">\n",
       "      <th></th>\n",
       "      <th>chain</th>\n",
       "      <th>state</th>\n",
       "      <th>Bs</th>\n",
       "      <th>Bes</th>\n",
       "      <th>dls</th>\n",
       "      <th>bs</th>\n",
       "      <th>modes</th>\n",
       "      <th>evidence</th>\n",
       "    </tr>\n",
       "  </thead>\n",
       "  <tbody>\n",
       "    <tr>\n",
       "      <th>0</th>\n",
       "      <td>0</td>\n",
       "      <td>&lt;NestedBlockState object, with base &lt;BlockStat...</td>\n",
       "      <td>[[0.0, 0.0, 0.0, 0.0, 0.0, 0.0, 0.0, 0.0, 0.0,...</td>\n",
       "      <td>42.303587</td>\n",
       "      <td>4022.909103</td>\n",
       "      <td>[[102, 11, 96, 65, 90, 90, 115, 48, 92, 56, 84...</td>\n",
       "      <td>[&lt;graph_tool.inference.partition_modes.Partiti...</td>\n",
       "      <td>-3109.537787</td>\n",
       "    </tr>\n",
       "    <tr>\n",
       "      <th>1</th>\n",
       "      <td>0</td>\n",
       "      <td>&lt;NestedBlockState object, with base &lt;BlockStat...</td>\n",
       "      <td>[[0.0, 0.0, 0.0, 0.0, 0.0, 0.0, 0.0, 0.0, 0.0,...</td>\n",
       "      <td>37.345648</td>\n",
       "      <td>3621.442219</td>\n",
       "      <td>[[14, 13, 13, 65, 90, 48, 53, 48, 92, 56, 44, ...</td>\n",
       "      <td>[&lt;graph_tool.inference.partition_modes.Partiti...</td>\n",
       "      <td>-3109.537787</td>\n",
       "    </tr>\n",
       "    <tr>\n",
       "      <th>2</th>\n",
       "      <td>0</td>\n",
       "      <td>&lt;NestedBlockState object, with base &lt;BlockStat...</td>\n",
       "      <td>[[0.0, 0.0, 0.0, 0.0, 0.0, 0.0, 0.0, 0.0, 0.0,...</td>\n",
       "      <td>32.69884</td>\n",
       "      <td>3525.96344</td>\n",
       "      <td>[[48, 11, 13, 65, 102, 102, 49, 48, 92, 49, 44...</td>\n",
       "      <td>[&lt;graph_tool.inference.partition_modes.Partiti...</td>\n",
       "      <td>-3109.537787</td>\n",
       "    </tr>\n",
       "    <tr>\n",
       "      <th>3</th>\n",
       "      <td>0</td>\n",
       "      <td>&lt;NestedBlockState object, with base &lt;BlockStat...</td>\n",
       "      <td>[[0.0, 0.0, 0.0, 0.0, 0.0, 0.0, 0.0, 0.0, 0.0,...</td>\n",
       "      <td>29.314046</td>\n",
       "      <td>3430.655301</td>\n",
       "      <td>[[48, 11, 13, 12, 102, 44, 49, 33, 92, 49, 44,...</td>\n",
       "      <td>[&lt;graph_tool.inference.partition_modes.Partiti...</td>\n",
       "      <td>-3109.537787</td>\n",
       "    </tr>\n",
       "    <tr>\n",
       "      <th>4</th>\n",
       "      <td>0</td>\n",
       "      <td>&lt;NestedBlockState object, with base &lt;BlockStat...</td>\n",
       "      <td>[[0.0, 0.0, 0.0, 0.0, 0.0, 0.0, 0.0, 0.0, 0.0,...</td>\n",
       "      <td>26.841869</td>\n",
       "      <td>3376.644339</td>\n",
       "      <td>[[48, 13, 13, 12, 102, 44, 49, 48, 92, 49, 44,...</td>\n",
       "      <td>[&lt;graph_tool.inference.partition_modes.Partiti...</td>\n",
       "      <td>-3109.537787</td>\n",
       "    </tr>\n",
       "    <tr>\n",
       "      <th>...</th>\n",
       "      <td>...</td>\n",
       "      <td>...</td>\n",
       "      <td>...</td>\n",
       "      <td>...</td>\n",
       "      <td>...</td>\n",
       "      <td>...</td>\n",
       "      <td>...</td>\n",
       "      <td>...</td>\n",
       "    </tr>\n",
       "    <tr>\n",
       "      <th>1240</th>\n",
       "      <td>4</td>\n",
       "      <td>&lt;NestedBlockState object, with base &lt;BlockStat...</td>\n",
       "      <td>[[0.0, 0.0, 0.0, 0.0, 0.0, 0.0, 0.0, 0.0, 0.0,...</td>\n",
       "      <td>15.729258</td>\n",
       "      <td>3212.350098</td>\n",
       "      <td>[[44, 28, 28, 49, 51, 44, 77, 44, 77, 77, 44, ...</td>\n",
       "      <td>[&lt;graph_tool.inference.partition_modes.Partiti...</td>\n",
       "      <td>-3097.290943</td>\n",
       "    </tr>\n",
       "    <tr>\n",
       "      <th>1241</th>\n",
       "      <td>4</td>\n",
       "      <td>&lt;NestedBlockState object, with base &lt;BlockStat...</td>\n",
       "      <td>[[0.0, 0.0, 0.0, 0.0, 0.0, 0.0, 0.0, 0.0, 0.0,...</td>\n",
       "      <td>15.90386</td>\n",
       "      <td>3217.610412</td>\n",
       "      <td>[[44, 28, 28, 49, 51, 44, 31, 44, 31, 31, 44, ...</td>\n",
       "      <td>[&lt;graph_tool.inference.partition_modes.Partiti...</td>\n",
       "      <td>-3097.290943</td>\n",
       "    </tr>\n",
       "    <tr>\n",
       "      <th>1242</th>\n",
       "      <td>4</td>\n",
       "      <td>&lt;NestedBlockState object, with base &lt;BlockStat...</td>\n",
       "      <td>[[0.0, 0.0, 0.0, 0.0, 0.0, 0.0, 0.0, 0.0, 0.0,...</td>\n",
       "      <td>15.843961</td>\n",
       "      <td>3218.558065</td>\n",
       "      <td>[[44, 28, 28, 49, 51, 51, 28, 44, 31, 31, 44, ...</td>\n",
       "      <td>[&lt;graph_tool.inference.partition_modes.Partiti...</td>\n",
       "      <td>-3097.290943</td>\n",
       "    </tr>\n",
       "    <tr>\n",
       "      <th>1243</th>\n",
       "      <td>4</td>\n",
       "      <td>&lt;NestedBlockState object, with base &lt;BlockStat...</td>\n",
       "      <td>[[0.0, 0.0, 0.0, 0.0, 0.0, 0.0, 0.0, 0.0, 0.0,...</td>\n",
       "      <td>15.625387</td>\n",
       "      <td>3215.682237</td>\n",
       "      <td>[[44, 28, 28, 49, 51, 44, 31, 44, 31, 31, 51, ...</td>\n",
       "      <td>[&lt;graph_tool.inference.partition_modes.Partiti...</td>\n",
       "      <td>-3097.290943</td>\n",
       "    </tr>\n",
       "    <tr>\n",
       "      <th>1244</th>\n",
       "      <td>4</td>\n",
       "      <td>&lt;NestedBlockState object, with base &lt;BlockStat...</td>\n",
       "      <td>[[0.0, 0.0, 0.0, 0.0, 0.0, 0.0, 0.0, 0.0, 0.0,...</td>\n",
       "      <td>15.657722</td>\n",
       "      <td>3206.425246</td>\n",
       "      <td>[[49, 28, 28, 51, 44, 49, 31, 49, 31, 31, 44, ...</td>\n",
       "      <td>[&lt;graph_tool.inference.partition_modes.Partiti...</td>\n",
       "      <td>-3097.290943</td>\n",
       "    </tr>\n",
       "  </tbody>\n",
       "</table>\n",
       "<p>1245 rows × 8 columns</p>\n",
       "</div>"
      ],
      "text/plain": [
       "      chain                                              state  \\\n",
       "0         0  <NestedBlockState object, with base <BlockStat...   \n",
       "1         0  <NestedBlockState object, with base <BlockStat...   \n",
       "2         0  <NestedBlockState object, with base <BlockStat...   \n",
       "3         0  <NestedBlockState object, with base <BlockStat...   \n",
       "4         0  <NestedBlockState object, with base <BlockStat...   \n",
       "...     ...                                                ...   \n",
       "1240      4  <NestedBlockState object, with base <BlockStat...   \n",
       "1241      4  <NestedBlockState object, with base <BlockStat...   \n",
       "1242      4  <NestedBlockState object, with base <BlockStat...   \n",
       "1243      4  <NestedBlockState object, with base <BlockStat...   \n",
       "1244      4  <NestedBlockState object, with base <BlockStat...   \n",
       "\n",
       "                                                     Bs        Bes  \\\n",
       "0     [[0.0, 0.0, 0.0, 0.0, 0.0, 0.0, 0.0, 0.0, 0.0,...  42.303587   \n",
       "1     [[0.0, 0.0, 0.0, 0.0, 0.0, 0.0, 0.0, 0.0, 0.0,...  37.345648   \n",
       "2     [[0.0, 0.0, 0.0, 0.0, 0.0, 0.0, 0.0, 0.0, 0.0,...   32.69884   \n",
       "3     [[0.0, 0.0, 0.0, 0.0, 0.0, 0.0, 0.0, 0.0, 0.0,...  29.314046   \n",
       "4     [[0.0, 0.0, 0.0, 0.0, 0.0, 0.0, 0.0, 0.0, 0.0,...  26.841869   \n",
       "...                                                 ...        ...   \n",
       "1240  [[0.0, 0.0, 0.0, 0.0, 0.0, 0.0, 0.0, 0.0, 0.0,...  15.729258   \n",
       "1241  [[0.0, 0.0, 0.0, 0.0, 0.0, 0.0, 0.0, 0.0, 0.0,...   15.90386   \n",
       "1242  [[0.0, 0.0, 0.0, 0.0, 0.0, 0.0, 0.0, 0.0, 0.0,...  15.843961   \n",
       "1243  [[0.0, 0.0, 0.0, 0.0, 0.0, 0.0, 0.0, 0.0, 0.0,...  15.625387   \n",
       "1244  [[0.0, 0.0, 0.0, 0.0, 0.0, 0.0, 0.0, 0.0, 0.0,...  15.657722   \n",
       "\n",
       "              dls                                                 bs  \\\n",
       "0     4022.909103  [[102, 11, 96, 65, 90, 90, 115, 48, 92, 56, 84...   \n",
       "1     3621.442219  [[14, 13, 13, 65, 90, 48, 53, 48, 92, 56, 44, ...   \n",
       "2      3525.96344  [[48, 11, 13, 65, 102, 102, 49, 48, 92, 49, 44...   \n",
       "3     3430.655301  [[48, 11, 13, 12, 102, 44, 49, 33, 92, 49, 44,...   \n",
       "4     3376.644339  [[48, 13, 13, 12, 102, 44, 49, 48, 92, 49, 44,...   \n",
       "...           ...                                                ...   \n",
       "1240  3212.350098  [[44, 28, 28, 49, 51, 44, 77, 44, 77, 77, 44, ...   \n",
       "1241  3217.610412  [[44, 28, 28, 49, 51, 44, 31, 44, 31, 31, 44, ...   \n",
       "1242  3218.558065  [[44, 28, 28, 49, 51, 51, 28, 44, 31, 31, 44, ...   \n",
       "1243  3215.682237  [[44, 28, 28, 49, 51, 44, 31, 44, 31, 31, 51, ...   \n",
       "1244  3206.425246  [[49, 28, 28, 51, 44, 49, 31, 49, 31, 31, 44, ...   \n",
       "\n",
       "                                                  modes     evidence  \n",
       "0     [<graph_tool.inference.partition_modes.Partiti... -3109.537787  \n",
       "1     [<graph_tool.inference.partition_modes.Partiti... -3109.537787  \n",
       "2     [<graph_tool.inference.partition_modes.Partiti... -3109.537787  \n",
       "3     [<graph_tool.inference.partition_modes.Partiti... -3109.537787  \n",
       "4     [<graph_tool.inference.partition_modes.Partiti... -3109.537787  \n",
       "...                                                 ...          ...  \n",
       "1240  [<graph_tool.inference.partition_modes.Partiti... -3097.290943  \n",
       "1241  [<graph_tool.inference.partition_modes.Partiti... -3097.290943  \n",
       "1242  [<graph_tool.inference.partition_modes.Partiti... -3097.290943  \n",
       "1243  [<graph_tool.inference.partition_modes.Partiti... -3097.290943  \n",
       "1244  [<graph_tool.inference.partition_modes.Partiti... -3097.290943  \n",
       "\n",
       "[1245 rows x 8 columns]"
      ]
     },
     "execution_count": 17,
     "metadata": {},
     "output_type": "execute_result"
    }
   ],
   "source": [
    "cols = ['Bes', 'dls', 'bs']\n",
    "for col in cols:\n",
    "    chains_df[col] = chains_df[col].apply(lambda x: x[-args.num_draws:])\n",
    "\n",
    "chs_df = chains_df.explode(cols).reset_index(drop=True)\n",
    "chs_df"
   ]
  },
  {
   "cell_type": "code",
   "execution_count": null,
   "metadata": {},
   "outputs": [
    {
     "data": {
      "text/html": [
       "<div>\n",
       "<style scoped>\n",
       "    .dataframe tbody tr th:only-of-type {\n",
       "        vertical-align: middle;\n",
       "    }\n",
       "\n",
       "    .dataframe tbody tr th {\n",
       "        vertical-align: top;\n",
       "    }\n",
       "\n",
       "    .dataframe thead th {\n",
       "        text-align: right;\n",
       "    }\n",
       "</style>\n",
       "<table border=\"1\" class=\"dataframe\">\n",
       "  <thead>\n",
       "    <tr style=\"text-align: right;\">\n",
       "      <th></th>\n",
       "      <th>chain</th>\n",
       "      <th>state</th>\n",
       "      <th>Bs</th>\n",
       "      <th>Bes</th>\n",
       "      <th>dls</th>\n",
       "      <th>bs</th>\n",
       "      <th>modes</th>\n",
       "      <th>evidence</th>\n",
       "    </tr>\n",
       "  </thead>\n",
       "  <tbody>\n",
       "    <tr>\n",
       "      <th>0</th>\n",
       "      <td>0</td>\n",
       "      <td>&lt;NestedBlockState object, with base &lt;BlockStat...</td>\n",
       "      <td>[[0.0, 0.0, 0.0, 0.0, 0.0, 0.0, 0.0, 0.0, 0.0,...</td>\n",
       "      <td>42.303587</td>\n",
       "      <td>4022.909103</td>\n",
       "      <td>[[102, 11, 96, 65, 90, 90, 115, 48, 92, 56, 84...</td>\n",
       "      <td>[&lt;graph_tool.inference.partition_modes.Partiti...</td>\n",
       "      <td>-3109.537787</td>\n",
       "    </tr>\n",
       "    <tr>\n",
       "      <th>1</th>\n",
       "      <td>0</td>\n",
       "      <td>&lt;NestedBlockState object, with base &lt;BlockStat...</td>\n",
       "      <td>[[0.0, 0.0, 0.0, 0.0, 0.0, 0.0, 0.0, 0.0, 0.0,...</td>\n",
       "      <td>37.345648</td>\n",
       "      <td>3621.442219</td>\n",
       "      <td>[[14, 13, 13, 65, 90, 48, 53, 48, 92, 56, 44, ...</td>\n",
       "      <td>[&lt;graph_tool.inference.partition_modes.Partiti...</td>\n",
       "      <td>-3109.537787</td>\n",
       "    </tr>\n",
       "    <tr>\n",
       "      <th>2</th>\n",
       "      <td>0</td>\n",
       "      <td>&lt;NestedBlockState object, with base &lt;BlockStat...</td>\n",
       "      <td>[[0.0, 0.0, 0.0, 0.0, 0.0, 0.0, 0.0, 0.0, 0.0,...</td>\n",
       "      <td>32.69884</td>\n",
       "      <td>3525.96344</td>\n",
       "      <td>[[48, 11, 13, 65, 102, 102, 49, 48, 92, 49, 44...</td>\n",
       "      <td>[&lt;graph_tool.inference.partition_modes.Partiti...</td>\n",
       "      <td>-3109.537787</td>\n",
       "    </tr>\n",
       "    <tr>\n",
       "      <th>3</th>\n",
       "      <td>0</td>\n",
       "      <td>&lt;NestedBlockState object, with base &lt;BlockStat...</td>\n",
       "      <td>[[0.0, 0.0, 0.0, 0.0, 0.0, 0.0, 0.0, 0.0, 0.0,...</td>\n",
       "      <td>29.314046</td>\n",
       "      <td>3430.655301</td>\n",
       "      <td>[[48, 11, 13, 12, 102, 44, 49, 33, 92, 49, 44,...</td>\n",
       "      <td>[&lt;graph_tool.inference.partition_modes.Partiti...</td>\n",
       "      <td>-3109.537787</td>\n",
       "    </tr>\n",
       "    <tr>\n",
       "      <th>4</th>\n",
       "      <td>0</td>\n",
       "      <td>&lt;NestedBlockState object, with base &lt;BlockStat...</td>\n",
       "      <td>[[0.0, 0.0, 0.0, 0.0, 0.0, 0.0, 0.0, 0.0, 0.0,...</td>\n",
       "      <td>26.841869</td>\n",
       "      <td>3376.644339</td>\n",
       "      <td>[[48, 13, 13, 12, 102, 44, 49, 48, 92, 49, 44,...</td>\n",
       "      <td>[&lt;graph_tool.inference.partition_modes.Partiti...</td>\n",
       "      <td>-3109.537787</td>\n",
       "    </tr>\n",
       "    <tr>\n",
       "      <th>...</th>\n",
       "      <td>...</td>\n",
       "      <td>...</td>\n",
       "      <td>...</td>\n",
       "      <td>...</td>\n",
       "      <td>...</td>\n",
       "      <td>...</td>\n",
       "      <td>...</td>\n",
       "      <td>...</td>\n",
       "    </tr>\n",
       "    <tr>\n",
       "      <th>1240</th>\n",
       "      <td>4</td>\n",
       "      <td>&lt;NestedBlockState object, with base &lt;BlockStat...</td>\n",
       "      <td>[[0.0, 0.0, 0.0, 0.0, 0.0, 0.0, 0.0, 0.0, 0.0,...</td>\n",
       "      <td>15.729258</td>\n",
       "      <td>3212.350098</td>\n",
       "      <td>[[44, 28, 28, 49, 51, 44, 77, 44, 77, 77, 44, ...</td>\n",
       "      <td>[&lt;graph_tool.inference.partition_modes.Partiti...</td>\n",
       "      <td>-3097.290943</td>\n",
       "    </tr>\n",
       "    <tr>\n",
       "      <th>1241</th>\n",
       "      <td>4</td>\n",
       "      <td>&lt;NestedBlockState object, with base &lt;BlockStat...</td>\n",
       "      <td>[[0.0, 0.0, 0.0, 0.0, 0.0, 0.0, 0.0, 0.0, 0.0,...</td>\n",
       "      <td>15.90386</td>\n",
       "      <td>3217.610412</td>\n",
       "      <td>[[44, 28, 28, 49, 51, 44, 31, 44, 31, 31, 44, ...</td>\n",
       "      <td>[&lt;graph_tool.inference.partition_modes.Partiti...</td>\n",
       "      <td>-3097.290943</td>\n",
       "    </tr>\n",
       "    <tr>\n",
       "      <th>1242</th>\n",
       "      <td>4</td>\n",
       "      <td>&lt;NestedBlockState object, with base &lt;BlockStat...</td>\n",
       "      <td>[[0.0, 0.0, 0.0, 0.0, 0.0, 0.0, 0.0, 0.0, 0.0,...</td>\n",
       "      <td>15.843961</td>\n",
       "      <td>3218.558065</td>\n",
       "      <td>[[44, 28, 28, 49, 51, 51, 28, 44, 31, 31, 44, ...</td>\n",
       "      <td>[&lt;graph_tool.inference.partition_modes.Partiti...</td>\n",
       "      <td>-3097.290943</td>\n",
       "    </tr>\n",
       "    <tr>\n",
       "      <th>1243</th>\n",
       "      <td>4</td>\n",
       "      <td>&lt;NestedBlockState object, with base &lt;BlockStat...</td>\n",
       "      <td>[[0.0, 0.0, 0.0, 0.0, 0.0, 0.0, 0.0, 0.0, 0.0,...</td>\n",
       "      <td>15.625387</td>\n",
       "      <td>3215.682237</td>\n",
       "      <td>[[44, 28, 28, 49, 51, 44, 31, 44, 31, 31, 51, ...</td>\n",
       "      <td>[&lt;graph_tool.inference.partition_modes.Partiti...</td>\n",
       "      <td>-3097.290943</td>\n",
       "    </tr>\n",
       "    <tr>\n",
       "      <th>1244</th>\n",
       "      <td>4</td>\n",
       "      <td>&lt;NestedBlockState object, with base &lt;BlockStat...</td>\n",
       "      <td>[[0.0, 0.0, 0.0, 0.0, 0.0, 0.0, 0.0, 0.0, 0.0,...</td>\n",
       "      <td>15.657722</td>\n",
       "      <td>3206.425246</td>\n",
       "      <td>[[49, 28, 28, 51, 44, 49, 31, 49, 31, 31, 44, ...</td>\n",
       "      <td>[&lt;graph_tool.inference.partition_modes.Partiti...</td>\n",
       "      <td>-3097.290943</td>\n",
       "    </tr>\n",
       "  </tbody>\n",
       "</table>\n",
       "<p>1245 rows × 8 columns</p>\n",
       "</div>"
      ],
      "text/plain": [
       "      chain                                              state  \\\n",
       "0         0  <NestedBlockState object, with base <BlockStat...   \n",
       "1         0  <NestedBlockState object, with base <BlockStat...   \n",
       "2         0  <NestedBlockState object, with base <BlockStat...   \n",
       "3         0  <NestedBlockState object, with base <BlockStat...   \n",
       "4         0  <NestedBlockState object, with base <BlockStat...   \n",
       "...     ...                                                ...   \n",
       "1240      4  <NestedBlockState object, with base <BlockStat...   \n",
       "1241      4  <NestedBlockState object, with base <BlockStat...   \n",
       "1242      4  <NestedBlockState object, with base <BlockStat...   \n",
       "1243      4  <NestedBlockState object, with base <BlockStat...   \n",
       "1244      4  <NestedBlockState object, with base <BlockStat...   \n",
       "\n",
       "                                                     Bs        Bes  \\\n",
       "0     [[0.0, 0.0, 0.0, 0.0, 0.0, 0.0, 0.0, 0.0, 0.0,...  42.303587   \n",
       "1     [[0.0, 0.0, 0.0, 0.0, 0.0, 0.0, 0.0, 0.0, 0.0,...  37.345648   \n",
       "2     [[0.0, 0.0, 0.0, 0.0, 0.0, 0.0, 0.0, 0.0, 0.0,...   32.69884   \n",
       "3     [[0.0, 0.0, 0.0, 0.0, 0.0, 0.0, 0.0, 0.0, 0.0,...  29.314046   \n",
       "4     [[0.0, 0.0, 0.0, 0.0, 0.0, 0.0, 0.0, 0.0, 0.0,...  26.841869   \n",
       "...                                                 ...        ...   \n",
       "1240  [[0.0, 0.0, 0.0, 0.0, 0.0, 0.0, 0.0, 0.0, 0.0,...  15.729258   \n",
       "1241  [[0.0, 0.0, 0.0, 0.0, 0.0, 0.0, 0.0, 0.0, 0.0,...   15.90386   \n",
       "1242  [[0.0, 0.0, 0.0, 0.0, 0.0, 0.0, 0.0, 0.0, 0.0,...  15.843961   \n",
       "1243  [[0.0, 0.0, 0.0, 0.0, 0.0, 0.0, 0.0, 0.0, 0.0,...  15.625387   \n",
       "1244  [[0.0, 0.0, 0.0, 0.0, 0.0, 0.0, 0.0, 0.0, 0.0,...  15.657722   \n",
       "\n",
       "              dls                                                 bs  \\\n",
       "0     4022.909103  [[102, 11, 96, 65, 90, 90, 115, 48, 92, 56, 84...   \n",
       "1     3621.442219  [[14, 13, 13, 65, 90, 48, 53, 48, 92, 56, 44, ...   \n",
       "2      3525.96344  [[48, 11, 13, 65, 102, 102, 49, 48, 92, 49, 44...   \n",
       "3     3430.655301  [[48, 11, 13, 12, 102, 44, 49, 33, 92, 49, 44,...   \n",
       "4     3376.644339  [[48, 13, 13, 12, 102, 44, 49, 48, 92, 49, 44,...   \n",
       "...           ...                                                ...   \n",
       "1240  3212.350098  [[44, 28, 28, 49, 51, 44, 77, 44, 77, 77, 44, ...   \n",
       "1241  3217.610412  [[44, 28, 28, 49, 51, 44, 31, 44, 31, 31, 44, ...   \n",
       "1242  3218.558065  [[44, 28, 28, 49, 51, 51, 28, 44, 31, 31, 44, ...   \n",
       "1243  3215.682237  [[44, 28, 28, 49, 51, 44, 31, 44, 31, 31, 51, ...   \n",
       "1244  3206.425246  [[49, 28, 28, 51, 44, 49, 31, 49, 31, 31, 44, ...   \n",
       "\n",
       "                                                  modes     evidence  \n",
       "0     [<graph_tool.inference.partition_modes.Partiti... -3109.537787  \n",
       "1     [<graph_tool.inference.partition_modes.Partiti... -3109.537787  \n",
       "2     [<graph_tool.inference.partition_modes.Partiti... -3109.537787  \n",
       "3     [<graph_tool.inference.partition_modes.Partiti... -3109.537787  \n",
       "4     [<graph_tool.inference.partition_modes.Partiti... -3109.537787  \n",
       "...                                                 ...          ...  \n",
       "1240  [<graph_tool.inference.partition_modes.Partiti... -3097.290943  \n",
       "1241  [<graph_tool.inference.partition_modes.Partiti... -3097.290943  \n",
       "1242  [<graph_tool.inference.partition_modes.Partiti... -3097.290943  \n",
       "1243  [<graph_tool.inference.partition_modes.Partiti... -3097.290943  \n",
       "1244  [<graph_tool.inference.partition_modes.Partiti... -3097.290943  \n",
       "\n",
       "[1245 rows x 8 columns]"
      ]
     },
     "execution_count": 18,
     "metadata": {},
     "output_type": "execute_result"
    }
   ],
   "source": [
    "df = []\n",
    "for idx_chain in chs_df['chain'].unique():\n",
    "    df.append(chs_df[chs_df['chain'] == idx_chain].iloc[-args.num_draws:])\n",
    "chs_df = pd.concat(df).reset_index(drop=True)\n",
    "chs_df"
   ]
  },
  {
   "cell_type": "code",
   "execution_count": null,
   "metadata": {},
   "outputs": [
    {
     "data": {
      "text/plain": [
       "(10.0, 20.0)"
      ]
     },
     "execution_count": 19,
     "metadata": {},
     "output_type": "execute_result"
    },
    {
     "data": {
      "image/png": "[encoded data removed]",
      "text/plain": [
       "<Figure size 640x480 with 1 Axes>"
      ]
     },
     "metadata": {},
     "output_type": "display_data"
    }
   ],
   "source": [
    "sns.kdeplot(data=chs_df, x='Bes', hue='chain', fill=True, palette='tab10', alpha=0.1)\n",
    "plt.xlim([10, 20])"
   ]
  },
  {
   "cell_type": "markdown",
   "metadata": {},
   "source": [
    "---"
   ]
  },
  {
   "cell_type": "code",
   "execution_count": null,
   "metadata": {},
   "outputs": [],
   "source": [
    "# # modes within each chain\n",
    "# for idx, row in chains_df.iterrows():\n",
    "#     pmode = gt.ModeClusterState(row['bs'], nested=True)\n",
    "#     gt.mcmc_equilibrate(pmode, wait=1, mcmc_args=dict(niter=1, beta=np.inf))\n",
    "#     modes = pmode.get_modes()\n",
    "#     break"
   ]
  },
  {
   "cell_type": "code",
   "execution_count": null,
   "metadata": {},
   "outputs": [],
   "source": [
    "# M = len(pmode.bs)\n",
    "# omegas = []\n",
    "# sigmas = []\n",
    "# for mode in pmode.get_modes():\n",
    "#     omega = mode.get_M() / M\n",
    "#     omegas.append(omega)\n",
    "#     sigma = mode.posterior_cdev()\n",
    "#     sigmas.append(sigma)"
   ]
  },
  {
   "cell_type": "code",
   "execution_count": null,
   "metadata": {},
   "outputs": [],
   "source": [
    "import graph_tool.all as gt\n",
    "import pickle\n",
    "import numpy as np\n",
    "\n",
    "with open('bs.npy', 'rb') as f:\n",
    "    [state, bs] = pickle.load(f)\n",
    "    \n",
    "pmode = gt.ModeClusterState(bs, nested=True)\n",
    "gt.mcmc_equilibrate(pmode, wait=1, mcmc_args=dict(niter=1, beta=np.inf))\n",
    "\n",
    "with open('pmode.npy', 'wb') as f:\n",
    "    pickle.dump([state, bs, pmode], f)\n",
    "    \n",
    "with open('pmode.npy', 'rb') as f:\n",
    "    [state, bs, pmode] = pickle.load(f)"
   ]
  },
  {
   "cell_type": "code",
   "execution_count": null,
   "metadata": {},
   "outputs": [],
   "source": [
    "g = state.g\n",
    "g.save(f'graph.gt.gz')"
   ]
  },
  {
   "cell_type": "code",
   "execution_count": null,
   "metadata": {},
   "outputs": [],
   "source": [
    "from scipy.special import gammaln\n",
    "import graph_tool.all as gt\n",
    "import numpy as np\n",
    "import pickle\n",
    "\n",
    "def nested_mcmc_eq(args, g, state):\n",
    "    bs = []\n",
    "    Bs = [np.zeros(g.num_vertices() + 1) for s in state.get_levels()]\n",
    "    Bes = [[] for s in state.get_levels()]\n",
    "    dls = []\n",
    "    def collect_partitions(s):\n",
    "        bs.append(s.get_bs())\n",
    "        for l, sl in enumerate(s.get_levels()):\n",
    "            B = sl.get_nonempty_B()\n",
    "            Bs[l][B] += 1\n",
    "            Be = sl.get_Be()\n",
    "            Bes[l].append(Be)\n",
    "        dls.append(s.entropy())\n",
    "        \n",
    "    gt.mcmc_equilibrate(\n",
    "        state, \n",
    "        wait=args.wait, \n",
    "        force_niter=args.force_niter, \n",
    "        mcmc_args=dict(niter=args.niter),\n",
    "        callback=collect_partitions,\n",
    "    )\n",
    "    return state, bs, Bs, Bes, dls\n",
    "\n",
    "def nested_total_evidence(pmode, bs, dls):\n",
    "    H = pmode.posterior_entropy()\n",
    "    logB = np.mean([sum(gammaln(len(np.unique(bl))+1) for bl in b) for b in bs])\n",
    "    L = -np.mean(dls) + logB + H\n",
    "    return L"
   ]
  },
  {
   "cell_type": "code",
   "execution_count": null,
   "metadata": {},
   "outputs": [
    {
     "name": "stdout",
     "output_type": "stream",
     "text": [
      "2.77 (commit 1697da74, )\n"
     ]
    }
   ],
   "source": [
    "print(gt.__version__)\n",
    "class ARGS(): pass\n",
    "args = ARGS()\n",
    "\n",
    "args.SEED = 100\n",
    "gt.seed_rng(args.SEED)\n",
    "np.random.seed(args.SEED)\n",
    "\n",
    "g = gt.load_graph('graph.gt.gz')\n",
    "state = gt.NestedBlockState(g, deg_corr=False)\n",
    "args.wait = 100\n",
    "args.force_niter = 1000\n",
    "args.niter = 10\n"
   ]
  },
  {
   "cell_type": "code",
   "execution_count": null,
   "metadata": {},
   "outputs": [],
   "source": [
    "state, bs, Bs, Bes, dls = nested_mcmc_eq(args, g, state)"
   ]
  },
  {
   "cell_type": "code",
   "execution_count": null,
   "metadata": {},
   "outputs": [
    {
     "data": {
      "text/plain": [
       "(62345.97490528798, 3009, 0)"
      ]
     },
     "execution_count": 4,
     "metadata": {},
     "output_type": "execute_result"
    }
   ],
   "source": [
    "pmode = gt.ModeClusterState(bs, nested=True)\n",
    "gt.mcmc_equilibrate(pmode, wait=1, mcmc_args=dict(niter=1, beta=np.inf))"
   ]
  },
  {
   "cell_type": "code",
   "execution_count": null,
   "metadata": {},
   "outputs": [],
   "source": [
    "L = nested_total_evidence(pmode, bs, dls)"
   ]
  },
  {
   "cell_type": "code",
   "execution_count": null,
   "metadata": {},
   "outputs": [],
   "source": [
    "with open(f'output_{gt.__version__}.pkl', 'wb') as f:\n",
    "    pickle.dump([g, state, bs, Bs, Bes, dls, pmode, L], f)"
   ]
  },
  {
   "cell_type": "code",
   "execution_count": null,
   "metadata": {},
   "outputs": [],
   "source": [
    "with open(f'output_{gt.__version__}.pkl', 'rb') as f:\n",
    "    [g, state, bs, Bs, Bes, dls, pmode, L] = pickle.load(f)"
   ]
  }
 ],
 "metadata": {
  "kernelspec": {
   "display_name": "gt_111024",
   "language": "python",
   "name": "python3"
  },
  "language_info": {
   "codemirror_mode": {
    "name": "ipython",
    "version": 3
   },
   "file_extension": ".py",
   "mimetype": "text/x-python",
   "name": "python",
   "nbconvert_exporter": "python",
   "pygments_lexer": "ipython3",
   "version": "3.12.7"
  }
 },
 "nbformat": 4,
 "nbformat_minor": 2
}
