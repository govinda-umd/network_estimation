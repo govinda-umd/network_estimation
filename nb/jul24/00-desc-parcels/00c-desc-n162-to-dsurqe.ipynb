{
 "cells": [
  {
   "cell_type": "code",
   "execution_count": 1,
   "metadata": {},
   "outputs": [],
   "source": [
    "import csv \n",
    "import os\n",
    "import numpy as np\n",
    "import pandas as pd\n",
    "import ants\n",
    "import seaborn as sns\n",
    "import dill as pickle \n",
    "import shutil\n",
    "import glob\n",
    "\n",
    "from tqdm import tqdm\n",
    "from copy import deepcopy\n",
    "\n",
    "# ignore user warnings\n",
    "import warnings\n",
    "warnings.filterwarnings(\"ignore\") #, category=UserWarning)"
   ]
  },
  {
   "cell_type": "code",
   "execution_count": 2,
   "metadata": {},
   "outputs": [],
   "source": [
    "class ARGS():\n",
    "    pass\n",
    "\n",
    "args = ARGS()\n",
    "\n",
    "args.SEED = 100"
   ]
  },
  {
   "cell_type": "code",
   "execution_count": 3,
   "metadata": {},
   "outputs": [
    {
     "data": {
      "text/plain": [
       "0"
      ]
     },
     "execution_count": 3,
     "metadata": {},
     "output_type": "execute_result"
    }
   ],
   "source": [
    "MOUSE_path = f'{os.environ[\"HOME\"]}/mouse_dataset'\n",
    "NEW_MOUSE_path = f'{os.environ[\"HOME\"]}/new_mouse_dataset'\n",
    "\n",
    "os.system(f'mkdir -p {MOUSE_path}/yale_to_orig_template')"
   ]
  },
  {
   "cell_type": "code",
   "execution_count": 4,
   "metadata": {},
   "outputs": [
    {
     "data": {
      "text/plain": [
       "ANTsImage (LPI)\n",
       "\t Pixel Type : float (float32)\n",
       "\t Components : 1\n",
       "\t Dimensions : (118, 160, 90)\n",
       "\t Spacing    : (0.1, 0.1, 0.1)\n",
       "\t Origin     : (18.1, 2.7, -7.8)\n",
       "\t Direction  : [-1.  0.  0.  0. -1.  0.  0.  0.  1.]"
      ]
     },
     "metadata": {},
     "output_type": "display_data"
    },
    {
     "data": {
      "text/plain": [
       "ANTsImage (LPI)\n",
       "\t Pixel Type : float (float32)\n",
       "\t Components : 1\n",
       "\t Dimensions : (118, 160, 90)\n",
       "\t Spacing    : (0.1, 0.1, 0.1)\n",
       "\t Origin     : (18.1, 2.7, -7.8)\n",
       "\t Direction  : [-1.  0.  0.  0. -1.  0.  0.  0.  1.]"
      ]
     },
     "metadata": {},
     "output_type": "display_data"
    },
    {
     "data": {
      "text/plain": [
       "ANTsImage (LPI)\n",
       "\t Pixel Type : float (float32)\n",
       "\t Components : 1\n",
       "\t Dimensions : (118, 160, 90)\n",
       "\t Spacing    : (0.1, 0.1, 0.1)\n",
       "\t Origin     : (18.1, 2.7, -7.8)\n",
       "\t Direction  : [-1.  0.  0.  0. -1.  0.  0.  0.  1.]"
      ]
     },
     "metadata": {},
     "output_type": "display_data"
    }
   ],
   "source": [
    "# yale inputs\n",
    "ytemp_ras_100_img = ants.image_read(\n",
    "    f'{MOUSE_path}/gabe_symmetric_N162/Symmetric_N162_0.10.nii.gz'\n",
    ")\n",
    "ytemp_lpi_100_img = ants.image_read(\n",
    "    f'{MOUSE_path}/gabe_symmetric_N162/Symmetric_N162_0.10_RAS.nii.gz'\n",
    ")\n",
    "ytemp_ras_200_img = ants.image_read(\n",
    "    f'{MOUSE_path}/gabe_symmetric_N162/Symmetric_N162_0.20.nii.gz'\n",
    ")\n",
    "ytemp_lpi_200_img = ants.image_read(\n",
    "    f'{MOUSE_path}/gabe_symmetric_N162/Symmetric_N162_0.20_RAS.nii.gz'\n",
    ")\n",
    "display(ytemp_lpi_100_img)\n",
    "\n",
    "dtemp_lpi_100_img = ants.image_read(\n",
    "    f'{MOUSE_path}/gabe_resampled_DSURQE/DSURQE_average_to_N162_RAS_masked.nii.gz'\n",
    ")\n",
    "dtemp_lpi_100_mask_img = ants.image_read(\n",
    "    f'{MOUSE_path}/gabe_resampled_DSURQE/DSURQE_mask_to_N162_RAS.nii.gz'\n",
    ")\n",
    "display(dtemp_lpi_100_img)\n",
    "display(dtemp_lpi_100_mask_img)"
   ]
  },
  {
   "cell_type": "code",
   "execution_count": 5,
   "metadata": {},
   "outputs": [
    {
     "data": {
      "text/plain": [
       "ANTsImage (LPI)\n",
       "\t Pixel Type : float (float32)\n",
       "\t Components : 1\n",
       "\t Dimensions : (126, 191, 96)\n",
       "\t Spacing    : (0.1, 0.1, 0.1)\n",
       "\t Origin     : (6.27, 10.6, -7.88)\n",
       "\t Direction  : [-1.  0.  0.  0. -1.  0.  0.  0.  1.]"
      ]
     },
     "metadata": {},
     "output_type": "display_data"
    }
   ],
   "source": [
    "# original inputs\n",
    "otemp_lpi_40_img = ants.image_read(\n",
    "    f'{MOUSE_path}/mouse-brain-templates-0.5.3/dsurqec_40micron_masked.nii'\n",
    ")\n",
    "otemp_lpi_100_img = ants.resample_image(\n",
    "    otemp_lpi_40_img, \n",
    "    resample_params=[0.1, 0.1, 0.1],\n",
    ")\n",
    "display(otemp_lpi_100_img)"
   ]
  },
  {
   "cell_type": "code",
   "execution_count": 6,
   "metadata": {},
   "outputs": [],
   "source": [
    "# linear registration\n",
    "os.system('export ITK_GLOBAL_DEFAULT_NUMBER_OF_THREADS=1')\n",
    "os.system('export ANTS_RANDOM_SEED=1')\n",
    "\n",
    "tx_ln = ants.registration(\n",
    "    fixed=otemp_lpi_100_img,\n",
    "    moving=dtemp_lpi_100_img,\n",
    "    type_of_transform='TRSAA',\n",
    "    random_seed=args.SEED,\n",
    ")\n",
    "\n",
    "for idx, tx in enumerate(tx_ln['fwdtransforms']):\n",
    "    endswith = '.'.join(tx.split('.')[1:])\n",
    "    shutil.copy2(tx, f'{MOUSE_path}/yale_to_orig_template/transformation_lin{idx:02d}.{endswith}')"
   ]
  },
  {
   "cell_type": "code",
   "execution_count": 7,
   "metadata": {},
   "outputs": [
    {
     "data": {
      "text/plain": [
       "ANTsImage (LPI)\n",
       "\t Pixel Type : float (float32)\n",
       "\t Components : 1\n",
       "\t Dimensions : (126, 191, 96)\n",
       "\t Spacing    : (0.1, 0.1, 0.1)\n",
       "\t Origin     : (6.27, 10.6, -7.88)\n",
       "\t Direction  : [-1.  0.  0.  0. -1.  0.  0.  0.  1.]"
      ]
     },
     "execution_count": 7,
     "metadata": {},
     "output_type": "execute_result"
    }
   ],
   "source": [
    "dtemp_lpi_100_tx_ln_img = ants.apply_transforms(\n",
    "    fixed=otemp_lpi_100_img,\n",
    "    moving=dtemp_lpi_100_img,\n",
    "    transformlist=tx_ln['fwdtransforms'],\n",
    "    interpolator='linear',\n",
    ")\n",
    "dtemp_lpi_100_tx_ln_img.to_file(f'{MOUSE_path}/yale_to_orig_template/yale_template_tx_lin.nii.gz')\n",
    "dtemp_lpi_100_tx_ln_img"
   ]
  },
  {
   "cell_type": "code",
   "execution_count": 8,
   "metadata": {},
   "outputs": [],
   "source": [
    "# non linear transformation\n",
    "os.system('export ITK_GLOBAL_DEFAULT_NUMBER_OF_THREADS=1')\n",
    "os.system('export ANTS_RANDOM_SEED=1')\n",
    "\n",
    "tx_nl = ants.registration(\n",
    "    fixed=otemp_lpi_100_img,\n",
    "    moving=dtemp_lpi_100_img,\n",
    "    type_of_transform='SyN',\n",
    "    random_seed=args.SEED,\n",
    ")\n",
    "\n",
    "for idx, tx in enumerate(tx_nl['fwdtransforms']):\n",
    "    endswith = '.'.join(tx.split('.')[1:])\n",
    "    shutil.copy2(tx, f'{MOUSE_path}/yale_to_orig_template/transformation_nonlin{idx:02d}.{endswith}')"
   ]
  },
  {
   "cell_type": "code",
   "execution_count": 9,
   "metadata": {},
   "outputs": [
    {
     "data": {
      "text/plain": [
       "ANTsImage (LPI)\n",
       "\t Pixel Type : float (float32)\n",
       "\t Components : 1\n",
       "\t Dimensions : (126, 191, 96)\n",
       "\t Spacing    : (0.1, 0.1, 0.1)\n",
       "\t Origin     : (6.27, 10.6, -7.88)\n",
       "\t Direction  : [-1.  0.  0.  0. -1.  0.  0.  0.  1.]"
      ]
     },
     "execution_count": 9,
     "metadata": {},
     "output_type": "execute_result"
    }
   ],
   "source": [
    "dtemp_lpi_100_tx_nl_img = ants.apply_transforms(\n",
    "    fixed=otemp_lpi_100_img,\n",
    "    moving=dtemp_lpi_100_img,\n",
    "    transformlist=tx_nl['fwdtransforms'],\n",
    "    interpolator='linear',\n",
    ")\n",
    "dtemp_lpi_100_tx_nl_img.to_file(f'{MOUSE_path}/yale_to_orig_template/yale_template_tx_nonlin.nii.gz')\n",
    "dtemp_lpi_100_tx_nl_img"
   ]
  },
  {
   "cell_type": "code",
   "execution_count": 15,
   "metadata": {},
   "outputs": [
    {
     "data": {
      "text/plain": [
       "['/home/govindas/mouse_dataset/yale_to_orig_template/transformation_nonlin00.nii.gz',\n",
       " '/home/govindas/mouse_dataset/yale_to_orig_template/transformation_nonlin01.mat']"
      ]
     },
     "metadata": {},
     "output_type": "display_data"
    },
    {
     "data": {
      "text/plain": [
       "ANTsImage (LPI)\n",
       "\t Pixel Type : float (float32)\n",
       "\t Components : 1\n",
       "\t Dimensions : (126, 191, 96)\n",
       "\t Spacing    : (0.1, 0.1, 0.1)\n",
       "\t Origin     : (6.27, 10.6, -7.88)\n",
       "\t Direction  : [-1.  0.  0.  0. -1.  0.  0.  0.  1.]"
      ]
     },
     "metadata": {},
     "output_type": "display_data"
    }
   ],
   "source": [
    "# apply dtemp mask to ytemp images and transform them to orig space\n",
    "ytemp_lpi_100__masked_img = ants.mask_image(\n",
    "    image=ytemp_lpi_100_img,\n",
    "    mask=dtemp_lpi_100_mask_img,\n",
    "    binarize=False,\n",
    ")\n",
    "\n",
    "# load transform\n",
    "tx_list = sorted(glob.glob(f'{MOUSE_path}/yale_to_orig_template/transformation_nonlin*', recursive=True))\n",
    "display(tx_list)\n",
    "\n",
    "# apply transform and save the image\n",
    "ytemp_lpi_100__masked_tx_img = ants.apply_transforms(\n",
    "    fixed=otemp_lpi_100_img,\n",
    "    moving=ytemp_lpi_100__masked_img,\n",
    "    transformlist=tx_list,\n",
    "    interpolator='linear',\n",
    ")\n",
    "ytemp_lpi_100__masked_tx_img.to_file(f'{MOUSE_path}/yale_to_orig_template/Symmetric_N162_0.10_RAS_masked_tx_nonlin.nii.gz')\n",
    "display(ytemp_lpi_100__masked_tx_img)"
   ]
  }
 ],
 "metadata": {
  "kernelspec": {
   "display_name": "gt",
   "language": "python",
   "name": "python3"
  },
  "language_info": {
   "codemirror_mode": {
    "name": "ipython",
    "version": 3
   },
   "file_extension": ".py",
   "mimetype": "text/x-python",
   "name": "python",
   "nbconvert_exporter": "python",
   "pygments_lexer": "ipython3",
   "version": "3.9.19"
  }
 },
 "nbformat": 4,
 "nbformat_minor": 2
}
