{
 "cells": [
  {
   "cell_type": "markdown",
   "metadata": {},
   "source": [
    "# Nov 10, 2024: Canonical Resting State Networks\n",
    "Joanes Grandjean provided us with his ICA components. Each IC corresponds to a network, or a sub-network. \n",
    "He groups his ICs hierarchically into resting state networks."
   ]
  },
  {
   "cell_type": "code",
   "execution_count": 1,
   "metadata": {},
   "outputs": [],
   "source": [
    "import csv\n",
    "import os\n",
    "import sys\n",
    "import numpy as np\n",
    "import pandas as pd\n",
    "import scipy as sp \n",
    "import dill as pickle \n",
    "from os.path import join as pjoin\n",
    "from itertools import product\n",
    "from tqdm import tqdm\n",
    "import ants\n",
    "from glob import glob\n",
    "import graph_tool.all as gt"
   ]
  },
  {
   "cell_type": "code",
   "execution_count": 2,
   "metadata": {},
   "outputs": [],
   "source": [
    "class ARGS():\n",
    "    pass\n",
    "\n",
    "args = ARGS()\n",
    "\n",
    "args.SEED = 100\n",
    "\n",
    "gt.seed_rng(args.SEED)\n",
    "np.random.seed(args.SEED)"
   ]
  },
  {
   "cell_type": "code",
   "execution_count": 3,
   "metadata": {},
   "outputs": [],
   "source": [
    "args.type = 'spatial'\n",
    "args.roi_size = 225\n",
    "args.maintain_symmetry = True\n",
    "args.brain_div = 'whl'\n",
    "args.num_rois = 162\n",
    "\n",
    "PARC_DESC = (\n",
    "    f'type-{args.type}'\n",
    "    f'_size-{args.roi_size}'\n",
    "    f'_symm-{args.maintain_symmetry}'\n",
    "    f'_braindiv-{args.brain_div}'\n",
    "    f'_nrois-{args.num_rois}'\n",
    ")"
   ]
  },
  {
   "cell_type": "code",
   "execution_count": 4,
   "metadata": {},
   "outputs": [
    {
     "data": {
      "text/plain": [
       "0"
      ]
     },
     "execution_count": 4,
     "metadata": {},
     "output_type": "execute_result"
    }
   ],
   "source": [
    "args.GRAPH_DEF = f'constructed'\n",
    "args.GRAPH_METHOD = f'pearson-corr'\n",
    "args.THRESHOLDING = f'positive'\n",
    "args.EDGE_DEF = f'binary'\n",
    "args.EDGE_DENSITY = 20\n",
    "args.LAYER_DEF = f'individual'\n",
    "args.DATA_UNIT = f'ses'\n",
    "\n",
    "BASE_path = f'{os.environ[\"HOME\"]}/mouse_dataset'\n",
    "PARCELS_path = f'{BASE_path}/parcels'\n",
    "RSN_path = f'{BASE_path}/joanes_rsns'\n",
    "ROI_path = f'{BASE_path}/roi_results_v2/{PARC_DESC}'\n",
    "\n",
    "TS_path = f'{ROI_path}/runwise_timeseries'\n",
    "ROI_RESULTS_path = (\n",
    "    f'{ROI_path}'\n",
    "    f'/graph-{args.GRAPH_DEF}/method-{args.GRAPH_METHOD}'\n",
    "    f'/threshold-{args.THRESHOLDING}/edge-{args.EDGE_DEF}/density-{args.EDGE_DENSITY}'\n",
    "    f'/layer-{args.LAYER_DEF}/unit-{args.DATA_UNIT}'\n",
    ")\n",
    "RSN_ROI_path = f'{ROI_path}/rsns'\n",
    "os.system(f'mkdir -p {RSN_ROI_path}')\n",
    "GRAPH_path = f'{ROI_RESULTS_path}/graphs'\n",
    "os.system(f'mkdir -p {GRAPH_path}')\n",
    "SBM_path = f'{ROI_RESULTS_path}/model-fits'\n",
    "os.system(f'mkdir -p {SBM_path}')"
   ]
  },
  {
   "cell_type": "code",
   "execution_count": 5,
   "metadata": {},
   "outputs": [],
   "source": [
    "parcels_img = ants.image_read(f'{PARCELS_path}/{PARC_DESC}_desc-parcels.nii.gz')\n",
    "parcels = parcels_img.numpy()\n",
    "roi_labels = np.loadtxt(f'{PARCELS_path}/{PARC_DESC}_desc-labels.txt')"
   ]
  },
  {
   "cell_type": "code",
   "execution_count": 6,
   "metadata": {},
   "outputs": [
    {
     "data": {
      "text/plain": [
       "ANTsImage (LPI)\n",
       "\t Pixel Type : float (float32)\n",
       "\t Components : 1\n",
       "\t Dimensions : (58, 79, 45)\n",
       "\t Spacing    : (0.2, 0.2, 0.2)\n",
       "\t Origin     : (18.1, 2.7, -7.8)\n",
       "\t Direction  : [-1.  0.  0.  0. -1.  0.  0.  0.  1.]"
      ]
     },
     "execution_count": 6,
     "metadata": {},
     "output_type": "execute_result"
    }
   ],
   "source": [
    "cmask_img = ants.image_read(\n",
    "    f'{BASE_path}/voxel/common_brain_mask.nii.gz'\n",
    ")\n",
    "cmask_img"
   ]
  },
  {
   "cell_type": "markdown",
   "metadata": {},
   "source": [
    "---"
   ]
  },
  {
   "cell_type": "code",
   "execution_count": 7,
   "metadata": {},
   "outputs": [
    {
     "data": {
      "text/plain": [
       "ANTsImage (LPI)\n",
       "\t Pixel Type : float (float32)\n",
       "\t Components : 1\n",
       "\t Dimensions : (60, 81, 46)\n",
       "\t Spacing    : (0.2, 0.2, 0.2)\n",
       "\t Origin     : (18.2, 2.8, -7.8)\n",
       "\t Direction  : [-1.  0.  0.  0. -1.  0.  0.  0.  1.]"
      ]
     },
     "execution_count": 7,
     "metadata": {},
     "output_type": "execute_result"
    }
   ],
   "source": [
    "rimg = ants.image_read(\n",
    "    f'{BASE_path}/gabe_symmetric_N162/Symmetric_N162_0.20_RAS.nii.gz'\n",
    ")\n",
    "rimg"
   ]
  },
  {
   "cell_type": "code",
   "execution_count": 8,
   "metadata": {},
   "outputs": [
    {
     "data": {
      "text/plain": [
       "ANTsImage\n",
       "\t Pixel Type : float (float32)\n",
       "\t Components : 1\n",
       "\t Dimensions : (114, 132, 80, 18)\n",
       "\t Spacing    : (0.1, 0.1, 0.1, 1.0)\n",
       "\t Origin     : (5.44, 6.31, -4.325, 0.0)\n",
       "\t Direction  : [-1.  0.  0.  0.  0. -1.  0.  0.  0.  0.  1.  0.  0.  0.  0.  1.]"
      ]
     },
     "execution_count": 8,
     "metadata": {},
     "output_type": "execute_result"
    }
   ],
   "source": [
    "ics_img = ants.image_read(\n",
    "    f'{RSN_path}/ABI_DR_zerbi15_100um.nii.gz'\n",
    ")\n",
    "ics_img"
   ]
  },
  {
   "cell_type": "code",
   "execution_count": 9,
   "metadata": {},
   "outputs": [
    {
     "data": {
      "text/plain": [
       "ANTsImage (LPI)\n",
       "\t Pixel Type : float (float32)\n",
       "\t Components : 1\n",
       "\t Dimensions : (114, 132, 80)\n",
       "\t Spacing    : (0.1, 0.1, 0.1)\n",
       "\t Origin     : (5.44, 6.31, -4.325)\n",
       "\t Direction  : [-1.  0.  0.  0. -1.  0.  0.  0.  1.]"
      ]
     },
     "execution_count": 9,
     "metadata": {},
     "output_type": "execute_result"
    }
   ],
   "source": [
    "jimg = ants.image_read(\n",
    "    f'{RSN_path}/ABI_template_100um.nii'\n",
    ")\n",
    "jimg"
   ]
  },
  {
   "cell_type": "code",
   "execution_count": 10,
   "metadata": {},
   "outputs": [
    {
     "data": {
      "text/plain": [
       "ANTsImage (LPI)\n",
       "\t Pixel Type : float (float32)\n",
       "\t Components : 1\n",
       "\t Dimensions : (118, 160, 90)\n",
       "\t Spacing    : (0.1, 0.1, 0.1)\n",
       "\t Origin     : (18.1, 2.7, -7.8)\n",
       "\t Direction  : [-1.  0.  0.  0. -1.  0.  0.  0.  1.]"
      ]
     },
     "execution_count": 10,
     "metadata": {},
     "output_type": "execute_result"
    }
   ],
   "source": [
    "nimg = ants.image_read(\n",
    "    f'{PARCELS_path}/allen_template_RAS_tx.nii.gz'\n",
    ")\n",
    "nimg"
   ]
  },
  {
   "cell_type": "code",
   "execution_count": 11,
   "metadata": {},
   "outputs": [],
   "source": [
    "tx = ants.registration(\n",
    "    fixed=nimg, \n",
    "    moving=jimg,\n",
    "    type_of_transform='SyN',\n",
    "    random_seed=100,\n",
    ")"
   ]
  },
  {
   "cell_type": "code",
   "execution_count": 12,
   "metadata": {},
   "outputs": [
    {
     "data": {
      "text/plain": [
       "ANTsImage (LPI)\n",
       "\t Pixel Type : float (float32)\n",
       "\t Components : 1\n",
       "\t Dimensions : (118, 160, 90)\n",
       "\t Spacing    : (0.1, 0.1, 0.1)\n",
       "\t Origin     : (18.1, 2.7, -7.8)\n",
       "\t Direction  : [-1.  0.  0.  0. -1.  0.  0.  0.  1.]"
      ]
     },
     "execution_count": 12,
     "metadata": {},
     "output_type": "execute_result"
    }
   ],
   "source": [
    "jimg_tx = ants.apply_transforms(\n",
    "    fixed=nimg, \n",
    "    moving=jimg,\n",
    "    transformlist=tx['fwdtransforms'],\n",
    ")\n",
    "jimg_tx.to_file(f'{RSN_path}/transformed_to_N162/joanes_template_RAS_tx.nii.gz')\n",
    "jimg_tx"
   ]
  },
  {
   "cell_type": "code",
   "execution_count": 13,
   "metadata": {},
   "outputs": [],
   "source": [
    "def threshold(arr, thresh=6):\n",
    "    mask = np.abs(arr) <= thresh\n",
    "    arr[mask] = 0\n",
    "    return arr"
   ]
  },
  {
   "cell_type": "code",
   "execution_count": 14,
   "metadata": {},
   "outputs": [
    {
     "data": {
      "text/plain": [
       "(60, 81, 46, 18)"
      ]
     },
     "execution_count": 14,
     "metadata": {},
     "output_type": "execute_result"
    }
   ],
   "source": [
    "ics = ics_img.numpy()\n",
    "ics_tx = []\n",
    "for ic in range(ics.shape[-1]):\n",
    "    ic_img = jimg.new_image_like(ics[:, :, :, ic])\n",
    "    ic_img_tx = ants.apply_transforms(\n",
    "        fixed=nimg,\n",
    "        moving=ic_img,\n",
    "        transformlist=tx['fwdtransforms'],\n",
    "    )\n",
    "    ic_img_tx_200 = ants.resample_image_to_target(\n",
    "        image=ic_img_tx, \n",
    "        target=rimg,\n",
    "    )\n",
    "    ics_tx += [threshold(ic_img_tx_200.numpy())]\n",
    "    ic_img_tx_200.to_file(f'{RSN_path}/transformed_to_N162/ics/ic-{ic}.nii.gz')\n",
    "\n",
    "ics_tx = np.stack(ics_tx, axis=-1)\n",
    "ics_tx.shape"
   ]
  },
  {
   "cell_type": "markdown",
   "metadata": {},
   "source": [
    "---"
   ]
  },
  {
   "cell_type": "code",
   "execution_count": 15,
   "metadata": {},
   "outputs": [],
   "source": [
    "# create RSNs"
   ]
  },
  {
   "cell_type": "code",
   "execution_count": 16,
   "metadata": {},
   "outputs": [],
   "source": [
    "def create_rsn_from_ics(rimg, ics_tx, ics, name):\n",
    "    rsn_img = rimg.new_image_like(\n",
    "        np.sum(ics_tx[:, :, :, ics], axis=-1)\n",
    "    )\n",
    "    rsn_img.to_file(f'{RSN_path}/transformed_to_N162/rsns/j-{name}.nii.gz')\n",
    "    return rsn_img\n",
    "\n",
    "def create_rsn_from_atlas(rimg, atlas_img, rois, name):\n",
    "    atlas = atlas_img.numpy()\n",
    "    mask = np.isin(atlas, rois)\n",
    "    rsn = atlas * mask\n",
    "    rsn_img = rimg.new_image_like(rsn)\n",
    "    rsn_img.to_file(f'{RSN_path}/transformed_to_N162/rsns/j-{name}.nii.gz')\n",
    "    return rsn_img\n",
    "\n",
    "def create_parcels_rsn(rsn_img, name, roi_labels):\n",
    "    rsn_img = ants.resample_image_to_target(\n",
    "        image=rsn_img, \n",
    "        target=cmask_img,\n",
    "    )\n",
    "\n",
    "    rsn = (rsn_img.numpy() > 0) * (parcels)\n",
    "    rsn_mask = (rsn > 0).astype(np.float32)\n",
    "    rsn_rois = np.unique(rsn)[1:]\n",
    "    \n",
    "    # rsn rois vector\n",
    "    np.savetxt(\n",
    "        f'{RSN_ROI_path}/desc-j-{name}-rois.txt',\n",
    "        np.in1d(roi_labels, rsn_rois).astype(int),\n",
    "        fmt='%1d',\n",
    "    )\n",
    "    # rsn rois img, and mask img\n",
    "    cmask_img.new_image_like(rsn).to_file(f'{RSN_ROI_path}/desc-j-{name}-rois.nii.gz')\n",
    "    cmask_img.new_image_like(rsn_mask).to_file(f'{RSN_ROI_path}/desc-j-{name}-mask.nii.gz')\n",
    "    return rsn, rsn_mask, rsn_rois"
   ]
  },
  {
   "cell_type": "code",
   "execution_count": 17,
   "metadata": {},
   "outputs": [],
   "source": [
    "ics = [2, 3, 4, 5]\n",
    "name = 'somatosensory'\n",
    "rsn_img = create_rsn_from_ics(rimg, ics_tx, ics, name)\n",
    "rsn, rsn_mask, rsn_rois = create_parcels_rsn(rsn_img, name, roi_labels)\n",
    "\n",
    "ics = [1, 6, 7]\n",
    "name = 'sensory'\n",
    "rsn_img = create_rsn_from_ics(rimg, ics_tx, ics, name)\n",
    "rsn, rsn_mask, rsn_rois = create_parcels_rsn(rsn_img, name, roi_labels)\n",
    "\n",
    "ics = [0, 17]\n",
    "name = 'olfactory'\n",
    "rsn_img = create_rsn_from_ics(rimg, ics_tx, ics, name)\n",
    "rsn, rsn_mask, rsn_rois = create_parcels_rsn(rsn_img, name, roi_labels)\n",
    "\n",
    "ics = [9, 8, 10, 11, 15, 16]\n",
    "name = 'limbic'\n",
    "rsn_img = create_rsn_from_ics(rimg, ics_tx, ics, name)\n",
    "rsn, rsn_mask, rsn_rois = create_parcels_rsn(rsn_img, name, roi_labels)\n",
    "\n",
    "ics = [13, 12, 14]\n",
    "name = 'basal_ganglia'\n",
    "rsn_img = create_rsn_from_ics(rimg, ics_tx, ics, name)\n",
    "rsn, rsn_mask, rsn_rois = create_parcels_rsn(rsn_img, name, roi_labels)\n",
    "\n",
    "ics = [6]\n",
    "name = 'visual'\n",
    "rsn_img = create_rsn_from_ics(rimg, ics_tx, ics, name)\n",
    "rsn, rsn_mask, rsn_rois = create_parcels_rsn(rsn_img, name, roi_labels)"
   ]
  },
  {
   "cell_type": "markdown",
   "metadata": {},
   "source": [
    "---"
   ]
  },
  {
   "cell_type": "code",
   "execution_count": 18,
   "metadata": {},
   "outputs": [
    {
     "data": {
      "text/plain": [
       "ANTsImage (LPI)\n",
       "\t Pixel Type : float (float32)\n",
       "\t Components : 1\n",
       "\t Dimensions : (60, 81, 46)\n",
       "\t Spacing    : (0.2, 0.2, 0.2)\n",
       "\t Origin     : (18.2, 2.8, -7.8)\n",
       "\t Direction  : [-1.  0.  0.  0. -1.  0.  0.  0.  1.]"
      ]
     },
     "execution_count": 18,
     "metadata": {},
     "output_type": "execute_result"
    }
   ],
   "source": [
    "atlas_img = ants.image_read(\n",
    "    f'{RSN_path}/ABI_atlas_reduced_V2_100um.nii.gz',\n",
    ")\n",
    "atlas_img_tx = ants.apply_transforms(\n",
    "    fixed=nimg,\n",
    "    moving=atlas_img,\n",
    "    transformlist=tx['fwdtransforms'],\n",
    "    interpolator='genericLabel',\n",
    ")\n",
    "atlas_img_tx_200 = ants.resample_image_to_target(\n",
    "    image=atlas_img_tx, \n",
    "    target=rimg,\n",
    "    interp_type='genericLabel',\n",
    ")\n",
    "atlas_img_tx_200.to_file(f'{RSN_path}/transformed_to_N162/joanes_ABI_atlas_200_RAS_tx.nii.gz')\n",
    "atlas_img_tx_200"
   ]
  },
  {
   "cell_type": "code",
   "execution_count": 19,
   "metadata": {},
   "outputs": [],
   "source": [
    "rois = [38, 39, 40, 41, 84, 85, 86, 87]\n",
    "name = 'amygdala'\n",
    "rsn_img = create_rsn_from_atlas(rimg, atlas_img_tx_200, rois, name)\n",
    "rsn, rsn_mask, rsn_rois = create_parcels_rsn(rsn_img, name, roi_labels)\n",
    "\n",
    "rois = [45, 91]\n",
    "name = 'thalamus'\n",
    "rsn_img = create_rsn_from_atlas(rimg, atlas_img_tx_200, rois, name)\n",
    "rsn, rsn_mask, rsn_rois = create_parcels_rsn(rsn_img, name, roi_labels)\n",
    "\n",
    "rois = [46, 92]\n",
    "name = 'amygdala'\n",
    "rsn_img = create_rsn_from_atlas(rimg, atlas_img_tx_200, rois, name)\n",
    "rsn, rsn_mask, rsn_rois = create_parcels_rsn(rsn_img, name, roi_labels)\n",
    "\n",
    "rois = [2, 3, 4, 5, 6, 7, 8, 9, 10, 19, 48, 49, 50, 51, 52, 53, 54, 55, 56, 65]\n",
    "name = 'somatomotor'\n",
    "rsn_img = create_rsn_from_atlas(rimg, atlas_img_tx_200, rois, name)\n",
    "rsn, rsn_mask, rsn_rois = create_parcels_rsn(rsn_img, name, roi_labels)\n",
    "\n",
    "rois = [1, 15, 16, 17, 18, 20, 22, 47, 62, 63, 61, 64, 66, 68]\n",
    "name = 'default_mode'\n",
    "rsn_img = create_rsn_from_atlas(rimg, atlas_img_tx_200, rois, name)\n",
    "rsn, rsn_mask, rsn_rois = create_parcels_rsn(rsn_img, name, roi_labels)\n",
    "\n",
    "rois = [25, 26, 42, 43, 44, 45, 46, 71, 72, 88, 89, 90, 91, 92]\n",
    "name = 'subcortical'\n",
    "rsn_img = create_rsn_from_atlas(rimg, atlas_img_tx_200, rois, name)\n",
    "rsn, rsn_mask, rsn_rois = create_parcels_rsn(rsn_img, name, roi_labels)"
   ]
  }
 ],
 "metadata": {
  "kernelspec": {
   "display_name": "gt",
   "language": "python",
   "name": "python3"
  },
  "language_info": {
   "codemirror_mode": {
    "name": "ipython",
    "version": 3
   },
   "file_extension": ".py",
   "mimetype": "text/x-python",
   "name": "python",
   "nbconvert_exporter": "python",
   "pygments_lexer": "ipython3",
   "version": "3.9.19"
  }
 },
 "nbformat": 4,
 "nbformat_minor": 2
}
