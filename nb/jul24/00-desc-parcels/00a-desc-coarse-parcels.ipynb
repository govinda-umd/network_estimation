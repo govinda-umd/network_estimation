{
 "cells": [
  {
   "cell_type": "markdown",
   "metadata": {},
   "source": [
    "# Feb 28, 2024: Yale's parcellations\n",
    "modified: [this ipynb](../dec23/00-desc-coarse-parcels.ipynb)"
   ]
  },
  {
   "cell_type": "code",
   "execution_count": 1,
   "metadata": {},
   "outputs": [],
   "source": [
    "import csv\n",
    "import os\n",
    "import numpy as np \n",
    "import pandas as pd \n",
    "import ants\n",
    "import json\n",
    "from tqdm import tqdm \n",
    "\n",
    "import matplotlib as mpl\n",
    "import matplotlib.pyplot as plt\n",
    "import seaborn as sns"
   ]
  },
  {
   "cell_type": "code",
   "execution_count": 2,
   "metadata": {},
   "outputs": [],
   "source": [
    "class ARGS():\n",
    "    pass\n",
    "\n",
    "args = ARGS()\n",
    "\n",
    "args.SEED = 100"
   ]
  },
  {
   "cell_type": "code",
   "execution_count": 3,
   "metadata": {},
   "outputs": [],
   "source": [
    "BASE_path = f'{os.environ[\"HOME\"]}/mouse_dataset'\n",
    "PARCELS_path = f'{BASE_path}/parcels'\n",
    "os.system(f'mkdir -p {PARCELS_path}')\n",
    "\n",
    "# 172 rois\n",
    "parcels_172 = (\n",
    "    f'{BASE_path}/n162_parcellations'\n",
    "    f'/172_rois_N162_merge_medium_fine_224_0.2_RAS.nii'\n",
    ")\n",
    "parcels_172 = ants.image_read(parcels_172)\n",
    "\n",
    "with open(f'{BASE_path}/n162_parcellations/172_rois.json') as f:\n",
    "    roi_names_172 = json.load(f)['labels']['data'][0]['labels']\n",
    "    roi_names_172 = pd.DataFrame({\n",
    "        'roi': [int(k) for k in list(roi_names_172.keys())],\n",
    "        'label': list(roi_names_172.values())\n",
    "    })\n",
    "\n",
    "# 56 rois\n",
    "parcels_56 = (\n",
    "    f'{BASE_path}/n162_parcellations'\n",
    "    f'/56_rois_new_N162_coarse_medium_224_noskip_0.2_RAS.nii'\n",
    ")\n",
    "parcels_56 = ants.image_read(parcels_56)\n",
    "\n",
    "roi_names_56 = pd.read_csv(f'{BASE_path}/n162_parcellations/56_rois.csv', names=['roi', 'label'])"
   ]
  },
  {
   "cell_type": "code",
   "execution_count": 4,
   "metadata": {},
   "outputs": [],
   "source": [
    "n162_ras_file = f'/home/govindas/mouse_dataset/gabe_symmetric_N162/Symmetric_N162_0.20_RAS.nii.gz'\n",
    "n162_ras = ants.image_read(n162_ras_file)"
   ]
  },
  {
   "cell_type": "code",
   "execution_count": 5,
   "metadata": {},
   "outputs": [],
   "source": [
    "def orient_parcels(n162_ras, parcels):\n",
    "    n = parcels.numpy()\n",
    "    n = n.transpose(0, 2, 1)\n",
    "    parcels_xf = n162_ras.new_image_like(n)\n",
    "    return parcels_xf"
   ]
  },
  {
   "cell_type": "code",
   "execution_count": 6,
   "metadata": {},
   "outputs": [],
   "source": [
    "parcels_172_ras = orient_parcels(n162_ras, parcels_172)\n",
    "parcels_172_ras.to_file(f'{BASE_path}/n162_parcellations/172_parcels_RAS.nii.gz')\n",
    "\n",
    "parcels_56_ras = orient_parcels(n162_ras, parcels_56)\n",
    "parcels_56_ras.to_file(f'{BASE_path}/n162_parcellations/56_parcels_RAS.nii.gz')"
   ]
  },
  {
   "cell_type": "code",
   "execution_count": 7,
   "metadata": {},
   "outputs": [
    {
     "name": "stderr",
     "output_type": "stream",
     "text": [
      "116it [00:00, 361.92it/s]\n"
     ]
    }
   ],
   "source": [
    "# common brain mask (across subs)\n",
    "BASE_path = f'{os.environ[\"HOME\"]}/mouse_dataset'\n",
    "all_files_path = f'{BASE_path}/voxel/all_file_collections'\n",
    "all_files = os.listdir(all_files_path)\n",
    "\n",
    "# cmask : common brain mask\n",
    "for idx, files in tqdm(enumerate(all_files[:])):\n",
    "    if idx == 0:\n",
    "        with open(f'{all_files_path}/{files}', 'r') as f:\n",
    "            cmask_img = ants.image_read(f.readlines()[1][:-1])\n",
    "        cmask = cmask_img.numpy()\n",
    "    else:\n",
    "        with open(f'{all_files_path}/{files}', 'r') as f:\n",
    "            cmask *= ants.image_read(f.readlines()[1][:-1]).numpy()\n",
    "cmask_img = cmask_img.new_image_like(cmask)\n",
    "cmask_img.to_filename(\n",
    "    f'{BASE_path}/voxel/common_brain_mask.nii.gz'\n",
    ")"
   ]
  },
  {
   "cell_type": "code",
   "execution_count": 8,
   "metadata": {},
   "outputs": [],
   "source": [
    "def resample(args, target, img):\n",
    "    img_rs = ants.resample_image_to_target(\n",
    "        image=img,\n",
    "        target=target,\n",
    "        interp_type='genericLabel',\n",
    "    )\n",
    "    img_rs = img_rs.new_image_like(\n",
    "        data=img_rs.numpy() * (target.numpy() > 0)\n",
    "    )\n",
    "    print(img_rs.numpy().shape)\n",
    "    return img_rs"
   ]
  },
  {
   "cell_type": "code",
   "execution_count": 9,
   "metadata": {},
   "outputs": [],
   "source": [
    "# isocortex + subcortex rois\n",
    "rois_172 = np.arange(1, 173, 1)\n",
    "iso_rois_172 = np.array(\n",
    "    list(range(1, 44)) +\n",
    "    list(range(88, 130))\n",
    ")\n",
    "sub_rois_172 = np.array(\n",
    "    list(range(47, 87)) +\n",
    "    list(range(133, 173))\n",
    ")\n",
    "# print(iso_rois_172, sub_rois_172)\n",
    "\n",
    "rois_56 = np.arange(1, 57, 1)\n",
    "iso_rois_56 = np.array(\n",
    "    list(range(1, 18)) +\n",
    "    list(range(29, 46))\n",
    ")\n",
    "sub_rois_56 = np.array(\n",
    "    list(range(19, 29)) + \n",
    "    list(range(47, 57))\n",
    ")\n",
    "# print(iso_rois_56, sub_rois_56)"
   ]
  },
  {
   "cell_type": "code",
   "execution_count": 10,
   "metadata": {},
   "outputs": [],
   "source": [
    "def create_sub_parcels(parcels, rois, name):\n",
    "    parcels_new = np.zeros_like(parcels.numpy())\n",
    "    for roi in rois:\n",
    "        parcels_new += roi * (parcels.numpy() == roi)\n",
    "    parcels_new_img = parcels.new_image_like(\n",
    "        data=parcels_new,\n",
    "    )\n",
    "    return parcels_new_img\n",
    "\n",
    "parcels_172_iso_img = create_sub_parcels(parcels_172_ras, iso_rois_172, '172_parcels_RAS_iso')\n",
    "parcels_172_sub_img = create_sub_parcels(parcels_172_ras, sub_rois_172, '172_parcels_RAS_sub')\n",
    "\n",
    "parcels_56_iso_img = create_sub_parcels(parcels_56_ras, iso_rois_56, '56_parcels_RAS_iso')\n",
    "parcels_56_sub_img = create_sub_parcels(parcels_56_ras, sub_rois_56, '56_parcels_RAS_sub')"
   ]
  },
  {
   "cell_type": "code",
   "execution_count": 11,
   "metadata": {},
   "outputs": [],
   "source": [
    "def save_parcels(args, parcels, base_parcels, cmask_img):\n",
    "    parcels_name = (\n",
    "        f'type-{args.type}'\n",
    "        f'_size-{args.roi_size}'\n",
    "        f'_symm-{args.maintain_symmetry}'\n",
    "        f'_braindiv-{args.brain_div}'\n",
    "        f'_nrois-{args.num_rois}'\n",
    "        f'_desc-parcels.nii.gz'\n",
    "    )\n",
    "    file = f'{PARCELS_path}/{parcels_name}'\n",
    "    PARCELS_img = base_parcels.new_image_like(parcels.astype(np.uint32))\n",
    "    PARCELS_cm_img = resample(args, target=cmask_img, img=PARCELS_img)\n",
    "    PARCELS_cm_img.to_filename(file)\n",
    "    return file\n",
    "\n",
    "def roi_labels(args, mask_file):\n",
    "    # file with roi labels\n",
    "    labels_name = (\n",
    "        f'type-{args.type}'\n",
    "        f'_size-{args.roi_size}'\n",
    "        f'_symm-{args.maintain_symmetry}'\n",
    "        f'_braindiv-{args.brain_div}'\n",
    "        f'_nrois-{args.num_rois}'\n",
    "        f'_desc-labels.txt'\n",
    "    )\n",
    "    cmd = (\n",
    "        f'3dROIstats -overwrite '\n",
    "        f'-quiet '\n",
    "        f'-mask {mask_file} '\n",
    "        f'{mask_file} > {PARCELS_path}/{labels_name}'\n",
    "    )\n",
    "    os.system(cmd)\n",
    "    return None\n",
    "\n",
    "def roi_names(args, roi_names_df, labels):\n",
    "    roi_names_df = roi_names_df[roi_names_df['roi'].isin(labels)]\n",
    "    roi_names = list(zip(\n",
    "        roi_names_df['roi'], roi_names_df['label']\n",
    "    ))\n",
    "    \n",
    "    file_name = (\n",
    "        f'type-{args.type}'\n",
    "        f'_size-{args.roi_size}'\n",
    "        f'_symm-{args.maintain_symmetry}'\n",
    "        f'_braindiv-{args.brain_div}'\n",
    "        f'_nrois-{args.num_rois}'\n",
    "        f'_desc-names.csv'\n",
    "    )\n",
    "\n",
    "    with open(f'{PARCELS_path}/{file_name}', 'w', newline='') as f:\n",
    "        wr = csv.writer(f, delimiter='\\t')\n",
    "        wr.writerows(roi_names)\n",
    "    \n",
    "    return None"
   ]
  },
  {
   "cell_type": "code",
   "execution_count": 12,
   "metadata": {},
   "outputs": [
    {
     "name": "stdout",
     "output_type": "stream",
     "text": [
      "(58, 79, 45)\n",
      "(58, 79, 45)\n",
      "(58, 79, 45)\n",
      "(58, 79, 45)\n",
      "(58, 79, 45)\n",
      "(58, 79, 45)\n"
     ]
    }
   ],
   "source": [
    "args.type = 'allen'\n",
    "args.roi_size = 'x'\n",
    "args.maintain_symmetry = 'True'\n",
    "\n",
    "# 172 rois\n",
    "parcels_img = parcels_172_ras\n",
    "args.brain_div = 'whl'\n",
    "args.num_rois = len(np.unique(parcels_img.numpy())[1:])\n",
    "file = save_parcels(args, parcels_img.numpy(), parcels_img, cmask_img)\n",
    "roi_labels(args, file)\n",
    "roi_names(args, roi_names_172, rois_172)\n",
    "\n",
    "parcels_img = parcels_172_iso_img\n",
    "args.brain_div = 'ctx'\n",
    "args.num_rois = len(np.unique(parcels_img.numpy())[1:])\n",
    "file = save_parcels(args, parcels_img.numpy(), parcels_img, cmask_img)\n",
    "roi_labels(args, file)\n",
    "roi_names(args, roi_names_172, iso_rois_172)\n",
    "\n",
    "parcels_img = parcels_172_sub_img\n",
    "args.brain_div = 'sub'\n",
    "args.num_rois = len(np.unique(parcels_img.numpy())[1:])\n",
    "file = save_parcels(args, parcels_img.numpy(), parcels_img, cmask_img)\n",
    "roi_labels(args, file)\n",
    "roi_names(args, roi_names_172, sub_rois_172)\n",
    "\n",
    "# 56 rois\n",
    "parcels_img = parcels_56_ras\n",
    "args.brain_div = 'whl'\n",
    "args.num_rois = len(np.unique(parcels_img.numpy())[1:])\n",
    "file = save_parcels(args, parcels_img.numpy(), parcels_img, cmask_img)\n",
    "roi_labels(args, file)\n",
    "roi_names(args, roi_names_56, rois_56)\n",
    "\n",
    "parcels_img = parcels_56_iso_img\n",
    "args.brain_div = 'ctx'\n",
    "args.num_rois = len(np.unique(parcels_img.numpy())[1:])\n",
    "file = save_parcels(args, parcels_img.numpy(), parcels_img, cmask_img)\n",
    "roi_labels(args, file)\n",
    "roi_names(args, roi_names_56, iso_rois_56)\n",
    "\n",
    "parcels_img = parcels_56_sub_img\n",
    "args.brain_div = 'sub'\n",
    "args.num_rois = len(np.unique(parcels_img.numpy())[1:])\n",
    "file = save_parcels(args, parcels_img.numpy(), parcels_img, cmask_img)\n",
    "roi_labels(args, file)\n",
    "roi_names(args, roi_names_56, sub_rois_56)"
   ]
  }
 ],
 "metadata": {
  "kernelspec": {
   "display_name": "nw_estim",
   "language": "python",
   "name": "python3"
  },
  "language_info": {
   "codemirror_mode": {
    "name": "ipython",
    "version": 3
   },
   "file_extension": ".py",
   "mimetype": "text/x-python",
   "name": "python",
   "nbconvert_exporter": "python",
   "pygments_lexer": "ipython3",
   "version": "3.9.19"
  }
 },
 "nbformat": 4,
 "nbformat_minor": 2
}
