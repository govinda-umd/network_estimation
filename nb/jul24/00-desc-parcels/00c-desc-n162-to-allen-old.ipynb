{
 "cells": [
  {
   "cell_type": "markdown",
   "metadata": {},
   "source": [
    "# Oct 21, 2024: transform N162 template to the Allen CCFv3 template"
   ]
  },
  {
   "cell_type": "code",
   "execution_count": 1,
   "metadata": {},
   "outputs": [],
   "source": [
    "import csv \n",
    "import os\n",
    "import numpy as np\n",
    "import pandas as pd\n",
    "import ants\n",
    "import seaborn as sns\n",
    "import dill as pickle \n",
    "import shutil\n",
    "import glob\n",
    "\n",
    "from sklearn.cluster import KMeans\n",
    "from tqdm import tqdm\n",
    "from copy import deepcopy\n",
    "\n",
    "# ignore user warnings\n",
    "import warnings\n",
    "warnings.filterwarnings(\"ignore\") #, category=UserWarning)"
   ]
  },
  {
   "cell_type": "code",
   "execution_count": 2,
   "metadata": {},
   "outputs": [],
   "source": [
    "class ARGS():\n",
    "    pass\n",
    "\n",
    "args = ARGS()\n",
    "\n",
    "args.SEED = 100"
   ]
  },
  {
   "cell_type": "code",
   "execution_count": 3,
   "metadata": {},
   "outputs": [
    {
     "data": {
      "text/plain": [
       "0"
      ]
     },
     "execution_count": 3,
     "metadata": {},
     "output_type": "execute_result"
    }
   ],
   "source": [
    "BASE_path = f'{os.environ[\"HOME\"]}/mouse_dataset'\n",
    "os.system(f'mkdir -p {BASE_path}/yale_to_orig_template')"
   ]
  },
  {
   "cell_type": "code",
   "execution_count": 4,
   "metadata": {},
   "outputs": [
    {
     "data": {
      "text/plain": [
       "ANTsImage (LPI)\n",
       "\t Pixel Type : float (float32)\n",
       "\t Components : 1\n",
       "\t Dimensions : (60, 46, 81)\n",
       "\t Spacing    : (0.2, 0.2, 0.2)\n",
       "\t Origin     : (18.2, 2.8, -7.8)\n",
       "\t Direction  : [-1.  0.  0.  0. -1.  0.  0.  0.  1.]"
      ]
     },
     "execution_count": 4,
     "metadata": {},
     "output_type": "execute_result"
    }
   ],
   "source": [
    "yale_template_lpi_file = f'/home/govindas/new_mouse_dataset/data/Symmetric_N162_0.20.nii.gz'\n",
    "yale_template_lpi_img = ants.image_read(yale_template_lpi_file)\n",
    "yale_template_lpi = yale_template_lpi_img.numpy()\n",
    "yale_template_lpi_img"
   ]
  },
  {
   "cell_type": "code",
   "execution_count": 5,
   "metadata": {},
   "outputs": [
    {
     "data": {
      "text/plain": [
       "ANTsImage (LPI)\n",
       "\t Pixel Type : float (float32)\n",
       "\t Components : 1\n",
       "\t Dimensions : (60, 81, 46)\n",
       "\t Spacing    : (0.2, 0.2, 0.2)\n",
       "\t Origin     : (18.2, 2.8, -7.8)\n",
       "\t Direction  : [-1.  0.  0.  0. -1.  0.  0.  0.  1.]"
      ]
     },
     "execution_count": 5,
     "metadata": {},
     "output_type": "execute_result"
    }
   ],
   "source": [
    "yale_template_ras_file = f'/home/govindas/new_mouse_dataset/data/Symmetric_N162_0.20_RAS.nii.gz'\n",
    "yale_template_ras_img = ants.image_read(yale_template_ras_file)\n",
    "yale_template_ras = yale_template_ras_img.numpy()\n",
    "yale_template_ras_img"
   ]
  },
  {
   "cell_type": "code",
   "execution_count": 6,
   "metadata": {},
   "outputs": [
    {
     "data": {
      "text/plain": [
       "ANTsImage (LPI)\n",
       "\t Pixel Type : float (float32)\n",
       "\t Components : 1\n",
       "\t Dimensions : (118, 160, 90)\n",
       "\t Spacing    : (0.1, 0.1, 0.1)\n",
       "\t Origin     : (18.1, 2.7, -7.8)\n",
       "\t Direction  : [-1.  0.  0.  0. -1.  0.  0.  0.  1.]"
      ]
     },
     "metadata": {},
     "output_type": "display_data"
    },
    {
     "data": {
      "text/plain": [
       "ANTsImage (LPI)\n",
       "\t Pixel Type : float (float32)\n",
       "\t Components : 1\n",
       "\t Dimensions : (118, 160, 90)\n",
       "\t Spacing    : (0.1, 0.1, 0.1)\n",
       "\t Origin     : (18.1, 2.7, -7.8)\n",
       "\t Direction  : [-1.  0.  0.  0. -1.  0.  0.  0.  1.]"
      ]
     },
     "metadata": {},
     "output_type": "display_data"
    },
    {
     "data": {
      "text/plain": [
       "(None, None)"
      ]
     },
     "execution_count": 6,
     "metadata": {},
     "output_type": "execute_result"
    }
   ],
   "source": [
    "yale_template_file = f'{BASE_path}/gabe_resampled_DSURQE/DSURQE_average_to_N162_RAS.nii.gz'\n",
    "yale_template_img = ants.image_read(yale_template_file)\n",
    "yale_template = yale_template_img.numpy()\n",
    "\n",
    "yale_mask_file = f'{BASE_path}/gabe_resampled_DSURQE/DSURQE_mask_to_N162_RAS.nii.gz'\n",
    "yale_mask_img = ants.image_read(yale_mask_file)\n",
    "yale_mask = yale_mask_img.numpy()\n",
    "\n",
    "yale_template *= yale_mask\n",
    "yale_template_img = yale_template_img.new_image_like(yale_template)\n",
    "yale_template_img.to_file(f'{BASE_path}/gabe_resampled_DSURQE/DSURQE_average_to_N162_RAS_masked.nii.gz')\n",
    "\n",
    "display(yale_template_img), display(yale_mask_img)"
   ]
  },
  {
   "cell_type": "code",
   "execution_count": 26,
   "metadata": {},
   "outputs": [
    {
     "data": {
      "text/plain": [
       "ANTsImage (LPI)\n",
       "\t Pixel Type : float (float32)\n",
       "\t Components : 1\n",
       "\t Dimensions : (63, 96, 48)\n",
       "\t Spacing    : (0.2, 0.2, 0.2)\n",
       "\t Origin     : (6.27, 10.6, -7.88)\n",
       "\t Direction  : [-1.  0.  0.  0. -1.  0.  0.  0.  1.]"
      ]
     },
     "metadata": {},
     "output_type": "display_data"
    }
   ],
   "source": [
    "orig_template_file = f'{BASE_path}/mouse-brain-templates-0.5.3/dsurqec_200micron_masked.nii'\n",
    "orig_template_img = ants.image_read(orig_template_file)\n",
    "orig_template = orig_template_img.numpy()\n",
    "\n",
    "orig_template_img.to_file(f'{BASE_path}/yale_to_orig_template/original_template.nii.gz')\n",
    "\n",
    "display(orig_template_img)"
   ]
  },
  {
   "cell_type": "code",
   "execution_count": 8,
   "metadata": {},
   "outputs": [
    {
     "data": {
      "text/plain": [
       "ANTsImage (LPI)\n",
       "\t Pixel Type : float (float32)\n",
       "\t Components : 1\n",
       "\t Dimensions : (60, 81, 46)\n",
       "\t Spacing    : (0.2, 0.2, 0.2)\n",
       "\t Origin     : (18.2, 2.8, -7.8)\n",
       "\t Direction  : [-1.  0.  0.  0. -1.  0.  0.  0.  1.]"
      ]
     },
     "execution_count": 8,
     "metadata": {},
     "output_type": "execute_result"
    }
   ],
   "source": [
    "# resample dsurqe template to 200um\n",
    "os.system('export ITK_GLOBAL_DEFAULT_NUMBER_OF_THREADS=1')\n",
    "os.system('export ANTS_RANDOM_SEED=1')\n",
    "\n",
    "yale_template_rs_img = ants.resample_image_to_target(\n",
    "    image=yale_template_img,\n",
    "    target=yale_template_ras_img,\n",
    ")\n",
    "yale_template_rs_img"
   ]
  },
  {
   "cell_type": "code",
   "execution_count": 9,
   "metadata": {},
   "outputs": [],
   "source": [
    "# linear registration\n",
    "os.system('export ITK_GLOBAL_DEFAULT_NUMBER_OF_THREADS=1')\n",
    "os.system('export ANTS_RANDOM_SEED=1')\n",
    "\n",
    "tx_trsaa = ants.registration(\n",
    "    fixed=orig_template_img,\n",
    "    moving=yale_template_rs_img, \n",
    "    type_of_transform='TRSAA',\n",
    "    random_seed=args.SEED,\n",
    ")"
   ]
  },
  {
   "cell_type": "code",
   "execution_count": 10,
   "metadata": {},
   "outputs": [
    {
     "data": {
      "text/plain": [
       "ANTsImage (LPI)\n",
       "\t Pixel Type : float (float32)\n",
       "\t Components : 1\n",
       "\t Dimensions : (63, 96, 48)\n",
       "\t Spacing    : (0.2, 0.2, 0.2)\n",
       "\t Origin     : (6.27, 10.6, -7.88)\n",
       "\t Direction  : [-1.  0.  0.  0. -1.  0.  0.  0.  1.]"
      ]
     },
     "execution_count": 10,
     "metadata": {},
     "output_type": "execute_result"
    }
   ],
   "source": [
    "yale_template_tx_img = ants.apply_transforms(\n",
    "    fixed=orig_template_img,\n",
    "    moving=yale_template_rs_img,\n",
    "    transformlist=tx_trsaa['fwdtransforms'],\n",
    "    interpolator='linear',\n",
    ")\n",
    "yale_template_tx_img"
   ]
  },
  {
   "cell_type": "code",
   "execution_count": 11,
   "metadata": {},
   "outputs": [],
   "source": [
    "yale_template_tx_img.to_file(f'{BASE_path}/yale_to_orig_template/yale_template_tx_lin.nii.gz')"
   ]
  },
  {
   "cell_type": "code",
   "execution_count": 12,
   "metadata": {},
   "outputs": [],
   "source": [
    "# non linear registration\n",
    "os.system('export ITK_GLOBAL_DEFAULT_NUMBER_OF_THREADS=1')\n",
    "os.system('export ANTS_RANDOM_SEED=1')\n",
    "\n",
    "tx_syn = ants.registration(\n",
    "    fixed=orig_template_img,\n",
    "    moving=yale_template_tx_img,\n",
    "    type_of_transform='SyN',\n",
    "    random_seed=args.SEED,\n",
    ")"
   ]
  },
  {
   "cell_type": "code",
   "execution_count": 13,
   "metadata": {},
   "outputs": [
    {
     "data": {
      "text/plain": [
       "ANTsImage (LPI)\n",
       "\t Pixel Type : float (float32)\n",
       "\t Components : 1\n",
       "\t Dimensions : (63, 96, 48)\n",
       "\t Spacing    : (0.2, 0.2, 0.2)\n",
       "\t Origin     : (6.27, 10.6, -7.88)\n",
       "\t Direction  : [-1.  0.  0.  0. -1.  0.  0.  0.  1.]"
      ]
     },
     "execution_count": 13,
     "metadata": {},
     "output_type": "execute_result"
    }
   ],
   "source": [
    "yale_template_tx_img = ants.apply_transforms(\n",
    "    fixed=orig_template_img,\n",
    "    moving=yale_template_tx_img,\n",
    "    transformlist=tx_syn['fwdtransforms'],\n",
    "    interpolator='linear',\n",
    ")\n",
    "yale_template_tx_img"
   ]
  },
  {
   "cell_type": "code",
   "execution_count": 14,
   "metadata": {},
   "outputs": [],
   "source": [
    "yale_template_tx_img.to_file(f'{BASE_path}/yale_to_orig_template/yale_template_tx_nonlin.nii.gz')"
   ]
  },
  {
   "cell_type": "code",
   "execution_count": 15,
   "metadata": {},
   "outputs": [
    {
     "data": {
      "text/plain": [
       "(0.0, 1.0)"
      ]
     },
     "execution_count": 15,
     "metadata": {},
     "output_type": "execute_result"
    }
   ],
   "source": [
    "yale_mask_img = yale_template_tx_img.get_mask()\n",
    "yale_mask_img.to_file(f'{BASE_path}/yale_to_orig_template/yale_template_tx_nonlin_mask.nii.gz')\n",
    "yale_mask = yale_mask_img.numpy()\n",
    "np.min(yale_mask), np.max(yale_mask)"
   ]
  },
  {
   "cell_type": "code",
   "execution_count": 16,
   "metadata": {},
   "outputs": [],
   "source": [
    "orig_mask_img = orig_template_img.get_mask()\n",
    "orig_mask_img.to_file(f'{BASE_path}/yale_to_orig_template/orig_template_mask.nii.gz')"
   ]
  },
  {
   "cell_type": "code",
   "execution_count": 17,
   "metadata": {},
   "outputs": [],
   "source": [
    "# save transforms\n",
    "import shutil\n",
    "for idx, tx in enumerate(tx_trsaa['fwdtransforms']):\n",
    "    endswith = '.'.join(tx.split('.')[1:])\n",
    "    shutil.copy2(tx, f'{BASE_path}/yale_to_orig_template/transformation_lin{idx:02d}.{endswith}')\n",
    "\n",
    "for idx, tx in enumerate(tx_syn['fwdtransforms']):\n",
    "    endswith = '.'.join(tx.split('.')[1:])\n",
    "    shutil.copy2(tx, f'{BASE_path}/yale_to_orig_template/transformation_nonlin{idx:02d}.{endswith}')"
   ]
  },
  {
   "cell_type": "code",
   "execution_count": 18,
   "metadata": {},
   "outputs": [],
   "source": [
    "txs_list = sorted(glob.glob(f'{BASE_path}/yale_to_orig_template/transformation*', recursive=True))"
   ]
  },
  {
   "cell_type": "code",
   "execution_count": 19,
   "metadata": {},
   "outputs": [],
   "source": [
    "# transform image to the original space"
   ]
  },
  {
   "cell_type": "code",
   "execution_count": 20,
   "metadata": {},
   "outputs": [],
   "source": [
    "func_img = yale_template_lpi_img"
   ]
  },
  {
   "cell_type": "code",
   "execution_count": 24,
   "metadata": {},
   "outputs": [
    {
     "data": {
      "text/plain": [
       "ANTsImage (LPI)\n",
       "\t Pixel Type : float (float32)\n",
       "\t Components : 1\n",
       "\t Dimensions : (60, 81, 46)\n",
       "\t Spacing    : (0.2, 0.2, 0.2)\n",
       "\t Origin     : (18.2, 2.8, -7.8)\n",
       "\t Direction  : [-1.  0.  0.  0. -1.  0.  0.  0.  1.]"
      ]
     },
     "execution_count": 24,
     "metadata": {},
     "output_type": "execute_result"
    }
   ],
   "source": [
    "# reorient to ras orientation\n",
    "func = func_img.numpy()\n",
    "func = func.transpose(0, 2, 1)\n",
    "func_ro_img = yale_template_ras_img.new_image_like(func)\n",
    "func_ro_img"
   ]
  },
  {
   "cell_type": "code",
   "execution_count": 25,
   "metadata": {},
   "outputs": [
    {
     "data": {
      "text/plain": [
       "ANTsImage (LPI)\n",
       "\t Pixel Type : float (float32)\n",
       "\t Components : 1\n",
       "\t Dimensions : (63, 96, 48)\n",
       "\t Spacing    : (0.2, 0.2, 0.2)\n",
       "\t Origin     : (6.27, 10.6, -7.88)\n",
       "\t Direction  : [-1.  0.  0.  0. -1.  0.  0.  0.  1.]"
      ]
     },
     "execution_count": 25,
     "metadata": {},
     "output_type": "execute_result"
    }
   ],
   "source": [
    "func_ro_tx_img = ants.apply_transforms(\n",
    "    fixed=orig_template_img,\n",
    "    moving=func_ro_img,\n",
    "    transformlist=txs_list,\n",
    "    interpolator='linear',\n",
    ")\n",
    "func_ro_tx_img.to_file(f'{BASE_path}/yale_to_orig_template/yale_template_tx_test.nii.gz')\n",
    "func_ro_tx_img"
   ]
  }
 ],
 "metadata": {
  "kernelspec": {
   "display_name": "gt",
   "language": "python",
   "name": "python3"
  },
  "language_info": {
   "codemirror_mode": {
    "name": "ipython",
    "version": 3
   },
   "file_extension": ".py",
   "mimetype": "text/x-python",
   "name": "python",
   "nbconvert_exporter": "python",
   "pygments_lexer": "ipython3",
   "version": "3.9.19"
  }
 },
 "nbformat": 4,
 "nbformat_minor": 2
}
