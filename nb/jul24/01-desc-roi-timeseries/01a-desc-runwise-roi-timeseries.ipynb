{
 "cells": [
  {
   "cell_type": "markdown",
   "metadata": {},
   "source": [
    "# June 15, 2024: create roi timeseries, runwise"
   ]
  },
  {
   "cell_type": "code",
   "execution_count": 1,
   "metadata": {},
   "outputs": [],
   "source": [
    "import csv\n",
    "import os\n",
    "import sys\n",
    "import numpy as np\n",
    "import pandas as pd\n",
    "import scipy as sp \n",
    "import pickle \n",
    "from os.path import join as pjoin\n",
    "from itertools import product\n",
    "from tqdm import tqdm\n",
    "from copy import deepcopy\n",
    "from pathlib import Path\n",
    "import subprocess\n",
    "from scipy import sparse, stats\n",
    "from multiprocessing import Pool\n",
    "import glob\n",
    "\n",
    "# networks\n",
    "import graph_tool.all as gt\n",
    "\n",
    "# plotting\n",
    "import matplotlib as mpl\n",
    "import matplotlib.pyplot as plt\n",
    "import seaborn as sns\n",
    "from mpl_toolkits.mplot3d import Axes3D\n",
    "from matplotlib.cm import rainbow\n",
    "\n",
    "plt.rcParamsDefault['font.family'] = \"sans-serif\"\n",
    "plt.rcParamsDefault['font.sans-serif'] = \"Arial\"\n",
    "plt.rcParams['font.size'] = 14\n",
    "plt.rcParams[\"errorbar.capsize\"] = 0.5\n",
    "\n",
    "import cmasher as cmr  # CITE ITS PAPER IN YOUR MANUSCRIPT\n",
    "\n",
    "# ignore user warnings\n",
    "import warnings\n",
    "warnings.filterwarnings(\"ignore\") #, category=UserWarning)"
   ]
  },
  {
   "cell_type": "code",
   "execution_count": 2,
   "metadata": {},
   "outputs": [],
   "source": [
    "class ARGS():\n",
    "    pass\n",
    "\n",
    "args = ARGS()\n",
    "\n",
    "args.SEED = 100"
   ]
  },
  {
   "cell_type": "code",
   "execution_count": 3,
   "metadata": {},
   "outputs": [
    {
     "data": {
      "text/plain": [
       "0"
      ]
     },
     "execution_count": 3,
     "metadata": {},
     "output_type": "execute_result"
    }
   ],
   "source": [
    "args.type = 'spatial'\n",
    "args.roi_size = 225\n",
    "args.maintain_symmetry = True\n",
    "args.brain_div = 'whl'\n",
    "args.num_rois = 162\n",
    "\n",
    "PARC_DESC = (\n",
    "    f'type-{args.type}'\n",
    "    f'_size-{args.roi_size}'\n",
    "    f'_symm-{args.maintain_symmetry}'\n",
    "    f'_braindiv-{args.brain_div}'\n",
    "    f'_nrois-{args.num_rois}'\n",
    ")\n",
    "\n",
    "BASE_path = f'{os.environ[\"HOME\"]}/mouse_dataset/roi_results_v2'\n",
    "ROI_path = f'{BASE_path}/{PARC_DESC}'\n",
    "TS_path = f'{ROI_path}/runwise_timeseries'\n",
    "os.system(f'mkdir -p {TS_path}')"
   ]
  },
  {
   "cell_type": "code",
   "execution_count": 4,
   "metadata": {},
   "outputs": [
    {
     "name": "stdout",
     "output_type": "stream",
     "text": [
      "sub-SLC01_ses-2_run-1_task-rest_desc-roi-ts\n"
     ]
    },
    {
     "name": "stderr",
     "output_type": "stream",
     "text": [
      "++ 3dcalc: AFNI version=AFNI_20.2.18 (Sep 17 2020) [64-bit]\n",
      "++ Authored by: A cast of thousands\n",
      "** AFNI converts NIFTI_datatype=64 (FLOAT64) in file /mnt/stor1/govindas/mouse_dataset/voxel/cleaned_timeseries/_split_name_sub-SLC01_ses-2_task-rest_run-1_bold/sub-SLC01_ses-2_task-rest_run-1_bold_combined_cleaned.nii.gz to FLOAT32\n",
      "     Warnings of this type will be muted for this session.\n",
      "     Set AFNI_NIFTI_TYPE_WARN to YES to see them all, NO to see none.\n",
      "++ Output dataset /home/govindas/mouse_dataset/roi_results_v2/type-spatial_size-225_symm-True_braindiv-whl_nrois-162/runwise_timeseries/sub-SLC01_ses-2_run-1_task-rest_desc-roi-ts.nii.gz\n"
     ]
    },
    {
     "name": "stdout",
     "output_type": "stream",
     "text": [
      "sub-SLC01_ses-3_run-3_task-rest_desc-roi-ts\n",
      "sub-SLC01_ses-1_run-3_task-rest_desc-roi-ts\n"
     ]
    },
    {
     "name": "stderr",
     "output_type": "stream",
     "text": [
      "++ 3dcalc: AFNI version=AFNI_20.2.18 (Sep 17 2020) [64-bit]\n",
      "++ Authored by: A cast of thousands\n",
      "** AFNI converts NIFTI_datatype=64 (FLOAT64) in file /mnt/stor1/govindas/mouse_dataset/voxel/cleaned_timeseries/_split_name_sub-SLC01_ses-3_task-rest_run-3_bold/sub-SLC01_ses-3_task-rest_run-3_bold_combined_cleaned.nii.gz to FLOAT32\n",
      "     Warnings of this type will be muted for this session.\n",
      "     Set AFNI_NIFTI_TYPE_WARN to YES to see them all, NO to see none.\n",
      "++ Output dataset /home/govindas/mouse_dataset/roi_results_v2/type-spatial_size-225_symm-True_braindiv-whl_nrois-162/runwise_timeseries/sub-SLC01_ses-3_run-3_task-rest_desc-roi-ts.nii.gz\n",
      "++ 3dcalc: AFNI version=AFNI_20.2.18 (Sep 17 2020) [64-bit]\n",
      "++ Authored by: A cast of thousands\n",
      "** AFNI converts NIFTI_datatype=64 (FLOAT64) in file /mnt/stor1/govindas/mouse_dataset/voxel/cleaned_timeseries/_split_name_sub-SLC01_ses-1_task-rest_run-3_bold/sub-SLC01_ses-1_task-rest_run-3_bold_combined_cleaned.nii.gz to FLOAT32\n",
      "     Warnings of this type will be muted for this session.\n",
      "     Set AFNI_NIFTI_TYPE_WARN to YES to see them all, NO to see none.\n",
      "++ Output dataset /home/govindas/mouse_dataset/roi_results_v2/type-spatial_size-225_symm-True_braindiv-whl_nrois-162/runwise_timeseries/sub-SLC01_ses-1_run-3_task-rest_desc-roi-ts.nii.gz\n"
     ]
    },
    {
     "name": "stdout",
     "output_type": "stream",
     "text": [
      "sub-SLC01_ses-2_run-7_task-rest_desc-roi-ts\n"
     ]
    },
    {
     "name": "stderr",
     "output_type": "stream",
     "text": [
      "++ 3dcalc: AFNI version=AFNI_20.2.18 (Sep 17 2020) [64-bit]\n",
      "++ Authored by: A cast of thousands\n",
      "** AFNI converts NIFTI_datatype=64 (FLOAT64) in file /mnt/stor1/govindas/mouse_dataset/voxel/cleaned_timeseries/_split_name_sub-SLC01_ses-2_task-rest_run-7_bold/sub-SLC01_ses-2_task-rest_run-7_bold_combined_cleaned.nii.gz to FLOAT32\n",
      "     Warnings of this type will be muted for this session.\n",
      "     Set AFNI_NIFTI_TYPE_WARN to YES to see them all, NO to see none.\n",
      "++ Output dataset /home/govindas/mouse_dataset/roi_results_v2/type-spatial_size-225_symm-True_braindiv-whl_nrois-162/runwise_timeseries/sub-SLC01_ses-2_run-7_task-rest_desc-roi-ts.nii.gz\n"
     ]
    },
    {
     "name": "stdout",
     "output_type": "stream",
     "text": [
      "sub-SLC01_ses-1_run-5_task-rest_desc-roi-ts\n",
      "sub-SLC01_ses-1_run-7_task-rest_desc-roi-ts\n",
      "sub-SLC01_ses-2_run-3_task-rest_desc-roi-ts\n"
     ]
    },
    {
     "name": "stderr",
     "output_type": "stream",
     "text": [
      "++ 3dcalc: AFNI version=AFNI_20.2.18 (Sep 17 2020) [64-bit]\n",
      "++ Authored by: A cast of thousands\n",
      "** AFNI converts NIFTI_datatype=64 (FLOAT64) in file /mnt/stor1/govindas/mouse_dataset/voxel/cleaned_timeseries/_split_name_sub-SLC01_ses-1_task-rest_run-5_bold/sub-SLC01_ses-1_task-rest_run-5_bold_combined_cleaned.nii.gz to FLOAT32\n",
      "     Warnings of this type will be muted for this session.\n",
      "     Set AFNI_NIFTI_TYPE_WARN to YES to see them all, NO to see none.\n",
      "++ Output dataset /home/govindas/mouse_dataset/roi_results_v2/type-spatial_size-225_symm-True_braindiv-whl_nrois-162/runwise_timeseries/sub-SLC01_ses-1_run-5_task-rest_desc-roi-ts.nii.gz\n",
      "++ 3dcalc: AFNI version=AFNI_20.2.18 (Sep 17 2020) [64-bit]\n",
      "++ Authored by: A cast of thousands\n",
      "** AFNI converts NIFTI_datatype=64 (FLOAT64) in file /mnt/stor1/govindas/mouse_dataset/voxel/cleaned_timeseries/_split_name_sub-SLC01_ses-1_task-rest_run-7_bold/sub-SLC01_ses-1_task-rest_run-7_bold_combined_cleaned.nii.gz to FLOAT32\n",
      "     Warnings of this type will be muted for this session.\n",
      "     Set AFNI_NIFTI_TYPE_WARN to YES to see them all, NO to see none.\n",
      "++ Output dataset /home/govindas/mouse_dataset/roi_results_v2/type-spatial_size-225_symm-True_braindiv-whl_nrois-162/runwise_timeseries/sub-SLC01_ses-1_run-7_task-rest_desc-roi-ts.nii.gz\n",
      "++ 3dcalc: AFNI version=AFNI_20.2.18 (Sep 17 2020) [64-bit]\n",
      "++ Authored by: A cast of thousands\n",
      "** AFNI converts NIFTI_datatype=64 (FLOAT64) in file /mnt/stor1/govindas/mouse_dataset/voxel/cleaned_timeseries/_split_name_sub-SLC01_ses-2_task-rest_run-3_bold/sub-SLC01_ses-2_task-rest_run-3_bold_combined_cleaned.nii.gz to FLOAT32\n",
      "     Warnings of this type will be muted for this session.\n",
      "     Set AFNI_NIFTI_TYPE_WARN to YES to see them all, NO to see none.\n",
      "++ Output dataset /home/govindas/mouse_dataset/roi_results_v2/type-spatial_size-225_symm-True_braindiv-whl_nrois-162/runwise_timeseries/sub-SLC01_ses-2_run-3_task-rest_desc-roi-ts.nii.gz\n"
     ]
    },
    {
     "name": "stdout",
     "output_type": "stream",
     "text": [
      "sub-SLC01_ses-1_run-1_task-rest_desc-roi-ts\n",
      "sub-SLC01_ses-3_run-1_task-rest_desc-roi-ts\n"
     ]
    },
    {
     "name": "stderr",
     "output_type": "stream",
     "text": [
      "++ 3dcalc: AFNI version=AFNI_20.2.18 (Sep 17 2020) [64-bit]\n",
      "++ Authored by: A cast of thousands\n",
      "** AFNI converts NIFTI_datatype=64 (FLOAT64) in file /mnt/stor1/govindas/mouse_dataset/voxel/cleaned_timeseries/_split_name_sub-SLC01_ses-1_task-rest_run-1_bold/sub-SLC01_ses-1_task-rest_run-1_bold_combined_cleaned.nii.gz to FLOAT32\n",
      "     Warnings of this type will be muted for this session.\n",
      "     Set AFNI_NIFTI_TYPE_WARN to YES to see them all, NO to see none.\n",
      "++ Output dataset /home/govindas/mouse_dataset/roi_results_v2/type-spatial_size-225_symm-True_braindiv-whl_nrois-162/runwise_timeseries/sub-SLC01_ses-1_run-1_task-rest_desc-roi-ts.nii.gz\n",
      "++ 3dcalc: AFNI version=AFNI_20.2.18 (Sep 17 2020) [64-bit]\n",
      "++ Authored by: A cast of thousands\n",
      "** AFNI converts NIFTI_datatype=64 (FLOAT64) in file /mnt/stor1/govindas/mouse_dataset/voxel/cleaned_timeseries/_split_name_sub-SLC01_ses-3_task-rest_run-1_bold/sub-SLC01_ses-3_task-rest_run-1_bold_combined_cleaned.nii.gz to FLOAT32\n",
      "     Warnings of this type will be muted for this session.\n",
      "     Set AFNI_NIFTI_TYPE_WARN to YES to see them all, NO to see none.\n",
      "++ Output dataset /home/govindas/mouse_dataset/roi_results_v2/type-spatial_size-225_symm-True_braindiv-whl_nrois-162/runwise_timeseries/sub-SLC01_ses-3_run-1_task-rest_desc-roi-ts.nii.gz\n"
     ]
    },
    {
     "name": "stdout",
     "output_type": "stream",
     "text": [
      "sub-SLC01_ses-2_run-5_task-rest_desc-roi-ts\n"
     ]
    },
    {
     "name": "stderr",
     "output_type": "stream",
     "text": [
      "++ 3dcalc: AFNI version=AFNI_20.2.18 (Sep 17 2020) [64-bit]\n",
      "++ Authored by: A cast of thousands\n",
      "** AFNI converts NIFTI_datatype=64 (FLOAT64) in file /mnt/stor1/govindas/mouse_dataset/voxel/cleaned_timeseries/_split_name_sub-SLC01_ses-2_task-rest_run-5_bold/sub-SLC01_ses-2_task-rest_run-5_bold_combined_cleaned.nii.gz to FLOAT32\n",
      "     Warnings of this type will be muted for this session.\n",
      "     Set AFNI_NIFTI_TYPE_WARN to YES to see them all, NO to see none.\n",
      "++ Output dataset /home/govindas/mouse_dataset/roi_results_v2/type-spatial_size-225_symm-True_braindiv-whl_nrois-162/runwise_timeseries/sub-SLC01_ses-2_run-5_task-rest_desc-roi-ts.nii.gz\n"
     ]
    },
    {
     "name": "stdout",
     "output_type": "stream",
     "text": [
      "sub-SLC02_ses-2_run-5_task-rest_desc-roi-ts\n"
     ]
    },
    {
     "name": "stderr",
     "output_type": "stream",
     "text": [
      "++ 3dcalc: AFNI version=AFNI_20.2.18 (Sep 17 2020) [64-bit]\n",
      "++ Authored by: A cast of thousands\n",
      "** AFNI converts NIFTI_datatype=64 (FLOAT64) in file /mnt/stor1/govindas/mouse_dataset/voxel/cleaned_timeseries/_split_name_sub-SLC02_ses-2_task-rest_run-5_bold/sub-SLC02_ses-2_task-rest_run-5_bold_combined_cleaned.nii.gz to FLOAT32\n",
      "     Warnings of this type will be muted for this session.\n",
      "     Set AFNI_NIFTI_TYPE_WARN to YES to see them all, NO to see none.\n",
      "++ Output dataset /home/govindas/mouse_dataset/roi_results_v2/type-spatial_size-225_symm-True_braindiv-whl_nrois-162/runwise_timeseries/sub-SLC02_ses-2_run-5_task-rest_desc-roi-ts.nii.gz\n"
     ]
    },
    {
     "name": "stdout",
     "output_type": "stream",
     "text": [
      "sub-SLC01_ses-3_run-5_task-rest_desc-roi-ts\n"
     ]
    },
    {
     "name": "stderr",
     "output_type": "stream",
     "text": [
      "++ 3dcalc: AFNI version=AFNI_20.2.18 (Sep 17 2020) [64-bit]\n",
      "++ Authored by: A cast of thousands\n",
      "** AFNI converts NIFTI_datatype=64 (FLOAT64) in file /mnt/stor1/govindas/mouse_dataset/voxel/cleaned_timeseries/_split_name_sub-SLC01_ses-3_task-rest_run-5_bold/sub-SLC01_ses-3_task-rest_run-5_bold_combined_cleaned.nii.gz to FLOAT32\n",
      "     Warnings of this type will be muted for this session.\n",
      "     Set AFNI_NIFTI_TYPE_WARN to YES to see them all, NO to see none.\n",
      "++ Output dataset /home/govindas/mouse_dataset/roi_results_v2/type-spatial_size-225_symm-True_braindiv-whl_nrois-162/runwise_timeseries/sub-SLC01_ses-3_run-5_task-rest_desc-roi-ts.nii.gz\n"
     ]
    },
    {
     "name": "stdout",
     "output_type": "stream",
     "text": [
      "sub-SLC01_ses-3_run-7_task-rest_desc-roi-ts\n"
     ]
    },
    {
     "name": "stderr",
     "output_type": "stream",
     "text": [
      "++ 3dcalc: AFNI version=AFNI_20.2.18 (Sep 17 2020) [64-bit]\n",
      "++ Authored by: A cast of thousands\n",
      "** AFNI converts NIFTI_datatype=64 (FLOAT64) in file /mnt/stor1/govindas/mouse_dataset/voxel/cleaned_timeseries/_split_name_sub-SLC01_ses-3_task-rest_run-7_bold/sub-SLC01_ses-3_task-rest_run-7_bold_combined_cleaned.nii.gz to FLOAT32\n",
      "     Warnings of this type will be muted for this session.\n",
      "     Set AFNI_NIFTI_TYPE_WARN to YES to see them all, NO to see none.\n",
      "++ Output dataset /home/govindas/mouse_dataset/roi_results_v2/type-spatial_size-225_symm-True_braindiv-whl_nrois-162/runwise_timeseries/sub-SLC01_ses-3_run-7_task-rest_desc-roi-ts.nii.gz\n"
     ]
    },
    {
     "name": "stdout",
     "output_type": "stream",
     "text": [
      "sub-SLC02_ses-1_run-3_task-rest_desc-roi-ts\n"
     ]
    },
    {
     "name": "stderr",
     "output_type": "stream",
     "text": [
      "++ 3dcalc: AFNI version=AFNI_20.2.18 (Sep 17 2020) [64-bit]\n",
      "++ Authored by: A cast of thousands\n",
      "** AFNI converts NIFTI_datatype=64 (FLOAT64) in file /mnt/stor1/govindas/mouse_dataset/voxel/cleaned_timeseries/_split_name_sub-SLC02_ses-1_task-rest_run-3_bold/sub-SLC02_ses-1_task-rest_run-3_bold_combined_cleaned.nii.gz to FLOAT32\n",
      "     Warnings of this type will be muted for this session.\n",
      "     Set AFNI_NIFTI_TYPE_WARN to YES to see them all, NO to see none.\n",
      "++ Output dataset /home/govindas/mouse_dataset/roi_results_v2/type-spatial_size-225_symm-True_braindiv-whl_nrois-162/runwise_timeseries/sub-SLC02_ses-1_run-3_task-rest_desc-roi-ts.nii.gz\n"
     ]
    },
    {
     "name": "stdout",
     "output_type": "stream",
     "text": [
      "sub-SLC02_ses-1_run-1_task-rest_desc-roi-ts\n"
     ]
    },
    {
     "name": "stderr",
     "output_type": "stream",
     "text": [
      "++ 3dcalc: AFNI version=AFNI_20.2.18 (Sep 17 2020) [64-bit]\n",
      "++ Authored by: A cast of thousands\n",
      "** AFNI converts NIFTI_datatype=64 (FLOAT64) in file /mnt/stor1/govindas/mouse_dataset/voxel/cleaned_timeseries/_split_name_sub-SLC02_ses-1_task-rest_run-1_bold/sub-SLC02_ses-1_task-rest_run-1_bold_combined_cleaned.nii.gz to FLOAT32\n",
      "     Warnings of this type will be muted for this session.\n",
      "     Set AFNI_NIFTI_TYPE_WARN to YES to see them all, NO to see none.\n",
      "++ Output dataset /home/govindas/mouse_dataset/roi_results_v2/type-spatial_size-225_symm-True_braindiv-whl_nrois-162/runwise_timeseries/sub-SLC02_ses-1_run-1_task-rest_desc-roi-ts.nii.gz\n"
     ]
    },
    {
     "name": "stdout",
     "output_type": "stream",
     "text": [
      "sub-SLC02_ses-1_run-7_task-rest_desc-roi-ts\n"
     ]
    },
    {
     "name": "stderr",
     "output_type": "stream",
     "text": [
      "++ 3dcalc: AFNI version=AFNI_20.2.18 (Sep 17 2020) [64-bit]\n",
      "++ Authored by: A cast of thousands\n",
      "** AFNI converts NIFTI_datatype=64 (FLOAT64) in file /mnt/stor1/govindas/mouse_dataset/voxel/cleaned_timeseries/_split_name_sub-SLC02_ses-1_task-rest_run-7_bold/sub-SLC02_ses-1_task-rest_run-7_bold_combined_cleaned.nii.gz to FLOAT32\n",
      "     Warnings of this type will be muted for this session.\n",
      "     Set AFNI_NIFTI_TYPE_WARN to YES to see them all, NO to see none.\n",
      "++ Output dataset /home/govindas/mouse_dataset/roi_results_v2/type-spatial_size-225_symm-True_braindiv-whl_nrois-162/runwise_timeseries/sub-SLC02_ses-1_run-7_task-rest_desc-roi-ts.nii.gz\n"
     ]
    },
    {
     "name": "stdout",
     "output_type": "stream",
     "text": [
      "sub-SLC02_ses-2_run-3_task-rest_desc-roi-ts\n",
      "sub-SLC02_ses-1_run-5_task-rest_desc-roi-ts\n",
      "sub-SLC02_ses-2_run-1_task-rest_desc-roi-ts\n"
     ]
    },
    {
     "name": "stderr",
     "output_type": "stream",
     "text": [
      "++ 3dcalc: AFNI version=AFNI_20.2.18 (Sep 17 2020) [64-bit]\n",
      "++ Authored by: A cast of thousands\n",
      "** AFNI converts NIFTI_datatype=64 (FLOAT64) in file /mnt/stor1/govindas/mouse_dataset/voxel/cleaned_timeseries/_split_name_sub-SLC02_ses-2_task-rest_run-3_bold/sub-SLC02_ses-2_task-rest_run-3_bold_combined_cleaned.nii.gz to FLOAT32\n",
      "     Warnings of this type will be muted for this session.\n",
      "     Set AFNI_NIFTI_TYPE_WARN to YES to see them all, NO to see none.\n",
      "++ Output dataset /home/govindas/mouse_dataset/roi_results_v2/type-spatial_size-225_symm-True_braindiv-whl_nrois-162/runwise_timeseries/sub-SLC02_ses-2_run-3_task-rest_desc-roi-ts.nii.gz\n",
      "++ 3dcalc: AFNI version=AFNI_20.2.18 (Sep 17 2020) [64-bit]\n",
      "++ Authored by: A cast of thousands\n",
      "** AFNI converts NIFTI_datatype=64 (FLOAT64) in file /mnt/stor1/govindas/mouse_dataset/voxel/cleaned_timeseries/_split_name_sub-SLC02_ses-1_task-rest_run-5_bold/sub-SLC02_ses-1_task-rest_run-5_bold_combined_cleaned.nii.gz to FLOAT32\n",
      "     Warnings of this type will be muted for this session.\n",
      "     Set AFNI_NIFTI_TYPE_WARN to YES to see them all, NO to see none.\n",
      "++ Output dataset /home/govindas/mouse_dataset/roi_results_v2/type-spatial_size-225_symm-True_braindiv-whl_nrois-162/runwise_timeseries/sub-SLC02_ses-1_run-5_task-rest_desc-roi-ts.nii.gz\n",
      "++ 3dcalc: AFNI version=AFNI_20.2.18 (Sep 17 2020) [64-bit]\n",
      "++ Authored by: A cast of thousands\n",
      "** AFNI converts NIFTI_datatype=64 (FLOAT64) in file /mnt/stor1/govindas/mouse_dataset/voxel/cleaned_timeseries/_split_name_sub-SLC02_ses-2_task-rest_run-1_bold/sub-SLC02_ses-2_task-rest_run-1_bold_combined_cleaned.nii.gz to FLOAT32\n",
      "     Warnings of this type will be muted for this session.\n",
      "     Set AFNI_NIFTI_TYPE_WARN to YES to see them all, NO to see none.\n",
      "++ Output dataset /home/govindas/mouse_dataset/roi_results_v2/type-spatial_size-225_symm-True_braindiv-whl_nrois-162/runwise_timeseries/sub-SLC02_ses-2_run-1_task-rest_desc-roi-ts.nii.gz\n"
     ]
    },
    {
     "name": "stdout",
     "output_type": "stream",
     "text": [
      "sub-SLC02_ses-2_run-7_task-led_desc-roi-ts\n"
     ]
    },
    {
     "name": "stderr",
     "output_type": "stream",
     "text": [
      "++ 3dcalc: AFNI version=AFNI_20.2.18 (Sep 17 2020) [64-bit]\n",
      "++ Authored by: A cast of thousands\n",
      "** AFNI converts NIFTI_datatype=64 (FLOAT64) in file /mnt/stor1/govindas/mouse_dataset/voxel/cleaned_timeseries/_split_name_sub-SLC02_ses-2_task-led_run-7_bold/sub-SLC02_ses-2_task-led_run-7_bold_combined_cleaned.nii.gz to FLOAT32\n",
      "     Warnings of this type will be muted for this session.\n",
      "     Set AFNI_NIFTI_TYPE_WARN to YES to see them all, NO to see none.\n",
      "++ Output dataset /home/govindas/mouse_dataset/roi_results_v2/type-spatial_size-225_symm-True_braindiv-whl_nrois-162/runwise_timeseries/sub-SLC02_ses-2_run-7_task-led_desc-roi-ts.nii.gz\n"
     ]
    },
    {
     "name": "stdout",
     "output_type": "stream",
     "text": [
      "sub-SLC02_ses-3_run-5_task-rest_desc-roi-ts\n"
     ]
    },
    {
     "name": "stderr",
     "output_type": "stream",
     "text": [
      "++ 3dcalc: AFNI version=AFNI_20.2.18 (Sep 17 2020) [64-bit]\n",
      "++ Authored by: A cast of thousands\n",
      "** AFNI converts NIFTI_datatype=64 (FLOAT64) in file /mnt/stor1/govindas/mouse_dataset/voxel/cleaned_timeseries/_split_name_sub-SLC02_ses-3_task-rest_run-5_bold/sub-SLC02_ses-3_task-rest_run-5_bold_combined_cleaned.nii.gz to FLOAT32\n",
      "     Warnings of this type will be muted for this session.\n",
      "     Set AFNI_NIFTI_TYPE_WARN to YES to see them all, NO to see none.\n",
      "++ Output dataset /home/govindas/mouse_dataset/roi_results_v2/type-spatial_size-225_symm-True_braindiv-whl_nrois-162/runwise_timeseries/sub-SLC02_ses-3_run-5_task-rest_desc-roi-ts.nii.gz\n"
     ]
    },
    {
     "name": "stdout",
     "output_type": "stream",
     "text": [
      "sub-SLC03_ses-1_run-3_task-led_desc-roi-ts\n"
     ]
    },
    {
     "name": "stderr",
     "output_type": "stream",
     "text": [
      "++ 3dcalc: AFNI version=AFNI_20.2.18 (Sep 17 2020) [64-bit]\n",
      "++ Authored by: A cast of thousands\n",
      "** AFNI converts NIFTI_datatype=64 (FLOAT64) in file /mnt/stor1/govindas/mouse_dataset/voxel/cleaned_timeseries/_split_name_sub-SLC03_ses-1_task-led_run-3_bold/sub-SLC03_ses-1_task-led_run-3_bold_combined_cleaned.nii.gz to FLOAT32\n",
      "     Warnings of this type will be muted for this session.\n",
      "     Set AFNI_NIFTI_TYPE_WARN to YES to see them all, NO to see none.\n",
      "++ Output dataset /home/govindas/mouse_dataset/roi_results_v2/type-spatial_size-225_symm-True_braindiv-whl_nrois-162/runwise_timeseries/sub-SLC03_ses-1_run-3_task-led_desc-roi-ts.nii.gz\n"
     ]
    },
    {
     "name": "stdout",
     "output_type": "stream",
     "text": [
      "sub-SLC02_ses-3_run-1_task-rest_desc-roi-ts\n"
     ]
    },
    {
     "name": "stderr",
     "output_type": "stream",
     "text": [
      "++ 3dcalc: AFNI version=AFNI_20.2.18 (Sep 17 2020) [64-bit]\n",
      "++ Authored by: A cast of thousands\n",
      "** AFNI converts NIFTI_datatype=64 (FLOAT64) in file /mnt/stor1/govindas/mouse_dataset/voxel/cleaned_timeseries/_split_name_sub-SLC02_ses-3_task-rest_run-1_bold/sub-SLC02_ses-3_task-rest_run-1_bold_combined_cleaned.nii.gz to FLOAT32\n",
      "     Warnings of this type will be muted for this session.\n",
      "     Set AFNI_NIFTI_TYPE_WARN to YES to see them all, NO to see none.\n",
      "++ Output dataset /home/govindas/mouse_dataset/roi_results_v2/type-spatial_size-225_symm-True_braindiv-whl_nrois-162/runwise_timeseries/sub-SLC02_ses-3_run-1_task-rest_desc-roi-ts.nii.gz\n"
     ]
    },
    {
     "name": "stdout",
     "output_type": "stream",
     "text": [
      "sub-SLC02_ses-3_run-3_task-rest_desc-roi-ts\n"
     ]
    },
    {
     "name": "stderr",
     "output_type": "stream",
     "text": [
      "++ 3dcalc: AFNI version=AFNI_20.2.18 (Sep 17 2020) [64-bit]\n",
      "++ Authored by: A cast of thousands\n",
      "** AFNI converts NIFTI_datatype=64 (FLOAT64) in file /mnt/stor1/govindas/mouse_dataset/voxel/cleaned_timeseries/_split_name_sub-SLC02_ses-3_task-rest_run-3_bold/sub-SLC02_ses-3_task-rest_run-3_bold_combined_cleaned.nii.gz to FLOAT32\n",
      "     Warnings of this type will be muted for this session.\n",
      "     Set AFNI_NIFTI_TYPE_WARN to YES to see them all, NO to see none.\n",
      "++ Output dataset /home/govindas/mouse_dataset/roi_results_v2/type-spatial_size-225_symm-True_braindiv-whl_nrois-162/runwise_timeseries/sub-SLC02_ses-3_run-3_task-rest_desc-roi-ts.nii.gz\n"
     ]
    },
    {
     "name": "stdout",
     "output_type": "stream",
     "text": [
      "sub-SLC02_ses-3_run-7_task-rest_desc-roi-ts\n"
     ]
    },
    {
     "name": "stderr",
     "output_type": "stream",
     "text": [
      "++ 3dcalc: AFNI version=AFNI_20.2.18 (Sep 17 2020) [64-bit]\n",
      "++ Authored by: A cast of thousands\n",
      "** AFNI converts NIFTI_datatype=64 (FLOAT64) in file /mnt/stor1/govindas/mouse_dataset/voxel/cleaned_timeseries/_split_name_sub-SLC02_ses-3_task-rest_run-7_bold/sub-SLC02_ses-3_task-rest_run-7_bold_combined_cleaned.nii.gz to FLOAT32\n",
      "     Warnings of this type will be muted for this session.\n",
      "     Set AFNI_NIFTI_TYPE_WARN to YES to see them all, NO to see none.\n",
      "++ Output dataset /home/govindas/mouse_dataset/roi_results_v2/type-spatial_size-225_symm-True_braindiv-whl_nrois-162/runwise_timeseries/sub-SLC02_ses-3_run-7_task-rest_desc-roi-ts.nii.gz\n"
     ]
    },
    {
     "name": "stdout",
     "output_type": "stream",
     "text": [
      "sub-SLC03_ses-1_run-5_task-led_desc-roi-ts\n"
     ]
    },
    {
     "name": "stderr",
     "output_type": "stream",
     "text": [
      "++ 3dcalc: AFNI version=AFNI_20.2.18 (Sep 17 2020) [64-bit]\n",
      "++ Authored by: A cast of thousands\n",
      "** AFNI converts NIFTI_datatype=64 (FLOAT64) in file /mnt/stor1/govindas/mouse_dataset/voxel/cleaned_timeseries/_split_name_sub-SLC03_ses-1_task-led_run-5_bold/sub-SLC03_ses-1_task-led_run-5_bold_combined_cleaned.nii.gz to FLOAT32\n",
      "     Warnings of this type will be muted for this session.\n",
      "     Set AFNI_NIFTI_TYPE_WARN to YES to see them all, NO to see none.\n",
      "++ Output dataset /home/govindas/mouse_dataset/roi_results_v2/type-spatial_size-225_symm-True_braindiv-whl_nrois-162/runwise_timeseries/sub-SLC03_ses-1_run-5_task-led_desc-roi-ts.nii.gz\n"
     ]
    },
    {
     "name": "stdout",
     "output_type": "stream",
     "text": [
      "sub-SLC03_ses-1_run-7_task-led_desc-roi-ts\n",
      "sub-SLC03_ses-2_run-5_task-rest_desc-roi-ts\n",
      "sub-SLC03_ses-2_run-1_task-rest_desc-roi-ts\n"
     ]
    },
    {
     "name": "stderr",
     "output_type": "stream",
     "text": [
      "++ 3dcalc: AFNI version=AFNI_20.2.18 (Sep 17 2020) [64-bit]\n",
      "++ Authored by: A cast of thousands\n",
      "** AFNI converts NIFTI_datatype=64 (FLOAT64) in file /mnt/stor1/govindas/mouse_dataset/voxel/cleaned_timeseries/_split_name_sub-SLC03_ses-1_task-led_run-7_bold/sub-SLC03_ses-1_task-led_run-7_bold_combined_cleaned.nii.gz to FLOAT32\n",
      "     Warnings of this type will be muted for this session.\n",
      "     Set AFNI_NIFTI_TYPE_WARN to YES to see them all, NO to see none.\n",
      "++ Output dataset /home/govindas/mouse_dataset/roi_results_v2/type-spatial_size-225_symm-True_braindiv-whl_nrois-162/runwise_timeseries/sub-SLC03_ses-1_run-7_task-led_desc-roi-ts.nii.gz\n",
      "++ 3dcalc: AFNI version=AFNI_20.2.18 (Sep 17 2020) [64-bit]\n",
      "++ Authored by: A cast of thousands\n",
      "** AFNI converts NIFTI_datatype=64 (FLOAT64) in file /mnt/stor1/govindas/mouse_dataset/voxel/cleaned_timeseries/_split_name_sub-SLC03_ses-2_task-rest_run-5_bold/sub-SLC03_ses-2_task-rest_run-5_bold_combined_cleaned.nii.gz to FLOAT32\n",
      "     Warnings of this type will be muted for this session.\n",
      "     Set AFNI_NIFTI_TYPE_WARN to YES to see them all, NO to see none.\n",
      "++ Output dataset /home/govindas/mouse_dataset/roi_results_v2/type-spatial_size-225_symm-True_braindiv-whl_nrois-162/runwise_timeseries/sub-SLC03_ses-2_run-5_task-rest_desc-roi-ts.nii.gz\n",
      "++ 3dcalc: AFNI version=AFNI_20.2.18 (Sep 17 2020) [64-bit]\n",
      "++ Authored by: A cast of thousands\n",
      "** AFNI converts NIFTI_datatype=64 (FLOAT64) in file /mnt/stor1/govindas/mouse_dataset/voxel/cleaned_timeseries/_split_name_sub-SLC03_ses-2_task-rest_run-1_bold/sub-SLC03_ses-2_task-rest_run-1_bold_combined_cleaned.nii.gz to FLOAT32\n",
      "     Warnings of this type will be muted for this session.\n",
      "     Set AFNI_NIFTI_TYPE_WARN to YES to see them all, NO to see none.\n",
      "++ Output dataset /home/govindas/mouse_dataset/roi_results_v2/type-spatial_size-225_symm-True_braindiv-whl_nrois-162/runwise_timeseries/sub-SLC03_ses-2_run-1_task-rest_desc-roi-ts.nii.gz\n"
     ]
    },
    {
     "name": "stdout",
     "output_type": "stream",
     "text": [
      "sub-SLC03_ses-2_run-3_task-rest_desc-roi-ts\n"
     ]
    },
    {
     "name": "stderr",
     "output_type": "stream",
     "text": [
      "++ 3dcalc: AFNI version=AFNI_20.2.18 (Sep 17 2020) [64-bit]\n",
      "++ Authored by: A cast of thousands\n",
      "** AFNI converts NIFTI_datatype=64 (FLOAT64) in file /mnt/stor1/govindas/mouse_dataset/voxel/cleaned_timeseries/_split_name_sub-SLC03_ses-2_task-rest_run-3_bold/sub-SLC03_ses-2_task-rest_run-3_bold_combined_cleaned.nii.gz to FLOAT32\n",
      "     Warnings of this type will be muted for this session.\n",
      "     Set AFNI_NIFTI_TYPE_WARN to YES to see them all, NO to see none.\n",
      "++ Output dataset /home/govindas/mouse_dataset/roi_results_v2/type-spatial_size-225_symm-True_braindiv-whl_nrois-162/runwise_timeseries/sub-SLC03_ses-2_run-3_task-rest_desc-roi-ts.nii.gz\n"
     ]
    },
    {
     "name": "stdout",
     "output_type": "stream",
     "text": [
      "sub-SLC03_ses-2_run-7_task-rest_desc-roi-ts\n"
     ]
    },
    {
     "name": "stderr",
     "output_type": "stream",
     "text": [
      "++ 3dcalc: AFNI version=AFNI_20.2.18 (Sep 17 2020) [64-bit]\n",
      "++ Authored by: A cast of thousands\n",
      "** AFNI converts NIFTI_datatype=64 (FLOAT64) in file /mnt/stor1/govindas/mouse_dataset/voxel/cleaned_timeseries/_split_name_sub-SLC03_ses-2_task-rest_run-7_bold/sub-SLC03_ses-2_task-rest_run-7_bold_combined_cleaned.nii.gz to FLOAT32\n",
      "     Warnings of this type will be muted for this session.\n",
      "     Set AFNI_NIFTI_TYPE_WARN to YES to see them all, NO to see none.\n",
      "++ Output dataset /home/govindas/mouse_dataset/roi_results_v2/type-spatial_size-225_symm-True_braindiv-whl_nrois-162/runwise_timeseries/sub-SLC03_ses-2_run-7_task-rest_desc-roi-ts.nii.gz\n"
     ]
    },
    {
     "name": "stdout",
     "output_type": "stream",
     "text": [
      "sub-SLC03_ses-3_run-1_task-rest_desc-roi-ts\n"
     ]
    },
    {
     "name": "stderr",
     "output_type": "stream",
     "text": [
      "++ 3dcalc: AFNI version=AFNI_20.2.18 (Sep 17 2020) [64-bit]\n",
      "++ Authored by: A cast of thousands\n",
      "** AFNI converts NIFTI_datatype=64 (FLOAT64) in file /mnt/stor1/govindas/mouse_dataset/voxel/cleaned_timeseries/_split_name_sub-SLC03_ses-3_task-rest_run-1_bold/sub-SLC03_ses-3_task-rest_run-1_bold_combined_cleaned.nii.gz to FLOAT32\n",
      "     Warnings of this type will be muted for this session.\n",
      "     Set AFNI_NIFTI_TYPE_WARN to YES to see them all, NO to see none.\n",
      "++ Output dataset /home/govindas/mouse_dataset/roi_results_v2/type-spatial_size-225_symm-True_braindiv-whl_nrois-162/runwise_timeseries/sub-SLC03_ses-3_run-1_task-rest_desc-roi-ts.nii.gz\n"
     ]
    },
    {
     "name": "stdout",
     "output_type": "stream",
     "text": [
      "sub-SLC03_ses-3_run-3_task-rest_desc-roi-ts\n"
     ]
    },
    {
     "name": "stderr",
     "output_type": "stream",
     "text": [
      "++ 3dcalc: AFNI version=AFNI_20.2.18 (Sep 17 2020) [64-bit]\n",
      "++ Authored by: A cast of thousands\n",
      "** AFNI converts NIFTI_datatype=64 (FLOAT64) in file /mnt/stor1/govindas/mouse_dataset/voxel/cleaned_timeseries/_split_name_sub-SLC03_ses-3_task-rest_run-3_bold/sub-SLC03_ses-3_task-rest_run-3_bold_combined_cleaned.nii.gz to FLOAT32\n",
      "     Warnings of this type will be muted for this session.\n",
      "     Set AFNI_NIFTI_TYPE_WARN to YES to see them all, NO to see none.\n",
      "++ Output dataset /home/govindas/mouse_dataset/roi_results_v2/type-spatial_size-225_symm-True_braindiv-whl_nrois-162/runwise_timeseries/sub-SLC03_ses-3_run-3_task-rest_desc-roi-ts.nii.gz\n"
     ]
    },
    {
     "name": "stdout",
     "output_type": "stream",
     "text": [
      "sub-SLC03_ses-3_run-5_task-rest_desc-roi-ts\n",
      "sub-SLC04_ses-1_run-3_task-rest_desc-roi-ts\n"
     ]
    },
    {
     "name": "stderr",
     "output_type": "stream",
     "text": [
      "++ 3dcalc: AFNI version=AFNI_20.2.18 (Sep 17 2020) [64-bit]\n",
      "++ Authored by: A cast of thousands\n",
      "** AFNI converts NIFTI_datatype=64 (FLOAT64) in file /mnt/stor1/govindas/mouse_dataset/voxel/cleaned_timeseries/_split_name_sub-SLC03_ses-3_task-rest_run-5_bold/sub-SLC03_ses-3_task-rest_run-5_bold_combined_cleaned.nii.gz to FLOAT32\n",
      "     Warnings of this type will be muted for this session.\n",
      "     Set AFNI_NIFTI_TYPE_WARN to YES to see them all, NO to see none.\n",
      "++ Output dataset /home/govindas/mouse_dataset/roi_results_v2/type-spatial_size-225_symm-True_braindiv-whl_nrois-162/runwise_timeseries/sub-SLC03_ses-3_run-5_task-rest_desc-roi-ts.nii.gz\n",
      "++ 3dcalc: AFNI version=AFNI_20.2.18 (Sep 17 2020) [64-bit]\n",
      "++ Authored by: A cast of thousands\n",
      "** AFNI converts NIFTI_datatype=64 (FLOAT64) in file /mnt/stor1/govindas/mouse_dataset/voxel/cleaned_timeseries/_split_name_sub-SLC04_ses-1_task-rest_run-3_bold/sub-SLC04_ses-1_task-rest_run-3_bold_combined_cleaned.nii.gz to FLOAT32\n",
      "     Warnings of this type will be muted for this session.\n",
      "     Set AFNI_NIFTI_TYPE_WARN to YES to see them all, NO to see none.\n",
      "++ Output dataset /home/govindas/mouse_dataset/roi_results_v2/type-spatial_size-225_symm-True_braindiv-whl_nrois-162/runwise_timeseries/sub-SLC04_ses-1_run-3_task-rest_desc-roi-ts.nii.gz\n",
      "++ 3dcalc: AFNI version=AFNI_20.2.18 (Sep 17 2020) [64-bit]\n",
      "++ Authored by: A cast of thousands\n",
      "** AFNI converts NIFTI_datatype=64 (FLOAT64) in file /mnt/stor1/govindas/mouse_dataset/voxel/cleaned_timeseries/_split_name_sub-SLC04_ses-1_task-rest_run-5_bold/sub-SLC04_ses-1_task-rest_run-5_bold_combined_cleaned.nii.gz to FLOAT32\n",
      "     Warnings of this type will be muted for this session.\n",
      "     Set AFNI_NIFTI_TYPE_WARN to YES to see them all, NO to see none.\n",
      "++ Output dataset /home/govindas/mouse_dataset/roi_results_v2/type-spatial_size-225_symm-True_braindiv-whl_nrois-162/runwise_timeseries/sub-SLC04_ses-1_run-5_task-rest_desc-roi-ts.nii.gz\n"
     ]
    },
    {
     "name": "stdout",
     "output_type": "stream",
     "text": [
      "sub-SLC04_ses-1_run-5_task-rest_desc-roi-ts\n",
      "sub-SLC04_ses-1_run-1_task-rest_desc-roi-ts\n",
      "sub-SLC03_ses-3_run-7_task-rest_desc-roi-ts\n"
     ]
    },
    {
     "name": "stderr",
     "output_type": "stream",
     "text": [
      "++ 3dcalc: AFNI version=AFNI_20.2.18 (Sep 17 2020) [64-bit]\n",
      "++ Authored by: A cast of thousands\n",
      "** AFNI converts NIFTI_datatype=64 (FLOAT64) in file /mnt/stor1/govindas/mouse_dataset/voxel/cleaned_timeseries/_split_name_sub-SLC04_ses-1_task-rest_run-1_bold/sub-SLC04_ses-1_task-rest_run-1_bold_combined_cleaned.nii.gz to FLOAT32\n",
      "     Warnings of this type will be muted for this session.\n",
      "     Set AFNI_NIFTI_TYPE_WARN to YES to see them all, NO to see none.\n",
      "++ Output dataset /home/govindas/mouse_dataset/roi_results_v2/type-spatial_size-225_symm-True_braindiv-whl_nrois-162/runwise_timeseries/sub-SLC04_ses-1_run-1_task-rest_desc-roi-ts.nii.gz\n",
      "++ 3dcalc: AFNI version=AFNI_20.2.18 (Sep 17 2020) [64-bit]\n",
      "++ Authored by: A cast of thousands\n",
      "** AFNI converts NIFTI_datatype=64 (FLOAT64) in file /mnt/stor1/govindas/mouse_dataset/voxel/cleaned_timeseries/_split_name_sub-SLC03_ses-3_task-rest_run-7_bold/sub-SLC03_ses-3_task-rest_run-7_bold_combined_cleaned.nii.gz to FLOAT32\n",
      "     Warnings of this type will be muted for this session.\n",
      "     Set AFNI_NIFTI_TYPE_WARN to YES to see them all, NO to see none.\n",
      "++ Output dataset /home/govindas/mouse_dataset/roi_results_v2/type-spatial_size-225_symm-True_braindiv-whl_nrois-162/runwise_timeseries/sub-SLC03_ses-3_run-7_task-rest_desc-roi-ts.nii.gz\n"
     ]
    },
    {
     "name": "stdout",
     "output_type": "stream",
     "text": [
      "sub-SLC04_ses-1_run-7_task-rest_desc-roi-ts\n"
     ]
    },
    {
     "name": "stderr",
     "output_type": "stream",
     "text": [
      "++ 3dcalc: AFNI version=AFNI_20.2.18 (Sep 17 2020) [64-bit]\n",
      "++ Authored by: A cast of thousands\n",
      "** AFNI converts NIFTI_datatype=64 (FLOAT64) in file /mnt/stor1/govindas/mouse_dataset/voxel/cleaned_timeseries/_split_name_sub-SLC04_ses-1_task-rest_run-7_bold/sub-SLC04_ses-1_task-rest_run-7_bold_combined_cleaned.nii.gz to FLOAT32\n",
      "     Warnings of this type will be muted for this session.\n",
      "     Set AFNI_NIFTI_TYPE_WARN to YES to see them all, NO to see none.\n",
      "++ Output dataset /home/govindas/mouse_dataset/roi_results_v2/type-spatial_size-225_symm-True_braindiv-whl_nrois-162/runwise_timeseries/sub-SLC04_ses-1_run-7_task-rest_desc-roi-ts.nii.gz\n"
     ]
    },
    {
     "name": "stdout",
     "output_type": "stream",
     "text": [
      "sub-SLC04_ses-2_run-1_task-rest_desc-roi-ts\n"
     ]
    },
    {
     "name": "stderr",
     "output_type": "stream",
     "text": [
      "++ 3dcalc: AFNI version=AFNI_20.2.18 (Sep 17 2020) [64-bit]\n",
      "++ Authored by: A cast of thousands\n",
      "** AFNI converts NIFTI_datatype=64 (FLOAT64) in file /mnt/stor1/govindas/mouse_dataset/voxel/cleaned_timeseries/_split_name_sub-SLC04_ses-2_task-rest_run-1_bold/sub-SLC04_ses-2_task-rest_run-1_bold_combined_cleaned.nii.gz to FLOAT32\n",
      "     Warnings of this type will be muted for this session.\n",
      "     Set AFNI_NIFTI_TYPE_WARN to YES to see them all, NO to see none.\n",
      "++ Output dataset /home/govindas/mouse_dataset/roi_results_v2/type-spatial_size-225_symm-True_braindiv-whl_nrois-162/runwise_timeseries/sub-SLC04_ses-2_run-1_task-rest_desc-roi-ts.nii.gz\n"
     ]
    },
    {
     "name": "stdout",
     "output_type": "stream",
     "text": [
      "sub-SLC04_ses-2_run-3_task-rest_desc-roi-ts\n"
     ]
    },
    {
     "name": "stderr",
     "output_type": "stream",
     "text": [
      "++ 3dcalc: AFNI version=AFNI_20.2.18 (Sep 17 2020) [64-bit]\n",
      "++ Authored by: A cast of thousands\n",
      "** AFNI converts NIFTI_datatype=64 (FLOAT64) in file /mnt/stor1/govindas/mouse_dataset/voxel/cleaned_timeseries/_split_name_sub-SLC04_ses-2_task-rest_run-3_bold/sub-SLC04_ses-2_task-rest_run-3_bold_combined_cleaned.nii.gz to FLOAT32\n",
      "     Warnings of this type will be muted for this session.\n",
      "     Set AFNI_NIFTI_TYPE_WARN to YES to see them all, NO to see none.\n",
      "++ Output dataset /home/govindas/mouse_dataset/roi_results_v2/type-spatial_size-225_symm-True_braindiv-whl_nrois-162/runwise_timeseries/sub-SLC04_ses-2_run-3_task-rest_desc-roi-ts.nii.gz\n"
     ]
    },
    {
     "name": "stdout",
     "output_type": "stream",
     "text": [
      "sub-SLC04_ses-2_run-5_task-rest_desc-roi-ts\n"
     ]
    },
    {
     "name": "stderr",
     "output_type": "stream",
     "text": [
      "++ 3dcalc: AFNI version=AFNI_20.2.18 (Sep 17 2020) [64-bit]\n",
      "++ Authored by: A cast of thousands\n",
      "** AFNI converts NIFTI_datatype=64 (FLOAT64) in file /mnt/stor1/govindas/mouse_dataset/voxel/cleaned_timeseries/_split_name_sub-SLC04_ses-2_task-rest_run-5_bold/sub-SLC04_ses-2_task-rest_run-5_bold_combined_cleaned.nii.gz to FLOAT32\n",
      "     Warnings of this type will be muted for this session.\n",
      "     Set AFNI_NIFTI_TYPE_WARN to YES to see them all, NO to see none.\n",
      "++ Output dataset /home/govindas/mouse_dataset/roi_results_v2/type-spatial_size-225_symm-True_braindiv-whl_nrois-162/runwise_timeseries/sub-SLC04_ses-2_run-5_task-rest_desc-roi-ts.nii.gz\n"
     ]
    },
    {
     "name": "stdout",
     "output_type": "stream",
     "text": [
      "sub-SLC04_ses-2_run-7_task-rest_desc-roi-ts\n"
     ]
    },
    {
     "name": "stderr",
     "output_type": "stream",
     "text": [
      "++ 3dcalc: AFNI version=AFNI_20.2.18 (Sep 17 2020) [64-bit]\n",
      "++ Authored by: A cast of thousands\n",
      "** AFNI converts NIFTI_datatype=64 (FLOAT64) in file /mnt/stor1/govindas/mouse_dataset/voxel/cleaned_timeseries/_split_name_sub-SLC04_ses-2_task-rest_run-7_bold/sub-SLC04_ses-2_task-rest_run-7_bold_combined_cleaned.nii.gz to FLOAT32\n",
      "     Warnings of this type will be muted for this session.\n",
      "     Set AFNI_NIFTI_TYPE_WARN to YES to see them all, NO to see none.\n",
      "++ Output dataset /home/govindas/mouse_dataset/roi_results_v2/type-spatial_size-225_symm-True_braindiv-whl_nrois-162/runwise_timeseries/sub-SLC04_ses-2_run-7_task-rest_desc-roi-ts.nii.gz\n"
     ]
    },
    {
     "name": "stdout",
     "output_type": "stream",
     "text": [
      "sub-SLC04_ses-3_run-3_task-rest_desc-roi-ts\n"
     ]
    },
    {
     "name": "stderr",
     "output_type": "stream",
     "text": [
      "++ 3dcalc: AFNI version=AFNI_20.2.18 (Sep 17 2020) [64-bit]\n",
      "++ Authored by: A cast of thousands\n",
      "** AFNI converts NIFTI_datatype=64 (FLOAT64) in file /mnt/stor1/govindas/mouse_dataset/voxel/cleaned_timeseries/_split_name_sub-SLC04_ses-3_task-rest_run-3_bold/sub-SLC04_ses-3_task-rest_run-3_bold_combined_cleaned.nii.gz to FLOAT32\n",
      "     Warnings of this type will be muted for this session.\n",
      "     Set AFNI_NIFTI_TYPE_WARN to YES to see them all, NO to see none.\n",
      "++ Output dataset /home/govindas/mouse_dataset/roi_results_v2/type-spatial_size-225_symm-True_braindiv-whl_nrois-162/runwise_timeseries/sub-SLC04_ses-3_run-3_task-rest_desc-roi-ts.nii.gz\n"
     ]
    },
    {
     "name": "stdout",
     "output_type": "stream",
     "text": [
      "sub-SLC04_ses-3_run-1_task-rest_desc-roi-ts\n"
     ]
    },
    {
     "name": "stderr",
     "output_type": "stream",
     "text": [
      "++ 3dcalc: AFNI version=AFNI_20.2.18 (Sep 17 2020) [64-bit]\n",
      "++ Authored by: A cast of thousands\n",
      "** AFNI converts NIFTI_datatype=64 (FLOAT64) in file /mnt/stor1/govindas/mouse_dataset/voxel/cleaned_timeseries/_split_name_sub-SLC04_ses-3_task-rest_run-1_bold/sub-SLC04_ses-3_task-rest_run-1_bold_combined_cleaned.nii.gz to FLOAT32\n",
      "     Warnings of this type will be muted for this session.\n",
      "     Set AFNI_NIFTI_TYPE_WARN to YES to see them all, NO to see none.\n",
      "++ Output dataset /home/govindas/mouse_dataset/roi_results_v2/type-spatial_size-225_symm-True_braindiv-whl_nrois-162/runwise_timeseries/sub-SLC04_ses-3_run-1_task-rest_desc-roi-ts.nii.gz\n"
     ]
    },
    {
     "name": "stdout",
     "output_type": "stream",
     "text": [
      "sub-SLC04_ses-3_run-5_task-rest_desc-roi-ts\n"
     ]
    },
    {
     "name": "stderr",
     "output_type": "stream",
     "text": [
      "++ 3dcalc: AFNI version=AFNI_20.2.18 (Sep 17 2020) [64-bit]\n",
      "++ Authored by: A cast of thousands\n",
      "** AFNI converts NIFTI_datatype=64 (FLOAT64) in file /mnt/stor1/govindas/mouse_dataset/voxel/cleaned_timeseries/_split_name_sub-SLC04_ses-3_task-rest_run-5_bold/sub-SLC04_ses-3_task-rest_run-5_bold_combined_cleaned.nii.gz to FLOAT32\n",
      "     Warnings of this type will be muted for this session.\n",
      "     Set AFNI_NIFTI_TYPE_WARN to YES to see them all, NO to see none.\n",
      "++ Output dataset /home/govindas/mouse_dataset/roi_results_v2/type-spatial_size-225_symm-True_braindiv-whl_nrois-162/runwise_timeseries/sub-SLC04_ses-3_run-5_task-rest_desc-roi-ts.nii.gz\n"
     ]
    },
    {
     "name": "stdout",
     "output_type": "stream",
     "text": [
      "sub-SLC04_ses-3_run-7_task-rest_desc-roi-ts\n"
     ]
    },
    {
     "name": "stderr",
     "output_type": "stream",
     "text": [
      "++ 3dcalc: AFNI version=AFNI_20.2.18 (Sep 17 2020) [64-bit]\n",
      "++ Authored by: A cast of thousands\n",
      "** AFNI converts NIFTI_datatype=64 (FLOAT64) in file /mnt/stor1/govindas/mouse_dataset/voxel/cleaned_timeseries/_split_name_sub-SLC04_ses-3_task-rest_run-7_bold/sub-SLC04_ses-3_task-rest_run-7_bold_combined_cleaned.nii.gz to FLOAT32\n",
      "     Warnings of this type will be muted for this session.\n",
      "     Set AFNI_NIFTI_TYPE_WARN to YES to see them all, NO to see none.\n",
      "++ Output dataset /home/govindas/mouse_dataset/roi_results_v2/type-spatial_size-225_symm-True_braindiv-whl_nrois-162/runwise_timeseries/sub-SLC04_ses-3_run-7_task-rest_desc-roi-ts.nii.gz\n"
     ]
    },
    {
     "name": "stdout",
     "output_type": "stream",
     "text": [
      "sub-SLC05_ses-1_run-1_task-rest_desc-roi-ts\n"
     ]
    },
    {
     "name": "stderr",
     "output_type": "stream",
     "text": [
      "++ 3dcalc: AFNI version=AFNI_20.2.18 (Sep 17 2020) [64-bit]\n",
      "++ Authored by: A cast of thousands\n",
      "** AFNI converts NIFTI_datatype=64 (FLOAT64) in file /mnt/stor1/govindas/mouse_dataset/voxel/cleaned_timeseries/_split_name_sub-SLC05_ses-1_task-rest_run-1_bold/sub-SLC05_ses-1_task-rest_run-1_bold_combined_cleaned.nii.gz to FLOAT32\n",
      "     Warnings of this type will be muted for this session.\n",
      "     Set AFNI_NIFTI_TYPE_WARN to YES to see them all, NO to see none.\n",
      "++ Output dataset /home/govindas/mouse_dataset/roi_results_v2/type-spatial_size-225_symm-True_braindiv-whl_nrois-162/runwise_timeseries/sub-SLC05_ses-1_run-1_task-rest_desc-roi-ts.nii.gz\n"
     ]
    },
    {
     "name": "stdout",
     "output_type": "stream",
     "text": [
      "sub-SLC05_ses-1_run-7_task-rest_desc-roi-ts\n"
     ]
    },
    {
     "name": "stderr",
     "output_type": "stream",
     "text": [
      "++ 3dcalc: AFNI version=AFNI_20.2.18 (Sep 17 2020) [64-bit]\n",
      "++ Authored by: A cast of thousands\n",
      "** AFNI converts NIFTI_datatype=64 (FLOAT64) in file /mnt/stor1/govindas/mouse_dataset/voxel/cleaned_timeseries/_split_name_sub-SLC05_ses-1_task-rest_run-7_bold/sub-SLC05_ses-1_task-rest_run-7_bold_combined_cleaned.nii.gz to FLOAT32\n",
      "     Warnings of this type will be muted for this session.\n",
      "     Set AFNI_NIFTI_TYPE_WARN to YES to see them all, NO to see none.\n",
      "++ Output dataset /home/govindas/mouse_dataset/roi_results_v2/type-spatial_size-225_symm-True_braindiv-whl_nrois-162/runwise_timeseries/sub-SLC05_ses-1_run-7_task-rest_desc-roi-ts.nii.gz\n"
     ]
    },
    {
     "name": "stdout",
     "output_type": "stream",
     "text": [
      "sub-SLC05_ses-1_run-3_task-rest_desc-roi-ts\n"
     ]
    },
    {
     "name": "stderr",
     "output_type": "stream",
     "text": [
      "++ 3dcalc: AFNI version=AFNI_20.2.18 (Sep 17 2020) [64-bit]\n",
      "++ Authored by: A cast of thousands\n",
      "** AFNI converts NIFTI_datatype=64 (FLOAT64) in file /mnt/stor1/govindas/mouse_dataset/voxel/cleaned_timeseries/_split_name_sub-SLC05_ses-1_task-rest_run-3_bold/sub-SLC05_ses-1_task-rest_run-3_bold_combined_cleaned.nii.gz to FLOAT32\n",
      "     Warnings of this type will be muted for this session.\n",
      "     Set AFNI_NIFTI_TYPE_WARN to YES to see them all, NO to see none.\n",
      "++ Output dataset /home/govindas/mouse_dataset/roi_results_v2/type-spatial_size-225_symm-True_braindiv-whl_nrois-162/runwise_timeseries/sub-SLC05_ses-1_run-3_task-rest_desc-roi-ts.nii.gz\n"
     ]
    },
    {
     "name": "stdout",
     "output_type": "stream",
     "text": [
      "sub-SLC05_ses-2_run-3_task-rest_desc-roi-ts\n"
     ]
    },
    {
     "name": "stderr",
     "output_type": "stream",
     "text": [
      "++ 3dcalc: AFNI version=AFNI_20.2.18 (Sep 17 2020) [64-bit]\n",
      "++ Authored by: A cast of thousands\n",
      "** AFNI converts NIFTI_datatype=64 (FLOAT64) in file /mnt/stor1/govindas/mouse_dataset/voxel/cleaned_timeseries/_split_name_sub-SLC05_ses-2_task-rest_run-3_bold/sub-SLC05_ses-2_task-rest_run-3_bold_combined_cleaned.nii.gz to FLOAT32\n",
      "     Warnings of this type will be muted for this session.\n",
      "     Set AFNI_NIFTI_TYPE_WARN to YES to see them all, NO to see none.\n",
      "++ Output dataset /home/govindas/mouse_dataset/roi_results_v2/type-spatial_size-225_symm-True_braindiv-whl_nrois-162/runwise_timeseries/sub-SLC05_ses-2_run-3_task-rest_desc-roi-ts.nii.gz\n"
     ]
    },
    {
     "name": "stdout",
     "output_type": "stream",
     "text": [
      "sub-SLC05_ses-2_run-1_task-rest_desc-roi-ts\n"
     ]
    },
    {
     "name": "stderr",
     "output_type": "stream",
     "text": [
      "++ 3dcalc: AFNI version=AFNI_20.2.18 (Sep 17 2020) [64-bit]\n",
      "++ Authored by: A cast of thousands\n",
      "** AFNI converts NIFTI_datatype=64 (FLOAT64) in file /mnt/stor1/govindas/mouse_dataset/voxel/cleaned_timeseries/_split_name_sub-SLC05_ses-2_task-rest_run-1_bold/sub-SLC05_ses-2_task-rest_run-1_bold_combined_cleaned.nii.gz to FLOAT32\n",
      "     Warnings of this type will be muted for this session.\n",
      "     Set AFNI_NIFTI_TYPE_WARN to YES to see them all, NO to see none.\n",
      "++ Output dataset /home/govindas/mouse_dataset/roi_results_v2/type-spatial_size-225_symm-True_braindiv-whl_nrois-162/runwise_timeseries/sub-SLC05_ses-2_run-1_task-rest_desc-roi-ts.nii.gz\n"
     ]
    },
    {
     "name": "stdout",
     "output_type": "stream",
     "text": [
      "sub-SLC05_ses-2_run-5_task-rest_desc-roi-ts\n"
     ]
    },
    {
     "name": "stderr",
     "output_type": "stream",
     "text": [
      "++ 3dcalc: AFNI version=AFNI_20.2.18 (Sep 17 2020) [64-bit]\n",
      "++ Authored by: A cast of thousands\n",
      "** AFNI converts NIFTI_datatype=64 (FLOAT64) in file /mnt/stor1/govindas/mouse_dataset/voxel/cleaned_timeseries/_split_name_sub-SLC05_ses-2_task-rest_run-5_bold/sub-SLC05_ses-2_task-rest_run-5_bold_combined_cleaned.nii.gz to FLOAT32\n",
      "     Warnings of this type will be muted for this session.\n",
      "     Set AFNI_NIFTI_TYPE_WARN to YES to see them all, NO to see none.\n",
      "++ Output dataset /home/govindas/mouse_dataset/roi_results_v2/type-spatial_size-225_symm-True_braindiv-whl_nrois-162/runwise_timeseries/sub-SLC05_ses-2_run-5_task-rest_desc-roi-ts.nii.gz\n"
     ]
    },
    {
     "name": "stdout",
     "output_type": "stream",
     "text": [
      "sub-SLC05_ses-2_run-7_task-rest_desc-roi-ts\n"
     ]
    },
    {
     "name": "stderr",
     "output_type": "stream",
     "text": [
      "++ 3dcalc: AFNI version=AFNI_20.2.18 (Sep 17 2020) [64-bit]\n",
      "++ Authored by: A cast of thousands\n",
      "** AFNI converts NIFTI_datatype=64 (FLOAT64) in file /mnt/stor1/govindas/mouse_dataset/voxel/cleaned_timeseries/_split_name_sub-SLC05_ses-2_task-rest_run-7_bold/sub-SLC05_ses-2_task-rest_run-7_bold_combined_cleaned.nii.gz to FLOAT32\n",
      "     Warnings of this type will be muted for this session.\n",
      "     Set AFNI_NIFTI_TYPE_WARN to YES to see them all, NO to see none.\n",
      "++ Output dataset /home/govindas/mouse_dataset/roi_results_v2/type-spatial_size-225_symm-True_braindiv-whl_nrois-162/runwise_timeseries/sub-SLC05_ses-2_run-7_task-rest_desc-roi-ts.nii.gz\n"
     ]
    },
    {
     "name": "stdout",
     "output_type": "stream",
     "text": [
      "sub-SLC05_ses-3_run-1_task-rest_desc-roi-ts\n"
     ]
    },
    {
     "name": "stderr",
     "output_type": "stream",
     "text": [
      "++ 3dcalc: AFNI version=AFNI_20.2.18 (Sep 17 2020) [64-bit]\n",
      "++ Authored by: A cast of thousands\n",
      "** AFNI converts NIFTI_datatype=64 (FLOAT64) in file /mnt/stor1/govindas/mouse_dataset/voxel/cleaned_timeseries/_split_name_sub-SLC05_ses-3_task-rest_run-1_bold/sub-SLC05_ses-3_task-rest_run-1_bold_combined_cleaned.nii.gz to FLOAT32\n",
      "     Warnings of this type will be muted for this session.\n",
      "     Set AFNI_NIFTI_TYPE_WARN to YES to see them all, NO to see none.\n",
      "++ Output dataset /home/govindas/mouse_dataset/roi_results_v2/type-spatial_size-225_symm-True_braindiv-whl_nrois-162/runwise_timeseries/sub-SLC05_ses-3_run-1_task-rest_desc-roi-ts.nii.gz\n"
     ]
    },
    {
     "name": "stdout",
     "output_type": "stream",
     "text": [
      "sub-SLC05_ses-3_run-5_task-rest_desc-roi-ts\n"
     ]
    },
    {
     "name": "stderr",
     "output_type": "stream",
     "text": [
      "++ 3dcalc: AFNI version=AFNI_20.2.18 (Sep 17 2020) [64-bit]\n",
      "++ Authored by: A cast of thousands\n",
      "** AFNI converts NIFTI_datatype=64 (FLOAT64) in file /mnt/stor1/govindas/mouse_dataset/voxel/cleaned_timeseries/_split_name_sub-SLC05_ses-3_task-rest_run-5_bold/sub-SLC05_ses-3_task-rest_run-5_bold_combined_cleaned.nii.gz to FLOAT32\n",
      "     Warnings of this type will be muted for this session.\n",
      "     Set AFNI_NIFTI_TYPE_WARN to YES to see them all, NO to see none.\n",
      "++ Output dataset /home/govindas/mouse_dataset/roi_results_v2/type-spatial_size-225_symm-True_braindiv-whl_nrois-162/runwise_timeseries/sub-SLC05_ses-3_run-5_task-rest_desc-roi-ts.nii.gz\n"
     ]
    },
    {
     "name": "stdout",
     "output_type": "stream",
     "text": [
      "sub-SLC05_ses-3_run-3_task-rest_desc-roi-ts\n"
     ]
    },
    {
     "name": "stderr",
     "output_type": "stream",
     "text": [
      "++ 3dcalc: AFNI version=AFNI_20.2.18 (Sep 17 2020) [64-bit]\n",
      "++ Authored by: A cast of thousands\n",
      "** AFNI converts NIFTI_datatype=64 (FLOAT64) in file /mnt/stor1/govindas/mouse_dataset/voxel/cleaned_timeseries/_split_name_sub-SLC05_ses-3_task-rest_run-3_bold/sub-SLC05_ses-3_task-rest_run-3_bold_combined_cleaned.nii.gz to FLOAT32\n",
      "     Warnings of this type will be muted for this session.\n",
      "     Set AFNI_NIFTI_TYPE_WARN to YES to see them all, NO to see none.\n",
      "++ Output dataset /home/govindas/mouse_dataset/roi_results_v2/type-spatial_size-225_symm-True_braindiv-whl_nrois-162/runwise_timeseries/sub-SLC05_ses-3_run-3_task-rest_desc-roi-ts.nii.gz\n"
     ]
    },
    {
     "name": "stdout",
     "output_type": "stream",
     "text": [
      "sub-SLC06_ses-1_run-1_task-rest_desc-roi-ts\n"
     ]
    },
    {
     "name": "stderr",
     "output_type": "stream",
     "text": [
      "++ 3dcalc: AFNI version=AFNI_20.2.18 (Sep 17 2020) [64-bit]\n",
      "++ Authored by: A cast of thousands\n",
      "** AFNI converts NIFTI_datatype=64 (FLOAT64) in file /mnt/stor1/govindas/mouse_dataset/voxel/cleaned_timeseries/_split_name_sub-SLC06_ses-1_task-rest_run-1_bold/sub-SLC06_ses-1_task-rest_run-1_bold_combined_cleaned.nii.gz to FLOAT32\n",
      "     Warnings of this type will be muted for this session.\n",
      "     Set AFNI_NIFTI_TYPE_WARN to YES to see them all, NO to see none.\n",
      "++ Output dataset /home/govindas/mouse_dataset/roi_results_v2/type-spatial_size-225_symm-True_braindiv-whl_nrois-162/runwise_timeseries/sub-SLC06_ses-1_run-1_task-rest_desc-roi-ts.nii.gz\n"
     ]
    },
    {
     "name": "stdout",
     "output_type": "stream",
     "text": [
      "sub-SLC05_ses-3_run-7_task-rest_desc-roi-ts\n"
     ]
    },
    {
     "name": "stderr",
     "output_type": "stream",
     "text": [
      "++ 3dcalc: AFNI version=AFNI_20.2.18 (Sep 17 2020) [64-bit]\n",
      "++ Authored by: A cast of thousands\n",
      "** AFNI converts NIFTI_datatype=64 (FLOAT64) in file /mnt/stor1/govindas/mouse_dataset/voxel/cleaned_timeseries/_split_name_sub-SLC05_ses-3_task-rest_run-7_bold/sub-SLC05_ses-3_task-rest_run-7_bold_combined_cleaned.nii.gz to FLOAT32\n",
      "     Warnings of this type will be muted for this session.\n",
      "     Set AFNI_NIFTI_TYPE_WARN to YES to see them all, NO to see none.\n",
      "++ Output dataset /home/govindas/mouse_dataset/roi_results_v2/type-spatial_size-225_symm-True_braindiv-whl_nrois-162/runwise_timeseries/sub-SLC05_ses-3_run-7_task-rest_desc-roi-ts.nii.gz\n"
     ]
    },
    {
     "name": "stdout",
     "output_type": "stream",
     "text": [
      "sub-SLC06_ses-1_run-7_task-rest_desc-roi-ts\n"
     ]
    },
    {
     "name": "stderr",
     "output_type": "stream",
     "text": [
      "++ 3dcalc: AFNI version=AFNI_20.2.18 (Sep 17 2020) [64-bit]\n",
      "++ Authored by: A cast of thousands\n",
      "** AFNI converts NIFTI_datatype=64 (FLOAT64) in file /mnt/stor1/govindas/mouse_dataset/voxel/cleaned_timeseries/_split_name_sub-SLC06_ses-1_task-rest_run-7_bold/sub-SLC06_ses-1_task-rest_run-7_bold_combined_cleaned.nii.gz to FLOAT32\n",
      "     Warnings of this type will be muted for this session.\n",
      "     Set AFNI_NIFTI_TYPE_WARN to YES to see them all, NO to see none.\n",
      "++ Output dataset /home/govindas/mouse_dataset/roi_results_v2/type-spatial_size-225_symm-True_braindiv-whl_nrois-162/runwise_timeseries/sub-SLC06_ses-1_run-7_task-rest_desc-roi-ts.nii.gz\n"
     ]
    },
    {
     "name": "stdout",
     "output_type": "stream",
     "text": [
      "sub-SLC06_ses-1_run-5_task-rest_desc-roi-ts\n"
     ]
    },
    {
     "name": "stderr",
     "output_type": "stream",
     "text": [
      "++ 3dcalc: AFNI version=AFNI_20.2.18 (Sep 17 2020) [64-bit]\n",
      "++ Authored by: A cast of thousands\n",
      "** AFNI converts NIFTI_datatype=64 (FLOAT64) in file /mnt/stor1/govindas/mouse_dataset/voxel/cleaned_timeseries/_split_name_sub-SLC06_ses-1_task-rest_run-5_bold/sub-SLC06_ses-1_task-rest_run-5_bold_combined_cleaned.nii.gz to FLOAT32\n",
      "     Warnings of this type will be muted for this session.\n",
      "     Set AFNI_NIFTI_TYPE_WARN to YES to see them all, NO to see none.\n",
      "++ Output dataset /home/govindas/mouse_dataset/roi_results_v2/type-spatial_size-225_symm-True_braindiv-whl_nrois-162/runwise_timeseries/sub-SLC06_ses-1_run-5_task-rest_desc-roi-ts.nii.gz\n"
     ]
    },
    {
     "name": "stdout",
     "output_type": "stream",
     "text": [
      "sub-SLC06_ses-1_run-3_task-rest_desc-roi-ts\n"
     ]
    },
    {
     "name": "stderr",
     "output_type": "stream",
     "text": [
      "++ 3dcalc: AFNI version=AFNI_20.2.18 (Sep 17 2020) [64-bit]\n",
      "++ Authored by: A cast of thousands\n",
      "** AFNI converts NIFTI_datatype=64 (FLOAT64) in file /mnt/stor1/govindas/mouse_dataset/voxel/cleaned_timeseries/_split_name_sub-SLC06_ses-1_task-rest_run-3_bold/sub-SLC06_ses-1_task-rest_run-3_bold_combined_cleaned.nii.gz to FLOAT32\n",
      "     Warnings of this type will be muted for this session.\n",
      "     Set AFNI_NIFTI_TYPE_WARN to YES to see them all, NO to see none.\n",
      "++ Output dataset /home/govindas/mouse_dataset/roi_results_v2/type-spatial_size-225_symm-True_braindiv-whl_nrois-162/runwise_timeseries/sub-SLC06_ses-1_run-3_task-rest_desc-roi-ts.nii.gz\n"
     ]
    },
    {
     "name": "stdout",
     "output_type": "stream",
     "text": [
      "sub-SLC06_ses-2_run-3_task-rest_desc-roi-ts\n"
     ]
    },
    {
     "name": "stderr",
     "output_type": "stream",
     "text": [
      "++ 3dcalc: AFNI version=AFNI_20.2.18 (Sep 17 2020) [64-bit]\n",
      "++ Authored by: A cast of thousands\n",
      "** AFNI converts NIFTI_datatype=64 (FLOAT64) in file /mnt/stor1/govindas/mouse_dataset/voxel/cleaned_timeseries/_split_name_sub-SLC06_ses-2_task-rest_run-3_bold/sub-SLC06_ses-2_task-rest_run-3_bold_combined_cleaned.nii.gz to FLOAT32\n",
      "     Warnings of this type will be muted for this session.\n",
      "     Set AFNI_NIFTI_TYPE_WARN to YES to see them all, NO to see none.\n",
      "++ Output dataset /home/govindas/mouse_dataset/roi_results_v2/type-spatial_size-225_symm-True_braindiv-whl_nrois-162/runwise_timeseries/sub-SLC06_ses-2_run-3_task-rest_desc-roi-ts.nii.gz\n"
     ]
    },
    {
     "name": "stdout",
     "output_type": "stream",
     "text": [
      "sub-SLC06_ses-2_run-1_task-rest_desc-roi-ts\n"
     ]
    },
    {
     "name": "stderr",
     "output_type": "stream",
     "text": [
      "++ 3dcalc: AFNI version=AFNI_20.2.18 (Sep 17 2020) [64-bit]\n",
      "++ Authored by: A cast of thousands\n",
      "** AFNI converts NIFTI_datatype=64 (FLOAT64) in file /mnt/stor1/govindas/mouse_dataset/voxel/cleaned_timeseries/_split_name_sub-SLC06_ses-2_task-rest_run-1_bold/sub-SLC06_ses-2_task-rest_run-1_bold_combined_cleaned.nii.gz to FLOAT32\n",
      "     Warnings of this type will be muted for this session.\n",
      "     Set AFNI_NIFTI_TYPE_WARN to YES to see them all, NO to see none.\n",
      "++ Output dataset /home/govindas/mouse_dataset/roi_results_v2/type-spatial_size-225_symm-True_braindiv-whl_nrois-162/runwise_timeseries/sub-SLC06_ses-2_run-1_task-rest_desc-roi-ts.nii.gz\n"
     ]
    },
    {
     "name": "stdout",
     "output_type": "stream",
     "text": [
      "sub-SLC06_ses-2_run-5_task-rest_desc-roi-ts\n"
     ]
    },
    {
     "name": "stderr",
     "output_type": "stream",
     "text": [
      "++ 3dcalc: AFNI version=AFNI_20.2.18 (Sep 17 2020) [64-bit]\n",
      "++ Authored by: A cast of thousands\n",
      "** AFNI converts NIFTI_datatype=64 (FLOAT64) in file /mnt/stor1/govindas/mouse_dataset/voxel/cleaned_timeseries/_split_name_sub-SLC06_ses-2_task-rest_run-5_bold/sub-SLC06_ses-2_task-rest_run-5_bold_combined_cleaned.nii.gz to FLOAT32\n",
      "     Warnings of this type will be muted for this session.\n",
      "     Set AFNI_NIFTI_TYPE_WARN to YES to see them all, NO to see none.\n",
      "++ Output dataset /home/govindas/mouse_dataset/roi_results_v2/type-spatial_size-225_symm-True_braindiv-whl_nrois-162/runwise_timeseries/sub-SLC06_ses-2_run-5_task-rest_desc-roi-ts.nii.gz\n"
     ]
    },
    {
     "name": "stdout",
     "output_type": "stream",
     "text": [
      "sub-SLC06_ses-2_run-7_task-rest_desc-roi-ts\n"
     ]
    },
    {
     "name": "stderr",
     "output_type": "stream",
     "text": [
      "++ 3dcalc: AFNI version=AFNI_20.2.18 (Sep 17 2020) [64-bit]\n",
      "++ Authored by: A cast of thousands\n",
      "** AFNI converts NIFTI_datatype=64 (FLOAT64) in file /mnt/stor1/govindas/mouse_dataset/voxel/cleaned_timeseries/_split_name_sub-SLC06_ses-2_task-rest_run-7_bold/sub-SLC06_ses-2_task-rest_run-7_bold_combined_cleaned.nii.gz to FLOAT32\n",
      "     Warnings of this type will be muted for this session.\n",
      "     Set AFNI_NIFTI_TYPE_WARN to YES to see them all, NO to see none.\n",
      "++ Output dataset /home/govindas/mouse_dataset/roi_results_v2/type-spatial_size-225_symm-True_braindiv-whl_nrois-162/runwise_timeseries/sub-SLC06_ses-2_run-7_task-rest_desc-roi-ts.nii.gz\n"
     ]
    },
    {
     "name": "stdout",
     "output_type": "stream",
     "text": [
      "sub-SLC07_ses-1_run-7_task-rest_desc-roi-ts\n",
      "sub-SLC06_ses-3_run-1_task-rest_desc-roi-ts\n"
     ]
    },
    {
     "name": "stderr",
     "output_type": "stream",
     "text": [
      "++ 3dcalc: AFNI version=AFNI_20.2.18 (Sep 17 2020) [64-bit]\n",
      "++ Authored by: A cast of thousands\n",
      "** AFNI converts NIFTI_datatype=64 (FLOAT64) in file /mnt/stor1/govindas/mouse_dataset/voxel/cleaned_timeseries/_split_name_sub-SLC07_ses-1_task-rest_run-7_bold/sub-SLC07_ses-1_task-rest_run-7_bold_combined_cleaned.nii.gz to FLOAT32\n",
      "     Warnings of this type will be muted for this session.\n",
      "     Set AFNI_NIFTI_TYPE_WARN to YES to see them all, NO to see none.\n",
      "++ Output dataset /home/govindas/mouse_dataset/roi_results_v2/type-spatial_size-225_symm-True_braindiv-whl_nrois-162/runwise_timeseries/sub-SLC07_ses-1_run-7_task-rest_desc-roi-ts.nii.gz\n",
      "++ 3dcalc: AFNI version=AFNI_20.2.18 (Sep 17 2020) [64-bit]\n",
      "++ Authored by: A cast of thousands\n",
      "** AFNI converts NIFTI_datatype=64 (FLOAT64) in file /mnt/stor1/govindas/mouse_dataset/voxel/cleaned_timeseries/_split_name_sub-SLC06_ses-3_task-rest_run-1_bold/sub-SLC06_ses-3_task-rest_run-1_bold_combined_cleaned.nii.gz to FLOAT32\n",
      "     Warnings of this type will be muted for this session.\n",
      "     Set AFNI_NIFTI_TYPE_WARN to YES to see them all, NO to see none.\n",
      "++ Output dataset /home/govindas/mouse_dataset/roi_results_v2/type-spatial_size-225_symm-True_braindiv-whl_nrois-162/runwise_timeseries/sub-SLC06_ses-3_run-1_task-rest_desc-roi-ts.nii.gz\n"
     ]
    },
    {
     "name": "stdout",
     "output_type": "stream",
     "text": [
      "sub-SLC07_ses-1_run-5_task-rest_desc-roi-ts\n"
     ]
    },
    {
     "name": "stderr",
     "output_type": "stream",
     "text": [
      "++ 3dcalc: AFNI version=AFNI_20.2.18 (Sep 17 2020) [64-bit]\n",
      "++ Authored by: A cast of thousands\n",
      "** AFNI converts NIFTI_datatype=64 (FLOAT64) in file /mnt/stor1/govindas/mouse_dataset/voxel/cleaned_timeseries/_split_name_sub-SLC07_ses-1_task-rest_run-5_bold/sub-SLC07_ses-1_task-rest_run-5_bold_combined_cleaned.nii.gz to FLOAT32\n",
      "     Warnings of this type will be muted for this session.\n",
      "     Set AFNI_NIFTI_TYPE_WARN to YES to see them all, NO to see none.\n",
      "++ Output dataset /home/govindas/mouse_dataset/roi_results_v2/type-spatial_size-225_symm-True_braindiv-whl_nrois-162/runwise_timeseries/sub-SLC07_ses-1_run-5_task-rest_desc-roi-ts.nii.gz\n"
     ]
    },
    {
     "name": "stdout",
     "output_type": "stream",
     "text": [
      "sub-SLC06_ses-3_run-7_task-rest_desc-roi-ts\n"
     ]
    },
    {
     "name": "stderr",
     "output_type": "stream",
     "text": [
      "++ 3dcalc: AFNI version=AFNI_20.2.18 (Sep 17 2020) [64-bit]\n",
      "++ Authored by: A cast of thousands\n",
      "** AFNI converts NIFTI_datatype=64 (FLOAT64) in file /mnt/stor1/govindas/mouse_dataset/voxel/cleaned_timeseries/_split_name_sub-SLC06_ses-3_task-rest_run-7_bold/sub-SLC06_ses-3_task-rest_run-7_bold_combined_cleaned.nii.gz to FLOAT32\n",
      "     Warnings of this type will be muted for this session.\n",
      "     Set AFNI_NIFTI_TYPE_WARN to YES to see them all, NO to see none.\n",
      "++ Output dataset /home/govindas/mouse_dataset/roi_results_v2/type-spatial_size-225_symm-True_braindiv-whl_nrois-162/runwise_timeseries/sub-SLC06_ses-3_run-7_task-rest_desc-roi-ts.nii.gz\n"
     ]
    },
    {
     "name": "stdout",
     "output_type": "stream",
     "text": [
      "sub-SLC06_ses-3_run-3_task-rest_desc-roi-ts\n",
      "sub-SLC06_ses-3_run-5_task-rest_desc-roi-ts\n",
      "sub-SLC07_ses-1_run-1_task-rest_desc-roi-ts\n",
      "sub-SLC07_ses-1_run-3_task-rest_desc-roi-ts\n"
     ]
    },
    {
     "name": "stderr",
     "output_type": "stream",
     "text": [
      "++ 3dcalc: AFNI version=AFNI_20.2.18 (Sep 17 2020) [64-bit]\n",
      "++ Authored by: A cast of thousands\n",
      "** AFNI converts NIFTI_datatype=64 (FLOAT64) in file /mnt/stor1/govindas/mouse_dataset/voxel/cleaned_timeseries/_split_name_sub-SLC06_ses-3_task-rest_run-3_bold/sub-SLC06_ses-3_task-rest_run-3_bold_combined_cleaned.nii.gz to FLOAT32\n",
      "     Warnings of this type will be muted for this session.\n",
      "     Set AFNI_NIFTI_TYPE_WARN to YES to see them all, NO to see none.\n",
      "++ Output dataset /home/govindas/mouse_dataset/roi_results_v2/type-spatial_size-225_symm-True_braindiv-whl_nrois-162/runwise_timeseries/sub-SLC06_ses-3_run-3_task-rest_desc-roi-ts.nii.gz\n",
      "++ 3dcalc: AFNI version=AFNI_20.2.18 (Sep 17 2020) [64-bit]\n",
      "++ Authored by: A cast of thousands\n",
      "** AFNI converts NIFTI_datatype=64 (FLOAT64) in file /mnt/stor1/govindas/mouse_dataset/voxel/cleaned_timeseries/_split_name_sub-SLC06_ses-3_task-rest_run-5_bold/sub-SLC06_ses-3_task-rest_run-5_bold_combined_cleaned.nii.gz to FLOAT32\n",
      "     Warnings of this type will be muted for this session.\n",
      "     Set AFNI_NIFTI_TYPE_WARN to YES to see them all, NO to see none.\n",
      "++ Output dataset /home/govindas/mouse_dataset/roi_results_v2/type-spatial_size-225_symm-True_braindiv-whl_nrois-162/runwise_timeseries/sub-SLC06_ses-3_run-5_task-rest_desc-roi-ts.nii.gz\n",
      "++ 3dcalc: AFNI version=AFNI_20.2.18 (Sep 17 2020) [64-bit]\n",
      "++ Authored by: A cast of thousands\n",
      "** AFNI converts NIFTI_datatype=64 (FLOAT64) in file /mnt/stor1/govindas/mouse_dataset/voxel/cleaned_timeseries/_split_name_sub-SLC07_ses-1_task-rest_run-1_bold/sub-SLC07_ses-1_task-rest_run-1_bold_combined_cleaned.nii.gz to FLOAT32\n",
      "     Warnings of this type will be muted for this session.\n",
      "     Set AFNI_NIFTI_TYPE_WARN to YES to see them all, NO to see none.\n",
      "++ Output dataset /home/govindas/mouse_dataset/roi_results_v2/type-spatial_size-225_symm-True_braindiv-whl_nrois-162/runwise_timeseries/sub-SLC07_ses-1_run-1_task-rest_desc-roi-ts.nii.gz\n",
      "++ 3dcalc: AFNI version=AFNI_20.2.18 (Sep 17 2020) [64-bit]\n",
      "++ Authored by: A cast of thousands\n",
      "** AFNI converts NIFTI_datatype=64 (FLOAT64) in file /mnt/stor1/govindas/mouse_dataset/voxel/cleaned_timeseries/_split_name_sub-SLC07_ses-1_task-rest_run-3_bold/sub-SLC07_ses-1_task-rest_run-3_bold_combined_cleaned.nii.gz to FLOAT32\n",
      "     Warnings of this type will be muted for this session.\n",
      "     Set AFNI_NIFTI_TYPE_WARN to YES to see them all, NO to see none.\n",
      "++ Output dataset /home/govindas/mouse_dataset/roi_results_v2/type-spatial_size-225_symm-True_braindiv-whl_nrois-162/runwise_timeseries/sub-SLC07_ses-1_run-3_task-rest_desc-roi-ts.nii.gz\n"
     ]
    },
    {
     "name": "stdout",
     "output_type": "stream",
     "text": [
      "sub-SLC07_ses-2_run-3_task-rest_desc-roi-ts\n"
     ]
    },
    {
     "name": "stderr",
     "output_type": "stream",
     "text": [
      "++ 3dcalc: AFNI version=AFNI_20.2.18 (Sep 17 2020) [64-bit]\n",
      "++ Authored by: A cast of thousands\n",
      "** AFNI converts NIFTI_datatype=64 (FLOAT64) in file /mnt/stor1/govindas/mouse_dataset/voxel/cleaned_timeseries/_split_name_sub-SLC07_ses-2_task-rest_run-3_bold/sub-SLC07_ses-2_task-rest_run-3_bold_combined_cleaned.nii.gz to FLOAT32\n",
      "     Warnings of this type will be muted for this session.\n",
      "     Set AFNI_NIFTI_TYPE_WARN to YES to see them all, NO to see none.\n",
      "++ Output dataset /home/govindas/mouse_dataset/roi_results_v2/type-spatial_size-225_symm-True_braindiv-whl_nrois-162/runwise_timeseries/sub-SLC07_ses-2_run-3_task-rest_desc-roi-ts.nii.gz\n"
     ]
    },
    {
     "name": "stdout",
     "output_type": "stream",
     "text": [
      "sub-SLC07_ses-2_run-5_task-rest_desc-roi-ts\n"
     ]
    },
    {
     "name": "stderr",
     "output_type": "stream",
     "text": [
      "++ 3dcalc: AFNI version=AFNI_20.2.18 (Sep 17 2020) [64-bit]\n",
      "++ Authored by: A cast of thousands\n",
      "** AFNI converts NIFTI_datatype=64 (FLOAT64) in file /mnt/stor1/govindas/mouse_dataset/voxel/cleaned_timeseries/_split_name_sub-SLC07_ses-2_task-rest_run-5_bold/sub-SLC07_ses-2_task-rest_run-5_bold_combined_cleaned.nii.gz to FLOAT32\n",
      "     Warnings of this type will be muted for this session.\n",
      "     Set AFNI_NIFTI_TYPE_WARN to YES to see them all, NO to see none.\n",
      "++ Output dataset /home/govindas/mouse_dataset/roi_results_v2/type-spatial_size-225_symm-True_braindiv-whl_nrois-162/runwise_timeseries/sub-SLC07_ses-2_run-5_task-rest_desc-roi-ts.nii.gz\n"
     ]
    },
    {
     "name": "stdout",
     "output_type": "stream",
     "text": [
      "sub-SLC07_ses-2_run-7_task-rest_desc-roi-ts\n",
      "sub-SLC07_ses-3_run-1_task-rest_desc-roi-ts\n"
     ]
    },
    {
     "name": "stderr",
     "output_type": "stream",
     "text": [
      "++ 3dcalc: AFNI version=AFNI_20.2.18 (Sep 17 2020) [64-bit]\n",
      "++ Authored by: A cast of thousands\n",
      "** AFNI converts NIFTI_datatype=64 (FLOAT64) in file /mnt/stor1/govindas/mouse_dataset/voxel/cleaned_timeseries/_split_name_sub-SLC07_ses-2_task-rest_run-7_bold/sub-SLC07_ses-2_task-rest_run-7_bold_combined_cleaned.nii.gz to FLOAT32\n",
      "     Warnings of this type will be muted for this session.\n",
      "     Set AFNI_NIFTI_TYPE_WARN to YES to see them all, NO to see none.\n",
      "++ Output dataset /home/govindas/mouse_dataset/roi_results_v2/type-spatial_size-225_symm-True_braindiv-whl_nrois-162/runwise_timeseries/sub-SLC07_ses-2_run-7_task-rest_desc-roi-ts.nii.gz\n",
      "++ 3dcalc: AFNI version=AFNI_20.2.18 (Sep 17 2020) [64-bit]\n",
      "++ Authored by: A cast of thousands\n",
      "** AFNI converts NIFTI_datatype=64 (FLOAT64) in file /mnt/stor1/govindas/mouse_dataset/voxel/cleaned_timeseries/_split_name_sub-SLC07_ses-3_task-rest_run-1_bold/sub-SLC07_ses-3_task-rest_run-1_bold_combined_cleaned.nii.gz to FLOAT32\n",
      "     Warnings of this type will be muted for this session.\n",
      "     Set AFNI_NIFTI_TYPE_WARN to YES to see them all, NO to see none.\n",
      "++ Output dataset /home/govindas/mouse_dataset/roi_results_v2/type-spatial_size-225_symm-True_braindiv-whl_nrois-162/runwise_timeseries/sub-SLC07_ses-3_run-1_task-rest_desc-roi-ts.nii.gz\n"
     ]
    },
    {
     "name": "stdout",
     "output_type": "stream",
     "text": [
      "sub-SLC07_ses-3_run-3_task-rest_desc-roi-ts\n",
      "sub-SLC08_ses-1_run-5_task-rest_desc-roi-ts\n"
     ]
    },
    {
     "name": "stderr",
     "output_type": "stream",
     "text": [
      "++ 3dcalc: AFNI version=AFNI_20.2.18 (Sep 17 2020) [64-bit]\n",
      "++ Authored by: A cast of thousands\n",
      "** AFNI converts NIFTI_datatype=64 (FLOAT64) in file /mnt/stor1/govindas/mouse_dataset/voxel/cleaned_timeseries/_split_name_sub-SLC07_ses-3_task-rest_run-3_bold/sub-SLC07_ses-3_task-rest_run-3_bold_combined_cleaned.nii.gz to FLOAT32\n",
      "     Warnings of this type will be muted for this session.\n",
      "     Set AFNI_NIFTI_TYPE_WARN to YES to see them all, NO to see none.\n",
      "++ Output dataset /home/govindas/mouse_dataset/roi_results_v2/type-spatial_size-225_symm-True_braindiv-whl_nrois-162/runwise_timeseries/sub-SLC07_ses-3_run-3_task-rest_desc-roi-ts.nii.gz\n",
      "++ 3dcalc: AFNI version=AFNI_20.2.18 (Sep 17 2020) [64-bit]\n",
      "++ Authored by: A cast of thousands\n",
      "** AFNI converts NIFTI_datatype=64 (FLOAT64) in file /mnt/stor1/govindas/mouse_dataset/voxel/cleaned_timeseries/_split_name_sub-SLC08_ses-1_task-rest_run-5_bold/sub-SLC08_ses-1_task-rest_run-5_bold_combined_cleaned.nii.gz to FLOAT32\n",
      "     Warnings of this type will be muted for this session.\n",
      "     Set AFNI_NIFTI_TYPE_WARN to YES to see them all, NO to see none.\n",
      "++ Output dataset /home/govindas/mouse_dataset/roi_results_v2/type-spatial_size-225_symm-True_braindiv-whl_nrois-162/runwise_timeseries/sub-SLC08_ses-1_run-5_task-rest_desc-roi-ts.nii.gz\n"
     ]
    },
    {
     "name": "stdout",
     "output_type": "stream",
     "text": [
      "sub-SLC08_ses-1_run-3_task-rest_desc-roi-ts\n",
      "sub-SLC07_ses-3_run-7_task-rest_desc-roi-ts\n"
     ]
    },
    {
     "name": "stderr",
     "output_type": "stream",
     "text": [
      "++ 3dcalc: AFNI version=AFNI_20.2.18 (Sep 17 2020) [64-bit]\n",
      "++ Authored by: A cast of thousands\n",
      "** AFNI converts NIFTI_datatype=64 (FLOAT64) in file /mnt/stor1/govindas/mouse_dataset/voxel/cleaned_timeseries/_split_name_sub-SLC08_ses-1_task-rest_run-3_bold/sub-SLC08_ses-1_task-rest_run-3_bold_combined_cleaned.nii.gz to FLOAT32\n",
      "     Warnings of this type will be muted for this session.\n",
      "     Set AFNI_NIFTI_TYPE_WARN to YES to see them all, NO to see none.\n",
      "++ Output dataset /home/govindas/mouse_dataset/roi_results_v2/type-spatial_size-225_symm-True_braindiv-whl_nrois-162/runwise_timeseries/sub-SLC08_ses-1_run-3_task-rest_desc-roi-ts.nii.gz\n",
      "++ 3dcalc: AFNI version=AFNI_20.2.18 (Sep 17 2020) [64-bit]\n",
      "++ Authored by: A cast of thousands\n",
      "** AFNI converts NIFTI_datatype=64 (FLOAT64) in file /mnt/stor1/govindas/mouse_dataset/voxel/cleaned_timeseries/_split_name_sub-SLC07_ses-3_task-rest_run-7_bold/sub-SLC07_ses-3_task-rest_run-7_bold_combined_cleaned.nii.gz to FLOAT32\n",
      "     Warnings of this type will be muted for this session.\n",
      "     Set AFNI_NIFTI_TYPE_WARN to YES to see them all, NO to see none.\n",
      "++ Output dataset /home/govindas/mouse_dataset/roi_results_v2/type-spatial_size-225_symm-True_braindiv-whl_nrois-162/runwise_timeseries/sub-SLC07_ses-3_run-7_task-rest_desc-roi-ts.nii.gz\n"
     ]
    },
    {
     "name": "stdout",
     "output_type": "stream",
     "text": [
      "sub-SLC08_ses-2_run-1_task-rest_desc-roi-ts\n",
      "sub-SLC08_ses-1_run-1_task-rest_desc-roi-ts\n",
      "sub-SLC07_ses-3_run-5_task-rest_desc-roi-ts\n"
     ]
    },
    {
     "name": "stderr",
     "output_type": "stream",
     "text": [
      "++ 3dcalc: AFNI version=AFNI_20.2.18 (Sep 17 2020) [64-bit]\n",
      "++ Authored by: A cast of thousands\n",
      "** AFNI converts NIFTI_datatype=64 (FLOAT64) in file /mnt/stor1/govindas/mouse_dataset/voxel/cleaned_timeseries/_split_name_sub-SLC08_ses-2_task-rest_run-1_bold/sub-SLC08_ses-2_task-rest_run-1_bold_combined_cleaned.nii.gz to FLOAT32\n",
      "     Warnings of this type will be muted for this session.\n",
      "     Set AFNI_NIFTI_TYPE_WARN to YES to see them all, NO to see none.\n",
      "++ Output dataset /home/govindas/mouse_dataset/roi_results_v2/type-spatial_size-225_symm-True_braindiv-whl_nrois-162/runwise_timeseries/sub-SLC08_ses-2_run-1_task-rest_desc-roi-ts.nii.gz\n",
      "++ 3dcalc: AFNI version=AFNI_20.2.18 (Sep 17 2020) [64-bit]\n",
      "++ Authored by: A cast of thousands\n",
      "** AFNI converts NIFTI_datatype=64 (FLOAT64) in file /mnt/stor1/govindas/mouse_dataset/voxel/cleaned_timeseries/_split_name_sub-SLC08_ses-1_task-rest_run-1_bold/sub-SLC08_ses-1_task-rest_run-1_bold_combined_cleaned.nii.gz to FLOAT32\n",
      "     Warnings of this type will be muted for this session.\n",
      "     Set AFNI_NIFTI_TYPE_WARN to YES to see them all, NO to see none.\n",
      "++ Output dataset /home/govindas/mouse_dataset/roi_results_v2/type-spatial_size-225_symm-True_braindiv-whl_nrois-162/runwise_timeseries/sub-SLC08_ses-1_run-1_task-rest_desc-roi-ts.nii.gz\n",
      "++ 3dcalc: AFNI version=AFNI_20.2.18 (Sep 17 2020) [64-bit]\n",
      "++ Authored by: A cast of thousands\n",
      "** AFNI converts NIFTI_datatype=64 (FLOAT64) in file /mnt/stor1/govindas/mouse_dataset/voxel/cleaned_timeseries/_split_name_sub-SLC07_ses-3_task-rest_run-5_bold/sub-SLC07_ses-3_task-rest_run-5_bold_combined_cleaned.nii.gz to FLOAT32\n",
      "     Warnings of this type will be muted for this session.\n",
      "     Set AFNI_NIFTI_TYPE_WARN to YES to see them all, NO to see none.\n",
      "++ Output dataset /home/govindas/mouse_dataset/roi_results_v2/type-spatial_size-225_symm-True_braindiv-whl_nrois-162/runwise_timeseries/sub-SLC07_ses-3_run-5_task-rest_desc-roi-ts.nii.gz\n"
     ]
    },
    {
     "name": "stdout",
     "output_type": "stream",
     "text": [
      "sub-SLC08_ses-2_run-3_task-rest_desc-roi-ts\n"
     ]
    },
    {
     "name": "stderr",
     "output_type": "stream",
     "text": [
      "++ 3dcalc: AFNI version=AFNI_20.2.18 (Sep 17 2020) [64-bit]\n",
      "++ Authored by: A cast of thousands\n",
      "** AFNI converts NIFTI_datatype=64 (FLOAT64) in file /mnt/stor1/govindas/mouse_dataset/voxel/cleaned_timeseries/_split_name_sub-SLC08_ses-2_task-rest_run-3_bold/sub-SLC08_ses-2_task-rest_run-3_bold_combined_cleaned.nii.gz to FLOAT32\n",
      "     Warnings of this type will be muted for this session.\n",
      "     Set AFNI_NIFTI_TYPE_WARN to YES to see them all, NO to see none.\n",
      "++ Output dataset /home/govindas/mouse_dataset/roi_results_v2/type-spatial_size-225_symm-True_braindiv-whl_nrois-162/runwise_timeseries/sub-SLC08_ses-2_run-3_task-rest_desc-roi-ts.nii.gz\n"
     ]
    },
    {
     "name": "stdout",
     "output_type": "stream",
     "text": [
      "sub-SLC08_ses-2_run-7_task-rest_desc-roi-ts\n"
     ]
    },
    {
     "name": "stderr",
     "output_type": "stream",
     "text": [
      "++ 3dcalc: AFNI version=AFNI_20.2.18 (Sep 17 2020) [64-bit]\n",
      "++ Authored by: A cast of thousands\n",
      "** AFNI converts NIFTI_datatype=64 (FLOAT64) in file /mnt/stor1/govindas/mouse_dataset/voxel/cleaned_timeseries/_split_name_sub-SLC08_ses-2_task-rest_run-7_bold/sub-SLC08_ses-2_task-rest_run-7_bold_combined_cleaned.nii.gz to FLOAT32\n",
      "     Warnings of this type will be muted for this session.\n",
      "     Set AFNI_NIFTI_TYPE_WARN to YES to see them all, NO to see none.\n",
      "++ Output dataset /home/govindas/mouse_dataset/roi_results_v2/type-spatial_size-225_symm-True_braindiv-whl_nrois-162/runwise_timeseries/sub-SLC08_ses-2_run-7_task-rest_desc-roi-ts.nii.gz\n"
     ]
    },
    {
     "name": "stdout",
     "output_type": "stream",
     "text": [
      "sub-SLC08_ses-3_run-1_task-rest_desc-roi-ts\n"
     ]
    },
    {
     "name": "stderr",
     "output_type": "stream",
     "text": [
      "++ 3dcalc: AFNI version=AFNI_20.2.18 (Sep 17 2020) [64-bit]\n",
      "++ Authored by: A cast of thousands\n",
      "** AFNI converts NIFTI_datatype=64 (FLOAT64) in file /mnt/stor1/govindas/mouse_dataset/voxel/cleaned_timeseries/_split_name_sub-SLC08_ses-3_task-rest_run-1_bold/sub-SLC08_ses-3_task-rest_run-1_bold_combined_cleaned.nii.gz to FLOAT32\n",
      "     Warnings of this type will be muted for this session.\n",
      "     Set AFNI_NIFTI_TYPE_WARN to YES to see them all, NO to see none.\n",
      "++ Output dataset /home/govindas/mouse_dataset/roi_results_v2/type-spatial_size-225_symm-True_braindiv-whl_nrois-162/runwise_timeseries/sub-SLC08_ses-3_run-1_task-rest_desc-roi-ts.nii.gz\n"
     ]
    },
    {
     "name": "stdout",
     "output_type": "stream",
     "text": [
      "sub-SLC08_ses-2_run-5_task-rest_desc-roi-ts\n"
     ]
    },
    {
     "name": "stderr",
     "output_type": "stream",
     "text": [
      "++ 3dcalc: AFNI version=AFNI_20.2.18 (Sep 17 2020) [64-bit]\n",
      "++ Authored by: A cast of thousands\n",
      "** AFNI converts NIFTI_datatype=64 (FLOAT64) in file /mnt/stor1/govindas/mouse_dataset/voxel/cleaned_timeseries/_split_name_sub-SLC08_ses-2_task-rest_run-5_bold/sub-SLC08_ses-2_task-rest_run-5_bold_combined_cleaned.nii.gz to FLOAT32\n",
      "     Warnings of this type will be muted for this session.\n",
      "     Set AFNI_NIFTI_TYPE_WARN to YES to see them all, NO to see none.\n",
      "++ Output dataset /home/govindas/mouse_dataset/roi_results_v2/type-spatial_size-225_symm-True_braindiv-whl_nrois-162/runwise_timeseries/sub-SLC08_ses-2_run-5_task-rest_desc-roi-ts.nii.gz\n"
     ]
    },
    {
     "name": "stdout",
     "output_type": "stream",
     "text": [
      "sub-SLC08_ses-3_run-3_task-rest_desc-roi-ts\n"
     ]
    },
    {
     "name": "stderr",
     "output_type": "stream",
     "text": [
      "++ 3dcalc: AFNI version=AFNI_20.2.18 (Sep 17 2020) [64-bit]\n",
      "++ Authored by: A cast of thousands\n",
      "** AFNI converts NIFTI_datatype=64 (FLOAT64) in file /mnt/stor1/govindas/mouse_dataset/voxel/cleaned_timeseries/_split_name_sub-SLC08_ses-3_task-rest_run-3_bold/sub-SLC08_ses-3_task-rest_run-3_bold_combined_cleaned.nii.gz to FLOAT32\n",
      "     Warnings of this type will be muted for this session.\n",
      "     Set AFNI_NIFTI_TYPE_WARN to YES to see them all, NO to see none.\n",
      "++ Output dataset /home/govindas/mouse_dataset/roi_results_v2/type-spatial_size-225_symm-True_braindiv-whl_nrois-162/runwise_timeseries/sub-SLC08_ses-3_run-3_task-rest_desc-roi-ts.nii.gz\n"
     ]
    },
    {
     "name": "stdout",
     "output_type": "stream",
     "text": [
      "sub-SLC08_ses-3_run-7_task-rest_desc-roi-ts\n"
     ]
    },
    {
     "name": "stderr",
     "output_type": "stream",
     "text": [
      "++ 3dcalc: AFNI version=AFNI_20.2.18 (Sep 17 2020) [64-bit]\n",
      "++ Authored by: A cast of thousands\n",
      "** AFNI converts NIFTI_datatype=64 (FLOAT64) in file /mnt/stor1/govindas/mouse_dataset/voxel/cleaned_timeseries/_split_name_sub-SLC08_ses-3_task-rest_run-7_bold/sub-SLC08_ses-3_task-rest_run-7_bold_combined_cleaned.nii.gz to FLOAT32\n",
      "     Warnings of this type will be muted for this session.\n",
      "     Set AFNI_NIFTI_TYPE_WARN to YES to see them all, NO to see none.\n",
      "++ Output dataset /home/govindas/mouse_dataset/roi_results_v2/type-spatial_size-225_symm-True_braindiv-whl_nrois-162/runwise_timeseries/sub-SLC08_ses-3_run-7_task-rest_desc-roi-ts.nii.gz\n"
     ]
    },
    {
     "name": "stdout",
     "output_type": "stream",
     "text": [
      "sub-SLC08_ses-3_run-5_task-rest_desc-roi-ts\n"
     ]
    },
    {
     "name": "stderr",
     "output_type": "stream",
     "text": [
      "++ 3dcalc: AFNI version=AFNI_20.2.18 (Sep 17 2020) [64-bit]\n",
      "++ Authored by: A cast of thousands\n",
      "** AFNI converts NIFTI_datatype=64 (FLOAT64) in file /mnt/stor1/govindas/mouse_dataset/voxel/cleaned_timeseries/_split_name_sub-SLC08_ses-3_task-rest_run-5_bold/sub-SLC08_ses-3_task-rest_run-5_bold_combined_cleaned.nii.gz to FLOAT32\n",
      "     Warnings of this type will be muted for this session.\n",
      "     Set AFNI_NIFTI_TYPE_WARN to YES to see them all, NO to see none.\n",
      "++ Output dataset /home/govindas/mouse_dataset/roi_results_v2/type-spatial_size-225_symm-True_braindiv-whl_nrois-162/runwise_timeseries/sub-SLC08_ses-3_run-5_task-rest_desc-roi-ts.nii.gz\n"
     ]
    },
    {
     "name": "stdout",
     "output_type": "stream",
     "text": [
      "sub-SLC09_ses-1_run-5_task-rest_desc-roi-ts\n"
     ]
    },
    {
     "name": "stderr",
     "output_type": "stream",
     "text": [
      "++ 3dcalc: AFNI version=AFNI_20.2.18 (Sep 17 2020) [64-bit]\n",
      "++ Authored by: A cast of thousands\n",
      "** AFNI converts NIFTI_datatype=64 (FLOAT64) in file /mnt/stor1/govindas/mouse_dataset/voxel/cleaned_timeseries/_split_name_sub-SLC09_ses-1_task-rest_run-5_bold/sub-SLC09_ses-1_task-rest_run-5_bold_combined_cleaned.nii.gz to FLOAT32\n",
      "     Warnings of this type will be muted for this session.\n",
      "     Set AFNI_NIFTI_TYPE_WARN to YES to see them all, NO to see none.\n",
      "++ Output dataset /home/govindas/mouse_dataset/roi_results_v2/type-spatial_size-225_symm-True_braindiv-whl_nrois-162/runwise_timeseries/sub-SLC09_ses-1_run-5_task-rest_desc-roi-ts.nii.gz\n"
     ]
    },
    {
     "name": "stdout",
     "output_type": "stream",
     "text": [
      "sub-SLC09_ses-1_run-3_task-rest_desc-roi-ts\n"
     ]
    },
    {
     "name": "stderr",
     "output_type": "stream",
     "text": [
      "++ 3dcalc: AFNI version=AFNI_20.2.18 (Sep 17 2020) [64-bit]\n",
      "++ Authored by: A cast of thousands\n",
      "** AFNI converts NIFTI_datatype=64 (FLOAT64) in file /mnt/stor1/govindas/mouse_dataset/voxel/cleaned_timeseries/_split_name_sub-SLC09_ses-1_task-rest_run-3_bold/sub-SLC09_ses-1_task-rest_run-3_bold_combined_cleaned.nii.gz to FLOAT32\n",
      "     Warnings of this type will be muted for this session.\n",
      "     Set AFNI_NIFTI_TYPE_WARN to YES to see them all, NO to see none.\n",
      "++ Output dataset /home/govindas/mouse_dataset/roi_results_v2/type-spatial_size-225_symm-True_braindiv-whl_nrois-162/runwise_timeseries/sub-SLC09_ses-1_run-3_task-rest_desc-roi-ts.nii.gz\n"
     ]
    },
    {
     "name": "stdout",
     "output_type": "stream",
     "text": [
      "sub-SLC09_ses-1_run-1_task-rest_desc-roi-ts\n",
      "sub-SLC09_ses-2_run-1_task-rest_desc-roi-ts\n"
     ]
    },
    {
     "name": "stderr",
     "output_type": "stream",
     "text": [
      "++ 3dcalc: AFNI version=AFNI_20.2.18 (Sep 17 2020) [64-bit]\n",
      "++ Authored by: A cast of thousands\n",
      "** AFNI converts NIFTI_datatype=64 (FLOAT64) in file /mnt/stor1/govindas/mouse_dataset/voxel/cleaned_timeseries/_split_name_sub-SLC09_ses-1_task-rest_run-1_bold/sub-SLC09_ses-1_task-rest_run-1_bold_combined_cleaned.nii.gz to FLOAT32\n",
      "     Warnings of this type will be muted for this session.\n",
      "     Set AFNI_NIFTI_TYPE_WARN to YES to see them all, NO to see none.\n",
      "++ Output dataset /home/govindas/mouse_dataset/roi_results_v2/type-spatial_size-225_symm-True_braindiv-whl_nrois-162/runwise_timeseries/sub-SLC09_ses-1_run-1_task-rest_desc-roi-ts.nii.gz\n",
      "++ 3dcalc: AFNI version=AFNI_20.2.18 (Sep 17 2020) [64-bit]\n",
      "++ Authored by: A cast of thousands\n",
      "** AFNI converts NIFTI_datatype=64 (FLOAT64) in file /mnt/stor1/govindas/mouse_dataset/voxel/cleaned_timeseries/_split_name_sub-SLC09_ses-2_task-rest_run-1_bold/sub-SLC09_ses-2_task-rest_run-1_bold_combined_cleaned.nii.gz to FLOAT32\n",
      "     Warnings of this type will be muted for this session.\n",
      "     Set AFNI_NIFTI_TYPE_WARN to YES to see them all, NO to see none.\n",
      "++ Output dataset /home/govindas/mouse_dataset/roi_results_v2/type-spatial_size-225_symm-True_braindiv-whl_nrois-162/runwise_timeseries/sub-SLC09_ses-2_run-1_task-rest_desc-roi-ts.nii.gz\n"
     ]
    },
    {
     "name": "stdout",
     "output_type": "stream",
     "text": [
      "sub-SLC09_ses-1_run-7_task-rest_desc-roi-ts\n"
     ]
    },
    {
     "name": "stderr",
     "output_type": "stream",
     "text": [
      "++ 3dcalc: AFNI version=AFNI_20.2.18 (Sep 17 2020) [64-bit]\n",
      "++ Authored by: A cast of thousands\n",
      "** AFNI converts NIFTI_datatype=64 (FLOAT64) in file /mnt/stor1/govindas/mouse_dataset/voxel/cleaned_timeseries/_split_name_sub-SLC09_ses-1_task-rest_run-7_bold/sub-SLC09_ses-1_task-rest_run-7_bold_combined_cleaned.nii.gz to FLOAT32\n",
      "     Warnings of this type will be muted for this session.\n",
      "     Set AFNI_NIFTI_TYPE_WARN to YES to see them all, NO to see none.\n",
      "++ Output dataset /home/govindas/mouse_dataset/roi_results_v2/type-spatial_size-225_symm-True_braindiv-whl_nrois-162/runwise_timeseries/sub-SLC09_ses-1_run-7_task-rest_desc-roi-ts.nii.gz\n"
     ]
    },
    {
     "name": "stdout",
     "output_type": "stream",
     "text": [
      "sub-SLC09_ses-2_run-5_task-rest_desc-roi-ts\n"
     ]
    },
    {
     "name": "stderr",
     "output_type": "stream",
     "text": [
      "++ 3dcalc: AFNI version=AFNI_20.2.18 (Sep 17 2020) [64-bit]\n",
      "++ Authored by: A cast of thousands\n",
      "** AFNI converts NIFTI_datatype=64 (FLOAT64) in file /mnt/stor1/govindas/mouse_dataset/voxel/cleaned_timeseries/_split_name_sub-SLC09_ses-2_task-rest_run-5_bold/sub-SLC09_ses-2_task-rest_run-5_bold_combined_cleaned.nii.gz to FLOAT32\n",
      "     Warnings of this type will be muted for this session.\n",
      "     Set AFNI_NIFTI_TYPE_WARN to YES to see them all, NO to see none.\n",
      "++ Output dataset /home/govindas/mouse_dataset/roi_results_v2/type-spatial_size-225_symm-True_braindiv-whl_nrois-162/runwise_timeseries/sub-SLC09_ses-2_run-5_task-rest_desc-roi-ts.nii.gz\n"
     ]
    },
    {
     "name": "stdout",
     "output_type": "stream",
     "text": [
      "sub-SLC09_ses-2_run-3_task-rest_desc-roi-ts\n"
     ]
    },
    {
     "name": "stderr",
     "output_type": "stream",
     "text": [
      "++ 3dcalc: AFNI version=AFNI_20.2.18 (Sep 17 2020) [64-bit]\n",
      "++ Authored by: A cast of thousands\n",
      "** AFNI converts NIFTI_datatype=64 (FLOAT64) in file /mnt/stor1/govindas/mouse_dataset/voxel/cleaned_timeseries/_split_name_sub-SLC09_ses-2_task-rest_run-3_bold/sub-SLC09_ses-2_task-rest_run-3_bold_combined_cleaned.nii.gz to FLOAT32\n",
      "     Warnings of this type will be muted for this session.\n",
      "     Set AFNI_NIFTI_TYPE_WARN to YES to see them all, NO to see none.\n",
      "++ Output dataset /home/govindas/mouse_dataset/roi_results_v2/type-spatial_size-225_symm-True_braindiv-whl_nrois-162/runwise_timeseries/sub-SLC09_ses-2_run-3_task-rest_desc-roi-ts.nii.gz\n"
     ]
    },
    {
     "name": "stdout",
     "output_type": "stream",
     "text": [
      "sub-SLC09_ses-2_run-7_task-rest_desc-roi-ts\n"
     ]
    },
    {
     "name": "stderr",
     "output_type": "stream",
     "text": [
      "++ 3dcalc: AFNI version=AFNI_20.2.18 (Sep 17 2020) [64-bit]\n",
      "++ Authored by: A cast of thousands\n",
      "** AFNI converts NIFTI_datatype=64 (FLOAT64) in file /mnt/stor1/govindas/mouse_dataset/voxel/cleaned_timeseries/_split_name_sub-SLC09_ses-2_task-rest_run-7_bold/sub-SLC09_ses-2_task-rest_run-7_bold_combined_cleaned.nii.gz to FLOAT32\n",
      "     Warnings of this type will be muted for this session.\n",
      "     Set AFNI_NIFTI_TYPE_WARN to YES to see them all, NO to see none.\n",
      "++ Output dataset /home/govindas/mouse_dataset/roi_results_v2/type-spatial_size-225_symm-True_braindiv-whl_nrois-162/runwise_timeseries/sub-SLC09_ses-2_run-7_task-rest_desc-roi-ts.nii.gz\n"
     ]
    },
    {
     "name": "stdout",
     "output_type": "stream",
     "text": [
      "sub-SLC10_ses-1_run-5_task-rest_desc-roi-ts\n"
     ]
    },
    {
     "name": "stderr",
     "output_type": "stream",
     "text": [
      "++ 3dcalc: AFNI version=AFNI_20.2.18 (Sep 17 2020) [64-bit]\n",
      "++ Authored by: A cast of thousands\n",
      "** AFNI converts NIFTI_datatype=64 (FLOAT64) in file /mnt/stor1/govindas/mouse_dataset/voxel/cleaned_timeseries/_split_name_sub-SLC10_ses-1_task-rest_run-5_bold/sub-SLC10_ses-1_task-rest_run-5_bold_combined_cleaned.nii.gz to FLOAT32\n",
      "     Warnings of this type will be muted for this session.\n",
      "     Set AFNI_NIFTI_TYPE_WARN to YES to see them all, NO to see none.\n",
      "++ Output dataset /home/govindas/mouse_dataset/roi_results_v2/type-spatial_size-225_symm-True_braindiv-whl_nrois-162/runwise_timeseries/sub-SLC10_ses-1_run-5_task-rest_desc-roi-ts.nii.gz\n"
     ]
    },
    {
     "name": "stdout",
     "output_type": "stream",
     "text": [
      "sub-SLC09_ses-3_run-1_task-rest_desc-roi-ts\n",
      "sub-SLC09_ses-3_run-3_task-rest_desc-roi-ts\n"
     ]
    },
    {
     "name": "stderr",
     "output_type": "stream",
     "text": [
      "++ 3dcalc: AFNI version=AFNI_20.2.18 (Sep 17 2020) [64-bit]\n",
      "++ Authored by: A cast of thousands\n",
      "** AFNI converts NIFTI_datatype=64 (FLOAT64) in file /mnt/stor1/govindas/mouse_dataset/voxel/cleaned_timeseries/_split_name_sub-SLC09_ses-3_task-rest_run-1_bold/sub-SLC09_ses-3_task-rest_run-1_bold_combined_cleaned.nii.gz to FLOAT32\n",
      "     Warnings of this type will be muted for this session.\n",
      "     Set AFNI_NIFTI_TYPE_WARN to YES to see them all, NO to see none.\n",
      "++ Output dataset /home/govindas/mouse_dataset/roi_results_v2/type-spatial_size-225_symm-True_braindiv-whl_nrois-162/runwise_timeseries/sub-SLC09_ses-3_run-1_task-rest_desc-roi-ts.nii.gz\n",
      "++ 3dcalc: AFNI version=AFNI_20.2.18 (Sep 17 2020) [64-bit]\n",
      "++ Authored by: A cast of thousands\n",
      "** AFNI converts NIFTI_datatype=64 (FLOAT64) in file /mnt/stor1/govindas/mouse_dataset/voxel/cleaned_timeseries/_split_name_sub-SLC09_ses-3_task-rest_run-3_bold/sub-SLC09_ses-3_task-rest_run-3_bold_combined_cleaned.nii.gz to FLOAT32\n",
      "     Warnings of this type will be muted for this session.\n",
      "     Set AFNI_NIFTI_TYPE_WARN to YES to see them all, NO to see none.\n",
      "++ Output dataset /home/govindas/mouse_dataset/roi_results_v2/type-spatial_size-225_symm-True_braindiv-whl_nrois-162/runwise_timeseries/sub-SLC09_ses-3_run-3_task-rest_desc-roi-ts.nii.gz\n"
     ]
    },
    {
     "name": "stdout",
     "output_type": "stream",
     "text": [
      "sub-SLC09_ses-3_run-5_task-rest_desc-roi-ts\n"
     ]
    },
    {
     "name": "stderr",
     "output_type": "stream",
     "text": [
      "++ 3dcalc: AFNI version=AFNI_20.2.18 (Sep 17 2020) [64-bit]\n",
      "++ Authored by: A cast of thousands\n",
      "** AFNI converts NIFTI_datatype=64 (FLOAT64) in file /mnt/stor1/govindas/mouse_dataset/voxel/cleaned_timeseries/_split_name_sub-SLC09_ses-3_task-rest_run-5_bold/sub-SLC09_ses-3_task-rest_run-5_bold_combined_cleaned.nii.gz to FLOAT32\n",
      "     Warnings of this type will be muted for this session.\n",
      "     Set AFNI_NIFTI_TYPE_WARN to YES to see them all, NO to see none.\n",
      "++ Output dataset /home/govindas/mouse_dataset/roi_results_v2/type-spatial_size-225_symm-True_braindiv-whl_nrois-162/runwise_timeseries/sub-SLC09_ses-3_run-5_task-rest_desc-roi-ts.nii.gz\n"
     ]
    },
    {
     "name": "stdout",
     "output_type": "stream",
     "text": [
      "sub-SLC09_ses-3_run-7_task-rest_desc-roi-ts\n"
     ]
    },
    {
     "name": "stderr",
     "output_type": "stream",
     "text": [
      "++ 3dcalc: AFNI version=AFNI_20.2.18 (Sep 17 2020) [64-bit]\n",
      "++ Authored by: A cast of thousands\n",
      "** AFNI converts NIFTI_datatype=64 (FLOAT64) in file /mnt/stor1/govindas/mouse_dataset/voxel/cleaned_timeseries/_split_name_sub-SLC09_ses-3_task-rest_run-7_bold/sub-SLC09_ses-3_task-rest_run-7_bold_combined_cleaned.nii.gz to FLOAT32\n",
      "     Warnings of this type will be muted for this session.\n",
      "     Set AFNI_NIFTI_TYPE_WARN to YES to see them all, NO to see none.\n",
      "++ Output dataset /home/govindas/mouse_dataset/roi_results_v2/type-spatial_size-225_symm-True_braindiv-whl_nrois-162/runwise_timeseries/sub-SLC09_ses-3_run-7_task-rest_desc-roi-ts.nii.gz\n"
     ]
    },
    {
     "name": "stdout",
     "output_type": "stream",
     "text": [
      "sub-SLC10_ses-1_run-3_task-rest_desc-roi-ts\n",
      "sub-SLC10_ses-1_run-1_task-rest_desc-roi-ts\n"
     ]
    },
    {
     "name": "stderr",
     "output_type": "stream",
     "text": [
      "++ 3dcalc: AFNI version=AFNI_20.2.18 (Sep 17 2020) [64-bit]\n",
      "++ Authored by: A cast of thousands\n",
      "** AFNI converts NIFTI_datatype=64 (FLOAT64) in file /mnt/stor1/govindas/mouse_dataset/voxel/cleaned_timeseries/_split_name_sub-SLC10_ses-1_task-rest_run-3_bold/sub-SLC10_ses-1_task-rest_run-3_bold_combined_cleaned.nii.gz to FLOAT32\n",
      "     Warnings of this type will be muted for this session.\n",
      "     Set AFNI_NIFTI_TYPE_WARN to YES to see them all, NO to see none.\n",
      "++ Output dataset /home/govindas/mouse_dataset/roi_results_v2/type-spatial_size-225_symm-True_braindiv-whl_nrois-162/runwise_timeseries/sub-SLC10_ses-1_run-3_task-rest_desc-roi-ts.nii.gz\n",
      "++ 3dcalc: AFNI version=AFNI_20.2.18 (Sep 17 2020) [64-bit]\n",
      "++ Authored by: A cast of thousands\n",
      "** AFNI converts NIFTI_datatype=64 (FLOAT64) in file /mnt/stor1/govindas/mouse_dataset/voxel/cleaned_timeseries/_split_name_sub-SLC10_ses-1_task-rest_run-1_bold/sub-SLC10_ses-1_task-rest_run-1_bold_combined_cleaned.nii.gz to FLOAT32\n",
      "     Warnings of this type will be muted for this session.\n",
      "     Set AFNI_NIFTI_TYPE_WARN to YES to see them all, NO to see none.\n",
      "++ Output dataset /home/govindas/mouse_dataset/roi_results_v2/type-spatial_size-225_symm-True_braindiv-whl_nrois-162/runwise_timeseries/sub-SLC10_ses-1_run-1_task-rest_desc-roi-ts.nii.gz\n"
     ]
    },
    {
     "name": "stdout",
     "output_type": "stream",
     "text": [
      "sub-SLC10_ses-1_run-7_task-rest_desc-roi-ts\n"
     ]
    },
    {
     "name": "stderr",
     "output_type": "stream",
     "text": [
      "++ 3dcalc: AFNI version=AFNI_20.2.18 (Sep 17 2020) [64-bit]\n",
      "++ Authored by: A cast of thousands\n",
      "** AFNI converts NIFTI_datatype=64 (FLOAT64) in file /mnt/stor1/govindas/mouse_dataset/voxel/cleaned_timeseries/_split_name_sub-SLC10_ses-1_task-rest_run-7_bold/sub-SLC10_ses-1_task-rest_run-7_bold_combined_cleaned.nii.gz to FLOAT32\n",
      "     Warnings of this type will be muted for this session.\n",
      "     Set AFNI_NIFTI_TYPE_WARN to YES to see them all, NO to see none.\n",
      "++ Output dataset /home/govindas/mouse_dataset/roi_results_v2/type-spatial_size-225_symm-True_braindiv-whl_nrois-162/runwise_timeseries/sub-SLC10_ses-1_run-7_task-rest_desc-roi-ts.nii.gz\n"
     ]
    },
    {
     "name": "stdout",
     "output_type": "stream",
     "text": [
      "sub-SLC10_ses-2_run-1_task-rest_desc-roi-ts\n"
     ]
    },
    {
     "name": "stderr",
     "output_type": "stream",
     "text": [
      "++ 3dcalc: AFNI version=AFNI_20.2.18 (Sep 17 2020) [64-bit]\n",
      "++ Authored by: A cast of thousands\n",
      "** AFNI converts NIFTI_datatype=64 (FLOAT64) in file /mnt/stor1/govindas/mouse_dataset/voxel/cleaned_timeseries/_split_name_sub-SLC10_ses-2_task-rest_run-1_bold/sub-SLC10_ses-2_task-rest_run-1_bold_combined_cleaned.nii.gz to FLOAT32\n",
      "     Warnings of this type will be muted for this session.\n",
      "     Set AFNI_NIFTI_TYPE_WARN to YES to see them all, NO to see none.\n",
      "++ Output dataset /home/govindas/mouse_dataset/roi_results_v2/type-spatial_size-225_symm-True_braindiv-whl_nrois-162/runwise_timeseries/sub-SLC10_ses-2_run-1_task-rest_desc-roi-ts.nii.gz\n"
     ]
    },
    {
     "name": "stdout",
     "output_type": "stream",
     "text": [
      "sub-SLC10_ses-2_run-3_task-rest_desc-roi-ts\n"
     ]
    },
    {
     "name": "stderr",
     "output_type": "stream",
     "text": [
      "++ 3dcalc: AFNI version=AFNI_20.2.18 (Sep 17 2020) [64-bit]\n",
      "++ Authored by: A cast of thousands\n",
      "** AFNI converts NIFTI_datatype=64 (FLOAT64) in file /mnt/stor1/govindas/mouse_dataset/voxel/cleaned_timeseries/_split_name_sub-SLC10_ses-2_task-rest_run-3_bold/sub-SLC10_ses-2_task-rest_run-3_bold_combined_cleaned.nii.gz to FLOAT32\n",
      "     Warnings of this type will be muted for this session.\n",
      "     Set AFNI_NIFTI_TYPE_WARN to YES to see them all, NO to see none.\n",
      "++ Output dataset /home/govindas/mouse_dataset/roi_results_v2/type-spatial_size-225_symm-True_braindiv-whl_nrois-162/runwise_timeseries/sub-SLC10_ses-2_run-3_task-rest_desc-roi-ts.nii.gz\n"
     ]
    },
    {
     "name": "stdout",
     "output_type": "stream",
     "text": [
      "sub-SLC10_ses-2_run-5_task-rest_desc-roi-ts\n"
     ]
    },
    {
     "name": "stderr",
     "output_type": "stream",
     "text": [
      "++ 3dcalc: AFNI version=AFNI_20.2.18 (Sep 17 2020) [64-bit]\n",
      "++ Authored by: A cast of thousands\n",
      "** AFNI converts NIFTI_datatype=64 (FLOAT64) in file /mnt/stor1/govindas/mouse_dataset/voxel/cleaned_timeseries/_split_name_sub-SLC10_ses-2_task-rest_run-5_bold/sub-SLC10_ses-2_task-rest_run-5_bold_combined_cleaned.nii.gz to FLOAT32\n",
      "     Warnings of this type will be muted for this session.\n",
      "     Set AFNI_NIFTI_TYPE_WARN to YES to see them all, NO to see none.\n",
      "++ Output dataset /home/govindas/mouse_dataset/roi_results_v2/type-spatial_size-225_symm-True_braindiv-whl_nrois-162/runwise_timeseries/sub-SLC10_ses-2_run-5_task-rest_desc-roi-ts.nii.gz\n"
     ]
    },
    {
     "name": "stdout",
     "output_type": "stream",
     "text": [
      "sub-SLC10_ses-2_run-7_task-rest_desc-roi-ts\n"
     ]
    },
    {
     "name": "stderr",
     "output_type": "stream",
     "text": [
      "++ 3dcalc: AFNI version=AFNI_20.2.18 (Sep 17 2020) [64-bit]\n",
      "++ Authored by: A cast of thousands\n",
      "** AFNI converts NIFTI_datatype=64 (FLOAT64) in file /mnt/stor1/govindas/mouse_dataset/voxel/cleaned_timeseries/_split_name_sub-SLC10_ses-2_task-rest_run-7_bold/sub-SLC10_ses-2_task-rest_run-7_bold_combined_cleaned.nii.gz to FLOAT32\n",
      "     Warnings of this type will be muted for this session.\n",
      "     Set AFNI_NIFTI_TYPE_WARN to YES to see them all, NO to see none.\n",
      "++ Output dataset /home/govindas/mouse_dataset/roi_results_v2/type-spatial_size-225_symm-True_braindiv-whl_nrois-162/runwise_timeseries/sub-SLC10_ses-2_run-7_task-rest_desc-roi-ts.nii.gz\n"
     ]
    },
    {
     "name": "stdout",
     "output_type": "stream",
     "text": [
      "sub-SLC10_ses-3_run-1_task-rest_desc-roi-ts\n"
     ]
    },
    {
     "name": "stderr",
     "output_type": "stream",
     "text": [
      "++ 3dcalc: AFNI version=AFNI_20.2.18 (Sep 17 2020) [64-bit]\n",
      "++ Authored by: A cast of thousands\n",
      "** AFNI converts NIFTI_datatype=64 (FLOAT64) in file /mnt/stor1/govindas/mouse_dataset/voxel/cleaned_timeseries/_split_name_sub-SLC10_ses-3_task-rest_run-1_bold/sub-SLC10_ses-3_task-rest_run-1_bold_combined_cleaned.nii.gz to FLOAT32\n",
      "     Warnings of this type will be muted for this session.\n",
      "     Set AFNI_NIFTI_TYPE_WARN to YES to see them all, NO to see none.\n",
      "++ Output dataset /home/govindas/mouse_dataset/roi_results_v2/type-spatial_size-225_symm-True_braindiv-whl_nrois-162/runwise_timeseries/sub-SLC10_ses-3_run-1_task-rest_desc-roi-ts.nii.gz\n"
     ]
    },
    {
     "name": "stdout",
     "output_type": "stream",
     "text": [
      "sub-SLC10_ses-3_run-3_task-rest_desc-roi-ts\n"
     ]
    },
    {
     "name": "stderr",
     "output_type": "stream",
     "text": [
      "++ 3dcalc: AFNI version=AFNI_20.2.18 (Sep 17 2020) [64-bit]\n",
      "++ Authored by: A cast of thousands\n",
      "** AFNI converts NIFTI_datatype=64 (FLOAT64) in file /mnt/stor1/govindas/mouse_dataset/voxel/cleaned_timeseries/_split_name_sub-SLC10_ses-3_task-rest_run-3_bold/sub-SLC10_ses-3_task-rest_run-3_bold_combined_cleaned.nii.gz to FLOAT32\n",
      "     Warnings of this type will be muted for this session.\n",
      "     Set AFNI_NIFTI_TYPE_WARN to YES to see them all, NO to see none.\n",
      "++ Output dataset /home/govindas/mouse_dataset/roi_results_v2/type-spatial_size-225_symm-True_braindiv-whl_nrois-162/runwise_timeseries/sub-SLC10_ses-3_run-3_task-rest_desc-roi-ts.nii.gz\n"
     ]
    },
    {
     "name": "stdout",
     "output_type": "stream",
     "text": [
      "sub-SLC10_ses-3_run-7_task-rest_desc-roi-ts\n",
      "sub-SLC10_ses-3_run-5_task-rest_desc-roi-ts\n"
     ]
    },
    {
     "name": "stderr",
     "output_type": "stream",
     "text": [
      "++ 3dcalc: AFNI version=AFNI_20.2.18 (Sep 17 2020) [64-bit]\n",
      "++ Authored by: A cast of thousands\n",
      "** AFNI converts NIFTI_datatype=64 (FLOAT64) in file /mnt/stor1/govindas/mouse_dataset/voxel/cleaned_timeseries/_split_name_sub-SLC10_ses-3_task-rest_run-7_bold/sub-SLC10_ses-3_task-rest_run-7_bold_combined_cleaned.nii.gz to FLOAT32\n",
      "     Warnings of this type will be muted for this session.\n",
      "     Set AFNI_NIFTI_TYPE_WARN to YES to see them all, NO to see none.\n",
      "++ Output dataset /home/govindas/mouse_dataset/roi_results_v2/type-spatial_size-225_symm-True_braindiv-whl_nrois-162/runwise_timeseries/sub-SLC10_ses-3_run-7_task-rest_desc-roi-ts.nii.gz\n",
      "++ 3dcalc: AFNI version=AFNI_20.2.18 (Sep 17 2020) [64-bit]\n",
      "++ Authored by: A cast of thousands\n",
      "** AFNI converts NIFTI_datatype=64 (FLOAT64) in file /mnt/stor1/govindas/mouse_dataset/voxel/cleaned_timeseries/_split_name_sub-SLC10_ses-3_task-rest_run-5_bold/sub-SLC10_ses-3_task-rest_run-5_bold_combined_cleaned.nii.gz to FLOAT32\n",
      "     Warnings of this type will be muted for this session.\n",
      "     Set AFNI_NIFTI_TYPE_WARN to YES to see them all, NO to see none.\n",
      "++ Output dataset /home/govindas/mouse_dataset/roi_results_v2/type-spatial_size-225_symm-True_braindiv-whl_nrois-162/runwise_timeseries/sub-SLC10_ses-3_run-5_task-rest_desc-roi-ts.nii.gz\n"
     ]
    },
    {
     "data": {
      "text/plain": [
       "0"
      ]
     },
     "execution_count": 4,
     "metadata": {},
     "output_type": "execute_result"
    }
   ],
   "source": [
    "os.system(\n",
    "    f'bash 01a-desc-run-runwise-roi-timeseries.sh {PARC_DESC} {TS_path}'\n",
    ")"
   ]
  }
 ],
 "metadata": {
  "kernelspec": {
   "display_name": "gt",
   "language": "python",
   "name": "python3"
  },
  "language_info": {
   "codemirror_mode": {
    "name": "ipython",
    "version": 3
   },
   "file_extension": ".py",
   "mimetype": "text/x-python",
   "name": "python",
   "nbconvert_exporter": "python",
   "pygments_lexer": "ipython3",
   "version": "3.9.19"
  }
 },
 "nbformat": 4,
 "nbformat_minor": 2
}
