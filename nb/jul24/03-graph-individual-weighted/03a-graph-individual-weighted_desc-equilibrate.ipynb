{
 "cells": [
  {
   "cell_type": "markdown",
   "metadata": {},
   "source": [
    "# Sep 5-9, 17 2024: weighted graph -> weighted SBM"
   ]
  },
  {
   "cell_type": "code",
   "execution_count": 1,
   "metadata": {},
   "outputs": [],
   "source": [
    "import csv\n",
    "import os\n",
    "import sys\n",
    "import numpy as np\n",
    "import pandas as pd\n",
    "import scipy as sp \n",
    "import dill as pickle \n",
    "from os.path import join as pjoin\n",
    "from itertools import product\n",
    "from tqdm import tqdm\n",
    "from copy import deepcopy\n",
    "from pathlib import Path\n",
    "import subprocess\n",
    "from scipy import sparse, stats\n",
    "from multiprocessing import Pool\n",
    "import glob\n",
    "import random\n",
    "\n",
    "import arviz as az\n",
    "\n",
    "from itertools import product, combinations\n",
    "import multiprocessing as mp\n",
    "from functools import partial\n",
    "\n",
    "# networks\n",
    "import graph_tool.all as gt\n",
    "\n",
    "# plotting\n",
    "import matplotlib as mpl\n",
    "import matplotlib.pyplot as plt\n",
    "import seaborn as sns\n",
    "from mpl_toolkits.mplot3d import Axes3D\n",
    "from matplotlib.cm import rainbow\n",
    "\n",
    "plt.rcParamsDefault['font.family'] = \"sans-serif\"\n",
    "plt.rcParamsDefault['font.sans-serif'] = \"Arial\"\n",
    "plt.rcParams['font.size'] = 14\n",
    "plt.rcParams[\"errorbar.capsize\"] = 0.5\n",
    "\n",
    "import cmasher as cmr  # CITE ITS PAPER IN YOUR MANUSCRIPT\n",
    "import colorcet as cc\n",
    "from matplotlib.colors import LinearSegmentedColormap\n",
    "from matplotlib import colors\n",
    "\n",
    "# ignore user warnings\n",
    "import warnings\n",
    "warnings.filterwarnings(\"ignore\") #, category=UserWarning)"
   ]
  },
  {
   "cell_type": "code",
   "execution_count": 2,
   "metadata": {},
   "outputs": [],
   "source": [
    "class ARGS():\n",
    "    pass\n",
    "\n",
    "args = ARGS()\n",
    "\n",
    "args.SEED = 100\n",
    "\n",
    "def set_seed(args):\n",
    "    gt.seed_rng(args.SEED)\n",
    "    np.random.seed(args.SEED)\n",
    "\n",
    "set_seed(args)"
   ]
  },
  {
   "cell_type": "code",
   "execution_count": 3,
   "metadata": {},
   "outputs": [],
   "source": [
    "args.type = 'spatial'\n",
    "args.roi_size = 225\n",
    "args.maintain_symmetry = True\n",
    "args.brain_div = 'whl'\n",
    "args.num_rois = 162\n",
    "\n",
    "PARC_DESC = (\n",
    "    f'type-{args.type}'\n",
    "    f'_size-{args.roi_size}'\n",
    "    f'_symm-{args.maintain_symmetry}'\n",
    "    f'_braindiv-{args.brain_div}'\n",
    "    f'_nrois-{args.num_rois}'\n",
    ")"
   ]
  },
  {
   "cell_type": "code",
   "execution_count": 4,
   "metadata": {},
   "outputs": [
    {
     "data": {
      "text/plain": [
       "0"
      ]
     },
     "execution_count": 4,
     "metadata": {},
     "output_type": "execute_result"
    }
   ],
   "source": [
    "args.GRAPH_DEF = f'constructed'\n",
    "args.GRAPH_METHOD = f'pearson-corr'\n",
    "args.THRESHOLDING = f'absolute'\n",
    "args.EDGE_DEF = f'weighted'\n",
    "args.EDGE_DENSITY = 10\n",
    "args.LAYER_DEF = f'individual'\n",
    "args.DATA_UNIT = f'ses'\n",
    "\n",
    "BASE_path = f'{os.environ[\"HOME\"]}/mouse_dataset'\n",
    "PARCELS_path = f'{BASE_path}/parcels'\n",
    "ROI_path = f'{BASE_path}/roi_results_v2/{PARC_DESC}'\n",
    "TS_path = f'{ROI_path}/runwise_timeseries'\n",
    "ROI_RESULTS_path = (\n",
    "    f'{ROI_path}'\n",
    "    f'/graph-{args.GRAPH_DEF}/method-{args.GRAPH_METHOD}'\n",
    "    f'/threshold-{args.THRESHOLDING}/edge-{args.EDGE_DEF}/density-{args.EDGE_DENSITY}'\n",
    "    f'/layer-{args.LAYER_DEF}/unit-{args.DATA_UNIT}'\n",
    ")\n",
    "GRAPH_path = f'{ROI_RESULTS_path}/graphs'\n",
    "os.system(f'mkdir -p {GRAPH_path}')\n",
    "SBM_path = f'{ROI_RESULTS_path}/model-fits'\n",
    "os.system(f'mkdir -p {SBM_path}')\n",
    "ESTIM_path = f'{ROI_RESULTS_path}/estimates'\n",
    "os.system(f'mkdir -p {ESTIM_path}/individual')\n",
    "os.system(f'mkdir -p {ESTIM_path}/group')"
   ]
  },
  {
   "cell_type": "code",
   "execution_count": 5,
   "metadata": {},
   "outputs": [
    {
     "data": {
      "text/html": [
       "<div>\n",
       "<style scoped>\n",
       "    .dataframe tbody tr th:only-of-type {\n",
       "        vertical-align: middle;\n",
       "    }\n",
       "\n",
       "    .dataframe tbody tr th {\n",
       "        vertical-align: top;\n",
       "    }\n",
       "\n",
       "    .dataframe thead th {\n",
       "        text-align: right;\n",
       "    }\n",
       "</style>\n",
       "<table border=\"1\" class=\"dataframe\">\n",
       "  <thead>\n",
       "    <tr style=\"text-align: right;\">\n",
       "      <th></th>\n",
       "      <th>file</th>\n",
       "      <th>graph</th>\n",
       "    </tr>\n",
       "  </thead>\n",
       "  <tbody>\n",
       "    <tr>\n",
       "      <th>0</th>\n",
       "      <td>/home/govindas/mouse_dataset/roi_results_v2/ty...</td>\n",
       "      <td>&lt;Graph object, undirected, with 162 vertices a...</td>\n",
       "    </tr>\n",
       "    <tr>\n",
       "      <th>1</th>\n",
       "      <td>/home/govindas/mouse_dataset/roi_results_v2/ty...</td>\n",
       "      <td>&lt;Graph object, undirected, with 162 vertices a...</td>\n",
       "    </tr>\n",
       "    <tr>\n",
       "      <th>2</th>\n",
       "      <td>/home/govindas/mouse_dataset/roi_results_v2/ty...</td>\n",
       "      <td>&lt;Graph object, undirected, with 162 vertices a...</td>\n",
       "    </tr>\n",
       "    <tr>\n",
       "      <th>3</th>\n",
       "      <td>/home/govindas/mouse_dataset/roi_results_v2/ty...</td>\n",
       "      <td>&lt;Graph object, undirected, with 162 vertices a...</td>\n",
       "    </tr>\n",
       "    <tr>\n",
       "      <th>4</th>\n",
       "      <td>/home/govindas/mouse_dataset/roi_results_v2/ty...</td>\n",
       "      <td>&lt;Graph object, undirected, with 162 vertices a...</td>\n",
       "    </tr>\n",
       "    <tr>\n",
       "      <th>5</th>\n",
       "      <td>/home/govindas/mouse_dataset/roi_results_v2/ty...</td>\n",
       "      <td>&lt;Graph object, undirected, with 162 vertices a...</td>\n",
       "    </tr>\n",
       "    <tr>\n",
       "      <th>6</th>\n",
       "      <td>/home/govindas/mouse_dataset/roi_results_v2/ty...</td>\n",
       "      <td>&lt;Graph object, undirected, with 162 vertices a...</td>\n",
       "    </tr>\n",
       "    <tr>\n",
       "      <th>7</th>\n",
       "      <td>/home/govindas/mouse_dataset/roi_results_v2/ty...</td>\n",
       "      <td>&lt;Graph object, undirected, with 162 vertices a...</td>\n",
       "    </tr>\n",
       "    <tr>\n",
       "      <th>8</th>\n",
       "      <td>/home/govindas/mouse_dataset/roi_results_v2/ty...</td>\n",
       "      <td>&lt;Graph object, undirected, with 162 vertices a...</td>\n",
       "    </tr>\n",
       "    <tr>\n",
       "      <th>9</th>\n",
       "      <td>/home/govindas/mouse_dataset/roi_results_v2/ty...</td>\n",
       "      <td>&lt;Graph object, undirected, with 162 vertices a...</td>\n",
       "    </tr>\n",
       "    <tr>\n",
       "      <th>10</th>\n",
       "      <td>/home/govindas/mouse_dataset/roi_results_v2/ty...</td>\n",
       "      <td>&lt;Graph object, undirected, with 162 vertices a...</td>\n",
       "    </tr>\n",
       "    <tr>\n",
       "      <th>11</th>\n",
       "      <td>/home/govindas/mouse_dataset/roi_results_v2/ty...</td>\n",
       "      <td>&lt;Graph object, undirected, with 162 vertices a...</td>\n",
       "    </tr>\n",
       "    <tr>\n",
       "      <th>12</th>\n",
       "      <td>/home/govindas/mouse_dataset/roi_results_v2/ty...</td>\n",
       "      <td>&lt;Graph object, undirected, with 162 vertices a...</td>\n",
       "    </tr>\n",
       "    <tr>\n",
       "      <th>13</th>\n",
       "      <td>/home/govindas/mouse_dataset/roi_results_v2/ty...</td>\n",
       "      <td>&lt;Graph object, undirected, with 162 vertices a...</td>\n",
       "    </tr>\n",
       "    <tr>\n",
       "      <th>14</th>\n",
       "      <td>/home/govindas/mouse_dataset/roi_results_v2/ty...</td>\n",
       "      <td>&lt;Graph object, undirected, with 162 vertices a...</td>\n",
       "    </tr>\n",
       "    <tr>\n",
       "      <th>15</th>\n",
       "      <td>/home/govindas/mouse_dataset/roi_results_v2/ty...</td>\n",
       "      <td>&lt;Graph object, undirected, with 162 vertices a...</td>\n",
       "    </tr>\n",
       "    <tr>\n",
       "      <th>16</th>\n",
       "      <td>/home/govindas/mouse_dataset/roi_results_v2/ty...</td>\n",
       "      <td>&lt;Graph object, undirected, with 162 vertices a...</td>\n",
       "    </tr>\n",
       "    <tr>\n",
       "      <th>17</th>\n",
       "      <td>/home/govindas/mouse_dataset/roi_results_v2/ty...</td>\n",
       "      <td>&lt;Graph object, undirected, with 162 vertices a...</td>\n",
       "    </tr>\n",
       "    <tr>\n",
       "      <th>18</th>\n",
       "      <td>/home/govindas/mouse_dataset/roi_results_v2/ty...</td>\n",
       "      <td>&lt;Graph object, undirected, with 162 vertices a...</td>\n",
       "    </tr>\n",
       "    <tr>\n",
       "      <th>19</th>\n",
       "      <td>/home/govindas/mouse_dataset/roi_results_v2/ty...</td>\n",
       "      <td>&lt;Graph object, undirected, with 162 vertices a...</td>\n",
       "    </tr>\n",
       "    <tr>\n",
       "      <th>20</th>\n",
       "      <td>/home/govindas/mouse_dataset/roi_results_v2/ty...</td>\n",
       "      <td>&lt;Graph object, undirected, with 162 vertices a...</td>\n",
       "    </tr>\n",
       "    <tr>\n",
       "      <th>21</th>\n",
       "      <td>/home/govindas/mouse_dataset/roi_results_v2/ty...</td>\n",
       "      <td>&lt;Graph object, undirected, with 162 vertices a...</td>\n",
       "    </tr>\n",
       "    <tr>\n",
       "      <th>22</th>\n",
       "      <td>/home/govindas/mouse_dataset/roi_results_v2/ty...</td>\n",
       "      <td>&lt;Graph object, undirected, with 162 vertices a...</td>\n",
       "    </tr>\n",
       "    <tr>\n",
       "      <th>23</th>\n",
       "      <td>/home/govindas/mouse_dataset/roi_results_v2/ty...</td>\n",
       "      <td>&lt;Graph object, undirected, with 162 vertices a...</td>\n",
       "    </tr>\n",
       "    <tr>\n",
       "      <th>24</th>\n",
       "      <td>/home/govindas/mouse_dataset/roi_results_v2/ty...</td>\n",
       "      <td>&lt;Graph object, undirected, with 162 vertices a...</td>\n",
       "    </tr>\n",
       "    <tr>\n",
       "      <th>25</th>\n",
       "      <td>/home/govindas/mouse_dataset/roi_results_v2/ty...</td>\n",
       "      <td>&lt;Graph object, undirected, with 162 vertices a...</td>\n",
       "    </tr>\n",
       "    <tr>\n",
       "      <th>26</th>\n",
       "      <td>/home/govindas/mouse_dataset/roi_results_v2/ty...</td>\n",
       "      <td>&lt;Graph object, undirected, with 162 vertices a...</td>\n",
       "    </tr>\n",
       "    <tr>\n",
       "      <th>27</th>\n",
       "      <td>/home/govindas/mouse_dataset/roi_results_v2/ty...</td>\n",
       "      <td>&lt;Graph object, undirected, with 162 vertices a...</td>\n",
       "    </tr>\n",
       "    <tr>\n",
       "      <th>28</th>\n",
       "      <td>/home/govindas/mouse_dataset/roi_results_v2/ty...</td>\n",
       "      <td>&lt;Graph object, undirected, with 162 vertices a...</td>\n",
       "    </tr>\n",
       "    <tr>\n",
       "      <th>29</th>\n",
       "      <td>/home/govindas/mouse_dataset/roi_results_v2/ty...</td>\n",
       "      <td>&lt;Graph object, undirected, with 162 vertices a...</td>\n",
       "    </tr>\n",
       "  </tbody>\n",
       "</table>\n",
       "</div>"
      ],
      "text/plain": [
       "                                                 file  \\\n",
       "0   /home/govindas/mouse_dataset/roi_results_v2/ty...   \n",
       "1   /home/govindas/mouse_dataset/roi_results_v2/ty...   \n",
       "2   /home/govindas/mouse_dataset/roi_results_v2/ty...   \n",
       "3   /home/govindas/mouse_dataset/roi_results_v2/ty...   \n",
       "4   /home/govindas/mouse_dataset/roi_results_v2/ty...   \n",
       "5   /home/govindas/mouse_dataset/roi_results_v2/ty...   \n",
       "6   /home/govindas/mouse_dataset/roi_results_v2/ty...   \n",
       "7   /home/govindas/mouse_dataset/roi_results_v2/ty...   \n",
       "8   /home/govindas/mouse_dataset/roi_results_v2/ty...   \n",
       "9   /home/govindas/mouse_dataset/roi_results_v2/ty...   \n",
       "10  /home/govindas/mouse_dataset/roi_results_v2/ty...   \n",
       "11  /home/govindas/mouse_dataset/roi_results_v2/ty...   \n",
       "12  /home/govindas/mouse_dataset/roi_results_v2/ty...   \n",
       "13  /home/govindas/mouse_dataset/roi_results_v2/ty...   \n",
       "14  /home/govindas/mouse_dataset/roi_results_v2/ty...   \n",
       "15  /home/govindas/mouse_dataset/roi_results_v2/ty...   \n",
       "16  /home/govindas/mouse_dataset/roi_results_v2/ty...   \n",
       "17  /home/govindas/mouse_dataset/roi_results_v2/ty...   \n",
       "18  /home/govindas/mouse_dataset/roi_results_v2/ty...   \n",
       "19  /home/govindas/mouse_dataset/roi_results_v2/ty...   \n",
       "20  /home/govindas/mouse_dataset/roi_results_v2/ty...   \n",
       "21  /home/govindas/mouse_dataset/roi_results_v2/ty...   \n",
       "22  /home/govindas/mouse_dataset/roi_results_v2/ty...   \n",
       "23  /home/govindas/mouse_dataset/roi_results_v2/ty...   \n",
       "24  /home/govindas/mouse_dataset/roi_results_v2/ty...   \n",
       "25  /home/govindas/mouse_dataset/roi_results_v2/ty...   \n",
       "26  /home/govindas/mouse_dataset/roi_results_v2/ty...   \n",
       "27  /home/govindas/mouse_dataset/roi_results_v2/ty...   \n",
       "28  /home/govindas/mouse_dataset/roi_results_v2/ty...   \n",
       "29  /home/govindas/mouse_dataset/roi_results_v2/ty...   \n",
       "\n",
       "                                                graph  \n",
       "0   <Graph object, undirected, with 162 vertices a...  \n",
       "1   <Graph object, undirected, with 162 vertices a...  \n",
       "2   <Graph object, undirected, with 162 vertices a...  \n",
       "3   <Graph object, undirected, with 162 vertices a...  \n",
       "4   <Graph object, undirected, with 162 vertices a...  \n",
       "5   <Graph object, undirected, with 162 vertices a...  \n",
       "6   <Graph object, undirected, with 162 vertices a...  \n",
       "7   <Graph object, undirected, with 162 vertices a...  \n",
       "8   <Graph object, undirected, with 162 vertices a...  \n",
       "9   <Graph object, undirected, with 162 vertices a...  \n",
       "10  <Graph object, undirected, with 162 vertices a...  \n",
       "11  <Graph object, undirected, with 162 vertices a...  \n",
       "12  <Graph object, undirected, with 162 vertices a...  \n",
       "13  <Graph object, undirected, with 162 vertices a...  \n",
       "14  <Graph object, undirected, with 162 vertices a...  \n",
       "15  <Graph object, undirected, with 162 vertices a...  \n",
       "16  <Graph object, undirected, with 162 vertices a...  \n",
       "17  <Graph object, undirected, with 162 vertices a...  \n",
       "18  <Graph object, undirected, with 162 vertices a...  \n",
       "19  <Graph object, undirected, with 162 vertices a...  \n",
       "20  <Graph object, undirected, with 162 vertices a...  \n",
       "21  <Graph object, undirected, with 162 vertices a...  \n",
       "22  <Graph object, undirected, with 162 vertices a...  \n",
       "23  <Graph object, undirected, with 162 vertices a...  \n",
       "24  <Graph object, undirected, with 162 vertices a...  \n",
       "25  <Graph object, undirected, with 162 vertices a...  \n",
       "26  <Graph object, undirected, with 162 vertices a...  \n",
       "27  <Graph object, undirected, with 162 vertices a...  \n",
       "28  <Graph object, undirected, with 162 vertices a...  \n",
       "29  <Graph object, undirected, with 162 vertices a...  "
      ]
     },
     "execution_count": 5,
     "metadata": {},
     "output_type": "execute_result"
    }
   ],
   "source": [
    "graphs_df = pd.read_csv(f'{ROI_RESULTS_path}/all_graphs.txt', names=['file'])\n",
    "graphs_df['graph'] = graphs_df['file'].apply(lambda x: gt.load_graph(x))\n",
    "graphs_df"
   ]
  },
  {
   "cell_type": "code",
   "execution_count": 6,
   "metadata": {},
   "outputs": [
    {
     "data": {
      "text/plain": [
       "<Graph object, undirected, with 162 vertices and 1304 edges, 1 internal edge property, at 0x7fbd9445e5e0>"
      ]
     },
     "execution_count": 6,
     "metadata": {},
     "output_type": "execute_result"
    }
   ],
   "source": [
    "g = graphs_df.iloc[0]['graph']\n",
    "g"
   ]
  },
  {
   "cell_type": "code",
   "execution_count": 7,
   "metadata": {},
   "outputs": [],
   "source": [
    "args.sbm = 'h'\n",
    "args.dc = True\n",
    "\n",
    "args.B = 122"
   ]
  },
  {
   "cell_type": "code",
   "execution_count": 8,
   "metadata": {},
   "outputs": [
    {
     "data": {
      "text/plain": [
       "'sbm-dc-h'"
      ]
     },
     "execution_count": 8,
     "metadata": {},
     "output_type": "execute_result"
    }
   ],
   "source": [
    "def sbm_name(args):\n",
    "    dc = f'dc' if args.dc else f'nd'\n",
    "    dc = f'' if args.sbm in ['a'] else dc\n",
    "    file = f'sbm-{dc}-{args.sbm}'\n",
    "    return file\n",
    "\n",
    "SBM = sbm_name(args)\n",
    "SBM"
   ]
  },
  {
   "cell_type": "code",
   "execution_count": 9,
   "metadata": {},
   "outputs": [],
   "source": [
    "args.dc = True\n",
    "args.sbm = 'd'\n",
    "args.wait = 24000\n",
    "args.force_niter = 40000\n",
    "args.niter = 10\n",
    "args.Bs = ' '.join([str(i) for i in (np.round(np.linspace(1, args.num_rois, 5)).astype(int))])"
   ]
  },
  {
   "cell_type": "code",
   "execution_count": 10,
   "metadata": {},
   "outputs": [],
   "source": [
    "args.num_draws = int((1/2) * args.force_niter)"
   ]
  },
  {
   "cell_type": "code",
   "execution_count": 11,
   "metadata": {},
   "outputs": [
    {
     "data": {
      "text/plain": [
       "'sbm-dc-d'"
      ]
     },
     "execution_count": 11,
     "metadata": {},
     "output_type": "execute_result"
    }
   ],
   "source": [
    "def sbm_name(args):\n",
    "    dc = f'dc' if args.dc else f'nd'\n",
    "    dc = f'' if args.sbm in ['a'] else dc\n",
    "    file = f'sbm-{dc}-{args.sbm}'\n",
    "    return file\n",
    "\n",
    "SBM = sbm_name(args)\n",
    "SBM"
   ]
  },
  {
   "cell_type": "code",
   "execution_count": 12,
   "metadata": {},
   "outputs": [],
   "source": [
    "files = sorted(glob.glob(f'{GRAPH_path}/*', recursive=True))\n",
    "file = files[0]"
   ]
  },
  {
   "cell_type": "code",
   "execution_count": 13,
   "metadata": {},
   "outputs": [
    {
     "data": {
      "text/plain": [
       "<Graph object, undirected, with 162 vertices and 1304 edges, 1 internal edge property, at 0x7fbd6db36af0>"
      ]
     },
     "execution_count": 13,
     "metadata": {},
     "output_type": "execute_result"
    }
   ],
   "source": [
    "g = gt.load_graph(file)\n",
    "g"
   ]
  },
  {
   "cell_type": "code",
   "execution_count": 14,
   "metadata": {},
   "outputs": [
    {
     "data": {
      "text/plain": [
       "'1 41 82 122 162'"
      ]
     },
     "execution_count": 14,
     "metadata": {},
     "output_type": "execute_result"
    }
   ],
   "source": [
    "args.Bs"
   ]
  },
  {
   "cell_type": "code",
   "execution_count": 15,
   "metadata": {},
   "outputs": [],
   "source": [
    "args.transform = 'arctanh'"
   ]
  },
  {
   "cell_type": "code",
   "execution_count": 16,
   "metadata": {},
   "outputs": [
    {
     "name": "stdout",
     "output_type": "stream",
     "text": [
      "41\n",
      "chain equilibrated\n",
      "posterior modes found\n",
      "saved all files\n",
      "82\n",
      "chain equilibrated\n",
      "posterior modes found\n",
      "saved all files\n",
      "162\n",
      "chain equilibrated\n",
      "posterior modes found\n",
      "saved all files\n",
      "122\n",
      "chain equilibrated\n",
      "posterior modes found\n",
      "saved all files\n",
      "1\n",
      "chain equilibrated\n",
      "posterior modes found\n",
      "saved all files\n"
     ]
    },
    {
     "data": {
      "text/plain": [
       "0"
      ]
     },
     "execution_count": 16,
     "metadata": {},
     "output_type": "execute_result"
    }
   ],
   "source": [
    "os.system((\n",
    "    f'bash 03a-graph-individual-weighted_desc-equilibrate.sh '\n",
    "    f'{file} ' \n",
    "    f'{args.sbm} ' \n",
    "    f'{args.dc} ' \n",
    "    f'{args.wait} ' \n",
    "    f'{args.force_niter} ' \n",
    "    f'\"{args.Bs}\" '\n",
    "    f'{args.transform} '\n",
    "    f'{args.SEED} '\n",
    "))"
   ]
  }
 ],
 "metadata": {
  "kernelspec": {
   "display_name": "gt",
   "language": "python",
   "name": "python3"
  },
  "language_info": {
   "codemirror_mode": {
    "name": "ipython",
    "version": 3
   },
   "file_extension": ".py",
   "mimetype": "text/x-python",
   "name": "python",
   "nbconvert_exporter": "python",
   "pygments_lexer": "ipython3",
   "version": "3.9.19"
  }
 },
 "nbformat": 4,
 "nbformat_minor": 2
}
