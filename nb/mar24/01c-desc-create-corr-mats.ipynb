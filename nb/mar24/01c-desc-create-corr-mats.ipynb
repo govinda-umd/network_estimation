{
 "cells": [
  {
   "cell_type": "markdown",
   "metadata": {},
   "source": [
    "# Feb 28, Mar31, 2024: correlation matrices (functional networks)\n",
    "modified: [../feb24/01c-desc-func_nws.ipynb](../feb24/01c-desc-func_nws.ipynb)"
   ]
  },
  {
   "cell_type": "code",
   "execution_count": 1,
   "metadata": {},
   "outputs": [],
   "source": [
    "import csv\n",
    "import os\n",
    "import sys\n",
    "import numpy as np\n",
    "import pandas as pd\n",
    "import scipy as sp \n",
    "import pickle \n",
    "from os.path import join as pjoin\n",
    "from itertools import product\n",
    "from tqdm import tqdm\n",
    "from copy import deepcopy\n",
    "from pathlib import Path\n",
    "import subprocess\n",
    "from scipy import sparse, stats\n",
    "from multiprocessing import Pool\n",
    "import glob\n",
    "\n",
    "# networks\n",
    "import graph_tool.all as gt\n",
    "\n",
    "# plotting\n",
    "import matplotlib as mpl\n",
    "import matplotlib.pyplot as plt\n",
    "import seaborn as sns\n",
    "from mpl_toolkits.mplot3d import Axes3D\n",
    "from matplotlib.cm import rainbow\n",
    "\n",
    "plt.rcParamsDefault['font.family'] = \"sans-serif\"\n",
    "plt.rcParamsDefault['font.sans-serif'] = \"Arial\"\n",
    "plt.rcParams['font.size'] = 14\n",
    "plt.rcParams[\"errorbar.capsize\"] = 0.5\n",
    "\n",
    "import cmasher as cmr  # CITE ITS PAPER IN YOUR MANUSCRIPT\n",
    "\n",
    "# ignore user warnings\n",
    "import warnings\n",
    "warnings.filterwarnings(\"ignore\") #, category=UserWarning)"
   ]
  },
  {
   "cell_type": "code",
   "execution_count": 2,
   "metadata": {},
   "outputs": [],
   "source": [
    "class ARGS():\n",
    "    pass\n",
    "\n",
    "args = ARGS()\n",
    "\n",
    "args.SEED = 100"
   ]
  },
  {
   "cell_type": "code",
   "execution_count": 3,
   "metadata": {},
   "outputs": [
    {
     "data": {
      "text/plain": [
       "0"
      ]
     },
     "execution_count": 3,
     "metadata": {},
     "output_type": "execute_result"
    }
   ],
   "source": [
    "args.type = 'spatial'\n",
    "args.roi_size = 225\n",
    "args.maintain_symmetry = True\n",
    "args.brain_div = 'whl'\n",
    "args.num_rois = 162\n",
    "\n",
    "DESC = (\n",
    "    f'type-{args.type}'\n",
    "    f'_size-{args.roi_size}'\n",
    "    f'_symm-{args.maintain_symmetry}'\n",
    "    f'_braindiv-{args.brain_div}'\n",
    "    f'_nrois-{args.num_rois}'\n",
    ")\n",
    "\n",
    "args.unit = 'seswise' # runwise/seswise/subwise : unit sample of dataset\n",
    "args.denst = 25 # density of fc matrix\n",
    "\n",
    "BASE_path = f'{os.environ[\"HOME\"]}/mouse_dataset/roi_results'\n",
    "TS_path = f'{BASE_path}/{DESC}/roi_timeseries'\n",
    "FC_path = f'{BASE_path}/{DESC}/{args.unit}/density-{args.denst}/corr_mats'\n",
    "os.system(f'mkdir -p {FC_path}')"
   ]
  },
  {
   "cell_type": "code",
   "execution_count": 4,
   "metadata": {},
   "outputs": [],
   "source": [
    "def create_dataframe(files):\n",
    "    def get_ts(file):\n",
    "        ts = np.loadtxt(file)\n",
    "        ts = stats.zscore(ts, axis=0, nan_policy='omit')\n",
    "        return ts        \n",
    "\n",
    "    dataset_df = []\n",
    "\n",
    "    for file in tqdm(files):\n",
    "        ssr = file.split('/')[-1].split('_')\n",
    "        sub, ses, run = [ssr[i].split('-')[-1] for i in range(3)]\n",
    "        ts = get_ts(file)\n",
    "        # fc = get_fc(ts)\n",
    "        df = pd.DataFrame({\n",
    "            'sub':[int(sub[-2:])],\n",
    "            'ses':[int(ses)],\n",
    "            'run':[int(run)],\n",
    "            'ssr':[ssr[:-1]],\n",
    "            'ts':[ts],\n",
    "        })\n",
    "        dataset_df.append(df)\n",
    "        # save_fc(fc, ssr)\n",
    "        \n",
    "    dataset_df = pd.concat(dataset_df)\n",
    "    dataset_df = dataset_df.sort_values(\n",
    "        by=['sub', 'ses', 'run'],\n",
    "    ).reset_index(drop=True)\n",
    "    return dataset_df"
   ]
  },
  {
   "cell_type": "code",
   "execution_count": 5,
   "metadata": {},
   "outputs": [
    {
     "name": "stderr",
     "output_type": "stream",
     "text": [
      "100%|██████████| 116/116 [00:01<00:00, 104.34it/s]\n"
     ]
    }
   ],
   "source": [
    "dataset_df = create_dataframe(files=glob.glob(f'{TS_path}/*', recursive=True))"
   ]
  },
  {
   "cell_type": "code",
   "execution_count": 6,
   "metadata": {},
   "outputs": [
    {
     "data": {
      "text/html": [
       "<div>\n",
       "<style scoped>\n",
       "    .dataframe tbody tr th:only-of-type {\n",
       "        vertical-align: middle;\n",
       "    }\n",
       "\n",
       "    .dataframe tbody tr th {\n",
       "        vertical-align: top;\n",
       "    }\n",
       "\n",
       "    .dataframe thead th {\n",
       "        text-align: right;\n",
       "    }\n",
       "</style>\n",
       "<table border=\"1\" class=\"dataframe\">\n",
       "  <thead>\n",
       "    <tr style=\"text-align: right;\">\n",
       "      <th></th>\n",
       "      <th>sub</th>\n",
       "      <th>ses</th>\n",
       "      <th>run</th>\n",
       "      <th>ssr</th>\n",
       "      <th>ts</th>\n",
       "    </tr>\n",
       "  </thead>\n",
       "  <tbody>\n",
       "    <tr>\n",
       "      <th>0</th>\n",
       "      <td>1</td>\n",
       "      <td>1</td>\n",
       "      <td>1</td>\n",
       "      <td>[sub-SLC01, ses-1, run-1, task-rest]</td>\n",
       "      <td>[[1.2065445520382525, 0.31730566969513757, 1.1...</td>\n",
       "    </tr>\n",
       "    <tr>\n",
       "      <th>1</th>\n",
       "      <td>1</td>\n",
       "      <td>1</td>\n",
       "      <td>3</td>\n",
       "      <td>[sub-SLC01, ses-1, run-3, task-rest]</td>\n",
       "      <td>[[-0.5547378628216872, -0.5207262140571332, 1....</td>\n",
       "    </tr>\n",
       "    <tr>\n",
       "      <th>2</th>\n",
       "      <td>1</td>\n",
       "      <td>1</td>\n",
       "      <td>5</td>\n",
       "      <td>[sub-SLC01, ses-1, run-5, task-rest]</td>\n",
       "      <td>[[0.862277562935586, -0.967577475923794, -2.33...</td>\n",
       "    </tr>\n",
       "    <tr>\n",
       "      <th>3</th>\n",
       "      <td>1</td>\n",
       "      <td>1</td>\n",
       "      <td>7</td>\n",
       "      <td>[sub-SLC01, ses-1, run-7, task-rest]</td>\n",
       "      <td>[[-1.3039578270123324, -0.44559813175695007, -...</td>\n",
       "    </tr>\n",
       "    <tr>\n",
       "      <th>4</th>\n",
       "      <td>1</td>\n",
       "      <td>2</td>\n",
       "      <td>1</td>\n",
       "      <td>[sub-SLC01, ses-2, run-1, task-rest]</td>\n",
       "      <td>[[1.1127898226126984, -1.3683128014437655, -2....</td>\n",
       "    </tr>\n",
       "  </tbody>\n",
       "</table>\n",
       "</div>"
      ],
      "text/plain": [
       "   sub  ses  run                                   ssr  \\\n",
       "0    1    1    1  [sub-SLC01, ses-1, run-1, task-rest]   \n",
       "1    1    1    3  [sub-SLC01, ses-1, run-3, task-rest]   \n",
       "2    1    1    5  [sub-SLC01, ses-1, run-5, task-rest]   \n",
       "3    1    1    7  [sub-SLC01, ses-1, run-7, task-rest]   \n",
       "4    1    2    1  [sub-SLC01, ses-2, run-1, task-rest]   \n",
       "\n",
       "                                                  ts  \n",
       "0  [[1.2065445520382525, 0.31730566969513757, 1.1...  \n",
       "1  [[-0.5547378628216872, -0.5207262140571332, 1....  \n",
       "2  [[0.862277562935586, -0.967577475923794, -2.33...  \n",
       "3  [[-1.3039578270123324, -0.44559813175695007, -...  \n",
       "4  [[1.1127898226126984, -1.3683128014437655, -2....  "
      ]
     },
     "execution_count": 6,
     "metadata": {},
     "output_type": "execute_result"
    }
   ],
   "source": [
    "dataset_df.head()"
   ]
  },
  {
   "cell_type": "code",
   "execution_count": 7,
   "metadata": {},
   "outputs": [
    {
     "data": {
      "text/plain": [
       "['sub', 'ses']"
      ]
     },
     "execution_count": 7,
     "metadata": {},
     "output_type": "execute_result"
    }
   ],
   "source": [
    "all_cols = ['sub', 'ses', 'run']\n",
    "cols = []\n",
    "idx = [i for i, c in enumerate(all_cols) if args.unit[:3] in c][0]\n",
    "cols = [c for i, c in enumerate(all_cols) if i <= idx]\n",
    "cols"
   ]
  },
  {
   "cell_type": "code",
   "execution_count": 8,
   "metadata": {},
   "outputs": [],
   "source": [
    "def make_ssr(cols, key):\n",
    "    d = []\n",
    "    for c, k in zip(cols, key):\n",
    "        if 'sub' in c:\n",
    "            d.append(f'{c}-SLC{k:02d}')\n",
    "        else:\n",
    "            d.append(f'{c}-{k}')\n",
    "    return d\n",
    "\n",
    "def get_fc(args, ts):\n",
    "    fc = np.corrcoef(ts, rowvar=False)\n",
    "    fc = fc[np.tril_indices(fc.shape[0], k=-1)]\n",
    "    fc[np.isnan(fc)] = 0.0\n",
    "    fc = fc > np.percentile(fc, q=100-args.denst) # this removes neg. edges\n",
    "    \n",
    "    fc_ = np.zeros((args.num_rois, args.num_rois))\n",
    "    fc_[np.tril_indices(fc_.shape[0], k=-1)] = fc\n",
    "    fc_ = (fc_ + fc_.T)\n",
    "    return fc_\n",
    "\n",
    "def make_graph(fc):\n",
    "        fc = np.tril(fc)\n",
    "        edges = np.where(fc)\n",
    "        edge_list = list(zip(*[*edges, fc[edges]]))\n",
    "        g = gt.Graph(\n",
    "            edge_list, \n",
    "            eprops=[('weight', 'double')],\n",
    "            directed=False,\n",
    "        )\n",
    "        return g\n",
    "\n",
    "def save_graph(g, ssr):\n",
    "    file = '_'.join(ssr + ['desc-corr-mat.gt.gz'])\n",
    "    file = f'{FC_path}/{file}'\n",
    "    g.save(file)\n",
    "    return file\n",
    "\n",
    "def create_graphs_df(args, dataset_df):\n",
    "    graphs_df = []\n",
    "    for key, group in tqdm(dataset_df.groupby(by=cols)):\n",
    "        key = key if type(key) == tuple else (key,)\n",
    "        ssr = make_ssr(cols, key)\n",
    "        ts = np.concatenate(group['ts'].to_list(), axis=0)\n",
    "        fc = get_fc(args, ts)\n",
    "        g = make_graph(fc)\n",
    "        file = save_graph(g, ssr)\n",
    "        \n",
    "        df = pd.DataFrame({})\n",
    "        for s in ssr:\n",
    "            c, k = s.split('-')\n",
    "            df[c] = [k]\n",
    "        df['graph'] = [g]\n",
    "        df['file'] = [file]\n",
    "        \n",
    "        graphs_df.append(df)\n",
    "\n",
    "    graphs_df = pd.concat(graphs_df).reset_index(drop=True)\n",
    "    return graphs_df"
   ]
  },
  {
   "cell_type": "code",
   "execution_count": 9,
   "metadata": {},
   "outputs": [
    {
     "name": "stderr",
     "output_type": "stream",
     "text": [
      "100%|██████████| 30/30 [00:00<00:00, 104.37it/s]\n"
     ]
    },
    {
     "data": {
      "text/html": [
       "<div>\n",
       "<style scoped>\n",
       "    .dataframe tbody tr th:only-of-type {\n",
       "        vertical-align: middle;\n",
       "    }\n",
       "\n",
       "    .dataframe tbody tr th {\n",
       "        vertical-align: top;\n",
       "    }\n",
       "\n",
       "    .dataframe thead th {\n",
       "        text-align: right;\n",
       "    }\n",
       "</style>\n",
       "<table border=\"1\" class=\"dataframe\">\n",
       "  <thead>\n",
       "    <tr style=\"text-align: right;\">\n",
       "      <th></th>\n",
       "      <th>sub</th>\n",
       "      <th>ses</th>\n",
       "      <th>graph</th>\n",
       "      <th>file</th>\n",
       "    </tr>\n",
       "  </thead>\n",
       "  <tbody>\n",
       "    <tr>\n",
       "      <th>0</th>\n",
       "      <td>SLC01</td>\n",
       "      <td>1</td>\n",
       "      <td>&lt;Graph object, undirected, with 162 vertices a...</td>\n",
       "      <td>/home/govindas/mouse_dataset/roi_results/type-...</td>\n",
       "    </tr>\n",
       "    <tr>\n",
       "      <th>1</th>\n",
       "      <td>SLC01</td>\n",
       "      <td>2</td>\n",
       "      <td>&lt;Graph object, undirected, with 162 vertices a...</td>\n",
       "      <td>/home/govindas/mouse_dataset/roi_results/type-...</td>\n",
       "    </tr>\n",
       "    <tr>\n",
       "      <th>2</th>\n",
       "      <td>SLC01</td>\n",
       "      <td>3</td>\n",
       "      <td>&lt;Graph object, undirected, with 162 vertices a...</td>\n",
       "      <td>/home/govindas/mouse_dataset/roi_results/type-...</td>\n",
       "    </tr>\n",
       "    <tr>\n",
       "      <th>3</th>\n",
       "      <td>SLC02</td>\n",
       "      <td>1</td>\n",
       "      <td>&lt;Graph object, undirected, with 162 vertices a...</td>\n",
       "      <td>/home/govindas/mouse_dataset/roi_results/type-...</td>\n",
       "    </tr>\n",
       "    <tr>\n",
       "      <th>4</th>\n",
       "      <td>SLC02</td>\n",
       "      <td>2</td>\n",
       "      <td>&lt;Graph object, undirected, with 162 vertices a...</td>\n",
       "      <td>/home/govindas/mouse_dataset/roi_results/type-...</td>\n",
       "    </tr>\n",
       "  </tbody>\n",
       "</table>\n",
       "</div>"
      ],
      "text/plain": [
       "     sub ses                                              graph  \\\n",
       "0  SLC01   1  <Graph object, undirected, with 162 vertices a...   \n",
       "1  SLC01   2  <Graph object, undirected, with 162 vertices a...   \n",
       "2  SLC01   3  <Graph object, undirected, with 162 vertices a...   \n",
       "3  SLC02   1  <Graph object, undirected, with 162 vertices a...   \n",
       "4  SLC02   2  <Graph object, undirected, with 162 vertices a...   \n",
       "\n",
       "                                                file  \n",
       "0  /home/govindas/mouse_dataset/roi_results/type-...  \n",
       "1  /home/govindas/mouse_dataset/roi_results/type-...  \n",
       "2  /home/govindas/mouse_dataset/roi_results/type-...  \n",
       "3  /home/govindas/mouse_dataset/roi_results/type-...  \n",
       "4  /home/govindas/mouse_dataset/roi_results/type-...  "
      ]
     },
     "execution_count": 9,
     "metadata": {},
     "output_type": "execute_result"
    }
   ],
   "source": [
    "graphs_df = create_graphs_df(args, dataset_df)\n",
    "graphs_df.head()"
   ]
  },
  {
   "cell_type": "code",
   "execution_count": 14,
   "metadata": {},
   "outputs": [
    {
     "data": {
      "text/plain": [
       "<Axes: >"
      ]
     },
     "execution_count": 14,
     "metadata": {},
     "output_type": "execute_result"
    },
    {
     "data": {
      "image/png": "[encoded data removed]",
      "text/plain": [
       "<Figure size 400x320 with 2 Axes>"
      ]
     },
     "metadata": {},
     "output_type": "display_data"
    }
   ],
   "source": [
    "row = graphs_df.iloc[19]\n",
    "g = row['graph']\n",
    "fig, axs = plt.subplots(1, 1, figsize=(5, 4), dpi=80)\n",
    "ax = axs\n",
    "sns.heatmap(gt.adjacency(g).todense(), ax=ax, square=True, cmap=cmr.iceburn, center=0)"
   ]
  }
 ],
 "metadata": {
  "kernelspec": {
   "display_name": "nw_estim",
   "language": "python",
   "name": "python3"
  },
  "language_info": {
   "codemirror_mode": {
    "name": "ipython",
    "version": 3
   },
   "file_extension": ".py",
   "mimetype": "text/x-python",
   "name": "python",
   "nbconvert_exporter": "python",
   "pygments_lexer": "ipython3",
   "version": "3.9.17"
  }
 },
 "nbformat": 4,
 "nbformat_minor": 2
}
