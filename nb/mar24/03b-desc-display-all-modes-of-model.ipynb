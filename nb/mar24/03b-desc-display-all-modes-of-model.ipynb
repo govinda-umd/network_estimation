{
 "cells": [
  {
   "cell_type": "markdown",
   "metadata": {},
   "source": [
    "# May 21, 2024: display all modes of a model in a single grid"
   ]
  },
  {
   "cell_type": "code",
   "execution_count": 1,
   "metadata": {},
   "outputs": [
    {
     "name": "stdout",
     "output_type": "stream",
     "text": [
      "240617-13:07:55,418 nipype.utils WARNING:\n",
      "\t A newer version (1.8.4) of nipy/nipype is available. You are using 1.6.1\n"
     ]
    }
   ],
   "source": [
    "import csv\n",
    "import os\n",
    "import sys\n",
    "import numpy as np\n",
    "import pandas as pd\n",
    "import scipy as sp \n",
    "import dill as pickle \n",
    "\n",
    "from scipy import sparse, stats\n",
    "import glob\n",
    "from tqdm import tqdm\n",
    "import ants\n",
    "from nipype.interfaces import afni\n",
    "from itertools import product, combinations\n",
    "\n",
    "# plotting\n",
    "import matplotlib as mpl\n",
    "import matplotlib.pyplot as plt\n",
    "import seaborn as sns\n",
    "\n",
    "plt.rcParamsDefault['font.family'] = \"sans-serif\"\n",
    "plt.rcParamsDefault['font.sans-serif'] = \"Arial\"\n",
    "plt.rcParams['font.size'] = 14\n",
    "plt.rcParams[\"errorbar.capsize\"] = 0.5\n",
    "\n",
    "import cmasher as cmr  # CITE ITS PAPER IN YOUR MANUSCRIPT\n",
    "\n",
    "from matplotlib import colors\n",
    "from palettable.tableau import Tableau_20\n",
    "\n",
    "# # ignore user warnings\n",
    "# import warnings\n",
    "# warnings.filterwarnings(\"ignore\") #, category=UserWarning)"
   ]
  },
  {
   "cell_type": "code",
   "execution_count": 2,
   "metadata": {},
   "outputs": [],
   "source": [
    "class ARGS():\n",
    "    pass\n",
    "\n",
    "args = ARGS()\n",
    "\n",
    "args.SEED = 100\n",
    "\n",
    "# gt.seed_rng(args.SEED)\n",
    "np.random.seed(args.SEED)"
   ]
  },
  {
   "cell_type": "code",
   "execution_count": 3,
   "metadata": {},
   "outputs": [],
   "source": [
    "args.type = 'spatial'\n",
    "args.roi_size = 225\n",
    "args.maintain_symmetry = True\n",
    "args.brain_div = 'whl'\n",
    "args.num_rois = 162\n",
    "\n",
    "DESC = (\n",
    "    f'type-{args.type}'\n",
    "    f'_size-{args.roi_size}'\n",
    "    f'_symm-{args.maintain_symmetry}'\n",
    "    f'_braindiv-{args.brain_div}'\n",
    "    f'_nrois-{args.num_rois}'\n",
    ")\n",
    "\n",
    "args.unit = 'seswise' # runwise/seswise/subwise : unit sample of dataset\n",
    "args.denst = 15 # density of fc matrix\n",
    "\n",
    "BASE_path = f'{os.environ[\"HOME\"]}/mouse_dataset'\n",
    "PARCELS_path = f'{BASE_path}/parcels'\n",
    "ROI_path = f'{BASE_path}/roi_results'\n",
    "ROI_RESULTS_path = f'{ROI_path}/{DESC}/{args.unit}/correlation_graph/density-{args.denst}'\n",
    "FC_path = f'{ROI_RESULTS_path}/corr_mats'\n",
    "SBM_path = f'{ROI_RESULTS_path}/sbms'\n",
    "NPY_path = f'{ROI_RESULTS_path}/npy'\n",
    "os.system(f'mkdir -p {NPY_path}')\n",
    "NII_path = f'{ROI_RESULTS_path}/niis'\n",
    "os.system(f'mkdir -p {NII_path}/indiv')\n",
    "os.system(f'mkdir -p {NII_path}/group')\n",
    "HTML_path = f'{ROI_RESULTS_path}/htmls'\n",
    "os.system(f'mkdir -p {HTML_path}/group')\n",
    "os.system(f'mkdir -p {HTML_path}/group/indexes')\n",
    "# sbm model class\n",
    "args.dc = 'dc'\n",
    "args.sbm = 'h' "
   ]
  },
  {
   "cell_type": "code",
   "execution_count": 4,
   "metadata": {},
   "outputs": [
    {
     "name": "stdout",
     "output_type": "stream",
     "text": [
      "index.html has been created successfully.\n",
      "index.html has been created successfully.\n",
      "index.html has been created successfully.\n"
     ]
    }
   ],
   "source": [
    "def combine_htmls(args, SBM, html_files):\n",
    "  # Create the main HTML content\n",
    "  html_content = \"\"\"\n",
    "  <!DOCTYPE html>\n",
    "  <html lang=\"en\">\n",
    "  <head>\n",
    "    <meta charset=\"UTF-8\">\n",
    "    <meta name=\"viewport\" content=\"width=device-width, initial-scale=1.0\">\n",
    "    <title>HTML Grid with Headings</title>\n",
    "    <style>\n",
    "      body {\n",
    "        display: grid;\n",
    "        grid-template-columns: repeat(auto-fill, minmax(1000px, 1fr));\n",
    "        gap: 20px;\n",
    "        padding: 20px;\n",
    "      }\n",
    "      iframe {\n",
    "        width: 1000px;\n",
    "        height: 1000px;\n",
    "        border: none;\n",
    "      }\n",
    "      .grid-item {\n",
    "        text-align: center;\n",
    "        margin-bottom: 10px;\n",
    "      }\n",
    "      h2 {\n",
    "        margin: 0;\n",
    "      }\n",
    "    </style>\n",
    "  </head>\n",
    "  <body>\n",
    "  \"\"\"\n",
    "  # Add iframes and headings for each HTML file\n",
    "  for html_file in html_files:\n",
    "    # Extract filename (without extension) for heading\n",
    "    filename, _ = os.path.splitext(html_file.split('/')[-1])\n",
    "    heading = f'<h2>{filename}</h2>'  # Capitalize the filename for title\n",
    "    iframe_tag = f'<div class=\"grid-item\">{heading}<iframe src=\"{html_file}\"></iframe></div>'\n",
    "    html_content += iframe_tag\n",
    "  # Close the HTML content\n",
    "  html_content += \"\"\"\n",
    "  </body>\n",
    "  </html>\n",
    "  \"\"\"\n",
    "  # Write the content to an index.html file\n",
    "  with open(os.path.join(f'{HTML_path}/group/indexes', f\"{SBM}_desc-index.html\"), \"w\") as f:\n",
    "      f.write(html_content)\n",
    "  print(\"index.html has been created successfully.\")\n",
    "  \n",
    "if args.sbm in ['a', 'd']:\n",
    "  SBM = f'sbm-{args.dc}-{args.sbm}'\n",
    "  html_files = sorted(glob.glob(f'{HTML_path}/group/*{SBM}*', recursive=True))\n",
    "  combine_htmls(args, SBM, html_files)\n",
    "elif args.sbm in ['h']:\n",
    "  SBM = f'sbm-{args.dc}-{args.sbm}'\n",
    "  for level in np.arange(3):\n",
    "    html_files = sorted(glob.glob(f'{HTML_path}/group/*{SBM}*level-{level}*', recursive=True))\n",
    "    combine_htmls(args, f'{SBM}_level-{level}', html_files)"
   ]
  }
 ],
 "metadata": {
  "kernelspec": {
   "display_name": "nw_estim",
   "language": "python",
   "name": "python3"
  },
  "language_info": {
   "codemirror_mode": {
    "name": "ipython",
    "version": 3
   },
   "file_extension": ".py",
   "mimetype": "text/x-python",
   "name": "python",
   "nbconvert_exporter": "python",
   "pygments_lexer": "ipython3",
   "version": "3.9.17"
  }
 },
 "nbformat": 4,
 "nbformat_minor": 2
}
