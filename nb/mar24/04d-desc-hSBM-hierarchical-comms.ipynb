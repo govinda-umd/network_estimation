{
 "cells": [
  {
   "cell_type": "markdown",
   "metadata": {},
   "source": [
    "# July 2, 2024: nested communities of the hierarchical SBMs"
   ]
  },
  {
   "cell_type": "code",
   "execution_count": 1,
   "metadata": {},
   "outputs": [
    {
     "name": "stdout",
     "output_type": "stream",
     "text": [
      "240702-13:12:15,620 nipype.utils WARNING:\n",
      "\t A newer version (1.8.4) of nipy/nipype is available. You are using 1.6.1\n"
     ]
    }
   ],
   "source": [
    "import csv\n",
    "import os\n",
    "import sys\n",
    "import numpy as np\n",
    "import pandas as pd\n",
    "import scipy as sp \n",
    "import pickle \n",
    "import copy\n",
    "\n",
    "from scipy import sparse, stats\n",
    "from scipy.special import gammaln\n",
    "import glob\n",
    "from tqdm import tqdm\n",
    "import ants\n",
    "from nipype.interfaces import afni\n",
    "from itertools import combinations, permutations, product\n",
    "\n",
    "\n",
    "import graph_tool.all as gt\n",
    "\n",
    "# plotting\n",
    "import matplotlib as mpl\n",
    "import matplotlib.pyplot as plt\n",
    "import seaborn as sns\n",
    "from matplotlib.patches import Rectangle\n",
    "import colorcet as cc\n",
    "from mpl_toolkits.mplot3d import Axes3D\n",
    "\n",
    "plt.rcParamsDefault['font.family'] = \"sans-serif\"\n",
    "plt.rcParamsDefault['font.sans-serif'] = \"Arial\"\n",
    "plt.rcParams['font.size'] = 14\n",
    "plt.rcParams[\"errorbar.capsize\"] = 0.5\n",
    "\n",
    "import colorcet as cc\n",
    "from matplotlib.colors import LinearSegmentedColormap\n",
    "from matplotlib import colors\n",
    "\n",
    "import cmasher as cmr  # CITE ITS PAPER IN YOUR MANUSCRIPT\n",
    "\n",
    "# ignore user warnings\n",
    "import warnings\n",
    "warnings.filterwarnings(\"ignore\") #, category=UserWarning)"
   ]
  },
  {
   "cell_type": "code",
   "execution_count": 2,
   "metadata": {},
   "outputs": [],
   "source": [
    "class ARGS():\n",
    "    pass\n",
    "\n",
    "args = ARGS()\n",
    "\n",
    "args.SEED = 100\n",
    "\n",
    "gt.seed_rng(args.SEED)\n",
    "np.random.seed(args.SEED)"
   ]
  },
  {
   "cell_type": "code",
   "execution_count": 3,
   "metadata": {},
   "outputs": [
    {
     "data": {
      "text/plain": [
       "0"
      ]
     },
     "execution_count": 3,
     "metadata": {},
     "output_type": "execute_result"
    }
   ],
   "source": [
    "args.type = 'spatial'\n",
    "args.roi_size = 225\n",
    "args.maintain_symmetry = True\n",
    "args.brain_div = 'whl'\n",
    "args.num_rois = 162\n",
    "\n",
    "DESC = (\n",
    "    f'type-{args.type}'\n",
    "    f'_size-{args.roi_size}'\n",
    "    f'_symm-{args.maintain_symmetry}'\n",
    "    f'_braindiv-{args.brain_div}'\n",
    "    f'_nrois-{args.num_rois}'\n",
    ")\n",
    "\n",
    "args.unit = 'seswise' # runwise/seswise/subwise : unit sample of dataset\n",
    "args.denst = 25 # density of fc matrix\n",
    "\n",
    "BASE_path = f'{os.environ[\"HOME\"]}/mouse_dataset'\n",
    "PARCELS_path = f'{BASE_path}/parcels'\n",
    "ROI_path = f'{BASE_path}/roi_results'\n",
    "RECONST_method = '' #f'lds' #f'normal_dist'\n",
    "if RECONST_method == '':\n",
    "    GRAPH_type = f'correlation_graph'\n",
    "    ROI_RESULTS_path = f'{ROI_path}/{DESC}/{args.unit}/{GRAPH_type}/density-{args.denst}'\n",
    "    FC_path = f'{ROI_RESULTS_path}/corr_mats'\n",
    "else: \n",
    "    GRAPH_type = f'reconstructed_graph/{RECONST_method}'\n",
    "    ROI_RESULTS_path = f'{ROI_path}/{DESC}/{args.unit}/{GRAPH_type}'\n",
    "    GRAPHS_path = f'{ROI_RESULTS_path}/graphs'\n",
    "\n",
    "SBM_path = f'{ROI_RESULTS_path}/sbms'\n",
    "NPY_path = f'{ROI_RESULTS_path}/npy'\n",
    "os.system(f'mkdir -p {NPY_path}')\n",
    "NII_path = f'{ROI_RESULTS_path}/niis'\n",
    "os.system(f'mkdir -p {NII_path}/indiv')\n",
    "os.system(f'mkdir -p {NII_path}/group/soft')\n",
    "os.system(f'mkdir -p {NII_path}/group/entropy')\n",
    "PNG_path = f'{ROI_RESULTS_path}/png'\n",
    "os.system(f'mkdir -p {PNG_path}/group/morphospace')\n",
    "HTML_path = f'{ROI_RESULTS_path}/htmls'\n",
    "os.system(f'mkdir -p {HTML_path}/group/soft/indexes')\n",
    "os.system(f'mkdir -p {HTML_path}/group/soft/partitions/hierarchical')\n",
    "CSV_path = f'{ROI_RESULTS_path}/csv'\n",
    "os.system(f'mkdir -p {CSV_path}/group/roi_order')"
   ]
  },
  {
   "cell_type": "code",
   "execution_count": 4,
   "metadata": {},
   "outputs": [],
   "source": [
    "def load_modes(args, model):\n",
    "    args.dc, args.sbm = model\n",
    "    SBM = f'sbm-{args.dc}-{args.sbm}'\n",
    "    with open(f'{NPY_path}/{SBM}_desc-group-modes.npy', 'rb') as f:\n",
    "        [dfs, mode_df] = pickle.load(f)\n",
    "    return args, SBM, dfs, mode_df"
   ]
  },
  {
   "cell_type": "code",
   "execution_count": 5,
   "metadata": {},
   "outputs": [],
   "source": [
    "def combine_soft_htmls(args, SBM, html_files, idx_mode, level=1, COMM=0):\n",
    "    # Create the main HTML content\n",
    "    html_content = \"\"\"\n",
    "    <!DOCTYPE html>\n",
    "    <html lang=\"en\">\n",
    "    <head>\n",
    "        <meta charset=\"UTF-8\">\n",
    "        <meta name=\"viewport\" content=\"width=device-width, initial-scale=1.0\">\n",
    "        <title>HTML Grid with Headings</title>\n",
    "        <style>\n",
    "            body {\n",
    "                display: grid;\n",
    "                grid-template-columns: repeat(auto-fill, minmax(1000px, 1fr));\n",
    "                gap: 20px;\n",
    "                padding: 20px;\n",
    "            }\n",
    "            iframe {\n",
    "                width: 850px;\n",
    "                height: 850px;\n",
    "                border: none;\n",
    "            }\n",
    "            .grid-item {\n",
    "                text-align: center;\n",
    "                margin-bottom: 10px;\n",
    "            }\n",
    "            h2 {\n",
    "                margin: 0;\n",
    "            }\n",
    "        </style>\n",
    "    </head>\n",
    "    <body>\n",
    "    \"\"\"\n",
    "    # Add iframes and headings for each HTML file\n",
    "    for html_file in html_files:\n",
    "        # Extract filename (without extension) for heading\n",
    "        filename, _ = os.path.splitext(html_file.split('/')[-1])\n",
    "        heading = f'<h2>{filename}</h2>'  # Capitalize the filename for title\n",
    "        iframe_tag = f'<div class=\"grid-item\">{heading}<iframe src=\"{html_file}\"></iframe></div>'\n",
    "        html_content += iframe_tag\n",
    "    # Close the HTML content\n",
    "    html_content += \"\"\"\n",
    "    </body>\n",
    "    </html>\n",
    "    \"\"\"\n",
    "    # Write the content to an index.html file\n",
    "    index_file = os.path.join(f'{HTML_path}/group/soft/partitions/hierarchical', f\"{SBM}_mode-{idx_mode}_level-{level}_comm-{COMM}_desc-index.html\")\n",
    "    with open(index_file, \"w\") as f:\n",
    "        f.write(html_content)\n",
    "    print(\"index.html has been created successfully.\")"
   ]
  },
  {
   "cell_type": "code",
   "execution_count": 6,
   "metadata": {},
   "outputs": [],
   "source": [
    "models_list = [\n",
    "    ('dc', 'h'),\n",
    "    ('nd', 'h'),\n",
    "]"
   ]
  },
  {
   "cell_type": "code",
   "execution_count": 7,
   "metadata": {},
   "outputs": [
    {
     "name": "stdout",
     "output_type": "stream",
     "text": [
      "sbm-dc-h\n",
      "mode 0\n",
      "index.html has been created successfully.\n",
      "index.html has been created successfully.\n",
      "index.html has been created successfully.\n",
      "mode 1\n",
      "index.html has been created successfully.\n",
      "index.html has been created successfully.\n",
      "index.html has been created successfully.\n",
      "mode 2\n",
      "index.html has been created successfully.\n",
      "index.html has been created successfully.\n",
      "index.html has been created successfully.\n",
      "mode 3\n",
      "index.html has been created successfully.\n",
      "index.html has been created successfully.\n",
      "mode 4\n",
      "index.html has been created successfully.\n",
      "index.html has been created successfully.\n",
      "index.html has been created successfully.\n",
      "mode 5\n",
      "index.html has been created successfully.\n",
      "index.html has been created successfully.\n",
      "index.html has been created successfully.\n",
      "mode 6\n",
      "index.html has been created successfully.\n",
      "index.html has been created successfully.\n",
      "index.html has been created successfully.\n",
      "index.html has been created successfully.\n",
      "index.html has been created successfully.\n",
      "mode 7\n",
      "index.html has been created successfully.\n",
      "index.html has been created successfully.\n",
      "index.html has been created successfully.\n",
      "mode 8\n",
      "index.html has been created successfully.\n",
      "index.html has been created successfully.\n",
      "index.html has been created successfully.\n",
      "index.html has been created successfully.\n",
      "mode 9\n",
      "index.html has been created successfully.\n",
      "index.html has been created successfully.\n",
      "index.html has been created successfully.\n",
      "index.html has been created successfully.\n",
      "mode 10\n",
      "index.html has been created successfully.\n",
      "index.html has been created successfully.\n",
      "mode 11\n",
      "index.html has been created successfully.\n",
      "index.html has been created successfully.\n",
      "sbm-nd-h\n",
      "mode 0\n",
      "index.html has been created successfully.\n",
      "index.html has been created successfully.\n",
      "index.html has been created successfully.\n",
      "mode 1\n",
      "index.html has been created successfully.\n",
      "index.html has been created successfully.\n",
      "index.html has been created successfully.\n",
      "mode 2\n",
      "index.html has been created successfully.\n",
      "index.html has been created successfully.\n",
      "index.html has been created successfully.\n",
      "mode 3\n",
      "index.html has been created successfully.\n",
      "index.html has been created successfully.\n",
      "index.html has been created successfully.\n",
      "index.html has been created successfully.\n"
     ]
    }
   ],
   "source": [
    "for model in models_list:\n",
    "    args, SBM, dfs, mode_df = load_modes(args, model=model)\n",
    "    print(f'{SBM}')\n",
    "    for idx_mode, row in mode_df.iterrows():\n",
    "        print(f'mode {idx_mode}')\n",
    "        bs_df = pd.read_csv(\n",
    "            f'{CSV_path}/group/roi_order/{SBM}_mode-{idx_mode}_desc-roi-order.csv', \n",
    "            sep='\\t',\n",
    "        )\n",
    "        for COMM in bs_df['1'].unique():\n",
    "            comms = bs_df[bs_df['1'] == COMM]['0'].unique()\n",
    "            html_files = [f'{HTML_path}/group/soft/{SBM}_level-{0}_desc-soft-comm-{comm:02d}.html' for comm in comms]\n",
    "            combine_soft_htmls(args, SBM, html_files, idx_mode, level=1, COMM=COMM)"
   ]
  },
  {
   "cell_type": "code",
   "execution_count": 9,
   "metadata": {},
   "outputs": [
    {
     "data": {
      "image/png": "[encoded data removed]",
      "text/html": [
       "<div style=\"vertical-align: middle;\"><strong>linear_blue_95_50_c20</strong> </div><div class=\"cmap\"><img alt=\"linear_blue_95_50_c20 colormap\" title=\"linear_blue_95_50_c20\" style=\"border: 1px solid #555;\" src=\"data:image/png;base64,iVBORw0KGgoAAAANSUhEUgAAAgAAAABACAYAAABsv8+/AAAAJHRFWHRUaXRsZQBsaW5lYXJfYmx1ZV85NV81MF9jMjAgY29sb3JtYXCIjFlxAAAAKnRFWHREZXNjcmlwdGlvbgBsaW5lYXJfYmx1ZV85NV81MF9jMjAgY29sb3JtYXCfdqPkAAAAMHRFWHRBdXRob3IATWF0cGxvdGxpYiB2My44LjAsIGh0dHBzOi8vbWF0cGxvdGxpYi5vcmefc/hPAAAAMnRFWHRTb2Z0d2FyZQBNYXRwbG90bGliIHYzLjguMCwgaHR0cHM6Ly9tYXRwbG90bGliLm9yZ7HVZ2gAAAHZSURBVHic7dZBTsMwAADBwP8f2xdgLkhVnRq3gdvOXFDq1HZIGu3H7XYbx3Ec4/gxHv4cY3F8LMfHZnz6/uK83T7u4+PiPjfj08DVfa7XGc/H315nbMZ3+3hvnr/u43TfXt3fNMH++qb5l/sfm/FX130+vtrP6vmdz78fP54/7/P0nC4+Xz3P8/6X17O5jtX9ffd7u+s7X8f8/5qOL8579Xi97qv3e3c8zX9a/tr9O7+Pft/vbp6rv4P33xfPx++n/f77ffk9evE9sFpvvZ//Pe9rsf7nAQDkCAAACBIAABAkAAAgSAAAQJAAAIAgAQAAQQIAAIIEAAAECQAACBIAABAkAAAgSAAAQJAAAIAgAQAAQQIAAIIEAAAECQAACBIAABAkAAAgSAAAQJAAAIAgAQAAQQIAAIIEAAAECQAACBIAABAkAAAgSAAAQJAAAIAgAQAAQQIAAIIEAAAECQAACBIAABAkAAAgSAAAQJAAAIAgAQAAQQIAAIIEAAAECQAACBIAABAkAAAgSAAAQJAAAIAgAQAAQQIAAIIEAAAECQAACBIAABAkAAAgSAAAQJAAAIAgAQAAQQIAAIIEAAAECQAACBIAABAkAAAgSAAAQJAAAIAgAQAAQd90nWv0K6posQAAAABJRU5ErkJggg==\"></div><div style=\"vertical-align: middle; max-width: 514px; display: flex; justify-content: space-between;\"><div style=\"float: left;\"><div title=\"#f1f1f1ff\" style=\"display: inline-block; width: 1em; height: 1em; margin: 0; vertical-align: middle; border: 1px solid #555; background-color: #f1f1f1ff;\"></div> under</div><div style=\"margin: 0 auto; display: inline-block;\">bad <div title=\"#00000000\" style=\"display: inline-block; width: 1em; height: 1em; margin: 0; vertical-align: middle; border: 1px solid #555; background-color: #00000000;\"></div></div><div style=\"float: right;\">over <div title=\"#3b7cb2ff\" style=\"display: inline-block; width: 1em; height: 1em; margin: 0; vertical-align: middle; border: 1px solid #555; background-color: #3b7cb2ff;\"></div></div>"
      ],
      "text/plain": [
       "<matplotlib.colors.LinearSegmentedColormap at 0x7fc258961c10>"
      ]
     },
     "execution_count": 9,
     "metadata": {},
     "output_type": "execute_result"
    }
   ],
   "source": [
    "cc.cm.CET_L12"
   ]
  }
 ],
 "metadata": {
  "kernelspec": {
   "display_name": "nw_estim",
   "language": "python",
   "name": "python3"
  },
  "language_info": {
   "codemirror_mode": {
    "name": "ipython",
    "version": 3
   },
   "file_extension": ".py",
   "mimetype": "text/x-python",
   "name": "python",
   "nbconvert_exporter": "python",
   "pygments_lexer": "ipython3",
   "version": "3.9.17"
  }
 },
 "nbformat": 4,
 "nbformat_minor": 2
}
