{
 "cells": [
  {
   "cell_type": "markdown",
   "metadata": {},
   "source": [
    "# May 10, 2024: visualize modes in 3D"
   ]
  },
  {
   "cell_type": "code",
   "execution_count": 1,
   "metadata": {},
   "outputs": [
    {
     "name": "stdout",
     "output_type": "stream",
     "text": [
      "240602-21:12:42,355 nipype.utils WARNING:\n",
      "\t A newer version (1.8.4) of nipy/nipype is available. You are using 1.6.1\n"
     ]
    }
   ],
   "source": [
    "import csv\n",
    "import os\n",
    "import sys\n",
    "import numpy as np\n",
    "import pandas as pd\n",
    "import scipy as sp \n",
    "import dill as pickle \n",
    "\n",
    "from scipy import sparse, stats\n",
    "import glob\n",
    "from tqdm import tqdm\n",
    "import ants\n",
    "from nipype.interfaces import afni\n",
    "from itertools import product, combinations\n",
    "\n",
    "import graph_tool.all as gt\n",
    "\n",
    "from brainrender import Scene, actor\n",
    "\n",
    "import vedo\n",
    "vedo.settings.default_backend = 'k3d'\n",
    "from vedo import Volume, Plotter\n",
    "\n",
    "from brainglobe_utils.IO.image.load import load_nii\n",
    "\n",
    "# plotting\n",
    "import matplotlib as mpl\n",
    "import matplotlib.pyplot as plt\n",
    "import seaborn as sns\n",
    "\n",
    "plt.rcParamsDefault['font.family'] = \"sans-serif\"\n",
    "plt.rcParamsDefault['font.sans-serif'] = \"Arial\"\n",
    "plt.rcParams['font.size'] = 14\n",
    "plt.rcParams[\"errorbar.capsize\"] = 0.5\n",
    "\n",
    "import cmasher as cmr  # CITE ITS PAPER IN YOUR MANUSCRIPT\n",
    "\n",
    "from matplotlib import colors\n",
    "from palettable.tableau import Tableau_20\n",
    "import colorcet as cc\n",
    "\n",
    "\n",
    "# # ignore user warnings\n",
    "# import warnings\n",
    "# warnings.filterwarnings(\"ignore\") #, category=UserWarning)"
   ]
  },
  {
   "cell_type": "code",
   "execution_count": 2,
   "metadata": {},
   "outputs": [],
   "source": [
    "class ARGS():\n",
    "    pass\n",
    "\n",
    "args = ARGS()\n",
    "\n",
    "args.SEED = 100\n",
    "\n",
    "gt.seed_rng(args.SEED)\n",
    "np.random.seed(args.SEED)"
   ]
  },
  {
   "cell_type": "code",
   "execution_count": 3,
   "metadata": {},
   "outputs": [],
   "source": [
    "args.type = 'spatial'\n",
    "args.roi_size = 225\n",
    "args.maintain_symmetry = True\n",
    "args.brain_div = 'whl'\n",
    "args.num_rois = 162\n",
    "\n",
    "DESC = (\n",
    "    f'type-{args.type}'\n",
    "    f'_size-{args.roi_size}'\n",
    "    f'_symm-{args.maintain_symmetry}'\n",
    "    f'_braindiv-{args.brain_div}'\n",
    "    f'_nrois-{args.num_rois}'\n",
    ")\n",
    "\n",
    "args.unit = 'seswise' # runwise/seswise/subwise : unit sample of dataset\n",
    "args.denst = 20 # density of fc matrix\n",
    "\n",
    "BASE_path = f'{os.environ[\"HOME\"]}/mouse_dataset'\n",
    "PARCELS_path = f'{BASE_path}/parcels'\n",
    "ROI_path = f'{BASE_path}/roi_results'\n",
    "ROI_RESULTS_path = f'{ROI_path}/{DESC}/{args.unit}/density-{args.denst}'\n",
    "FC_path = f'{ROI_RESULTS_path}/corr_mats'\n",
    "SBM_path = f'{ROI_RESULTS_path}/sbms'\n",
    "NPY_path = f'{ROI_RESULTS_path}/npy'\n",
    "os.system(f'mkdir -p {NPY_path}')\n",
    "NII_path = f'{ROI_RESULTS_path}/niis'\n",
    "os.system(f'mkdir -p {NII_path}/indiv')\n",
    "os.system(f'mkdir -p {NII_path}/group')\n",
    "HTML_path = f'{ROI_RESULTS_path}/htmls'\n",
    "os.system(f'mkdir -p {HTML_path}/group')\n",
    "# sbm model class\n",
    "args.dc = 'dc'\n",
    "args.sbm = 'h' "
   ]
  },
  {
   "cell_type": "code",
   "execution_count": 4,
   "metadata": {},
   "outputs": [],
   "source": [
    "parcels_img = ants.image_read(f'{PARCELS_path}/{DESC}_desc-parcels.nii.gz')\n",
    "parcels = parcels_img.numpy()\n",
    "roi_labels = np.loadtxt(f'{PARCELS_path}/{DESC}_desc-labels.txt')"
   ]
  },
  {
   "cell_type": "markdown",
   "metadata": {},
   "source": [
    "---"
   ]
  },
  {
   "cell_type": "code",
   "execution_count": 5,
   "metadata": {},
   "outputs": [],
   "source": [
    "with open(f'{NPY_path}/sbm-{args.dc}-{args.sbm}_desc-group-modes.npy', 'rb') as f:\n",
    "    [dfs, mode_df] = pickle.load(f)"
   ]
  },
  {
   "cell_type": "code",
   "execution_count": 6,
   "metadata": {},
   "outputs": [
    {
     "data": {
      "text/html": [
       "<pre style=\"white-space:pre;overflow-x:auto;line-height:normal;font-family:Menlo,'DejaVu Sans Mono',consolas,'Courier New',monospace\"></pre>\n"
      ],
      "text/plain": []
     },
     "metadata": {},
     "output_type": "display_data"
    },
    {
     "data": {
      "text/html": [
       "<div>\n",
       "<style scoped>\n",
       "    .dataframe tbody tr th:only-of-type {\n",
       "        vertical-align: middle;\n",
       "    }\n",
       "\n",
       "    .dataframe tbody tr th {\n",
       "        vertical-align: top;\n",
       "    }\n",
       "\n",
       "    .dataframe thead th {\n",
       "        text-align: right;\n",
       "    }\n",
       "</style>\n",
       "<table border=\"1\" class=\"dataframe\">\n",
       "  <thead>\n",
       "    <tr style=\"text-align: right;\">\n",
       "      <th></th>\n",
       "      <th>mode_id</th>\n",
       "      <th>mode</th>\n",
       "      <th>omega</th>\n",
       "      <th>sigma</th>\n",
       "      <th>ratio</th>\n",
       "      <th>b</th>\n",
       "    </tr>\n",
       "  </thead>\n",
       "  <tbody>\n",
       "    <tr>\n",
       "      <th>0</th>\n",
       "      <td>0</td>\n",
       "      <td>&lt;graph_tool.inference.partition_modes.Partitio...</td>\n",
       "      <td>1.0</td>\n",
       "      <td>0.489546</td>\n",
       "      <td>2.042709</td>\n",
       "      <td>[[0, 1, 1, 2, 3, 4, 5, 4, 0, 5, 4, 1, 0, 4, 4,...</td>\n",
       "    </tr>\n",
       "  </tbody>\n",
       "</table>\n",
       "</div>"
      ],
      "text/plain": [
       "\n",
       "   mode_id                                               mode  omega  \\\n",
       "\u001b[1;36m0\u001b[0m        \u001b[1;36m0\u001b[0m  <graph_tool.inference.partition_modes.Partitio\u001b[33m...\u001b[0m    \u001b[1;36m1.0\u001b[0m   \n",
       "\n",
       "      sigma     ratio                                                  b  \n",
       "\u001b[1;36m0\u001b[0m  \u001b[1;36m0.489546\u001b[0m  \u001b[1;36m2.042709\u001b[0m  \u001b[1m[\u001b[0m\u001b[1m[\u001b[0m\u001b[1;36m0\u001b[0m, \u001b[1;36m1\u001b[0m, \u001b[1;36m1\u001b[0m, \u001b[1;36m2\u001b[0m, \u001b[1;36m3\u001b[0m, \u001b[1;36m4\u001b[0m, \u001b[1;36m5\u001b[0m, \u001b[1;36m4\u001b[0m, \u001b[1;36m0\u001b[0m, \u001b[1;36m5\u001b[0m, \u001b[1;36m4\u001b[0m, \u001b[1;36m1\u001b[0m, \u001b[1;36m0\u001b[0m, \u001b[1;36m4\u001b[0m, \u001b[1;36m4\u001b[0m,\u001b[33m...\u001b[0m  "
      ]
     },
     "execution_count": 6,
     "metadata": {},
     "output_type": "execute_result"
    }
   ],
   "source": [
    "mode_df"
   ]
  },
  {
   "cell_type": "code",
   "execution_count": 7,
   "metadata": {},
   "outputs": [],
   "source": [
    "def add_vol(args, scene, vol, color='#cccccc', alpha=0.2, label='template'):\n",
    "    mesh = vol.isosurface()\n",
    "    mesh = mesh.smooth(\n",
    "        niter=1000, \n",
    "        pass_band=0.1, \n",
    "        edge_angle=15, \n",
    "        feature_angle=150,\n",
    "        boundary=False,\n",
    "    )\n",
    "    mesh_actor = actor.Actor(\n",
    "        mesh, \n",
    "        name=f'{label}', \n",
    "        br_class='Volume', \n",
    "        color=color, \n",
    "        alpha=alpha\n",
    "    )\n",
    "    scene.add(mesh_actor)\n",
    "    # scene.add_label(actor=mesh_actor, label=label)\n",
    "    return scene\n",
    "\n",
    "def visualize_nested_partition(args, template, data, colors_list, filename):\n",
    "    def visualize_data(args, scene, vol, colors_list):\n",
    "        comms = np.unique(vol)[1:].astype(int)\n",
    "        \n",
    "        for idx_comm, comm in enumerate(comms):\n",
    "            color = colors_list[comm]\n",
    "            print(comm, color)\n",
    "            comm = (vol == comm)\n",
    "            comm = Volume(comm, origin=[0,0,0], spacing=spacing)\n",
    "            scene = add_vol(\n",
    "                args, scene, vol=comm, \n",
    "                color=color,#colors_list[idx_comm], \n",
    "                alpha=alpha, \n",
    "                label=f'comm {idx_comm}'\n",
    "            )\n",
    "        return scene\n",
    "    \n",
    "    def change_filename(filename, level):\n",
    "        fs = filename.split('/')\n",
    "        fi = fs[-1]\n",
    "        fis = fi.split('_')\n",
    "        return '/'.join(fs[:-1] + ['_'.join(fis[:2] + [f'level-{level}'] + fis[2:])])\n",
    "    \n",
    "    template = load_nii(template, as_array=True)\n",
    "    spacing=[args.spacing]*3\n",
    "    vol_template = Volume(template, origin=[-75,0,0], spacing=spacing)\n",
    "    \n",
    "    data = load_nii(data, as_array=True)\n",
    "    for level in range(data.shape[-1]):\n",
    "        scene = Scene()\n",
    "        root_brain = scene.get_actors()[0].alpha(0.0)\n",
    "\n",
    "        scene = add_vol(\n",
    "            args, scene, vol=vol_template, \n",
    "            color='#cccccc', alpha=0.2,\n",
    "            label='template'\n",
    "        )\n",
    "        \n",
    "        vol = data[:, :, :, level]\n",
    "        spacing = [args.spacing]*3\n",
    "        alpha = 1.0\n",
    "        scene = visualize_data(args, scene, vol=vol, colors_list=colors_list)\n",
    "\n",
    "        \n",
    "        # plt = Plotter()\n",
    "        # plt.show(*scene.renderables, zoom=True)\n",
    "        scene.export(f'{change_filename(filename, level)}')\n",
    "    return None\n",
    "\n",
    "def visualize_partition(args, template, data, colors_list, filename):\n",
    "    scene = Scene()\n",
    "    root_brain = scene.get_actors()[0].alpha(0.0)\n",
    "\n",
    "    template = load_nii(template, as_array=True)\n",
    "    spacing=[args.spacing]*3\n",
    "    vol = Volume(template, origin=[-75,0,0], spacing=spacing)\n",
    "    scene = add_vol(\n",
    "        args, scene, vol=vol, \n",
    "        color='#cccccc', alpha=0.2,\n",
    "        label='template'\n",
    "    )\n",
    "    \n",
    "    def visualize_data(args, scene, vol, colors_list):\n",
    "        comms = np.unique(vol)[1:].astype(int)\n",
    "        \n",
    "        for idx_comm, comm in enumerate(comms):\n",
    "            color = colors_list[comm % len(colors_list)]\n",
    "            print(comm, color)\n",
    "            comm = (vol == comm)\n",
    "            comm = Volume(comm, origin=[0,0,0], spacing=spacing)\n",
    "            scene = add_vol(\n",
    "                args, scene, vol=comm, \n",
    "                color=color,#colors_list[idx_comm], \n",
    "                alpha=alpha, \n",
    "                label=f'comm {idx_comm}'\n",
    "            )\n",
    "        return scene\n",
    "    \n",
    "    data = load_nii(data, as_array=True)\n",
    "    vol = data\n",
    "    spacing = [args.spacing]*3\n",
    "    alpha = 1.0\n",
    "    scene = visualize_data(args, scene, vol=vol, colors_list=colors_list)\n",
    "    \n",
    "    # plt = Plotter()\n",
    "    # plt.show(*scene.renderables, zoom=True)\n",
    "    scene.export(f'{filename}')\n",
    "    return None"
   ]
  },
  {
   "cell_type": "code",
   "execution_count": 8,
   "metadata": {},
   "outputs": [
    {
     "data": {
      "text/html": [
       "<pre style=\"white-space:pre;overflow-x:auto;line-height:normal;font-family:Menlo,'DejaVu Sans Mono',consolas,'Courier New',monospace\"></pre>\n"
      ],
      "text/plain": []
     },
     "metadata": {},
     "output_type": "display_data"
    },
    {
     "data": {
      "text/plain": [
       "\n",
       "\u001b[1m[\u001b[0m\n",
       "    \u001b[32m'#cccccc'\u001b[0m,\n",
       "    \u001b[32m'#c3acff'\u001b[0m,\n",
       "    \u001b[32m'#f83827'\u001b[0m,\n",
       "    \u001b[32m'#d4ce00'\u001b[0m,\n",
       "    \u001b[32m'#31bf82'\u001b[0m,\n",
       "    \u001b[32m'#2791ff'\u001b[0m,\n",
       "    \u001b[32m'#eabdfb'\u001b[0m,\n",
       "    \u001b[32m'#a7bd00'\u001b[0m,\n",
       "    \u001b[32m'#2fd8b5'\u001b[0m,\n",
       "    \u001b[32m'#4280ff'\u001b[0m,\n",
       "    \u001b[32m'#ffb6d9'\u001b[0m,\n",
       "    \u001b[32m'#fc7401'\u001b[0m,\n",
       "    \u001b[32m'#77aa02'\u001b[0m,\n",
       "    \u001b[32m'#25e8e3'\u001b[0m,\n",
       "    \u001b[32m'#7989ff'\u001b[0m,\n",
       "    \u001b[32m'#ff97a3'\u001b[0m,\n",
       "    \u001b[32m'#ff9c00'\u001b[0m,\n",
       "    \u001b[32m'#479a15'\u001b[0m,\n",
       "    \u001b[32m'#2adcfb'\u001b[0m,\n",
       "    \u001b[32m'#aa9eff'\u001b[0m,\n",
       "    \u001b[32m'#ff706d'\u001b[0m,\n",
       "    \u001b[32m'#fec000'\u001b[0m,\n",
       "    \u001b[32m'#2c9d39'\u001b[0m,\n",
       "    \u001b[32m'#31beff'\u001b[0m,\n",
       "    \u001b[32m'#fc473c'\u001b[0m,\n",
       "    \u001b[32m'#e8d100'\u001b[0m,\n",
       "    \u001b[32m'#2fb269'\u001b[0m,\n",
       "    \u001b[32m'#2b9fff'\u001b[0m\n",
       "\u001b[1m]\u001b[0m"
      ]
     },
     "execution_count": 8,
     "metadata": {},
     "output_type": "execute_result"
    }
   ],
   "source": [
    "# perceptually uniform custom colormap\n",
    "import colorcet as cc\n",
    "from matplotlib.colors import LinearSegmentedColormap\n",
    "from matplotlib import colors\n",
    "def get_uniform_colors():\n",
    "    colors_val = []\n",
    "    for idx in np.arange(5, 56, 10):\n",
    "        colors_val += cc.CET_C6s[idx:256:55]\n",
    "    colors_val.pop(6)\n",
    "    colors_rgb = [colors.to_rgb(c) for c in colors_val]\n",
    "    return colors_val, colors_rgb\n",
    "\n",
    "colors_val, colors_rgb = get_uniform_colors()\n",
    "# bs = np.stack(mode_df['b'].to_list()).T\n",
    "# max_num_colors = np.max(bs)+1\n",
    "# colors_val = colors_val[:max_num_colors]\n",
    "# colors_rgb = colors_rgb[:max_num_colors]\n",
    "\n",
    "args.spacing = 200 #um\n",
    "# comms = np.arange(1, 21)\n",
    "colors_list = ['#cccccc'] + colors_val\n",
    "colors_list"
   ]
  },
  {
   "cell_type": "code",
   "execution_count": 9,
   "metadata": {},
   "outputs": [
    {
     "name": "stderr",
     "output_type": "stream",
     "text": [
      "  0%|          | 0/1 [00:00<?, ?it/s]"
     ]
    },
    {
     "name": "stdout",
     "output_type": "stream",
     "text": [
      "1 #c3acff\n",
      "2 #f83827\n",
      "3 #d4ce00\n",
      "4 #31bf82\n",
      "5 #2791ff\n",
      "6 #eabdfb\n",
      "7 #a7bd00\n",
      "8 #2fd8b5\n",
      "9 #4280ff\n",
      "10 #ffb6d9\n",
      "11 #fc7401\n",
      "12 #77aa02\n",
      "13 #25e8e3\n",
      "14 #7989ff\n",
      "15 #ff97a3\n",
      "16 #ff9c00\n"
     ]
    },
    {
     "data": {
      "text/html": [
       "<pre style=\"white-space:pre;overflow-x:auto;line-height:normal;font-family:Menlo,'DejaVu Sans Mono',consolas,'Courier New',monospace\"><span style=\"color: #fb8c00; text-decoration-color: #fb8c00\">Cannot run function </span><span style=\"color: #ff7043; text-decoration-color: #ff7043; font-weight: bold\">_get_inset</span><span style=\"color: #fb8c00; text-decoration-color: #fb8c00\"> in a jupyter notebook</span> <span style=\"color: #fb8c00; text-decoration-color: #fb8c00\">Try setting the correct backend before creating your scene:</span>\n",
       "\n",
       "<span style=\"color: #f92672; text-decoration-color: #f92672; background-color: #272822\">from</span><span style=\"color: #f8f8f2; text-decoration-color: #f8f8f2; background-color: #272822\"> vedo </span><span style=\"color: #f92672; text-decoration-color: #f92672; background-color: #272822\">import</span><span style=\"color: #f8f8f2; text-decoration-color: #f8f8f2; background-color: #272822\"> embedWindow</span><span style=\"background-color: #272822\">                                                                                       </span>\n",
       "<span style=\"color: #f8f8f2; text-decoration-color: #f8f8f2; background-color: #272822\">embedWindow(</span><span style=\"color: #66d9ef; text-decoration-color: #66d9ef; background-color: #272822\">None</span><span style=\"color: #f8f8f2; text-decoration-color: #f8f8f2; background-color: #272822\">)</span><span style=\"background-color: #272822\">                                                                                                  </span>\n",
       "</pre>\n"
      ],
      "text/plain": [
       "\u001b[38;2;251;140;0mCannot run function \u001b[0m\u001b[1;38;2;255;112;67m_get_inset\u001b[0m\u001b[38;2;251;140;0m in a jupyter notebook\u001b[0m \u001b[38;2;251;140;0mTry setting the correct backend before creating your scene:\u001b[0m\n",
       "\n",
       "\u001b[38;2;249;38;114;48;2;39;40;34mfrom\u001b[0m\u001b[38;2;248;248;242;48;2;39;40;34m \u001b[0m\u001b[38;2;248;248;242;48;2;39;40;34mvedo\u001b[0m\u001b[38;2;248;248;242;48;2;39;40;34m \u001b[0m\u001b[38;2;249;38;114;48;2;39;40;34mimport\u001b[0m\u001b[38;2;248;248;242;48;2;39;40;34m \u001b[0m\u001b[38;2;248;248;242;48;2;39;40;34membedWindow\u001b[0m\u001b[48;2;39;40;34m                                                                                       \u001b[0m\n",
       "\u001b[38;2;248;248;242;48;2;39;40;34membedWindow\u001b[0m\u001b[38;2;248;248;242;48;2;39;40;34m(\u001b[0m\u001b[38;2;102;217;239;48;2;39;40;34mNone\u001b[0m\u001b[38;2;248;248;242;48;2;39;40;34m)\u001b[0m\u001b[48;2;39;40;34m                                                                                                  \u001b[0m\n"
      ]
     },
     "metadata": {},
     "output_type": "display_data"
    },
    {
     "data": {
      "text/html": [
       "<pre style=\"white-space:pre;overflow-x:auto;line-height:normal;font-family:Menlo,'DejaVu Sans Mono',consolas,'Courier New',monospace\"><span style=\"color: #26a69a; text-decoration-color: #26a69a\">Your scene is ready for rendering, use:</span>\n",
       "\n",
       "<span style=\"color: #f92672; text-decoration-color: #f92672; background-color: #272822\">from</span><span style=\"color: #f8f8f2; text-decoration-color: #f8f8f2; background-color: #272822\"> vedo </span><span style=\"color: #f92672; text-decoration-color: #f92672; background-color: #272822\">import</span><span style=\"color: #f8f8f2; text-decoration-color: #f8f8f2; background-color: #272822\"> show</span><span style=\"background-color: #272822\">                                                                                              </span>\n",
       "<span style=\"color: #f8f8f2; text-decoration-color: #f8f8f2; background-color: #272822\">vedo</span><span style=\"color: #f92672; text-decoration-color: #f92672; background-color: #272822\">.</span><span style=\"color: #f8f8f2; text-decoration-color: #f8f8f2; background-color: #272822\">show(</span><span style=\"color: #f92672; text-decoration-color: #f92672; background-color: #272822\">*</span><span style=\"color: #f8f8f2; text-decoration-color: #f8f8f2; background-color: #272822\">scene</span><span style=\"color: #f92672; text-decoration-color: #f92672; background-color: #272822\">.</span><span style=\"color: #f8f8f2; text-decoration-color: #f8f8f2; background-color: #272822\">renderables)</span><span style=\"background-color: #272822\">                                                                                      </span>\n",
       "</pre>\n"
      ],
      "text/plain": [
       "\u001b[38;2;38;166;154mYour scene is ready for rendering, use:\u001b[0m\n",
       "\n",
       "\u001b[38;2;249;38;114;48;2;39;40;34mfrom\u001b[0m\u001b[38;2;248;248;242;48;2;39;40;34m \u001b[0m\u001b[38;2;248;248;242;48;2;39;40;34mvedo\u001b[0m\u001b[38;2;248;248;242;48;2;39;40;34m \u001b[0m\u001b[38;2;249;38;114;48;2;39;40;34mimport\u001b[0m\u001b[38;2;248;248;242;48;2;39;40;34m \u001b[0m\u001b[38;2;248;248;242;48;2;39;40;34mshow\u001b[0m\u001b[48;2;39;40;34m                                                                                              \u001b[0m\n",
       "\u001b[38;2;248;248;242;48;2;39;40;34mvedo\u001b[0m\u001b[38;2;249;38;114;48;2;39;40;34m.\u001b[0m\u001b[38;2;248;248;242;48;2;39;40;34mshow\u001b[0m\u001b[38;2;248;248;242;48;2;39;40;34m(\u001b[0m\u001b[38;2;249;38;114;48;2;39;40;34m*\u001b[0m\u001b[38;2;248;248;242;48;2;39;40;34mscene\u001b[0m\u001b[38;2;249;38;114;48;2;39;40;34m.\u001b[0m\u001b[38;2;248;248;242;48;2;39;40;34mrenderables\u001b[0m\u001b[38;2;248;248;242;48;2;39;40;34m)\u001b[0m\u001b[48;2;39;40;34m                                                                                      \u001b[0m\n"
      ]
     },
     "metadata": {},
     "output_type": "display_data"
    },
    {
     "data": {
      "text/html": [
       "<pre style=\"white-space:pre;overflow-x:auto;line-height:normal;font-family:Menlo,'DejaVu Sans Mono',consolas,'Courier New',monospace\">The brainrender scene has been exported for web. The results are saved at \n",
       "<span style=\"color: #800080; text-decoration-color: #800080\">/home/govindas/mouse_dataset/roi_results/type-spatial_size-225_symm-True_braindiv-whl_nrois-162/seswise/density-20/</span>\n",
       "<span style=\"color: #800080; text-decoration-color: #800080\">htmls/group/</span><span style=\"color: #ff00ff; text-decoration-color: #ff00ff\">sbm-dc-h_mode-0_level-0_omega-1.00_sigma-0.49_ratio-2.043_desc-partition.html</span>\n",
       "</pre>\n"
      ],
      "text/plain": [
       "The brainrender scene has been exported for web. The results are saved at \n",
       "\u001b[35m/home/govindas/mouse_dataset/roi_results/type-spatial_size-225_symm-True_braindiv-whl_nrois-162/seswise/density-20/\u001b[0m\n",
       "\u001b[35mhtmls/group/\u001b[0m\u001b[95msbm-dc-h_mode-0_level-0_omega-1.00_sigma-0.49_ratio-2.043_desc-partition.html\u001b[0m\n"
      ]
     },
     "metadata": {},
     "output_type": "display_data"
    },
    {
     "name": "stdout",
     "output_type": "stream",
     "text": [
      "1 #c3acff\n",
      "2 #f83827\n",
      "3 #d4ce00\n"
     ]
    },
    {
     "data": {
      "text/html": [
       "<pre style=\"white-space:pre;overflow-x:auto;line-height:normal;font-family:Menlo,'DejaVu Sans Mono',consolas,'Courier New',monospace\"><span style=\"color: #fb8c00; text-decoration-color: #fb8c00\">Cannot run function </span><span style=\"color: #ff7043; text-decoration-color: #ff7043; font-weight: bold\">_get_inset</span><span style=\"color: #fb8c00; text-decoration-color: #fb8c00\"> in a jupyter notebook</span> <span style=\"color: #fb8c00; text-decoration-color: #fb8c00\">Try setting the correct backend before creating your scene:</span>\n",
       "\n",
       "<span style=\"color: #f92672; text-decoration-color: #f92672; background-color: #272822\">from</span><span style=\"color: #f8f8f2; text-decoration-color: #f8f8f2; background-color: #272822\"> vedo </span><span style=\"color: #f92672; text-decoration-color: #f92672; background-color: #272822\">import</span><span style=\"color: #f8f8f2; text-decoration-color: #f8f8f2; background-color: #272822\"> embedWindow</span><span style=\"background-color: #272822\">                                                                                       </span>\n",
       "<span style=\"color: #f8f8f2; text-decoration-color: #f8f8f2; background-color: #272822\">embedWindow(</span><span style=\"color: #66d9ef; text-decoration-color: #66d9ef; background-color: #272822\">None</span><span style=\"color: #f8f8f2; text-decoration-color: #f8f8f2; background-color: #272822\">)</span><span style=\"background-color: #272822\">                                                                                                  </span>\n",
       "</pre>\n"
      ],
      "text/plain": [
       "\u001b[38;2;251;140;0mCannot run function \u001b[0m\u001b[1;38;2;255;112;67m_get_inset\u001b[0m\u001b[38;2;251;140;0m in a jupyter notebook\u001b[0m \u001b[38;2;251;140;0mTry setting the correct backend before creating your scene:\u001b[0m\n",
       "\n",
       "\u001b[38;2;249;38;114;48;2;39;40;34mfrom\u001b[0m\u001b[38;2;248;248;242;48;2;39;40;34m \u001b[0m\u001b[38;2;248;248;242;48;2;39;40;34mvedo\u001b[0m\u001b[38;2;248;248;242;48;2;39;40;34m \u001b[0m\u001b[38;2;249;38;114;48;2;39;40;34mimport\u001b[0m\u001b[38;2;248;248;242;48;2;39;40;34m \u001b[0m\u001b[38;2;248;248;242;48;2;39;40;34membedWindow\u001b[0m\u001b[48;2;39;40;34m                                                                                       \u001b[0m\n",
       "\u001b[38;2;248;248;242;48;2;39;40;34membedWindow\u001b[0m\u001b[38;2;248;248;242;48;2;39;40;34m(\u001b[0m\u001b[38;2;102;217;239;48;2;39;40;34mNone\u001b[0m\u001b[38;2;248;248;242;48;2;39;40;34m)\u001b[0m\u001b[48;2;39;40;34m                                                                                                  \u001b[0m\n"
      ]
     },
     "metadata": {},
     "output_type": "display_data"
    },
    {
     "data": {
      "text/html": [
       "<pre style=\"white-space:pre;overflow-x:auto;line-height:normal;font-family:Menlo,'DejaVu Sans Mono',consolas,'Courier New',monospace\"><span style=\"color: #26a69a; text-decoration-color: #26a69a\">Your scene is ready for rendering, use:</span>\n",
       "\n",
       "<span style=\"color: #f92672; text-decoration-color: #f92672; background-color: #272822\">from</span><span style=\"color: #f8f8f2; text-decoration-color: #f8f8f2; background-color: #272822\"> vedo </span><span style=\"color: #f92672; text-decoration-color: #f92672; background-color: #272822\">import</span><span style=\"color: #f8f8f2; text-decoration-color: #f8f8f2; background-color: #272822\"> show</span><span style=\"background-color: #272822\">                                                                                              </span>\n",
       "<span style=\"color: #f8f8f2; text-decoration-color: #f8f8f2; background-color: #272822\">vedo</span><span style=\"color: #f92672; text-decoration-color: #f92672; background-color: #272822\">.</span><span style=\"color: #f8f8f2; text-decoration-color: #f8f8f2; background-color: #272822\">show(</span><span style=\"color: #f92672; text-decoration-color: #f92672; background-color: #272822\">*</span><span style=\"color: #f8f8f2; text-decoration-color: #f8f8f2; background-color: #272822\">scene</span><span style=\"color: #f92672; text-decoration-color: #f92672; background-color: #272822\">.</span><span style=\"color: #f8f8f2; text-decoration-color: #f8f8f2; background-color: #272822\">renderables)</span><span style=\"background-color: #272822\">                                                                                      </span>\n",
       "</pre>\n"
      ],
      "text/plain": [
       "\u001b[38;2;38;166;154mYour scene is ready for rendering, use:\u001b[0m\n",
       "\n",
       "\u001b[38;2;249;38;114;48;2;39;40;34mfrom\u001b[0m\u001b[38;2;248;248;242;48;2;39;40;34m \u001b[0m\u001b[38;2;248;248;242;48;2;39;40;34mvedo\u001b[0m\u001b[38;2;248;248;242;48;2;39;40;34m \u001b[0m\u001b[38;2;249;38;114;48;2;39;40;34mimport\u001b[0m\u001b[38;2;248;248;242;48;2;39;40;34m \u001b[0m\u001b[38;2;248;248;242;48;2;39;40;34mshow\u001b[0m\u001b[48;2;39;40;34m                                                                                              \u001b[0m\n",
       "\u001b[38;2;248;248;242;48;2;39;40;34mvedo\u001b[0m\u001b[38;2;249;38;114;48;2;39;40;34m.\u001b[0m\u001b[38;2;248;248;242;48;2;39;40;34mshow\u001b[0m\u001b[38;2;248;248;242;48;2;39;40;34m(\u001b[0m\u001b[38;2;249;38;114;48;2;39;40;34m*\u001b[0m\u001b[38;2;248;248;242;48;2;39;40;34mscene\u001b[0m\u001b[38;2;249;38;114;48;2;39;40;34m.\u001b[0m\u001b[38;2;248;248;242;48;2;39;40;34mrenderables\u001b[0m\u001b[38;2;248;248;242;48;2;39;40;34m)\u001b[0m\u001b[48;2;39;40;34m                                                                                      \u001b[0m\n"
      ]
     },
     "metadata": {},
     "output_type": "display_data"
    },
    {
     "data": {
      "text/html": [
       "<pre style=\"white-space:pre;overflow-x:auto;line-height:normal;font-family:Menlo,'DejaVu Sans Mono',consolas,'Courier New',monospace\">The brainrender scene has been exported for web. The results are saved at \n",
       "<span style=\"color: #800080; text-decoration-color: #800080\">/home/govindas/mouse_dataset/roi_results/type-spatial_size-225_symm-True_braindiv-whl_nrois-162/seswise/density-20/</span>\n",
       "<span style=\"color: #800080; text-decoration-color: #800080\">htmls/group/</span><span style=\"color: #ff00ff; text-decoration-color: #ff00ff\">sbm-dc-h_mode-0_level-1_omega-1.00_sigma-0.49_ratio-2.043_desc-partition.html</span>\n",
       "</pre>\n"
      ],
      "text/plain": [
       "The brainrender scene has been exported for web. The results are saved at \n",
       "\u001b[35m/home/govindas/mouse_dataset/roi_results/type-spatial_size-225_symm-True_braindiv-whl_nrois-162/seswise/density-20/\u001b[0m\n",
       "\u001b[35mhtmls/group/\u001b[0m\u001b[95msbm-dc-h_mode-0_level-1_omega-1.00_sigma-0.49_ratio-2.043_desc-partition.html\u001b[0m\n"
      ]
     },
     "metadata": {},
     "output_type": "display_data"
    },
    {
     "name": "stdout",
     "output_type": "stream",
     "text": [
      "1 #c3acff\n"
     ]
    },
    {
     "data": {
      "text/html": [
       "<pre style=\"white-space:pre;overflow-x:auto;line-height:normal;font-family:Menlo,'DejaVu Sans Mono',consolas,'Courier New',monospace\"><span style=\"color: #fb8c00; text-decoration-color: #fb8c00\">Cannot run function </span><span style=\"color: #ff7043; text-decoration-color: #ff7043; font-weight: bold\">_get_inset</span><span style=\"color: #fb8c00; text-decoration-color: #fb8c00\"> in a jupyter notebook</span> <span style=\"color: #fb8c00; text-decoration-color: #fb8c00\">Try setting the correct backend before creating your scene:</span>\n",
       "\n",
       "<span style=\"color: #f92672; text-decoration-color: #f92672; background-color: #272822\">from</span><span style=\"color: #f8f8f2; text-decoration-color: #f8f8f2; background-color: #272822\"> vedo </span><span style=\"color: #f92672; text-decoration-color: #f92672; background-color: #272822\">import</span><span style=\"color: #f8f8f2; text-decoration-color: #f8f8f2; background-color: #272822\"> embedWindow</span><span style=\"background-color: #272822\">                                                                                       </span>\n",
       "<span style=\"color: #f8f8f2; text-decoration-color: #f8f8f2; background-color: #272822\">embedWindow(</span><span style=\"color: #66d9ef; text-decoration-color: #66d9ef; background-color: #272822\">None</span><span style=\"color: #f8f8f2; text-decoration-color: #f8f8f2; background-color: #272822\">)</span><span style=\"background-color: #272822\">                                                                                                  </span>\n",
       "</pre>\n"
      ],
      "text/plain": [
       "\u001b[38;2;251;140;0mCannot run function \u001b[0m\u001b[1;38;2;255;112;67m_get_inset\u001b[0m\u001b[38;2;251;140;0m in a jupyter notebook\u001b[0m \u001b[38;2;251;140;0mTry setting the correct backend before creating your scene:\u001b[0m\n",
       "\n",
       "\u001b[38;2;249;38;114;48;2;39;40;34mfrom\u001b[0m\u001b[38;2;248;248;242;48;2;39;40;34m \u001b[0m\u001b[38;2;248;248;242;48;2;39;40;34mvedo\u001b[0m\u001b[38;2;248;248;242;48;2;39;40;34m \u001b[0m\u001b[38;2;249;38;114;48;2;39;40;34mimport\u001b[0m\u001b[38;2;248;248;242;48;2;39;40;34m \u001b[0m\u001b[38;2;248;248;242;48;2;39;40;34membedWindow\u001b[0m\u001b[48;2;39;40;34m                                                                                       \u001b[0m\n",
       "\u001b[38;2;248;248;242;48;2;39;40;34membedWindow\u001b[0m\u001b[38;2;248;248;242;48;2;39;40;34m(\u001b[0m\u001b[38;2;102;217;239;48;2;39;40;34mNone\u001b[0m\u001b[38;2;248;248;242;48;2;39;40;34m)\u001b[0m\u001b[48;2;39;40;34m                                                                                                  \u001b[0m\n"
      ]
     },
     "metadata": {},
     "output_type": "display_data"
    },
    {
     "data": {
      "text/html": [
       "<pre style=\"white-space:pre;overflow-x:auto;line-height:normal;font-family:Menlo,'DejaVu Sans Mono',consolas,'Courier New',monospace\"><span style=\"color: #26a69a; text-decoration-color: #26a69a\">Your scene is ready for rendering, use:</span>\n",
       "\n",
       "<span style=\"color: #f92672; text-decoration-color: #f92672; background-color: #272822\">from</span><span style=\"color: #f8f8f2; text-decoration-color: #f8f8f2; background-color: #272822\"> vedo </span><span style=\"color: #f92672; text-decoration-color: #f92672; background-color: #272822\">import</span><span style=\"color: #f8f8f2; text-decoration-color: #f8f8f2; background-color: #272822\"> show</span><span style=\"background-color: #272822\">                                                                                              </span>\n",
       "<span style=\"color: #f8f8f2; text-decoration-color: #f8f8f2; background-color: #272822\">vedo</span><span style=\"color: #f92672; text-decoration-color: #f92672; background-color: #272822\">.</span><span style=\"color: #f8f8f2; text-decoration-color: #f8f8f2; background-color: #272822\">show(</span><span style=\"color: #f92672; text-decoration-color: #f92672; background-color: #272822\">*</span><span style=\"color: #f8f8f2; text-decoration-color: #f8f8f2; background-color: #272822\">scene</span><span style=\"color: #f92672; text-decoration-color: #f92672; background-color: #272822\">.</span><span style=\"color: #f8f8f2; text-decoration-color: #f8f8f2; background-color: #272822\">renderables)</span><span style=\"background-color: #272822\">                                                                                      </span>\n",
       "</pre>\n"
      ],
      "text/plain": [
       "\u001b[38;2;38;166;154mYour scene is ready for rendering, use:\u001b[0m\n",
       "\n",
       "\u001b[38;2;249;38;114;48;2;39;40;34mfrom\u001b[0m\u001b[38;2;248;248;242;48;2;39;40;34m \u001b[0m\u001b[38;2;248;248;242;48;2;39;40;34mvedo\u001b[0m\u001b[38;2;248;248;242;48;2;39;40;34m \u001b[0m\u001b[38;2;249;38;114;48;2;39;40;34mimport\u001b[0m\u001b[38;2;248;248;242;48;2;39;40;34m \u001b[0m\u001b[38;2;248;248;242;48;2;39;40;34mshow\u001b[0m\u001b[48;2;39;40;34m                                                                                              \u001b[0m\n",
       "\u001b[38;2;248;248;242;48;2;39;40;34mvedo\u001b[0m\u001b[38;2;249;38;114;48;2;39;40;34m.\u001b[0m\u001b[38;2;248;248;242;48;2;39;40;34mshow\u001b[0m\u001b[38;2;248;248;242;48;2;39;40;34m(\u001b[0m\u001b[38;2;249;38;114;48;2;39;40;34m*\u001b[0m\u001b[38;2;248;248;242;48;2;39;40;34mscene\u001b[0m\u001b[38;2;249;38;114;48;2;39;40;34m.\u001b[0m\u001b[38;2;248;248;242;48;2;39;40;34mrenderables\u001b[0m\u001b[38;2;248;248;242;48;2;39;40;34m)\u001b[0m\u001b[48;2;39;40;34m                                                                                      \u001b[0m\n"
      ]
     },
     "metadata": {},
     "output_type": "display_data"
    },
    {
     "data": {
      "text/html": [
       "<pre style=\"white-space:pre;overflow-x:auto;line-height:normal;font-family:Menlo,'DejaVu Sans Mono',consolas,'Courier New',monospace\">The brainrender scene has been exported for web. The results are saved at \n",
       "<span style=\"color: #800080; text-decoration-color: #800080\">/home/govindas/mouse_dataset/roi_results/type-spatial_size-225_symm-True_braindiv-whl_nrois-162/seswise/density-20/</span>\n",
       "<span style=\"color: #800080; text-decoration-color: #800080\">htmls/group/</span><span style=\"color: #ff00ff; text-decoration-color: #ff00ff\">sbm-dc-h_mode-0_level-2_omega-1.00_sigma-0.49_ratio-2.043_desc-partition.html</span>\n",
       "</pre>\n"
      ],
      "text/plain": [
       "The brainrender scene has been exported for web. The results are saved at \n",
       "\u001b[35m/home/govindas/mouse_dataset/roi_results/type-spatial_size-225_symm-True_braindiv-whl_nrois-162/seswise/density-20/\u001b[0m\n",
       "\u001b[35mhtmls/group/\u001b[0m\u001b[95msbm-dc-h_mode-0_level-2_omega-1.00_sigma-0.49_ratio-2.043_desc-partition.html\u001b[0m\n"
      ]
     },
     "metadata": {},
     "output_type": "display_data"
    },
    {
     "name": "stderr",
     "output_type": "stream",
     "text": [
      "100%|██████████| 1/1 [00:13<00:00, 13.74s/it]\n"
     ]
    }
   ],
   "source": [
    "SBM = f'sbm-{args.dc}-{args.sbm}'\n",
    "files = sorted(glob.glob(f'{NII_path}/group/*{SBM}*', recursive=True))\n",
    "template = f'{BASE_path}/gabe_symmetric_N162/Symmetric_N162_0.20_RAS.nii.gz'\n",
    "\n",
    "def make_filename(file):\n",
    "    fs = file.split('/')\n",
    "    filename = fs[-1].split('_')\n",
    "    filename = '_'.join(filename[:-1] + ['.'.join(filename[-1].split('.')[:1] + ['html'])])\n",
    "    filename = '/'.join([f'{HTML_path}/group'] + [filename])\n",
    "    return filename\n",
    "    \n",
    "for file in tqdm(files):\n",
    "    data = file\n",
    "    filename = make_filename(file)\n",
    "    \n",
    "    if args.sbm in ['a', 'd']:\n",
    "        visualize_partition(args, template, data, colors_list, filename)\n",
    "    if args.sbm in ['h']:\n",
    "        visualize_nested_partition(args, template, data, colors_list, filename)"
   ]
  }
 ],
 "metadata": {
  "kernelspec": {
   "display_name": "nw_estim",
   "language": "python",
   "name": "python3"
  },
  "language_info": {
   "codemirror_mode": {
    "name": "ipython",
    "version": 3
   },
   "file_extension": ".py",
   "mimetype": "text/x-python",
   "name": "python",
   "nbconvert_exporter": "python",
   "pygments_lexer": "ipython3",
   "version": "3.9.17"
  }
 },
 "nbformat": 4,
 "nbformat_minor": 2
}
