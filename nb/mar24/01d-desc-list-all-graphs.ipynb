{
 "cells": [
  {
   "cell_type": "markdown",
   "metadata": {},
   "source": [
    "# April 1, 2024: list all graph files"
   ]
  },
  {
   "cell_type": "code",
   "execution_count": 1,
   "metadata": {},
   "outputs": [],
   "source": [
    "import csv\n",
    "import os\n",
    "import sys\n",
    "import numpy as np\n",
    "import pandas as pd\n",
    "import scipy as sp \n",
    "import pickle \n",
    "from os.path import join as pjoin\n",
    "from itertools import product\n",
    "from tqdm import tqdm\n",
    "from copy import deepcopy\n",
    "from pathlib import Path\n",
    "import subprocess\n",
    "from scipy import sparse, stats\n",
    "from multiprocessing import Pool\n",
    "import glob\n",
    "\n",
    "# networks\n",
    "import graph_tool.all as gt\n",
    "\n",
    "# plotting\n",
    "import matplotlib as mpl\n",
    "import matplotlib.pyplot as plt\n",
    "import seaborn as sns\n",
    "from mpl_toolkits.mplot3d import Axes3D\n",
    "from matplotlib.cm import rainbow\n",
    "\n",
    "plt.rcParamsDefault['font.family'] = \"sans-serif\"\n",
    "plt.rcParamsDefault['font.sans-serif'] = \"Arial\"\n",
    "plt.rcParams['font.size'] = 14\n",
    "plt.rcParams[\"errorbar.capsize\"] = 0.5\n",
    "\n",
    "import cmasher as cmr  # CITE ITS PAPER IN YOUR MANUSCRIPT\n",
    "\n",
    "# ignore user warnings\n",
    "import warnings\n",
    "warnings.filterwarnings(\"ignore\") #, category=UserWarning)"
   ]
  },
  {
   "cell_type": "code",
   "execution_count": 2,
   "metadata": {},
   "outputs": [],
   "source": [
    "class ARGS():\n",
    "    pass\n",
    "\n",
    "args = ARGS()\n",
    "\n",
    "args.SEED = 100"
   ]
  },
  {
   "cell_type": "code",
   "execution_count": 3,
   "metadata": {},
   "outputs": [],
   "source": [
    "args.type = 'spatial'\n",
    "args.roi_size = 225\n",
    "args.maintain_symmetry = True\n",
    "args.brain_div = 'whl'\n",
    "args.num_rois = 162\n",
    "\n",
    "DESC = (\n",
    "    f'type-{args.type}'\n",
    "    f'_size-{args.roi_size}'\n",
    "    f'_symm-{args.maintain_symmetry}'\n",
    "    f'_braindiv-{args.brain_div}'\n",
    "    f'_nrois-{args.num_rois}'\n",
    ")\n",
    "\n",
    "BASE_path = f'{os.environ[\"HOME\"]}/mouse_dataset/roi_results'\n",
    "RECONST_method = f'' # f'normal_dist'\n",
    "if RECONST_method == '':\n",
    "    GRAPH_type = f'correlation_graph' \n",
    "else: \n",
    "    GRAPH_type = f'reconstructed_graph/{RECONST_method}'"
   ]
  },
  {
   "cell_type": "code",
   "execution_count": 4,
   "metadata": {},
   "outputs": [],
   "source": [
    "denst_folders = sorted(glob.glob(f'{BASE_path}/{DESC}/*wise/{GRAPH_type}/*', recursive=True))\n",
    "for denst_folder in denst_folders:\n",
    "    files = sorted(glob.glob(f'{denst_folder}/corr_mats/*', recursive=True))\n",
    "    \n",
    "    with open(f'{denst_folder}/all_graphs.txt', 'w',) as f:\n",
    "        f.writelines('\\n'.join(files))"
   ]
  },
  {
   "cell_type": "code",
   "execution_count": 6,
   "metadata": {},
   "outputs": [
    {
     "data": {
      "text/plain": [
       "['/home/govindas/mouse_dataset/roi_results/type-spatial_size-225_symm-True_braindiv-whl_nrois-162/seswise/correlation_graph/density-10',\n",
       " '/home/govindas/mouse_dataset/roi_results/type-spatial_size-225_symm-True_braindiv-whl_nrois-162/seswise/correlation_graph/density-15',\n",
       " '/home/govindas/mouse_dataset/roi_results/type-spatial_size-225_symm-True_braindiv-whl_nrois-162/seswise/correlation_graph/density-20',\n",
       " '/home/govindas/mouse_dataset/roi_results/type-spatial_size-225_symm-True_braindiv-whl_nrois-162/seswise/correlation_graph/density-25']"
      ]
     },
     "execution_count": 6,
     "metadata": {},
     "output_type": "execute_result"
    }
   ],
   "source": [
    "denst_folders"
   ]
  },
  {
   "cell_type": "code",
   "execution_count": 5,
   "metadata": {},
   "outputs": [],
   "source": [
    "# with open(f'{denst_folder}/all_graphs.txt', 'r') as f:\n",
    "#     files = f.readlines()\n",
    "#     files = [file[:-1] for file in files]\n",
    "# # files"
   ]
  }
 ],
 "metadata": {
  "kernelspec": {
   "display_name": "nw_estim",
   "language": "python",
   "name": "python3"
  },
  "language_info": {
   "codemirror_mode": {
    "name": "ipython",
    "version": 3
   },
   "file_extension": ".py",
   "mimetype": "text/x-python",
   "name": "python",
   "nbconvert_exporter": "python",
   "pygments_lexer": "ipython3",
   "version": "3.9.17"
  }
 },
 "nbformat": 4,
 "nbformat_minor": 2
}
