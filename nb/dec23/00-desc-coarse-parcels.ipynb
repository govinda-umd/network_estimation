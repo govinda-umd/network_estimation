{
 "cells": [
  {
   "cell_type": "markdown",
   "metadata": {},
   "source": [
    "# Dec 18-20, 2023: N162 registered coarse parcellations"
   ]
  },
  {
   "cell_type": "code",
   "execution_count": 1,
   "metadata": {},
   "outputs": [],
   "source": [
    "import os\n",
    "import numpy as np \n",
    "import pandas as pd \n",
    "import ants\n",
    "import json\n",
    "from tqdm import tqdm \n",
    "\n",
    "import matplotlib as mpl\n",
    "import matplotlib.pyplot as plt\n",
    "import seaborn as sns"
   ]
  },
  {
   "cell_type": "code",
   "execution_count": 2,
   "metadata": {},
   "outputs": [],
   "source": [
    "BASE_path = f'/home/govindas/mouse_dataset'\n",
    "\n",
    "# 172 rois\n",
    "parcels_172 = (\n",
    "    f'{BASE_path}/n162_parcellations'\n",
    "    f'/172_rois_N162_merge_medium_fine_224_0.2_RAS.nii'\n",
    ")\n",
    "parcels_172 = ants.image_read(parcels_172)\n",
    "\n",
    "with open(f'{BASE_path}/n162_parcellations/172_rois.json') as f:\n",
    "    roi_labels_172 = json.load(f)['labels']['data'][0]['labels']\n",
    "    roi_labels_172 = pd.DataFrame({\n",
    "        'roi': [int(k) for k in list(roi_labels_172.keys())],\n",
    "        'label': list(roi_labels_172.values())\n",
    "    })\n",
    "\n",
    "# 56 rois\n",
    "parcels_56 = (\n",
    "    f'{BASE_path}/n162_parcellations'\n",
    "    f'/56_rois_new_N162_coarse_medium_224_noskip_0.2_RAS.nii'\n",
    ")\n",
    "parcels_56 = ants.image_read(parcels_56)\n",
    "\n",
    "roi_labels_56 = pd.read_csv(f'{BASE_path}/n162_parcellations/56_rois.csv', names=['roi', 'label'])"
   ]
  },
  {
   "cell_type": "code",
   "execution_count": 3,
   "metadata": {},
   "outputs": [],
   "source": [
    "n162_ras_file = f'/home/govindas/mouse_dataset/gabe_symmetric_N162/Symmetric_N162_0.20_RAS.nii.gz'\n",
    "n162_ras = ants.image_read(n162_ras_file)"
   ]
  },
  {
   "cell_type": "code",
   "execution_count": 4,
   "metadata": {},
   "outputs": [],
   "source": [
    "def orient_parcels(n162_ras, parcels):\n",
    "    n = parcels.numpy()\n",
    "    n = n.transpose(0, 2, 1)\n",
    "    parcels_xf = n162_ras.new_image_like(n)\n",
    "    return parcels_xf"
   ]
  },
  {
   "cell_type": "code",
   "execution_count": 5,
   "metadata": {},
   "outputs": [],
   "source": [
    "parcels_172_ras = orient_parcels(n162_ras, parcels_172)\n",
    "parcels_172_ras.to_file(f'{BASE_path}/n162_parcellations/172_parcels_RAS.nii.gz')\n",
    "\n",
    "parcels_56_ras = orient_parcels(n162_ras, parcels_56)\n",
    "parcels_56_ras.to_file(f'{BASE_path}/n162_parcellations/56_parcels_RAS.nii.gz')"
   ]
  },
  {
   "cell_type": "code",
   "execution_count": 6,
   "metadata": {},
   "outputs": [
    {
     "name": "stderr",
     "output_type": "stream",
     "text": [
      "116it [00:00, 331.67it/s]\n"
     ]
    }
   ],
   "source": [
    "# common brain mask (across subs)\n",
    "all_files_path = f'{BASE_path}/voxel/all_file_collections'\n",
    "all_files = os.listdir(all_files_path)\n",
    "\n",
    "# cmask : common brain mask\n",
    "for idx, files in tqdm(enumerate(all_files[:])):\n",
    "    if idx == 0:\n",
    "        with open(f'{all_files_path}/{files}', 'r') as f:\n",
    "            ants_cmask = ants.image_read(f.readlines()[1][:-1])\n",
    "        cmask = ants_cmask.numpy()\n",
    "    else:\n",
    "        with open(f'{all_files_path}/{files}', 'r') as f:\n",
    "            cmask *= ants.image_read(f.readlines()[1][:-1]).numpy()\n",
    "ants_cmask = ants_cmask.new_image_like(cmask)\n",
    "ants_cmask.to_filename(\n",
    "    f'{BASE_path}/voxel/common_brain_mask.nii.gz'\n",
    ")"
   ]
  },
  {
   "cell_type": "code",
   "execution_count": 7,
   "metadata": {},
   "outputs": [
    {
     "name": "stdout",
     "output_type": "stream",
     "text": [
      "/home/govindas/mouse_dataset/n162_parcellations/172_parcels_RAS_cm.nii.gz\n",
      "172.0\n",
      "/home/govindas/mouse_dataset/n162_parcellations/56_parcels_RAS_cm.nii.gz\n",
      "56.0\n"
     ]
    }
   ],
   "source": [
    "def resample_to_common_mask(cmask, parcels, name):\n",
    "    parcels_warped = ants.resample_image_to_target(\n",
    "        image=parcels,\n",
    "        target=cmask,\n",
    "        interp_type='genericLabel',\n",
    "    )\n",
    "    parcels_warped = parcels_warped.new_image_like(\n",
    "        data=parcels_warped.numpy() * cmask.numpy()\n",
    "    )\n",
    "    fname = f'{BASE_path}/n162_parcellations/{name}_cm.nii.gz'\n",
    "    print(fname)\n",
    "    parcels_warped.to_filename(\n",
    "        fname\n",
    "    )\n",
    "    print(np.max(np.unique(parcels_warped.numpy())))\n",
    "    return fname, parcels_warped\n",
    "\n",
    "fname_172, parcels_172 = resample_to_common_mask(ants_cmask, parcels_172_ras, name='172_parcels_RAS')\n",
    "fname_56, parcels_56 = resample_to_common_mask(ants_cmask, parcels_56_ras, name='56_parcels_RAS')"
   ]
  },
  {
   "cell_type": "code",
   "execution_count": 8,
   "metadata": {},
   "outputs": [],
   "source": [
    "# isocortex + subcortex rois\n",
    "iso_rois_172 = np.array(\n",
    "    list(range(1, 44)) +\n",
    "    list(range(88, 130))\n",
    ")\n",
    "sub_rois_172 = np.array(\n",
    "    list(range(47, 87)) +\n",
    "    list(range(133, 173))\n",
    ")\n",
    "# print(iso_rois_172, sub_rois_172)\n",
    "\n",
    "iso_rois_56 = np.array(\n",
    "    list(range(1, 18)) +\n",
    "    list(range(29, 46))\n",
    ")\n",
    "sub_rois_56 = np.array(\n",
    "    list(range(19, 29)) + \n",
    "    list(range(47, 57))\n",
    ")\n",
    "# print(iso_rois_56, sub_rois_56)"
   ]
  },
  {
   "cell_type": "code",
   "execution_count": 9,
   "metadata": {},
   "outputs": [
    {
     "name": "stdout",
     "output_type": "stream",
     "text": [
      "/home/govindas/mouse_dataset/n162_parcellations/172_parcels_RAS_iso_cm.nii.gz\n",
      "/home/govindas/mouse_dataset/n162_parcellations/172_parcels_RAS_sub_cm.nii.gz\n",
      "/home/govindas/mouse_dataset/n162_parcellations/56_parcels_RAS_iso_cm.nii.gz\n",
      "/home/govindas/mouse_dataset/n162_parcellations/56_parcels_RAS_sub_cm.nii.gz\n"
     ]
    }
   ],
   "source": [
    "def create_sub_parcels(parcels, rois, name):\n",
    "    parcels_new = np.zeros_like(parcels.numpy())\n",
    "    for roi in rois:\n",
    "        parcels_new += roi * (parcels.numpy() == roi)\n",
    "    fname = f'{BASE_path}/n162_parcellations/{name}_cm.nii.gz'\n",
    "    parcels_new = parcels.new_image_like(\n",
    "        data=parcels_new,\n",
    "    ).to_filename(fname)\n",
    "    print(fname)\n",
    "    return fname\n",
    "\n",
    "fname_172_iso = create_sub_parcels(parcels_172, iso_rois_172, '172_parcels_RAS_iso')\n",
    "fname_172_sub = create_sub_parcels(parcels_172, sub_rois_172, '172_parcels_RAS_sub')\n",
    "\n",
    "fname_56_iso = create_sub_parcels(parcels_56, iso_rois_56, '56_parcels_RAS_iso')\n",
    "fname_56_sub = create_sub_parcels(parcels_56, sub_rois_56, '56_parcels_RAS_sub')"
   ]
  },
  {
   "cell_type": "code",
   "execution_count": 10,
   "metadata": {},
   "outputs": [],
   "source": [
    "def roi_labels(mask_file, name):\n",
    "    cmd = (\n",
    "        f'3dROIstats -overwrite '\n",
    "        f'-quiet '\n",
    "        f'-mask {mask_file} '\n",
    "        f'{mask_file} > {BASE_path}/n162_parcellations/{name}_roi_labels.txt'\n",
    "    )\n",
    "    os.system(cmd)\n",
    "    return None\n",
    "\n",
    "roi_labels(fname_172, '172')\n",
    "roi_labels(fname_56, '56')\n",
    "\n",
    "roi_labels(fname_172_iso, '172_iso')\n",
    "roi_labels(fname_172_sub, '172_sub')\n",
    "\n",
    "roi_labels(fname_56_iso, '56_iso')\n",
    "roi_labels(fname_56_sub, '56_sub')"
   ]
  }
 ],
 "metadata": {
  "kernelspec": {
   "display_name": "nw_estim",
   "language": "python",
   "name": "python3"
  },
  "language_info": {
   "codemirror_mode": {
    "name": "ipython",
    "version": 3
   },
   "file_extension": ".py",
   "mimetype": "text/x-python",
   "name": "python",
   "nbconvert_exporter": "python",
   "pygments_lexer": "ipython3",
   "version": "3.9.17"
  }
 },
 "nbformat": 4,
 "nbformat_minor": 2
}
