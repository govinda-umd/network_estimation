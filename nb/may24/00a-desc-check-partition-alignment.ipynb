{
 "cells": [
  {
   "cell_type": "markdown",
   "metadata": {},
   "source": [
    "# May 29, 2024: check partition alignment in ModeClusterState"
   ]
  },
  {
   "cell_type": "code",
   "execution_count": 1,
   "metadata": {},
   "outputs": [],
   "source": [
    "import os \n",
    "import numpy as np \n",
    "import pandas as pd\n",
    "import pickle \n",
    "\n",
    "import graph_tool.all as gt\n",
    "\n",
    "# plotting\n",
    "import matplotlib as mpl\n",
    "import matplotlib.pyplot as plt\n",
    "import seaborn as sns\n",
    "import colorcet as cc\n",
    "\n",
    "plt.rcParamsDefault['font.family'] = \"sans-serif\"\n",
    "plt.rcParamsDefault['font.sans-serif'] = \"Arial\"\n",
    "plt.rcParams['font.size'] = 14\n",
    "plt.rcParams[\"errorbar.capsize\"] = 0.5\n",
    "\n",
    "import cmasher as cmr  # CITE ITS PAPER IN YOUR MANUSCRIPT\n",
    "\n",
    "# ignore user warnings\n",
    "import warnings\n",
    "warnings.filterwarnings(\"ignore\") #, category=UserWarning)"
   ]
  },
  {
   "cell_type": "code",
   "execution_count": 2,
   "metadata": {},
   "outputs": [],
   "source": [
    "class ARGS():\n",
    "    pass \n",
    "\n",
    "args = ARGS()\n",
    "\n",
    "args.SEED = 100\n",
    "\n",
    "def set_seed(args):\n",
    "    gt.seed_rng(args.SEED)\n",
    "    np.random.seed(args.SEED)\n",
    "\n",
    "set_seed(args)"
   ]
  },
  {
   "cell_type": "code",
   "execution_count": 1,
   "metadata": {},
   "outputs": [
    {
     "data": {
      "image/png": "[encoded data removed]",
      "text/html": [
       "<div style=\"vertical-align: middle;\"><strong>custom_cmap</strong> </div><div class=\"cmap\"><img alt=\"custom_cmap colormap\" title=\"custom_cmap\" style=\"border: 1px solid #555;\" src=\"data:image/png;base64,iVBORw0KGgoAAAANSUhEUgAAAgAAAABACAYAAABsv8+/AAAAGnRFWHRUaXRsZQBjdXN0b21fY21hcCBjb2xvcm1hcOa9R1QAAAAgdEVYdERlc2NyaXB0aW9uAGN1c3RvbV9jbWFwIGNvbG9ybWFwd6MDAgAAADB0RVh0QXV0aG9yAE1hdHBsb3RsaWIgdjMuOC4wLCBodHRwczovL21hdHBsb3RsaWIub3Jnn3P4TwAAADJ0RVh0U29mdHdhcmUATWF0cGxvdGxpYiB2My44LjAsIGh0dHBzOi8vbWF0cGxvdGxpYi5vcmex1WdoAAAB3UlEQVR4nO3WoS7FARjG4T9zqmISRSKY5mwCQWGSQOMCFDdgNhMM02y6TRBMEwmYop3GCGaTCJKC4ya+Yu/zXMAb3/16bs663abI5MFY1VTzdPRQtrXyuV229dXZLNu6Gf8u27psWmVbu0MXZVsDpwtlW5ftx7Ktn6vRsq2Ndm/Z1vnMS9nW0vFwyc5O/0nJTtM0TdNaLZua/x0s23qdfSvb2rruK9ta7qyXbXUXD8u2Jp6nyrZaI3dlW/d702Vb7/u3ZVtzL2tlW98fR2Vbdc8FAPwbAgAAAgkAAAgkAAAgkAAAgEACAAACCQAACCQAACCQAACAQAIAAAIJAAAIJAAAIJAAAIBAAgAAAgkAAAgkAAAgkAAAgEACAAACCQAACCQAACCQAACAQAIAAAIJAAAIJAAAIJAAAIBAAgAAAgkAAAgkAAAgkAAAgEACAAACCQAACCQAACCQAACAQAIAAAIJAAAIJAAAIJAAAIBAAgAAAgkAAAgkAAAgkAAAgEACAAACCQAACCQAACCQAACAQAIAAAIJAAAIJAAAIJAAAIBAAgAAAgkAAAgkAAAgkAAAgEACAAACCQAACCQAACCQAACAQAIAAAIJAAAIJAAAIJAAAIBAAgAAAgkAAAj0B2KtK0gXURl3AAAAAElFTkSuQmCC\"></div><div style=\"vertical-align: middle; max-width: 514px; display: flex; justify-content: space-between;\"><div style=\"float: left;\"><div title=\"#c3acffff\" style=\"display: inline-block; width: 1em; height: 1em; margin: 0; vertical-align: middle; border: 1px solid #555; background-color: #c3acffff;\"></div> under</div><div style=\"margin: 0 auto; display: inline-block;\">bad <div title=\"#00000000\" style=\"display: inline-block; width: 1em; height: 1em; margin: 0; vertical-align: middle; border: 1px solid #555; background-color: #00000000;\"></div></div><div style=\"float: right;\">over <div title=\"#2b9fffff\" style=\"display: inline-block; width: 1em; height: 1em; margin: 0; vertical-align: middle; border: 1px solid #555; background-color: #2b9fffff;\"></div></div>"
      ],
      "text/plain": [
       "<matplotlib.colors.LinearSegmentedColormap at 0x7f502809fb80>"
      ]
     },
     "execution_count": 1,
     "metadata": {},
     "output_type": "execute_result"
    }
   ],
   "source": [
    "import colorcet as cc\n",
    "from matplotlib.colors import LinearSegmentedColormap\n",
    "from matplotlib import colors\n",
    "import numpy as np \n",
    "\n",
    "colors_val = []\n",
    "for idx in np.arange(5, 56, 10):\n",
    "    colors_val += cc.CET_C6s[idx:256:55]\n",
    "colors_val.pop(6)\n",
    "colors_rgb = [colors.to_rgb(c) for c in colors_val]\n",
    "\n",
    "cmap = LinearSegmentedColormap.from_list('custom_cmap', colors_rgb, N=len(colors_rgb))\n",
    "display(cmap)"
   ]
  },
  {
   "cell_type": "markdown",
   "metadata": {},
   "source": [
    "testing alignment with distinct (and same) set of labels"
   ]
  },
  {
   "cell_type": "code",
   "execution_count": 3,
   "metadata": {},
   "outputs": [
    {
     "data": {
      "text/plain": [
       "[[array([0, 0, 0, 0, 1, 1, 1, 2, 2], dtype=int32)],\n",
       " [array([1, 0, 0, 0, 1, 1, 1, 2, 2], dtype=int32)],\n",
       " [array([0, 0, 2, 1, 1, 2, 2, 2, 2], dtype=int32)]]"
      ]
     },
     "execution_count": 3,
     "metadata": {},
     "output_type": "execute_result"
    }
   ],
   "source": [
    "bs = [\n",
    "    [0, 0, 0, 0, 1, 1, 1, 2, 2],\n",
    "    [1, 0, 0, 0, 1, 1, 1, 2, 2],\n",
    "    [0, 0, 2, 1, 1, 2, 2, 2, 2],\n",
    "]\n",
    "pmode = gt.ModeClusterState(bs)\n",
    "pmode.bs"
   ]
  },
  {
   "cell_type": "code",
   "execution_count": 4,
   "metadata": {},
   "outputs": [
    {
     "data": {
      "text/plain": [
       "[[array([0, 0, 0, 0, 1, 1, 1, 2, 2], dtype=int32)],\n",
       " [array([1, 0, 0, 0, 1, 1, 1, 2, 2], dtype=int32)],\n",
       " [array([0, 0, 2, 1, 1, 2, 2, 2, 2], dtype=int32)]]"
      ]
     },
     "execution_count": 4,
     "metadata": {},
     "output_type": "execute_result"
    }
   ],
   "source": [
    "bs = [\n",
    "    [101, 101, 101, 101, 392, 392, 392, 20, 20],\n",
    "    [119, 241, 241, 241, 119, 119, 119, 922, 922],\n",
    "    [673, 673, 877, 402, 402, 877, 877, 877, 877],\n",
    "]\n",
    "pmode = gt.ModeClusterState(bs)\n",
    "pmode.bs"
   ]
  },
  {
   "cell_type": "code",
   "execution_count": 5,
   "metadata": {},
   "outputs": [
    {
     "data": {
      "text/plain": [
       "[[array([0, 0, 0, 0, 1, 1, 1, 2, 2], dtype=int32)],\n",
       " [array([1, 0, 0, 0, 1, 1, 1, 2, 2], dtype=int32)],\n",
       " [array([0, 0, 2, 1, 1, 2, 2, 2, 2], dtype=int32)]]"
      ]
     },
     "execution_count": 5,
     "metadata": {},
     "output_type": "execute_result"
    }
   ],
   "source": [
    "bs = [\n",
    "    [2, 2, 2, 2, 0, 0, 0, 1, 1],\n",
    "    [2, 1, 1, 1, 2, 2, 2, 0, 0],\n",
    "    [0, 0, 1, 2, 2, 1, 1, 1, 1],\n",
    "]\n",
    "pmode = gt.ModeClusterState(bs)\n",
    "pmode.bs"
   ]
  },
  {
   "cell_type": "markdown",
   "metadata": {},
   "source": [
    "real partitions"
   ]
  },
  {
   "cell_type": "code",
   "execution_count": 6,
   "metadata": {},
   "outputs": [],
   "source": [
    "args.type = 'spatial'\n",
    "args.roi_size = 225\n",
    "args.maintain_symmetry = True\n",
    "args.brain_div = 'whl'\n",
    "args.num_rois = 162\n",
    "\n",
    "DESC = (\n",
    "    f'type-{args.type}'\n",
    "    f'_size-{args.roi_size}'\n",
    "    f'_symm-{args.maintain_symmetry}'\n",
    "    f'_braindiv-{args.brain_div}'\n",
    "    f'_nrois-{args.num_rois}'\n",
    ")\n",
    "\n",
    "args.unit = 'seswise' # runwise/seswise/subwise : unit sample of dataset\n",
    "args.denst = 15 # density of fc matrix\n",
    "\n",
    "BASE_path = f'{os.environ[\"HOME\"]}/mouse_dataset'\n",
    "PARCELS_path = f'{BASE_path}/parcels'\n",
    "ROI_path = f'{BASE_path}/roi_results'\n",
    "ROI_RESULTS_path = f'{ROI_path}/{DESC}/{args.unit}/density-{args.denst}'\n",
    "FC_path = f'{ROI_RESULTS_path}/corr_mats'\n",
    "SBM_path = f'{ROI_RESULTS_path}/sbms'\n",
    "NPY_path = f'{ROI_RESULTS_path}/npy'\n",
    "os.system(f'mkdir -p {NPY_path}')\n",
    "NII_path = f'{ROI_RESULTS_path}/niis'\n",
    "os.system(f'mkdir -p {NII_path}/indiv')\n",
    "os.system(f'mkdir -p {NII_path}/group')\n",
    "\n",
    "# sbm model class\n",
    "args.dc = ''\n",
    "args.sbm = 'a' "
   ]
  },
  {
   "cell_type": "code",
   "execution_count": 7,
   "metadata": {},
   "outputs": [],
   "source": [
    "with open(f'{os.environ[\"HOME\"]}/Downloads/data_partition.pkl', 'rb') as f:\n",
    "    [_, g] = pickle.load(f)"
   ]
  },
  {
   "cell_type": "code",
   "execution_count": 8,
   "metadata": {},
   "outputs": [],
   "source": [
    "# with open(f'{NPY_path}/sbm-{args.dc}-{args.sbm}_desc-group-modes.npy', 'rb') as f:\n",
    "#     mode_df = pickle.load(f)\n",
    "\n",
    "# mode_df"
   ]
  },
  {
   "cell_type": "code",
   "execution_count": 9,
   "metadata": {},
   "outputs": [
    {
     "data": {
      "text/html": [
       "<div>\n",
       "<style scoped>\n",
       "    .dataframe tbody tr th:only-of-type {\n",
       "        vertical-align: middle;\n",
       "    }\n",
       "\n",
       "    .dataframe tbody tr th {\n",
       "        vertical-align: top;\n",
       "    }\n",
       "\n",
       "    .dataframe thead th {\n",
       "        text-align: right;\n",
       "    }\n",
       "</style>\n",
       "<table border=\"1\" class=\"dataframe\">\n",
       "  <thead>\n",
       "    <tr style=\"text-align: right;\">\n",
       "      <th></th>\n",
       "      <th>sub</th>\n",
       "      <th>ses</th>\n",
       "      <th>run</th>\n",
       "      <th>mode</th>\n",
       "      <th>b</th>\n",
       "    </tr>\n",
       "  </thead>\n",
       "  <tbody>\n",
       "    <tr>\n",
       "      <th>0</th>\n",
       "      <td>1</td>\n",
       "      <td>2</td>\n",
       "      <td>0</td>\n",
       "      <td>0</td>\n",
       "      <td>[0, 1, 1, 2, 3, 0, 1, 0, 1, 3, 0, 1, 0, 0, 0, ...</td>\n",
       "    </tr>\n",
       "    <tr>\n",
       "      <th>1</th>\n",
       "      <td>1</td>\n",
       "      <td>2</td>\n",
       "      <td>0</td>\n",
       "      <td>1</td>\n",
       "      <td>[0, 1, 1, 2, 3, 0, 1, 0, 1, 3, 0, 1, 0, 0, 0, ...</td>\n",
       "    </tr>\n",
       "    <tr>\n",
       "      <th>2</th>\n",
       "      <td>1</td>\n",
       "      <td>2</td>\n",
       "      <td>0</td>\n",
       "      <td>2</td>\n",
       "      <td>[0, 1, 1, 2, 3, 0, 1, 0, 1, 3, 0, 1, 0, 0, 0, ...</td>\n",
       "    </tr>\n",
       "    <tr>\n",
       "      <th>3</th>\n",
       "      <td>1</td>\n",
       "      <td>3</td>\n",
       "      <td>0</td>\n",
       "      <td>0</td>\n",
       "      <td>[0, 1, 1, 2, 0, 0, 1, 0, 0, 1, 0, 1, 0, 0, 0, ...</td>\n",
       "    </tr>\n",
       "    <tr>\n",
       "      <th>4</th>\n",
       "      <td>1</td>\n",
       "      <td>3</td>\n",
       "      <td>0</td>\n",
       "      <td>1</td>\n",
       "      <td>[0, 1, 1, 3, 0, 0, 1, 0, 0, 1, 0, 1, 0, 0, 0, ...</td>\n",
       "    </tr>\n",
       "    <tr>\n",
       "      <th>...</th>\n",
       "      <td>...</td>\n",
       "      <td>...</td>\n",
       "      <td>...</td>\n",
       "      <td>...</td>\n",
       "      <td>...</td>\n",
       "    </tr>\n",
       "    <tr>\n",
       "      <th>169</th>\n",
       "      <td>10</td>\n",
       "      <td>1</td>\n",
       "      <td>0</td>\n",
       "      <td>5</td>\n",
       "      <td>[6, 1, 1, 2, 2, 3, 1, 5, 3, 1, 0, 1, 4, 2, 5, ...</td>\n",
       "    </tr>\n",
       "    <tr>\n",
       "      <th>170</th>\n",
       "      <td>10</td>\n",
       "      <td>2</td>\n",
       "      <td>0</td>\n",
       "      <td>0</td>\n",
       "      <td>[8, 1, 1, 5, 2, 6, 1, 7, 5, 1, 2, 1, 3, 2, 7, ...</td>\n",
       "    </tr>\n",
       "    <tr>\n",
       "      <th>171</th>\n",
       "      <td>10</td>\n",
       "      <td>2</td>\n",
       "      <td>0</td>\n",
       "      <td>1</td>\n",
       "      <td>[6, 1, 1, 5, 3, 9, 1, 5, 7, 1, 2, 1, 0, 2, 0, ...</td>\n",
       "    </tr>\n",
       "    <tr>\n",
       "      <th>172</th>\n",
       "      <td>10</td>\n",
       "      <td>2</td>\n",
       "      <td>0</td>\n",
       "      <td>2</td>\n",
       "      <td>[7, 1, 1, 3, 3, 5, 1, 3, 3, 1, 9, 1, 5, 9, 4, ...</td>\n",
       "    </tr>\n",
       "    <tr>\n",
       "      <th>173</th>\n",
       "      <td>10</td>\n",
       "      <td>2</td>\n",
       "      <td>0</td>\n",
       "      <td>3</td>\n",
       "      <td>[0, 1, 1, 7, 5, 5, 1, 5, 2, 1, 6, 1, 8, 6, 7, ...</td>\n",
       "    </tr>\n",
       "  </tbody>\n",
       "</table>\n",
       "<p>174 rows × 5 columns</p>\n",
       "</div>"
      ],
      "text/plain": [
       "     sub  ses  run  mode                                                  b\n",
       "0      1    2    0     0  [0, 1, 1, 2, 3, 0, 1, 0, 1, 3, 0, 1, 0, 0, 0, ...\n",
       "1      1    2    0     1  [0, 1, 1, 2, 3, 0, 1, 0, 1, 3, 0, 1, 0, 0, 0, ...\n",
       "2      1    2    0     2  [0, 1, 1, 2, 3, 0, 1, 0, 1, 3, 0, 1, 0, 0, 0, ...\n",
       "3      1    3    0     0  [0, 1, 1, 2, 0, 0, 1, 0, 0, 1, 0, 1, 0, 0, 0, ...\n",
       "4      1    3    0     1  [0, 1, 1, 3, 0, 0, 1, 0, 0, 1, 0, 1, 0, 0, 0, ...\n",
       "..   ...  ...  ...   ...                                                ...\n",
       "169   10    1    0     5  [6, 1, 1, 2, 2, 3, 1, 5, 3, 1, 0, 1, 4, 2, 5, ...\n",
       "170   10    2    0     0  [8, 1, 1, 5, 2, 6, 1, 7, 5, 1, 2, 1, 3, 2, 7, ...\n",
       "171   10    2    0     1  [6, 1, 1, 5, 3, 9, 1, 5, 7, 1, 2, 1, 0, 2, 0, ...\n",
       "172   10    2    0     2  [7, 1, 1, 3, 3, 5, 1, 3, 3, 1, 9, 1, 5, 9, 4, ...\n",
       "173   10    2    0     3  [0, 1, 1, 7, 5, 5, 1, 5, 2, 1, 6, 1, 8, 6, 7, ...\n",
       "\n",
       "[174 rows x 5 columns]"
      ]
     },
     "execution_count": 9,
     "metadata": {},
     "output_type": "execute_result"
    }
   ],
   "source": [
    "with open(f'{NPY_path}/sbm-{args.dc}-{args.sbm}_desc-dfs.npy', 'rb') as f:\n",
    "    dfs = pickle.load(f)\n",
    "    \n",
    "dfs"
   ]
  },
  {
   "cell_type": "code",
   "execution_count": 10,
   "metadata": {},
   "outputs": [],
   "source": [
    "# offsets = np.arange()\n",
    "for idx, row in dfs.iterrows():\n",
    "    b = row['b']\n",
    "    label_map = np.random.randint(500, 2500, np.unique(b).max()+1)\n",
    "    b_ = [label_map[b[i]] for i in range(len(b))]\n",
    "    row['b'] = b_\n",
    "    dfs.iloc[idx] = row"
   ]
  },
  {
   "cell_type": "code",
   "execution_count": 11,
   "metadata": {},
   "outputs": [
    {
     "data": {
      "text/plain": [
       "0      [2044, 1292, 1292, 2359, 2395, 2044, 1292, 204...\n",
       "1      [579, 2468, 2468, 2430, 850, 579, 2468, 579, 2...\n",
       "2      [2390, 553, 553, 2102, 2262, 2390, 553, 2390, ...\n",
       "3      [1302, 1509, 1509, 1252, 1302, 1302, 1509, 130...\n",
       "4      [1752, 2399, 2399, 2094, 1752, 1752, 2399, 175...\n",
       "                             ...                        \n",
       "169    [2362, 1837, 1837, 1943, 1943, 859, 1837, 753,...\n",
       "170    [1787, 697, 697, 1759, 552, 1603, 697, 984, 17...\n",
       "171    [2228, 2078, 2078, 1800, 740, 1194, 2078, 1800...\n",
       "172    [2437, 1394, 1394, 600, 600, 2405, 1394, 600, ...\n",
       "173    [2288, 598, 598, 745, 840, 840, 598, 840, 1463...\n",
       "Name: b, Length: 174, dtype: object"
      ]
     },
     "execution_count": 11,
     "metadata": {},
     "output_type": "execute_result"
    }
   ],
   "source": [
    "dfs['b']"
   ]
  },
  {
   "cell_type": "code",
   "execution_count": 12,
   "metadata": {},
   "outputs": [
    {
     "data": {
      "text/plain": [
       "(31134.25837977341, 4182, 1252)"
      ]
     },
     "execution_count": 12,
     "metadata": {},
     "output_type": "execute_result"
    }
   ],
   "source": [
    "set_seed(args)\n",
    "pmode = gt.ModeClusterState(dfs['b'].to_list())\n",
    "pmode.relabel()\n",
    "gt.mcmc_equilibrate(pmode, wait=1, mcmc_args=dict(niter=1, beta=np.inf))"
   ]
  },
  {
   "cell_type": "code",
   "execution_count": 13,
   "metadata": {},
   "outputs": [
    {
     "data": {
      "text/html": [
       "<div>\n",
       "<style scoped>\n",
       "    .dataframe tbody tr th:only-of-type {\n",
       "        vertical-align: middle;\n",
       "    }\n",
       "\n",
       "    .dataframe tbody tr th {\n",
       "        vertical-align: top;\n",
       "    }\n",
       "\n",
       "    .dataframe thead th {\n",
       "        text-align: right;\n",
       "    }\n",
       "</style>\n",
       "<table border=\"1\" class=\"dataframe\">\n",
       "  <thead>\n",
       "    <tr style=\"text-align: right;\">\n",
       "      <th></th>\n",
       "      <th>mode_id</th>\n",
       "      <th>mode</th>\n",
       "      <th>omega</th>\n",
       "      <th>sigma</th>\n",
       "      <th>ratio</th>\n",
       "      <th>b</th>\n",
       "    </tr>\n",
       "  </thead>\n",
       "  <tbody>\n",
       "    <tr>\n",
       "      <th>0</th>\n",
       "      <td>0</td>\n",
       "      <td>&lt;graph_tool.inference.partition_modes.Partitio...</td>\n",
       "      <td>0.810345</td>\n",
       "      <td>0.307723</td>\n",
       "      <td>2.633361</td>\n",
       "      <td>[0, 1, 1, 2, 0, 0, 1, 0, 0, 1, 0, 1, 0, 0, 0, ...</td>\n",
       "    </tr>\n",
       "    <tr>\n",
       "      <th>1</th>\n",
       "      <td>1</td>\n",
       "      <td>&lt;graph_tool.inference.partition_modes.Partitio...</td>\n",
       "      <td>0.103448</td>\n",
       "      <td>0.112140</td>\n",
       "      <td>0.922493</td>\n",
       "      <td>[0, 1, 6, 3, 0, 0, 1, 0, 1, 1, 0, 5, 0, 0, 0, ...</td>\n",
       "    </tr>\n",
       "    <tr>\n",
       "      <th>2</th>\n",
       "      <td>2</td>\n",
       "      <td>&lt;graph_tool.inference.partition_modes.Partitio...</td>\n",
       "      <td>0.045977</td>\n",
       "      <td>0.100309</td>\n",
       "      <td>0.458355</td>\n",
       "      <td>[0, 5, 5, 3, 7, 2, 5, 0, 5, 5, 1, 5, 1, 0, 2, ...</td>\n",
       "    </tr>\n",
       "    <tr>\n",
       "      <th>3</th>\n",
       "      <td>3</td>\n",
       "      <td>&lt;graph_tool.inference.partition_modes.Partitio...</td>\n",
       "      <td>0.040230</td>\n",
       "      <td>0.064374</td>\n",
       "      <td>0.624941</td>\n",
       "      <td>[0, 1, 1, 0, 4, 0, 1, 0, 0, 0, 0, 1, 0, 0, 0, ...</td>\n",
       "    </tr>\n",
       "  </tbody>\n",
       "</table>\n",
       "</div>"
      ],
      "text/plain": [
       "   mode_id                                               mode     omega  \\\n",
       "0        0  <graph_tool.inference.partition_modes.Partitio...  0.810345   \n",
       "1        1  <graph_tool.inference.partition_modes.Partitio...  0.103448   \n",
       "2        2  <graph_tool.inference.partition_modes.Partitio...  0.045977   \n",
       "3        3  <graph_tool.inference.partition_modes.Partitio...  0.040230   \n",
       "\n",
       "      sigma     ratio                                                  b  \n",
       "0  0.307723  2.633361  [0, 1, 1, 2, 0, 0, 1, 0, 0, 1, 0, 1, 0, 0, 0, ...  \n",
       "1  0.112140  0.922493  [0, 1, 6, 3, 0, 0, 1, 0, 1, 1, 0, 5, 0, 0, 0, ...  \n",
       "2  0.100309  0.458355  [0, 5, 5, 3, 7, 2, 5, 0, 5, 5, 1, 5, 1, 0, 2, ...  \n",
       "3  0.064374  0.624941  [0, 1, 1, 0, 4, 0, 1, 0, 0, 0, 0, 1, 0, 0, 0, ...  "
      ]
     },
     "execution_count": 13,
     "metadata": {},
     "output_type": "execute_result"
    }
   ],
   "source": [
    "def group_modes(args, pmode):\n",
    "    mode_df = []\n",
    "    M = len(pmode.bs)\n",
    "    for idx_mode, mode in enumerate(pmode.get_modes()):\n",
    "        omega = mode.get_M() / M\n",
    "        sigma = mode.posterior_cdev()\n",
    "        try: ratio = omega/sigma\n",
    "        except: ratio = 0.0\n",
    "        df = pd.DataFrame({\n",
    "            'mode_id':[idx_mode],\n",
    "            'mode':[mode],\n",
    "            'omega':[omega],\n",
    "            'sigma':[sigma],\n",
    "            'ratio':[ratio],\n",
    "            'b':[list(mode.get_max(g))],\n",
    "        })\n",
    "        mode_df.append(df)\n",
    "    mode_df = pd.concat(mode_df).reset_index(drop=True)\n",
    "    \n",
    "    set_seed(args)\n",
    "    # realign the final mode-partitions to ensure they align\n",
    "    # and also align them for ease of visualization\n",
    "    pmode_ = gt.ModeClusterState(mode_df['b'].to_list())\n",
    "    mode_df['b'] = [list(b[0]) for b in pmode_.bs]\n",
    "    return mode_df\n",
    "\n",
    "if args.sbm in ['a', 'd']:\n",
    "    mode_df = group_modes(args, pmode)\n",
    "\n",
    "mode_df"
   ]
  },
  {
   "cell_type": "code",
   "execution_count": 14,
   "metadata": {},
   "outputs": [
    {
     "data": {
      "image/png": "[encoded data removed]",
      "text/html": [
       "<div style=\"vertical-align: middle;\"><strong>custom_cmap</strong> </div><div class=\"cmap\"><img alt=\"custom_cmap colormap\" title=\"custom_cmap\" style=\"border: 1px solid #555;\" src=\"data:image/png;base64,iVBORw0KGgoAAAANSUhEUgAAAgAAAABACAYAAABsv8+/AAAAGnRFWHRUaXRsZQBjdXN0b21fY21hcCBjb2xvcm1hcOa9R1QAAAAgdEVYdERlc2NyaXB0aW9uAGN1c3RvbV9jbWFwIGNvbG9ybWFwd6MDAgAAADB0RVh0QXV0aG9yAE1hdHBsb3RsaWIgdjMuOC4wLCBodHRwczovL21hdHBsb3RsaWIub3Jnn3P4TwAAADJ0RVh0U29mdHdhcmUATWF0cGxvdGxpYiB2My44LjAsIGh0dHBzOi8vbWF0cGxvdGxpYi5vcmex1WdoAAABcElEQVR4nO3WMVUCYBhAUWWRIk4eMri70cGBBtYgggmsgIMJ3ChAB10gxe93ju/eBG989x/v1+vdP7fffk4nLPdzPEwnLPfwep5OWO70NF2w1tv343TCcr/Px+mE5TaXl+mE5XZf0wXrbaYDAIC/ZwAAIMgAAECQAQCAIAMAAEEGAACCDAAABBkAAAgyAAAQZAAAIMgAAECQAQCAIAMAAEEGAACCDAAABBkAAAgyAAAQZAAAIMgAAECQAQCAIAMAAEEGAACCDAAABBkAAAgyAAAQZAAAIMgAAECQAQCAIAMAAEEGAACCDAAABBkAAAgyAAAQZAAAIMgAAECQAQCAIAMAAEEGAACCDAAABBkAAAgyAAAQZAAAIMgAAECQAQCAIAMAAEEGAACCDAAABBkAAAgyAAAQZAAAIMgAAECQAQCAIAMAAEEGAACCDAAABBkAAAgyAAAQZAAAIMgAAECQAQCAIAMAAEEGAACCDAAABN0AAa8OXhhEkU4AAAAASUVORK5CYII=\"></div><div style=\"vertical-align: middle; max-width: 514px; display: flex; justify-content: space-between;\"><div style=\"float: left;\"><div title=\"#aea0ffff\" style=\"display: inline-block; width: 1em; height: 1em; margin: 0; vertical-align: middle; border: 1px solid #555; background-color: #aea0ffff;\"></div> under</div><div style=\"margin: 0 auto; display: inline-block;\">bad <div title=\"#00000000\" style=\"display: inline-block; width: 1em; height: 1em; margin: 0; vertical-align: middle; border: 1px solid #555; background-color: #00000000;\"></div></div><div style=\"float: right;\">over <div title=\"#5e82ffff\" style=\"display: inline-block; width: 1em; height: 1em; margin: 0; vertical-align: middle; border: 1px solid #555; background-color: #5e82ffff;\"></div></div>"
      ],
      "text/plain": [
       "<matplotlib.colors.LinearSegmentedColormap at 0x7f9cfcc31a00>"
      ]
     },
     "metadata": {},
     "output_type": "display_data"
    },
    {
     "data": {
      "text/plain": [
       "[Text(0.5, 1.0, 'mode partitions'),\n",
       " Text(15.72222222222222, 0.5, 'roi'),\n",
       " Text(0.5, 75.7222222222222, 'mode')]"
      ]
     },
     "execution_count": 14,
     "metadata": {},
     "output_type": "execute_result"
    },
    {
     "data": {
      "image/png": "[encoded data removed]",
      "text/plain": [
       "<Figure size 400x1000 with 2 Axes>"
      ]
     },
     "metadata": {},
     "output_type": "display_data"
    }
   ],
   "source": [
    "# perceptually uniform custom colormap\n",
    "import colorcet as cc\n",
    "from matplotlib.colors import LinearSegmentedColormap\n",
    "from matplotlib import colors\n",
    "def get_uniform_colors():\n",
    "    colors_val = []\n",
    "    stop = 30\n",
    "    for idx in np.arange(0, stop, 3):\n",
    "        colors_val += cc.CET_C6s[idx:256:stop]\n",
    "    colors_rgb = [colors.to_rgb(c) for c in colors_val]\n",
    "    return colors_val, colors_rgb\n",
    "\n",
    "colors_val, colors_rgb = get_uniform_colors()\n",
    "\n",
    "bs = np.stack(mode_df['b'].to_list()).T\n",
    "max_num_colors = np.max(bs)+1\n",
    "colors_val = colors_val[:max_num_colors]\n",
    "colors_rgb = colors_rgb[:max_num_colors]\n",
    "cmap = LinearSegmentedColormap.from_list('custom_cmap', colors_rgb, N=len(colors_rgb))\n",
    "display(cmap)\n",
    "\n",
    "fig, axs = plt.subplots(1, 1, figsize=(4, 10))\n",
    "ax = axs\n",
    "sns.heatmap(bs, ax=ax, cmap=cmap)\n",
    "ax.set(title=f'mode partitions', ylabel=f'roi', xlabel=f'mode')"
   ]
  }
 ],
 "metadata": {
  "kernelspec": {
   "display_name": "nw_estim",
   "language": "python",
   "name": "python3"
  },
  "language_info": {
   "codemirror_mode": {
    "name": "ipython",
    "version": 3
   },
   "file_extension": ".py",
   "mimetype": "text/x-python",
   "name": "python",
   "nbconvert_exporter": "python",
   "pygments_lexer": "ipython3",
   "version": "3.9.17"
  }
 },
 "nbformat": 4,
 "nbformat_minor": 2
}
