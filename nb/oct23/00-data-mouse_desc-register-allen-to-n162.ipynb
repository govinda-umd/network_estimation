{
 "cells": [
  {
   "cell_type": "markdown",
   "metadata": {},
   "source": [
    "# Oct 4-11, 2023: Allen Atlas CCFv3: register to N162"
   ]
  },
  {
   "cell_type": "code",
   "execution_count": 1,
   "metadata": {},
   "outputs": [],
   "source": [
    "import csv\n",
    "import os\n",
    "import sys\n",
    "import numpy as np\n",
    "import pandas as pd\n",
    "import scipy as sp \n",
    "import pickle \n",
    "from os.path import join as pjoin\n",
    "from itertools import product\n",
    "from tqdm import tqdm\n",
    "from copy import deepcopy\n",
    "from pathlib import Path\n",
    "import subprocess\n",
    "from scipy import sparse\n",
    "\n",
    "# nii imaging\n",
    "from allensdk.core.mouse_connectivity_cache import (\n",
    "    MouseConnectivityCache,\n",
    "    MouseConnectivityApi\n",
    ")\n",
    "import nrrd\n",
    "import ants\n",
    "from nipype.interfaces import afni \n",
    "\n",
    "# networkx\n",
    "import networkx as nx \n",
    "\n",
    "# plotting\n",
    "import matplotlib as mpl\n",
    "import matplotlib.pyplot as plt\n",
    "import seaborn as sns\n",
    "from mpl_toolkits.mplot3d import Axes3D\n",
    "from matplotlib.cm import rainbow\n",
    "\n",
    "plt.rcParamsDefault['font.family'] = \"sans-serif\"\n",
    "plt.rcParamsDefault['font.sans-serif'] = \"Arial\"\n",
    "plt.rcParams['font.size'] = 14\n",
    "plt.rcParams[\"errorbar.capsize\"] = 0.5\n",
    "\n",
    "import cmasher as cmr  # CITE ITS PAPER IN YOUR MANUSCRIPT\n",
    "\n",
    "# ignore user warnings\n",
    "import warnings\n",
    "warnings.filterwarnings(\"ignore\") #, category=UserWarning)"
   ]
  },
  {
   "cell_type": "code",
   "execution_count": 2,
   "metadata": {},
   "outputs": [],
   "source": [
    "class ARGS():\n",
    "    pass\n",
    "\n",
    "args = ARGS()\n",
    "\n",
    "args.out_path = (\n",
    "    f'/home/govindas/mouse_dataset/allen_atlas_ccfv3' \n",
    "    f'/hadi/parcellation'\n",
    ")"
   ]
  },
  {
   "cell_type": "markdown",
   "metadata": {},
   "source": [
    "## template registration"
   ]
  },
  {
   "cell_type": "code",
   "execution_count": 3,
   "metadata": {},
   "outputs": [
    {
     "name": "stdout",
     "output_type": "stream",
     "text": [
      "(132, 80, 114) (132, 80, 114)\n"
     ]
    }
   ],
   "source": [
    "atlas_path = f'/home/govindas/mouse_dataset/allen_atlas_ccfv3'\n",
    "mcc_path = f'{atlas_path}/MouseConnectivity'\n",
    "mcc = MouseConnectivityCache(\n",
    "    resolution=100,\n",
    "    manifest_file=f'{mcc_path}/manifest.json',\n",
    "    ccf_version=MouseConnectivityApi.CCF_2017,\n",
    ")\n",
    "AVGT, metaAVGT = mcc.get_template_volume()\n",
    "ANO, metaANO = mcc.get_annotation_volume()\n",
    "AVGT = AVGT.astype(np.float32)\n",
    "ANO = ANO.astype(np.uint32)\n",
    "print(AVGT.shape, ANO.shape)\n",
    "\n",
    "STree = pd.DataFrame(mcc.get_structure_tree().nodes()) "
   ]
  },
  {
   "cell_type": "code",
   "execution_count": 4,
   "metadata": {},
   "outputs": [
    {
     "data": {
      "text/html": [
       "<div>\n",
       "<style scoped>\n",
       "    .dataframe tbody tr th:only-of-type {\n",
       "        vertical-align: middle;\n",
       "    }\n",
       "\n",
       "    .dataframe tbody tr th {\n",
       "        vertical-align: top;\n",
       "    }\n",
       "\n",
       "    .dataframe thead th {\n",
       "        text-align: right;\n",
       "    }\n",
       "</style>\n",
       "<table border=\"1\" class=\"dataframe\">\n",
       "  <thead>\n",
       "    <tr style=\"text-align: right;\">\n",
       "      <th></th>\n",
       "      <th>acronym</th>\n",
       "      <th>graph_id</th>\n",
       "      <th>graph_order</th>\n",
       "      <th>id</th>\n",
       "      <th>name</th>\n",
       "      <th>structure_id_path</th>\n",
       "      <th>structure_set_ids</th>\n",
       "      <th>rgb_triplet</th>\n",
       "    </tr>\n",
       "  </thead>\n",
       "  <tbody>\n",
       "    <tr>\n",
       "      <th>0</th>\n",
       "      <td>root</td>\n",
       "      <td>1</td>\n",
       "      <td>0</td>\n",
       "      <td>997</td>\n",
       "      <td>root</td>\n",
       "      <td>[997]</td>\n",
       "      <td>[691663206]</td>\n",
       "      <td>[255, 255, 255]</td>\n",
       "    </tr>\n",
       "    <tr>\n",
       "      <th>1</th>\n",
       "      <td>grey</td>\n",
       "      <td>1</td>\n",
       "      <td>1</td>\n",
       "      <td>8</td>\n",
       "      <td>Basic cell groups and regions</td>\n",
       "      <td>[997, 8]</td>\n",
       "      <td>[112905828, 691663206, 12, 184527634, 11290581...</td>\n",
       "      <td>[191, 218, 227]</td>\n",
       "    </tr>\n",
       "    <tr>\n",
       "      <th>2</th>\n",
       "      <td>CH</td>\n",
       "      <td>1</td>\n",
       "      <td>2</td>\n",
       "      <td>567</td>\n",
       "      <td>Cerebrum</td>\n",
       "      <td>[997, 8, 567]</td>\n",
       "      <td>[112905828, 691663206, 12, 184527634, 11290581...</td>\n",
       "      <td>[176, 240, 255]</td>\n",
       "    </tr>\n",
       "    <tr>\n",
       "      <th>3</th>\n",
       "      <td>CTX</td>\n",
       "      <td>1</td>\n",
       "      <td>3</td>\n",
       "      <td>688</td>\n",
       "      <td>Cerebral cortex</td>\n",
       "      <td>[997, 8, 567, 688]</td>\n",
       "      <td>[112905828, 691663206, 12, 184527634, 11290581...</td>\n",
       "      <td>[176, 255, 184]</td>\n",
       "    </tr>\n",
       "    <tr>\n",
       "      <th>4</th>\n",
       "      <td>CTXpl</td>\n",
       "      <td>1</td>\n",
       "      <td>4</td>\n",
       "      <td>695</td>\n",
       "      <td>Cortical plate</td>\n",
       "      <td>[997, 8, 567, 688, 695]</td>\n",
       "      <td>[112905828, 691663206, 12, 184527634, 11290581...</td>\n",
       "      <td>[112, 255, 112]</td>\n",
       "    </tr>\n",
       "    <tr>\n",
       "      <th>...</th>\n",
       "      <td>...</td>\n",
       "      <td>...</td>\n",
       "      <td>...</td>\n",
       "      <td>...</td>\n",
       "      <td>...</td>\n",
       "      <td>...</td>\n",
       "      <td>...</td>\n",
       "      <td>...</td>\n",
       "    </tr>\n",
       "    <tr>\n",
       "      <th>1322</th>\n",
       "      <td>ipf</td>\n",
       "      <td>1</td>\n",
       "      <td>1322</td>\n",
       "      <td>49</td>\n",
       "      <td>intraparafloccular fissure</td>\n",
       "      <td>[997, 1024, 1040, 49]</td>\n",
       "      <td>[]</td>\n",
       "      <td>[170, 170, 170]</td>\n",
       "    </tr>\n",
       "    <tr>\n",
       "      <th>1323</th>\n",
       "      <td>pms</td>\n",
       "      <td>1</td>\n",
       "      <td>1323</td>\n",
       "      <td>57</td>\n",
       "      <td>paramedian sulcus</td>\n",
       "      <td>[997, 1024, 1040, 57]</td>\n",
       "      <td>[]</td>\n",
       "      <td>[170, 170, 170]</td>\n",
       "    </tr>\n",
       "    <tr>\n",
       "      <th>1324</th>\n",
       "      <td>pfs</td>\n",
       "      <td>1</td>\n",
       "      <td>1324</td>\n",
       "      <td>65</td>\n",
       "      <td>parafloccular sulcus</td>\n",
       "      <td>[997, 1024, 1040, 65]</td>\n",
       "      <td>[]</td>\n",
       "      <td>[170, 170, 170]</td>\n",
       "    </tr>\n",
       "    <tr>\n",
       "      <th>1325</th>\n",
       "      <td>IPF</td>\n",
       "      <td>1</td>\n",
       "      <td>1325</td>\n",
       "      <td>624</td>\n",
       "      <td>Interpeduncular fossa</td>\n",
       "      <td>[997, 1024, 624]</td>\n",
       "      <td>[]</td>\n",
       "      <td>[170, 170, 170]</td>\n",
       "    </tr>\n",
       "    <tr>\n",
       "      <th>1326</th>\n",
       "      <td>retina</td>\n",
       "      <td>1</td>\n",
       "      <td>1326</td>\n",
       "      <td>304325711</td>\n",
       "      <td>retina</td>\n",
       "      <td>[997, 304325711]</td>\n",
       "      <td>[114512891, 112905828]</td>\n",
       "      <td>[127, 46, 126]</td>\n",
       "    </tr>\n",
       "  </tbody>\n",
       "</table>\n",
       "<p>1327 rows × 8 columns</p>\n",
       "</div>"
      ],
      "text/plain": [
       "     acronym  graph_id  graph_order         id                           name  \\\n",
       "0       root         1            0        997                           root   \n",
       "1       grey         1            1          8  Basic cell groups and regions   \n",
       "2         CH         1            2        567                       Cerebrum   \n",
       "3        CTX         1            3        688                Cerebral cortex   \n",
       "4      CTXpl         1            4        695                 Cortical plate   \n",
       "...      ...       ...          ...        ...                            ...   \n",
       "1322     ipf         1         1322         49     intraparafloccular fissure   \n",
       "1323     pms         1         1323         57              paramedian sulcus   \n",
       "1324     pfs         1         1324         65           parafloccular sulcus   \n",
       "1325     IPF         1         1325        624          Interpeduncular fossa   \n",
       "1326  retina         1         1326  304325711                         retina   \n",
       "\n",
       "            structure_id_path  \\\n",
       "0                       [997]   \n",
       "1                    [997, 8]   \n",
       "2               [997, 8, 567]   \n",
       "3          [997, 8, 567, 688]   \n",
       "4     [997, 8, 567, 688, 695]   \n",
       "...                       ...   \n",
       "1322    [997, 1024, 1040, 49]   \n",
       "1323    [997, 1024, 1040, 57]   \n",
       "1324    [997, 1024, 1040, 65]   \n",
       "1325         [997, 1024, 624]   \n",
       "1326         [997, 304325711]   \n",
       "\n",
       "                                      structure_set_ids      rgb_triplet  \n",
       "0                                           [691663206]  [255, 255, 255]  \n",
       "1     [112905828, 691663206, 12, 184527634, 11290581...  [191, 218, 227]  \n",
       "2     [112905828, 691663206, 12, 184527634, 11290581...  [176, 240, 255]  \n",
       "3     [112905828, 691663206, 12, 184527634, 11290581...  [176, 255, 184]  \n",
       "4     [112905828, 691663206, 12, 184527634, 11290581...  [112, 255, 112]  \n",
       "...                                                 ...              ...  \n",
       "1322                                                 []  [170, 170, 170]  \n",
       "1323                                                 []  [170, 170, 170]  \n",
       "1324                                                 []  [170, 170, 170]  \n",
       "1325                                                 []  [170, 170, 170]  \n",
       "1326                             [114512891, 112905828]   [127, 46, 126]  \n",
       "\n",
       "[1327 rows x 8 columns]"
      ]
     },
     "execution_count": 4,
     "metadata": {},
     "output_type": "execute_result"
    }
   ],
   "source": [
    "STree"
   ]
  },
  {
   "cell_type": "code",
   "execution_count": 5,
   "metadata": {},
   "outputs": [],
   "source": [
    "STree.to_csv(f'/home/govindas/mouse_dataset/allen_atlas_ccfv3/MouseConnectivity/structures.csv')"
   ]
  },
  {
   "cell_type": "code",
   "execution_count": 6,
   "metadata": {},
   "outputs": [],
   "source": [
    "def to_nifti(args, img=AVGT, file_name='allen'):\n",
    "    img = img.transpose(2, 0, 1)\n",
    "    img = img[:,:,::-1]\n",
    "    img = np.pad(\n",
    "        img, \n",
    "        pad_width=((2, 2), (4, 24), (8, 2)), \n",
    "        mode='constant',\n",
    "        constant_values=((0, 0), (0, 0), (0, 0))\n",
    "        )\n",
    "    print(img.dtype, img.shape)\n",
    "    ndims = len(img.shape)\n",
    "    ants_img = ants.from_numpy(\n",
    "        data=img.astype(np.float32), \n",
    "        origin=[6.4, -13.2, -7.8],\n",
    "        spacing=[0.1]*ndims,\n",
    "    )\n",
    "    img_file = (\n",
    "        f'{args.out_path}'\n",
    "        f'/warped_on_n162/{file_name}.nii.gz'\n",
    "    )\n",
    "    return ants_img, img_file"
   ]
  },
  {
   "cell_type": "code",
   "execution_count": 7,
   "metadata": {},
   "outputs": [
    {
     "name": "stdout",
     "output_type": "stream",
     "text": [
      "float32 (118, 160, 90)\n",
      "uint32 (118, 160, 90)\n"
     ]
    }
   ],
   "source": [
    "ants_img_allen, img_allen_file = to_nifti(args, AVGT, 'allen')\n",
    "ants_img_ano, img_ano_file = to_nifti(args, ANO, 'allen_ano')"
   ]
  },
  {
   "cell_type": "code",
   "execution_count": 8,
   "metadata": {},
   "outputs": [],
   "source": [
    "img_n162_file = f'/home/govindas/mouse_dataset/gabe_symmetric_N162/Symmetric_N162_0.10_RAS.nii.gz'\n",
    "ants_img_n162 = ants.image_read(img_n162_file)"
   ]
  },
  {
   "cell_type": "code",
   "execution_count": 9,
   "metadata": {},
   "outputs": [],
   "source": [
    "tx = ants.registration(\n",
    "    fixed=ants_img_n162,\n",
    "    moving=ants_img_allen,\n",
    "    type_of_transform=('SyN'),\n",
    ")"
   ]
  },
  {
   "cell_type": "code",
   "execution_count": 10,
   "metadata": {},
   "outputs": [],
   "source": [
    "ants_img_allen_warped = ants.apply_transforms(\n",
    "    fixed=ants_img_n162,\n",
    "    moving=ants_img_allen,\n",
    "    transformlist=tx['fwdtransforms'],\n",
    "    interpolator='genericLabel',\n",
    ")\n",
    "ants_img_ano_warped = ants.apply_transforms(\n",
    "    fixed=ants_img_n162,\n",
    "    moving=ants_img_ano,\n",
    "    transformlist=tx['fwdtransforms'],\n",
    "    interpolator='genericLabel',\n",
    ")\n",
    "ants_img_allen_warped.to_filename(f'{args.out_path}/warped_on_n162/allen_warped.nii.gz')\n",
    "ants_img_ano_warped.to_filename(f'{args.out_path}/warped_on_n162/ano_warped.nii.gz')"
   ]
  },
  {
   "cell_type": "code",
   "execution_count": 11,
   "metadata": {},
   "outputs": [
    {
     "name": "stdout",
     "output_type": "stream",
     "text": [
      "uint32 (118, 160, 90)\n"
     ]
    }
   ],
   "source": [
    "isocortex_id = STree[STree.name == 'Isocortex'].id.values[0]\n",
    "ISO, metaISO = mcc.get_structure_mask(isocortex_id)\n",
    "ISO = ISO.astype(np.uint32)\n",
    "ants_img_allen_iso, img_allen_iso_file = to_nifti(args, ISO, 'allen_iso')\n",
    "ants_img_iso_warped = ants.apply_transforms(\n",
    "    fixed=ants_img_n162,\n",
    "    moving=ants_img_allen_iso,\n",
    "    transformlist=tx['fwdtransforms'],\n",
    "    interpolator='genericLabel',\n",
    ")\n",
    "ants_img_iso_warped.to_filename(f'{args.out_path}/warped_on_n162/allen_iso_warped.nii.gz')"
   ]
  },
  {
   "cell_type": "markdown",
   "metadata": {},
   "source": [
    "## parcellation"
   ]
  },
  {
   "cell_type": "code",
   "execution_count": 12,
   "metadata": {},
   "outputs": [],
   "source": [
    "regions_df = pd.read_pickle(f'{args.out_path}/regions.df')"
   ]
  },
  {
   "cell_type": "code",
   "execution_count": 13,
   "metadata": {},
   "outputs": [
    {
     "name": "stdout",
     "output_type": "stream",
     "text": [
      "['Isocortex' 'OLF' 'HIP' 'RHP' 'CTXsp' 'STR' 'PAL' 'TH' 'HY' 'MB' 'P' 'MY'\n",
      " 'CB']\n"
     ]
    }
   ],
   "source": [
    "acros = regions_df.acro.unique()\n",
    "print(acros)"
   ]
  },
  {
   "cell_type": "code",
   "execution_count": 14,
   "metadata": {},
   "outputs": [],
   "source": [
    "def create_parcels(args, parcels, rois_df, name):\n",
    "    new_parcels = np.zeros_like(parcels)\n",
    "    new_parcels = new_parcels.astype(np.int32)\n",
    "\n",
    "    for idx, row in rois_df.iterrows():\n",
    "        new_parcels += (parcels == row.id) * row.id\n",
    "    new_parcels = new_parcels.astype(np.int32)\n",
    "\n",
    "    new_parcels_img, new_parcels_file = to_nifti(args, new_parcels, name)\n",
    "    new_parcels_img_warped = ants.apply_transforms(\n",
    "        fixed=ants_img_n162,\n",
    "        moving=new_parcels_img,\n",
    "        transformlist=tx['fwdtransforms'],\n",
    "        interpolator='genericLabel',\n",
    "    )\n",
    "    print(np.unique(new_parcels).shape)\n",
    "    return new_parcels, new_parcels_img_warped"
   ]
  },
  {
   "cell_type": "code",
   "execution_count": 15,
   "metadata": {},
   "outputs": [
    {
     "data": {
      "text/plain": [
       "(686, 5)"
      ]
     },
     "execution_count": 15,
     "metadata": {},
     "output_type": "execute_result"
    }
   ],
   "source": [
    "regions_df[~regions_df.layer.isin([0, 2])].shape"
   ]
  },
  {
   "cell_type": "code",
   "execution_count": 16,
   "metadata": {},
   "outputs": [
    {
     "name": "stdout",
     "output_type": "stream",
     "text": [
      "int32 (118, 160, 90)\n",
      "(1455,)\n",
      "int32 (118, 160, 90)\n",
      "(1153,)\n",
      "int32 (118, 160, 90)\n",
      "(1197,)\n",
      "int32 (118, 160, 90)\n",
      "(45,)\n",
      "int32 (118, 160, 90)\n",
      "(259,)\n"
     ]
    }
   ],
   "source": [
    "parcels = np.load(f'{args.out_path}/brain_100um.npy')\n",
    "parcels = parcels.astype(np.int32)\n",
    "\n",
    "# # removing rois in layers 0, 2 of isocortex\n",
    "# rois_df = regions_df[~regions_df.layer.isin([0, 2])]\n",
    "rois_df = deepcopy(regions_df)\n",
    "whole_parcels, whole_parcels_img_warped = create_parcels(args, parcels, rois_df, 'whole_parcels')\n",
    "\n",
    "rois_df = regions_df[regions_df.acro == 'Isocortex']#[regions_df.layer == 1]\n",
    "iso_parcels, iso_parcels_img_warped = create_parcels(args, parcels, rois_df, 'iso_parcels')\n",
    "\n",
    "rois_df = regions_df[regions_df.acro.isin(['Isocortex', 'OLF'])]#[~regions_df.layer.isin([0, 2])]\n",
    "iso_olf_parcels, iso_olf_parcels_img_warped = create_parcels(args, parcels, rois_df, 'iso_olf_parcels')\n",
    "\n",
    "rois_df = regions_df[regions_df.acro == 'OLF']\n",
    "olf_parcels, olf_parcels_img_warped = create_parcels(args, parcels, rois_df, 'olf_parcels')\n",
    "\n",
    "rois_df = regions_df[~regions_df.acro.isin(['Isocortex', 'OLF'])]\n",
    "rest_parcels, rest_parcels_img_warped = create_parcels(args, parcels, rois_df, 'non_iso_olf_parcels')"
   ]
  },
  {
   "cell_type": "markdown",
   "metadata": {},
   "source": [
    "## resampling"
   ]
  },
  {
   "cell_type": "code",
   "execution_count": 17,
   "metadata": {},
   "outputs": [
    {
     "name": "stderr",
     "output_type": "stream",
     "text": [
      "116it [00:00, 356.12it/s]\n"
     ]
    }
   ],
   "source": [
    "# common brain mask (across subs)\n",
    "all_files_path = f'/home/govindas/mouse_dataset/voxel/all_file_collections'\n",
    "all_files = os.listdir(all_files_path)\n",
    "\n",
    "# cmask : common brain mask\n",
    "for idx, files in tqdm(enumerate(all_files[:])):\n",
    "    if idx == 0:\n",
    "        with open(f'{all_files_path}/{files}', 'r') as f:\n",
    "            ants_cmask = ants.image_read(f.readlines()[1][:-1])\n",
    "        cmask = ants_cmask.numpy()\n",
    "    else:\n",
    "        with open(f'{all_files_path}/{files}', 'r') as f:\n",
    "            cmask *= ants.image_read(f.readlines()[1][:-1]).numpy()\n",
    "ants_cmask = ants_cmask.new_image_like(cmask)\n",
    "ants_cmask.to_filename(\n",
    "    f'/home/govindas/mouse_dataset/voxel/common_brain_mask.nii.gz'\n",
    ")"
   ]
  },
  {
   "cell_type": "code",
   "execution_count": 18,
   "metadata": {},
   "outputs": [],
   "source": [
    "def resample_to_common_mask(args, cmask_img, parcels_img, name):\n",
    "    parcels_img_warped = ants.resample_image_to_target(\n",
    "        image=parcels_img,\n",
    "        target=cmask_img,\n",
    "        interp_type='genericLabel',\n",
    "    )\n",
    "    parcels_img_warped = parcels_img_warped.new_image_like(\n",
    "        data=parcels_img_warped.numpy() * cmask_img.numpy()\n",
    "    )\n",
    "    fname = f'{args.out_path}/warped_on_n162/{name}_warped_cm.nii.gz'\n",
    "    print(fname)\n",
    "    parcels_img_warped.to_filename(\n",
    "        fname\n",
    "    )\n",
    "    print(np.max(np.unique(parcels_img_warped.numpy())))\n",
    "    return fname"
   ]
  },
  {
   "cell_type": "code",
   "execution_count": 19,
   "metadata": {},
   "outputs": [
    {
     "name": "stdout",
     "output_type": "stream",
     "text": [
      "/home/govindas/mouse_dataset/allen_atlas_ccfv3/hadi/parcellation/warped_on_n162/whole_parcels_warped_cm.nii.gz\n",
      "1454.0\n",
      "/home/govindas/mouse_dataset/allen_atlas_ccfv3/hadi/parcellation/warped_on_n162/iso_parcels_warped_cm.nii.gz\n",
      "1152.0\n",
      "/home/govindas/mouse_dataset/allen_atlas_ccfv3/hadi/parcellation/warped_on_n162/iso_olf_parcels_warped_cm.nii.gz\n",
      "1196.0\n",
      "/home/govindas/mouse_dataset/allen_atlas_ccfv3/hadi/parcellation/warped_on_n162/olf_parcels_warped_cm.nii.gz\n",
      "1196.0\n",
      "/home/govindas/mouse_dataset/allen_atlas_ccfv3/hadi/parcellation/warped_on_n162/non_iso_olf_parcels_warped_cm.nii.gz\n",
      "1454.0\n"
     ]
    }
   ],
   "source": [
    "whole_parcels_img_warped_cm = resample_to_common_mask(\n",
    "    args, cmask_img=ants_cmask, parcels_img=whole_parcels_img_warped, name='whole_parcels')\n",
    "\n",
    "iso_parcels_img_warped_cm = resample_to_common_mask(\n",
    "    args, cmask_img=ants_cmask, parcels_img=iso_parcels_img_warped, name='iso_parcels')\n",
    "\n",
    "iso_olf_parcels_img_warped_cm = resample_to_common_mask(\n",
    "    args, cmask_img=ants_cmask, parcels_img=iso_olf_parcels_img_warped, name='iso_olf_parcels')\n",
    "\n",
    "olf_parcels_img_warped_cm = resample_to_common_mask(\n",
    "    args, cmask_img=ants_cmask, parcels_img=olf_parcels_img_warped, name='olf_parcels')\n",
    "\n",
    "non_iso_olf_parcels_img_warped_cm = resample_to_common_mask(\n",
    "    args, cmask_img=ants_cmask, parcels_img=rest_parcels_img_warped, name='non_iso_olf_parcels')"
   ]
  },
  {
   "cell_type": "code",
   "execution_count": 20,
   "metadata": {},
   "outputs": [],
   "source": [
    "def roi_labels(args, mask_file, name):\n",
    "    cmd = (\n",
    "        f'3dROIstats -overwrite '\n",
    "        f'-quiet '\n",
    "        f'-mask {mask_file} '\n",
    "        f'{mask_file} > {args.out_path}/warped_on_n162/{name}_roi_labels.txt'\n",
    "    )\n",
    "    os.system(cmd)\n",
    "    return None\n",
    "\n",
    "roi_labels(args, whole_parcels_img_warped_cm, 'whole')\n",
    "roi_labels(args, iso_parcels_img_warped_cm, 'iso')\n",
    "roi_labels(args, iso_olf_parcels_img_warped_cm, 'iso_olf')\n",
    "roi_labels(args, olf_parcels_img_warped_cm, 'olf')\n",
    "roi_labels(args, non_iso_olf_parcels_img_warped_cm, 'non_iso_olf')"
   ]
  },
  {
   "cell_type": "code",
   "execution_count": 1,
   "metadata": {},
   "outputs": [],
   "source": [
    "import numpy as np"
   ]
  },
  {
   "cell_type": "code",
   "execution_count": 5,
   "metadata": {},
   "outputs": [
    {
     "data": {
      "text/plain": [
       "1142"
      ]
     },
     "execution_count": 5,
     "metadata": {},
     "output_type": "execute_result"
    }
   ],
   "source": [
    "len(np.loadtxt(\n",
    "    f'/home/govindas/mouse_dataset/allen_atlas_ccfv3/hadi/parcellation/warped_on_n162/iso_roi_labels.txt'\n",
    "))"
   ]
  },
  {
   "cell_type": "code",
   "execution_count": 6,
   "metadata": {},
   "outputs": [
    {
     "data": {
      "text/plain": [
       "(1446,)"
      ]
     },
     "execution_count": 6,
     "metadata": {},
     "output_type": "execute_result"
    }
   ],
   "source": [
    "# fname = f'{args.out_path}/warped_on_n162/{name}_warped_cm.nii.gz'\n",
    "fname = f'/home/govindas/mouse_dataset/allen_atlas_ccfv3/hadi/parcellation/warped_on_n162/whole_parcels_warped_cm.nii.gz'\n",
    "import ants\n",
    "img = ants.image_read(fname)\n",
    "np.unique(img.numpy()).shape"
   ]
  }
 ],
 "metadata": {
  "kernelspec": {
   "display_name": "nw_estim",
   "language": "python",
   "name": "python3"
  },
  "language_info": {
   "codemirror_mode": {
    "name": "ipython",
    "version": 3
   },
   "file_extension": ".py",
   "mimetype": "text/x-python",
   "name": "python",
   "nbconvert_exporter": "python",
   "pygments_lexer": "ipython3",
   "version": "3.9.17"
  },
  "orig_nbformat": 4
 },
 "nbformat": 4,
 "nbformat_minor": 2
}
