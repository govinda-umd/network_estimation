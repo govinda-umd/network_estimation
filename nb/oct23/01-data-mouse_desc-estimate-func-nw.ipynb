{
 "cells": [
  {
   "cell_type": "markdown",
   "metadata": {},
   "source": [
    "# Oct 12-15,21, 2023: estimate functional networks: runwise"
   ]
  },
  {
   "cell_type": "code",
   "execution_count": 1,
   "metadata": {},
   "outputs": [],
   "source": [
    "import csv\n",
    "import os\n",
    "import sys\n",
    "import numpy as np\n",
    "import pandas as pd\n",
    "import scipy as sp \n",
    "import pickle \n",
    "from os.path import join as pjoin\n",
    "from itertools import product\n",
    "from tqdm import tqdm\n",
    "from copy import deepcopy\n",
    "from pathlib import Path\n",
    "import subprocess\n",
    "from scipy import sparse, stats\n",
    "from multiprocessing import Pool\n",
    "import glob\n",
    "\n",
    "# networks\n",
    "import networkx as nx\n",
    "from sklearn.covariance import GraphicalLassoCV\n",
    "\n",
    "# plotting\n",
    "import matplotlib as mpl\n",
    "import matplotlib.pyplot as plt\n",
    "import seaborn as sns\n",
    "from mpl_toolkits.mplot3d import Axes3D\n",
    "from matplotlib.cm import rainbow\n",
    "\n",
    "plt.rcParamsDefault['font.family'] = \"sans-serif\"\n",
    "plt.rcParamsDefault['font.sans-serif'] = \"Arial\"\n",
    "plt.rcParams['font.size'] = 14\n",
    "plt.rcParams[\"errorbar.capsize\"] = 0.5\n",
    "\n",
    "import cmasher as cmr  # CITE ITS PAPER IN YOUR MANUSCRIPT\n",
    "\n",
    "# ignore user warnings\n",
    "import warnings\n",
    "warnings.filterwarnings(\"ignore\") #, category=UserWarning)"
   ]
  },
  {
   "cell_type": "code",
   "execution_count": 2,
   "metadata": {},
   "outputs": [],
   "source": [
    "class ARGS():\n",
    "    pass\n",
    "\n",
    "args = ARGS()\n",
    "\n",
    "args.SEED = 100"
   ]
  },
  {
   "cell_type": "code",
   "execution_count": 3,
   "metadata": {},
   "outputs": [
    {
     "data": {
      "text/plain": [
       "0"
      ]
     },
     "execution_count": 3,
     "metadata": {},
     "output_type": "execute_result"
    }
   ],
   "source": [
    "args.rois_folder = 'yale_172' #'yale_172' # 'hadi_1445'\n",
    "args.parcel_name = 'iso' #'iso' #'whole'\n",
    "BASE_path = f'{os.environ[\"HOME\"]}/mouse_dataset/roi'\n",
    "TS_path = f'{BASE_path}/{args.rois_folder}/roi_timeseries_txt_files/{args.parcel_name}'\n",
    "FC_path = f'{BASE_path}/{args.rois_folder}/func_nws_files/{args.parcel_name}'\n",
    "cmd = (\n",
    "    f'mkdir -p {FC_path}'\n",
    ")\n",
    "os.system(cmd)\n",
    "NPY_path = f'{BASE_path}/{args.rois_folder}/npy_files'\n",
    "cmd = (\n",
    "    f'mkdir -p {NPY_path}'\n",
    ")\n",
    "os.system(cmd)"
   ]
  },
  {
   "cell_type": "code",
   "execution_count": 4,
   "metadata": {},
   "outputs": [],
   "source": [
    "# roi labels\n",
    "hadi_1445_rois = (\n",
    "    f'{os.environ[\"HOME\"]}/mouse_dataset/allen_atlas_ccfv3/hadi/parcellation'\n",
    "    f'/warped_on_n162/{args.parcel_name}_roi_labels.txt'\n",
    ")\n",
    "\n",
    "yale_172_rois = (\n",
    "    f'{os.environ[\"HOME\"]}/mouse_dataset' \n",
    "    f'/n162_parcellations/172_roi_labels.txt'\n",
    ")\n",
    "\n",
    "yale_172_iso_rois = (\n",
    "    f'{os.environ[\"HOME\"]}/mouse_dataset' \n",
    "    f'/n162_parcellations/172_iso_roi_labels.txt'\n",
    ")\n",
    "\n",
    "yale_172_sub_rois = (\n",
    "    f'{os.environ[\"HOME\"]}/mouse_dataset' \n",
    "    f'/n162_parcellations/172_sub_roi_labels.txt'\n",
    ")\n",
    "\n",
    "yale_56_rois = (\n",
    "    f'{os.environ[\"HOME\"]}/mouse_dataset' \n",
    "    f'/n162_parcellations/56_roi_labels.txt'\n",
    ")\n",
    "\n",
    "yale_56_iso_rois = (\n",
    "    f'{os.environ[\"HOME\"]}/mouse_dataset' \n",
    "    f'/n162_parcellations/56_iso_roi_labels.txt'\n",
    ")\n",
    "\n",
    "yale_56_sub_rois = (\n",
    "    f'{os.environ[\"HOME\"]}/mouse_dataset' \n",
    "    f'/n162_parcellations/56_sub_roi_labels.txt'\n",
    ")\n",
    "\n",
    "rois_file = yale_172_iso_rois #<<<<<<========="
   ]
  },
  {
   "cell_type": "code",
   "execution_count": 5,
   "metadata": {},
   "outputs": [],
   "source": [
    "# runwise FCs \n",
    "args.num_subs = 10\n",
    "args.num_sess = 3\n",
    "args.num_rois = len(np.loadtxt(rois_file).astype(int))\n",
    "args.percentile = 80"
   ]
  },
  {
   "cell_type": "code",
   "execution_count": 6,
   "metadata": {},
   "outputs": [
    {
     "data": {
      "text/plain": [
       "85"
      ]
     },
     "execution_count": 6,
     "metadata": {},
     "output_type": "execute_result"
    }
   ],
   "source": [
    "args.num_rois"
   ]
  },
  {
   "cell_type": "markdown",
   "metadata": {},
   "source": [
    "---"
   ]
  },
  {
   "cell_type": "code",
   "execution_count": 7,
   "metadata": {},
   "outputs": [
    {
     "name": "stderr",
     "output_type": "stream",
     "text": [
      "100%|██████████| 116/116 [00:00<00:00, 171.45it/s]\n"
     ]
    }
   ],
   "source": [
    "def create_dataframe(files):\n",
    "    def get_ts(file):\n",
    "        ts = np.loadtxt(file)\n",
    "        ts = stats.zscore(ts, axis=0, nan_policy='omit')\n",
    "        return ts\n",
    "\n",
    "    def get_fc(ts):\n",
    "        fc = np.corrcoef(ts, rowvar=False)\n",
    "        fc = fc[np.tril_indices(fc.shape[0], k=-1)]\n",
    "        fc[np.isnan(fc)] = 0.0\n",
    "        fc = fc > np.percentile(fc, q=args.percentile) # this removes neg. edges\n",
    "        \n",
    "        fc_ = np.zeros((args.num_rois, args.num_rois))\n",
    "        fc_[np.tril_indices(fc_.shape[0], k=-1)] = fc\n",
    "        fc_ = (fc_ + fc_.T)\n",
    "        return fc_\n",
    "\n",
    "    def save_edges_to_file(fc, ssr):\n",
    "        edges = np.stack(np.where(np.tril(fc, k=-1)), axis=-1)\n",
    "        nw_edges_file = '_'.join(ssr[:-1] + ['desc-nw-edges.txt'])\n",
    "        with open(f'{FC_path}/{nw_edges_file}', 'w', newline='') as f:\n",
    "            wr = csv.writer(f, delimiter='\\t')\n",
    "            wr.writerows(edges)\n",
    "\n",
    "    dataset_df = []\n",
    "\n",
    "    for file in tqdm(files):\n",
    "        ssr = file.split('/')[-1].split('_')\n",
    "        # if int(seed) > 25: continue\n",
    "        sub, ses, run = [ssr[i].split('-')[-1] for i in range(3)]\n",
    "        ts = get_ts(file)\n",
    "        fc = get_fc(ts)\n",
    "        df = pd.DataFrame({\n",
    "            'sub':[int(sub[-2:])],\n",
    "            'ses':[int(ses)],\n",
    "            'run':[int(run)],\n",
    "            'ts':[ts],\n",
    "            'fc':[fc],\n",
    "        })\n",
    "        dataset_df.append(df)\n",
    "        save_edges_to_file(fc, ssr)\n",
    "        \n",
    "    dataset_df = pd.concat(dataset_df)\n",
    "    dataset_df = dataset_df.sort_values(\n",
    "        by=['sub', 'ses', 'run'],\n",
    "    ).reset_index(drop=True)\n",
    "    return dataset_df\n",
    "\n",
    "dataset_df = create_dataframe(files=glob.glob(f'{TS_path}/*', recursive=True))\n",
    "with open(f'{NPY_path}/func_nws_{args.parcel_name}.npy', 'wb') as f:\n",
    "    pickle.dump(dataset_df, f)"
   ]
  },
  {
   "cell_type": "code",
   "execution_count": 8,
   "metadata": {},
   "outputs": [
    {
     "data": {
      "text/html": [
       "<div>\n",
       "<style scoped>\n",
       "    .dataframe tbody tr th:only-of-type {\n",
       "        vertical-align: middle;\n",
       "    }\n",
       "\n",
       "    .dataframe tbody tr th {\n",
       "        vertical-align: top;\n",
       "    }\n",
       "\n",
       "    .dataframe thead th {\n",
       "        text-align: right;\n",
       "    }\n",
       "</style>\n",
       "<table border=\"1\" class=\"dataframe\">\n",
       "  <thead>\n",
       "    <tr style=\"text-align: right;\">\n",
       "      <th></th>\n",
       "      <th>sub</th>\n",
       "      <th>ses</th>\n",
       "      <th>run</th>\n",
       "      <th>ts</th>\n",
       "      <th>fc</th>\n",
       "    </tr>\n",
       "  </thead>\n",
       "  <tbody>\n",
       "    <tr>\n",
       "      <th>0</th>\n",
       "      <td>1</td>\n",
       "      <td>1</td>\n",
       "      <td>1</td>\n",
       "      <td>[[-1.2383917745072477, 1.1163153486039836, 1.4...</td>\n",
       "      <td>[[0.0, 0.0, 0.0, 0.0, 0.0, 0.0, 0.0, 0.0, 0.0,...</td>\n",
       "    </tr>\n",
       "    <tr>\n",
       "      <th>1</th>\n",
       "      <td>1</td>\n",
       "      <td>1</td>\n",
       "      <td>3</td>\n",
       "      <td>[[0.5772684970033798, -0.4822435286650551, 0.1...</td>\n",
       "      <td>[[0.0, 0.0, 1.0, 0.0, 0.0, 0.0, 0.0, 0.0, 0.0,...</td>\n",
       "    </tr>\n",
       "    <tr>\n",
       "      <th>2</th>\n",
       "      <td>1</td>\n",
       "      <td>1</td>\n",
       "      <td>5</td>\n",
       "      <td>[[0.7185287441410884, 0.8233648530568453, 0.41...</td>\n",
       "      <td>[[0.0, 0.0, 1.0, 0.0, 0.0, 0.0, 0.0, 0.0, 0.0,...</td>\n",
       "    </tr>\n",
       "    <tr>\n",
       "      <th>3</th>\n",
       "      <td>1</td>\n",
       "      <td>1</td>\n",
       "      <td>7</td>\n",
       "      <td>[[-0.5211259909151331, -0.2840364196955381, -0...</td>\n",
       "      <td>[[0.0, 0.0, 0.0, 0.0, 0.0, 0.0, 0.0, 0.0, 0.0,...</td>\n",
       "    </tr>\n",
       "    <tr>\n",
       "      <th>4</th>\n",
       "      <td>1</td>\n",
       "      <td>2</td>\n",
       "      <td>1</td>\n",
       "      <td>[[-0.8158721342289027, -1.8648131574926665, -3...</td>\n",
       "      <td>[[0.0, 0.0, 0.0, 0.0, 0.0, 0.0, 0.0, 0.0, 0.0,...</td>\n",
       "    </tr>\n",
       "    <tr>\n",
       "      <th>...</th>\n",
       "      <td>...</td>\n",
       "      <td>...</td>\n",
       "      <td>...</td>\n",
       "      <td>...</td>\n",
       "      <td>...</td>\n",
       "    </tr>\n",
       "    <tr>\n",
       "      <th>111</th>\n",
       "      <td>10</td>\n",
       "      <td>2</td>\n",
       "      <td>7</td>\n",
       "      <td>[[-0.6101247327053836, 0.48769218162664024, -0...</td>\n",
       "      <td>[[0.0, 0.0, 1.0, 0.0, 0.0, 0.0, 0.0, 0.0, 0.0,...</td>\n",
       "    </tr>\n",
       "    <tr>\n",
       "      <th>112</th>\n",
       "      <td>10</td>\n",
       "      <td>3</td>\n",
       "      <td>1</td>\n",
       "      <td>[[1.5216029426295017, 1.2644846590571213, 0.42...</td>\n",
       "      <td>[[0.0, 1.0, 1.0, 1.0, 0.0, 0.0, 1.0, 0.0, 0.0,...</td>\n",
       "    </tr>\n",
       "    <tr>\n",
       "      <th>113</th>\n",
       "      <td>10</td>\n",
       "      <td>3</td>\n",
       "      <td>3</td>\n",
       "      <td>[[0.18582075536109696, 1.418031566519159, 0.58...</td>\n",
       "      <td>[[0.0, 0.0, 1.0, 0.0, 0.0, 0.0, 0.0, 0.0, 0.0,...</td>\n",
       "    </tr>\n",
       "    <tr>\n",
       "      <th>114</th>\n",
       "      <td>10</td>\n",
       "      <td>3</td>\n",
       "      <td>5</td>\n",
       "      <td>[[3.048707649341632, -0.43729088330819366, -0....</td>\n",
       "      <td>[[0.0, 0.0, 1.0, 0.0, 0.0, 0.0, 0.0, 0.0, 0.0,...</td>\n",
       "    </tr>\n",
       "    <tr>\n",
       "      <th>115</th>\n",
       "      <td>10</td>\n",
       "      <td>3</td>\n",
       "      <td>7</td>\n",
       "      <td>[[-0.2690550351252698, -0.9929393258595925, 0....</td>\n",
       "      <td>[[0.0, 0.0, 0.0, 0.0, 0.0, 0.0, 0.0, 0.0, 0.0,...</td>\n",
       "    </tr>\n",
       "  </tbody>\n",
       "</table>\n",
       "<p>116 rows × 5 columns</p>\n",
       "</div>"
      ],
      "text/plain": [
       "     sub  ses  run                                                 ts  \\\n",
       "0      1    1    1  [[-1.2383917745072477, 1.1163153486039836, 1.4...   \n",
       "1      1    1    3  [[0.5772684970033798, -0.4822435286650551, 0.1...   \n",
       "2      1    1    5  [[0.7185287441410884, 0.8233648530568453, 0.41...   \n",
       "3      1    1    7  [[-0.5211259909151331, -0.2840364196955381, -0...   \n",
       "4      1    2    1  [[-0.8158721342289027, -1.8648131574926665, -3...   \n",
       "..   ...  ...  ...                                                ...   \n",
       "111   10    2    7  [[-0.6101247327053836, 0.48769218162664024, -0...   \n",
       "112   10    3    1  [[1.5216029426295017, 1.2644846590571213, 0.42...   \n",
       "113   10    3    3  [[0.18582075536109696, 1.418031566519159, 0.58...   \n",
       "114   10    3    5  [[3.048707649341632, -0.43729088330819366, -0....   \n",
       "115   10    3    7  [[-0.2690550351252698, -0.9929393258595925, 0....   \n",
       "\n",
       "                                                    fc  \n",
       "0    [[0.0, 0.0, 0.0, 0.0, 0.0, 0.0, 0.0, 0.0, 0.0,...  \n",
       "1    [[0.0, 0.0, 1.0, 0.0, 0.0, 0.0, 0.0, 0.0, 0.0,...  \n",
       "2    [[0.0, 0.0, 1.0, 0.0, 0.0, 0.0, 0.0, 0.0, 0.0,...  \n",
       "3    [[0.0, 0.0, 0.0, 0.0, 0.0, 0.0, 0.0, 0.0, 0.0,...  \n",
       "4    [[0.0, 0.0, 0.0, 0.0, 0.0, 0.0, 0.0, 0.0, 0.0,...  \n",
       "..                                                 ...  \n",
       "111  [[0.0, 0.0, 1.0, 0.0, 0.0, 0.0, 0.0, 0.0, 0.0,...  \n",
       "112  [[0.0, 1.0, 1.0, 1.0, 0.0, 0.0, 1.0, 0.0, 0.0,...  \n",
       "113  [[0.0, 0.0, 1.0, 0.0, 0.0, 0.0, 0.0, 0.0, 0.0,...  \n",
       "114  [[0.0, 0.0, 1.0, 0.0, 0.0, 0.0, 0.0, 0.0, 0.0,...  \n",
       "115  [[0.0, 0.0, 0.0, 0.0, 0.0, 0.0, 0.0, 0.0, 0.0,...  \n",
       "\n",
       "[116 rows x 5 columns]"
      ]
     },
     "execution_count": 8,
     "metadata": {},
     "output_type": "execute_result"
    }
   ],
   "source": [
    "dataset_df"
   ]
  },
  {
   "cell_type": "code",
   "execution_count": 9,
   "metadata": {},
   "outputs": [
    {
     "data": {
      "text/plain": [
       "<Axes: >"
      ]
     },
     "execution_count": 9,
     "metadata": {},
     "output_type": "execute_result"
    },
    {
     "data": {
      "image/png": "[encoded data removed]",
      "text/plain": [
       "<Figure size 400x320 with 2 Axes>"
      ]
     },
     "metadata": {},
     "output_type": "display_data"
    }
   ],
   "source": [
    "sub, ses, run = 3, 2, 5\n",
    "row = dataset_df[\n",
    "    (dataset_df['sub'] == sub) & \n",
    "    (dataset_df['ses'] == ses) & \n",
    "    (dataset_df['run'] == run)\n",
    "]\n",
    "fig, axs = plt.subplots(1, 1, figsize=(5, 4), dpi=80)\n",
    "ax = axs\n",
    "sns.heatmap(row['fc'].to_list()[0], ax=ax, square=True, cmap=cmr.iceburn, center=0)"
   ]
  },
  {
   "cell_type": "code",
   "execution_count": 10,
   "metadata": {},
   "outputs": [
    {
     "data": {
      "text/plain": [
       "<Axes: ylabel='Count'>"
      ]
     },
     "execution_count": 10,
     "metadata": {},
     "output_type": "execute_result"
    },
    {
     "data": {
      "image/png": "[encoded data removed]",
      "text/plain": [
       "<Figure size 640x480 with 1 Axes>"
      ]
     },
     "metadata": {},
     "output_type": "display_data"
    }
   ],
   "source": [
    "density = []\n",
    "for idx, row in dataset_df.iterrows():\n",
    "    fc = row['fc']\n",
    "    fc_lt = fc[np.tril_indices(fc.shape[0], k=-1)]\n",
    "    density.append(np.count_nonzero(fc_lt)/fc_lt.shape[0])\n",
    "\n",
    "density = np.vstack(density)\n",
    "sns.histplot(density)"
   ]
  }
 ],
 "metadata": {
  "kernelspec": {
   "display_name": "nw_estim",
   "language": "python",
   "name": "python3"
  },
  "language_info": {
   "codemirror_mode": {
    "name": "ipython",
    "version": 3
   },
   "file_extension": ".py",
   "mimetype": "text/x-python",
   "name": "python",
   "nbconvert_exporter": "python",
   "pygments_lexer": "ipython3",
   "version": "3.9.17"
  },
  "orig_nbformat": 4
 },
 "nbformat": 4,
 "nbformat_minor": 2
}
