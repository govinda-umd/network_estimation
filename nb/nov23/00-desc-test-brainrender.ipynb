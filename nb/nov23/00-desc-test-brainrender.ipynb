{
 "cells": [
  {
   "cell_type": "markdown",
   "metadata": {},
   "source": [
    "# Nov 7, 2023: brainrender for 3d brain visualization"
   ]
  },
  {
   "cell_type": "code",
   "execution_count": 1,
   "metadata": {},
   "outputs": [],
   "source": [
    "class ARGS():\n",
    "    pass\n",
    "\n",
    "args = ARGS()"
   ]
  },
  {
   "cell_type": "code",
   "execution_count": 2,
   "metadata": {},
   "outputs": [
    {
     "name": "stdout",
     "output_type": "stream",
     "text": [
      "embedWindow(verbose=True): could not load ipyvtklink try:\n",
      "> pip install ipyvtklink\n"
     ]
    },
    {
     "ename": "",
     "evalue": "",
     "output_type": "error",
     "traceback": [
      "\u001b[1;31mThe Kernel crashed while executing code in the the current cell or a previous cell. Please review the code in the cell(s) to identify a possible cause of the failure. Click <a href='https://aka.ms/vscodeJupyterKernelCrash'>here</a> for more info. View Jupyter <a href='command:jupyter.viewOutput'>log</a> for further details."
     ]
    }
   ],
   "source": [
    "# Import Scene\n",
    "from brainrender import Scene  # Scene handles the creation of your rendering!\n",
    "\n",
    "scene = Scene(title='My first rendering')  # create an instance of scene\n",
    "'''\n",
    "If you want to use any of the atlases supported by BrainGlobe's AtlasAPI,\n",
    "specify the atlas name when creating an instance of `Scene`!\n",
    "'''\n",
    "\n",
    "# Adding brain regions\n",
    "scene.add_brain_region('MOs', 'TH', alpha=.5)\n",
    "\n",
    "'''\n",
    "You can add any number of brain regions at once, just specify the regions' acronym or ID numbers.\n",
    "If you are not sure what the acronym/ID is for your region, have a look try:\n",
    "\n",
    "`scene.atlas.lookup_df`\n",
    "\n",
    "or:\n",
    "`print(scene.atlas.hierarchy)`\n",
    "\n",
    "which whill show the hieararchical organization of the atlas' regions:\n",
    "\n",
    "root (997)\n",
    "├── VS (73)\n",
    "│   ├── AQ (140)\n",
    "│   ├── V3 (129)\n",
    "│   ├── V4 (145)\n",
    "│   │   └── V4r (153)\n",
    "│   ├── VL (81)\n",
    "│   │   ├── SEZ (98)\n",
    "│   │   └── chpl (108)\n",
    "│   └── c (164)\n",
    "├── fiber tracts (1009)\n",
    "│   ├── cbf (960)\n",
    "│   │   ├── arb (728)\n",
    "...\n",
    "\n",
    "'''\n",
    "\n",
    "scene.atlas.lookup_df.head()"
   ]
  }
 ],
 "metadata": {
  "kernelspec": {
   "display_name": "nw_estim",
   "language": "python",
   "name": "python3"
  },
  "language_info": {
   "codemirror_mode": {
    "name": "ipython",
    "version": 3
   },
   "file_extension": ".py",
   "mimetype": "text/x-python",
   "name": "python",
   "nbconvert_exporter": "python",
   "pygments_lexer": "ipython3",
   "version": "3.9.17"
  }
 },
 "nbformat": 4,
 "nbformat_minor": 2
}
