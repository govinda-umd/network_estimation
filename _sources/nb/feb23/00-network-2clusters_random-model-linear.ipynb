{
 "cells": [
  {
   "attachments": {},
   "cell_type": "markdown",
   "metadata": {},
   "source": [
    "# February 3, 2023: Create a 2-cluster network and random networks: Simulate dynamics with Linear neural dynamics model"
   ]
  },
  {
   "cell_type": "code",
   "execution_count": 1,
   "metadata": {},
   "outputs": [
    {
     "name": "stderr",
     "output_type": "stream",
     "text": [
      "/home/govindas/.local/lib/python3.9/site-packages/tvb/datatypes/surfaces.py:60: UserWarning: Geodesic distance module is unavailable; some functionality for surfaces will be unavailable.\n",
      "  warnings.warn(msg)\n"
     ]
    }
   ],
   "source": [
    "import csv\n",
    "import os\n",
    "import pickle\n",
    "import random\n",
    "import sys\n",
    "from os.path import join as pjoin\n",
    "import numpy as np\n",
    "import tvb\n",
    "import tvb.simulator.lab as tsl\n",
    "from tvb.simulator.plot.phase_plane_interactive import PhasePlaneInteractive\n",
    "from tvb.simulator.plot.timeseries_interactive import TimeSeriesInteractivePlotter\n",
    "\n",
    "# main dirs\n",
    "proj_dir = pjoin(os.environ['HOME'], 'network_estimation')\n",
    "month_dir = f\"{proj_dir}/nb/jan23\"\n",
    "\n",
    "# plotting\n",
    "import matplotlib as mpl\n",
    "import matplotlib.pyplot as plt\n",
    "import seaborn as sns\n",
    "\n",
    "plt.rcParamsDefault['font.family'] = \"sans-serif\"\n",
    "plt.rcParamsDefault['font.sans-serif'] = \"Arial\"\n",
    "plt.rcParams['font.size'] = 14\n",
    "plt.rcParams[\"errorbar.capsize\"] = 0.5\n",
    "\n",
    "import cmasher as cmr  # CITE ITS PAPER IN YOUR MANUSCRIPT\n",
    "\n",
    "# folders\n",
    "sys.path.insert(0, proj_dir)\n",
    "# import helpers.dataset_utils_v1 as dataset_utils\n",
    "# import helpers.fc_utils as fc_utils\n",
    "# import helpers.isc_utils as isc_utils\n",
    "# import helpers.network_utils as network_utils"
   ]
  }
 ],
 "metadata": {
  "kernelspec": {
   "display_name": "nw_estim",
   "language": "python",
   "name": "python3"
  },
  "language_info": {
   "codemirror_mode": {
    "name": "ipython",
    "version": 3
   },
   "file_extension": ".py",
   "mimetype": "text/x-python",
   "name": "python",
   "nbconvert_exporter": "python",
   "pygments_lexer": "ipython3",
   "version": "3.9.16"
  },
  "orig_nbformat": 4,
  "vscode": {
   "interpreter": {
    "hash": "527b817642087c40c1f7c749f9c75652fc7adedeb9756d671c744eabb2949755"
   }
  }
 },
 "nbformat": 4,
 "nbformat_minor": 2
}
