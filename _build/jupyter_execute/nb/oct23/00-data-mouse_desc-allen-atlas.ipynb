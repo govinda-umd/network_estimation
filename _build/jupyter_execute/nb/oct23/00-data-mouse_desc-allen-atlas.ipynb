{
 "cells": [
  {
   "cell_type": "markdown",
   "metadata": {},
   "source": [
    "# Oct 4, 2023: Allen Atlas CCFv3"
   ]
  },
  {
   "cell_type": "code",
   "execution_count": 1,
   "metadata": {},
   "outputs": [],
   "source": [
    "import csv\n",
    "import os\n",
    "import sys\n",
    "import numpy as np\n",
    "import pandas as pd\n",
    "import scipy as sp \n",
    "import pickle \n",
    "from os.path import join as pjoin\n",
    "from itertools import product\n",
    "from tqdm import tqdm\n",
    "from copy import deepcopy\n",
    "from pathlib import Path\n",
    "import subprocess\n",
    "from scipy import sparse\n",
    "\n",
    "# nii imaging\n",
    "from allensdk.core.mouse_connectivity_cache import (\n",
    "    MouseConnectivityCache,\n",
    "    MouseConnectivityApi\n",
    ")\n",
    "import nrrd\n",
    "import ants\n",
    "\n",
    "# networkx\n",
    "import networkx as nx \n",
    "\n",
    "# plotting\n",
    "import matplotlib as mpl\n",
    "import matplotlib.pyplot as plt\n",
    "import seaborn as sns\n",
    "from mpl_toolkits.mplot3d import Axes3D\n",
    "from matplotlib.cm import rainbow\n",
    "\n",
    "plt.rcParamsDefault['font.family'] = \"sans-serif\"\n",
    "plt.rcParamsDefault['font.sans-serif'] = \"Arial\"\n",
    "plt.rcParams['font.size'] = 14\n",
    "plt.rcParams[\"errorbar.capsize\"] = 0.5\n",
    "\n",
    "import cmasher as cmr  # CITE ITS PAPER IN YOUR MANUSCRIPT\n",
    "\n",
    "# user files\n",
    "path = f'/home/govindas/hadivafaii/Ca-fMRI'\n",
    "sys.path.insert(0, path)\n",
    "# from register import register\n",
    "\n",
    "# ignore user warnings\n",
    "import warnings\n",
    "warnings.filterwarnings(\"ignore\") #, category=UserWarning)"
   ]
  },
  {
   "cell_type": "code",
   "execution_count": 2,
   "metadata": {},
   "outputs": [],
   "source": [
    "class ARGS():\n",
    "    pass\n",
    "\n",
    "args = ARGS()"
   ]
  },
  {
   "cell_type": "code",
   "execution_count": 3,
   "metadata": {},
   "outputs": [
    {
     "name": "stdout",
     "output_type": "stream",
     "text": [
      "(132, 80, 114) (132, 80, 114)\n"
     ]
    }
   ],
   "source": [
    "atlas_path = f'/home/govindas/mouse_dataset/allen_atlas_ccfv3'\n",
    "mcc_path = f'{atlas_path}/MouseConnectivity'\n",
    "mcc = MouseConnectivityCache(\n",
    "    resolution=100,\n",
    "    manifest_file=f'{mcc_path}/manifest.json',\n",
    "    ccf_version=MouseConnectivityApi.CCF_2017,\n",
    ")\n",
    "AVGT, metaAVGT = mcc.get_template_volume()\n",
    "ANO, metaANO = mcc.get_annotation_volume()\n",
    "AVGT = AVGT.astype(np.float32)\n",
    "ANO = ANO.astype(np.uint32)\n",
    "print(AVGT.shape, ANO.shape)\n",
    "\n",
    "STree = pd.DataFrame(mcc.get_structure_tree().nodes()) "
   ]
  },
  {
   "cell_type": "code",
   "execution_count": 4,
   "metadata": {},
   "outputs": [],
   "source": [
    "def save_to_nifti(img=AVGT, file_name='allen'):\n",
    "    img = img.transpose(2, 0, 1)\n",
    "    img = img[:,:,::-1]\n",
    "    img = np.pad(\n",
    "        img, \n",
    "        pad_width=((2, 2), (4, 24), (8, 2)), \n",
    "        mode='constant',\n",
    "        constant_values=((0, 0), (0, 0), (0, 0))\n",
    "        )\n",
    "    print(img.dtype, img.shape)\n",
    "    ndims = len(img.shape)\n",
    "    ants_img = ants.from_numpy(\n",
    "        data=img.astype(np.float32), \n",
    "        origin=[6.4, -13.2, -7.8],\n",
    "        spacing=[0.1]*ndims,\n",
    "    )\n",
    "    img_file = f'/home/govindas/mouse_dataset/voxel/tmp/{file_name}.nii.gz'\n",
    "    ants_img.to_filename(img_file)\n",
    "    return ants_img, img_file"
   ]
  },
  {
   "cell_type": "code",
   "execution_count": 5,
   "metadata": {},
   "outputs": [
    {
     "name": "stdout",
     "output_type": "stream",
     "text": [
      "float32 (118, 160, 90)\n",
      "uint32 (118, 160, 90)\n"
     ]
    }
   ],
   "source": [
    "ants_img_allen, img_allen_file = save_to_nifti(AVGT, 'allen')\n",
    "ants_img_ano, img_ano_file = save_to_nifti(ANO, 'allen_ano')"
   ]
  },
  {
   "cell_type": "code",
   "execution_count": 6,
   "metadata": {},
   "outputs": [],
   "source": [
    "img_n162_file = f'/home/govindas/mouse_dataset/gabe_symmetric_N162/Symmetric_N162_0.10_RAS.nii.gz'\n",
    "ants_img_n162 = ants.image_read(img_n162_file)\n",
    "img_n162 = ants_img_n162.numpy()\n",
    "\n",
    "img_n162_file = f'/home/govindas/mouse_dataset/voxel/tmp/n162.nii.gz'\n",
    "ants_img_n162.to_filename(img_n162_file)"
   ]
  },
  {
   "cell_type": "code",
   "execution_count": 7,
   "metadata": {},
   "outputs": [],
   "source": [
    "tx = ants.registration(\n",
    "    fixed=ants_img_n162,\n",
    "    moving=ants_img_allen,\n",
    "    type_of_transform=('SyN'),\n",
    ")"
   ]
  },
  {
   "cell_type": "code",
   "execution_count": 8,
   "metadata": {},
   "outputs": [],
   "source": [
    "ants_img_allen_warped = ants.apply_transforms(\n",
    "    fixed=ants_img_n162,\n",
    "    moving=ants_img_allen,\n",
    "    transformlist=tx['fwdtransforms'],\n",
    "    interpolator='genericLabel',\n",
    ")\n",
    "ants_img_ano_warped = ants.apply_transforms(\n",
    "    fixed=ants_img_n162,\n",
    "    moving=ants_img_ano,\n",
    "    transformlist=tx['fwdtransforms'],\n",
    "    interpolator='genericLabel',\n",
    ")\n",
    "ants_img_allen_warped.to_filename(f'/home/govindas/mouse_dataset/voxel/tmp/allen_warped.nii.gz')\n",
    "ants_img_ano_warped.to_filename(f'/home/govindas/mouse_dataset/voxel/tmp/ano_warped.nii.gz')"
   ]
  },
  {
   "cell_type": "code",
   "execution_count": 9,
   "metadata": {},
   "outputs": [
    {
     "name": "stdout",
     "output_type": "stream",
     "text": [
      "uint32 (118, 160, 90)\n"
     ]
    }
   ],
   "source": [
    "isocortex_id = STree[STree.name == 'Isocortex'].id.values[0]\n",
    "ISO, metaISO = mcc.get_structure_mask(isocortex_id)\n",
    "ISO = ISO.astype(np.uint32)\n",
    "ants_img_allen_iso, img_allen_iso_file = save_to_nifti(ISO, 'allen_iso')\n",
    "ants_img_iso_warped = ants.apply_transforms(\n",
    "    fixed=ants_img_n162,\n",
    "    moving=ants_img_allen_iso,\n",
    "    transformlist=tx['fwdtransforms'],\n",
    "    interpolator='genericLabel',\n",
    ")\n",
    "ants_img_iso_warped.to_filename(f'/home/govindas/mouse_dataset/voxel/tmp/allen_iso_warped.nii.gz')"
   ]
  }
 ],
 "metadata": {
  "kernelspec": {
   "display_name": "nw_estim",
   "language": "python",
   "name": "python3"
  },
  "language_info": {
   "codemirror_mode": {
    "name": "ipython",
    "version": 3
   },
   "file_extension": ".py",
   "mimetype": "text/x-python",
   "name": "python",
   "nbconvert_exporter": "python",
   "pygments_lexer": "ipython3",
   "version": "3.9.17"
  }
 },
 "nbformat": 4,
 "nbformat_minor": 2
}