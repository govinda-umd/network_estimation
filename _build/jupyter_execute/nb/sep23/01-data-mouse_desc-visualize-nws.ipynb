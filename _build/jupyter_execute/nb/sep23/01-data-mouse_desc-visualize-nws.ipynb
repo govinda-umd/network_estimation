{
 "cells": [
  {
   "cell_type": "markdown",
   "metadata": {},
   "source": [
    "# Sep 29, 2023; visualize overlapping networks"
   ]
  },
  {
   "cell_type": "code",
   "execution_count": 1,
   "metadata": {},
   "outputs": [],
   "source": [
    "import csv\n",
    "import os\n",
    "import numpy as np\n",
    "import pandas as pd\n",
    "import scipy as sp \n",
    "import pickle \n",
    "from os.path import join as pjoin\n",
    "from itertools import product\n",
    "from tqdm import tqdm\n",
    "from copy import deepcopy\n",
    "from pathlib import Path\n",
    "import subprocess\n",
    "from scipy import sparse\n",
    "\n",
    "# nilearn\n",
    "from nilearn import image\n",
    "\n",
    "# networkx\n",
    "import networkx as nx \n",
    "\n",
    "# plotting\n",
    "import matplotlib as mpl\n",
    "import matplotlib.pyplot as plt\n",
    "import seaborn as sns\n",
    "from mpl_toolkits.mplot3d import Axes3D\n",
    "from matplotlib.cm import rainbow\n",
    "\n",
    "plt.rcParamsDefault['font.family'] = \"sans-serif\"\n",
    "plt.rcParamsDefault['font.sans-serif'] = \"Arial\"\n",
    "plt.rcParams['font.size'] = 14\n",
    "plt.rcParams[\"errorbar.capsize\"] = 0.5\n",
    "\n",
    "import cmasher as cmr  # CITE ITS PAPER IN YOUR MANUSCRIPT\n",
    "\n",
    "# ignore user warnings\n",
    "import warnings\n",
    "warnings.filterwarnings(\"ignore\") #, category=UserWarning)"
   ]
  },
  {
   "cell_type": "code",
   "execution_count": 2,
   "metadata": {},
   "outputs": [],
   "source": [
    "class ARGS():\n",
    "    pass\n",
    "\n",
    "args = ARGS()"
   ]
  },
  {
   "cell_type": "code",
   "execution_count": 3,
   "metadata": {},
   "outputs": [],
   "source": [
    "args.num_coms = 10"
   ]
  },
  {
   "cell_type": "code",
   "execution_count": 4,
   "metadata": {},
   "outputs": [],
   "source": [
    "TS_path = f'/home/govindas/mouse_dataset/voxel/voxel_timeseries_txt_files'\n",
    "NW_path = f'/home/govindas/mouse_dataset/voxel/svinet'"
   ]
  },
  {
   "cell_type": "code",
   "execution_count": 5,
   "metadata": {},
   "outputs": [
    {
     "data": {
      "text/plain": [
       "(43773, 12)"
      ]
     },
     "execution_count": 5,
     "metadata": {},
     "output_type": "execute_result"
    }
   ],
   "source": [
    "nw_files = os.listdir(NW_path)\n",
    "nw_file = nw_files[0]\n",
    "\n",
    "nw_groups = np.loadtxt(f'{NW_path}/{nw_file}/groups.txt')\n",
    "nw_groups.shape"
   ]
  },
  {
   "cell_type": "code",
   "execution_count": 6,
   "metadata": {},
   "outputs": [],
   "source": [
    "ns = nw_file.split('_')\n",
    "sub = [s for s in ns if f'SLC' in s][0].split('-')[-1]\n",
    "ses = [s for s in ns if f'ses' in s][0].split('-')[-1]\n",
    "run = [s for s in ns if f'run' in s][0].split('-')[-1]\n",
    "task = [s for s in ns if f'task' in s][0].split('-')[1]\n",
    "ts_file = f'sub-{sub}_ses-{ses}_run-{run}_task-{task}_desc-ts.txt'\n",
    "ts = np.loadtxt(f'{TS_path}/{ts_file}')"
   ]
  },
  {
   "cell_type": "code",
   "execution_count": 7,
   "metadata": {},
   "outputs": [],
   "source": [
    "ts[:, 3:] = 0\n",
    "ts[nw_groups[:, 1].astype(np.int), 3:3+args.num_coms] = nw_groups[:, 2:]"
   ]
  },
  {
   "cell_type": "code",
   "execution_count": 8,
   "metadata": {},
   "outputs": [],
   "source": [
    "fmt = ['%d' for _ in range(3)] + ['%.4f' for _ in range(args.num_coms)]\n",
    "np.savetxt(f'/home/govindas/mouse_dataset/voxel/tmp/nw_groups_voxel.txt', ts[:, :3+args.num_coms], fmt=fmt)"
   ]
  }
 ],
 "metadata": {
  "kernelspec": {
   "display_name": "nw_estim",
   "language": "python",
   "name": "python3"
  },
  "language_info": {
   "codemirror_mode": {
    "name": "ipython",
    "version": 3
   },
   "file_extension": ".py",
   "mimetype": "text/x-python",
   "name": "python",
   "nbconvert_exporter": "python",
   "pygments_lexer": "ipython3",
   "version": "3.9.17"
  }
 },
 "nbformat": 4,
 "nbformat_minor": 2
}