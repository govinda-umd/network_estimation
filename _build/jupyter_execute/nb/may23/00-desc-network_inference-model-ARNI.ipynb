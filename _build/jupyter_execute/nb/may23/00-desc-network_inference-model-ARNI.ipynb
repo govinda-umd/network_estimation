{
 "cells": [
  {
   "attachments": {},
   "cell_type": "markdown",
   "metadata": {},
   "source": [
    "# May 15-16, 2023: Model-free inference of directed networks\n",
    "- paper: https://doi.org/10.1038/s41467-017-02288-4\n",
    "- code: https://github.com/networkinference/ARNI"
   ]
  },
  {
   "cell_type": "code",
   "execution_count": 1,
   "metadata": {},
   "outputs": [],
   "source": [
    "import csv\n",
    "import os\n",
    "import pickle\n",
    "import random\n",
    "import sys\n",
    "from os.path import join as pjoin\n",
    "import numpy as np\n",
    "import scipy as sp \n",
    "from scipy.spatial.distance import pdist, cdist, squareform\n",
    "from scipy import stats\n",
    "import tvb\n",
    "import networkx as nx\n",
    "import copy\n",
    "import matlab.engine\n",
    "from itertools import product\n",
    "from tqdm import tqdm\n",
    "\n",
    "sys.path.append(\"/usr/local/MATLAB/R2022b/bin/matlab\")\n",
    "\n",
    "# main dirs\n",
    "proj_dir = pjoin(os.environ['HOME'], 'network_estimation')\n",
    "month_dir = f\"{proj_dir}/nb/may23\"\n",
    "bdmodels_dir = f\"{proj_dir}/helpers/bdmodels\"\n",
    "networks_dir = f\"{proj_dir}/helpers/networks\"\n",
    "results_dir = f\"{proj_dir}/results\"\n",
    "\n",
    "# plotting\n",
    "import matplotlib as mpl\n",
    "import matplotlib.pyplot as plt\n",
    "import seaborn as sns\n",
    "\n",
    "plt.rcParamsDefault['font.family'] = \"sans-serif\"\n",
    "plt.rcParamsDefault['font.sans-serif'] = \"Arial\"\n",
    "plt.rcParams['font.size'] = 14\n",
    "plt.rcParams[\"errorbar.capsize\"] = 0.5\n",
    "\n",
    "import cmasher as cmr  # CITE ITS PAPER IN YOUR MANUSCRIPT\n",
    "\n",
    "# folders\n",
    "sys.path.insert(0, proj_dir)\n",
    "import helpers.functions.network_utils as nw_utils\n",
    "import helpers.functions.plotting_utils as plot_utils\n",
    "import helpers.functions.time_series_simulation_utils as ts_sim_utils\n",
    "import helpers.functions.fc_utils as fc_utils\n",
    "import helpers.inference.ARNI as arni"
   ]
  },
  {
   "cell_type": "code",
   "execution_count": 2,
   "metadata": {},
   "outputs": [
    {
     "name": "stderr",
     "output_type": "stream",
     "text": [
      "100%|██████████| 15/15 [00:02<00:00,  6.31it/s]\n"
     ]
    }
   ],
   "source": [
    "# network\n",
    "W = sp.io.loadmat(f\"{networks_dir}/networks_numrois_[5 5 5].mat\")['networks'][0, :, :]\n",
    "\n",
    "# time series\n",
    "with open(f\"{results_dir}/out_dicts_kuramoto.pkl\", 'rb') as f:\n",
    "    out_dicts = pickle.load(f)\n",
    "\n",
    "# reconstruct\n",
    "idx_subj, idx_sigma = 0, 0\n",
    "out_dict = out_dicts[f\"subj{idx_subj:02}\"][f\"sigma{idx_sigma:02}\"][f\"run{8:02}\"]\n",
    "X = out_dict['x'].T\n",
    "\n",
    "W = W\n",
    "MODEL, ORDER, BASIS = 'a', 15, 'polynomial'\n",
    "\n",
    "reconstructions = []\n",
    "for idx_node in tqdm(np.arange(X.shape[0])):\n",
    "    reconst = arni.reconstruct(X, MODEL, ORDER, BASIS, idx_node, W)\n",
    "    reconstructions.append(reconst) # llist, cost, FPR, TPR, AUC\n"
   ]
  },
  {
   "cell_type": "code",
   "execution_count": 4,
   "metadata": {},
   "outputs": [],
   "source": [
    "def get_inferred_network(W, reconstructions):\n",
    "    W_ = np.zeros_like(W)\n",
    "    for idx_node, reconst in enumerate(reconstructions):\n",
    "        W_[idx_node, reconst[0]] = 1\n",
    "    return W_"
   ]
  },
  {
   "cell_type": "code",
   "execution_count": 5,
   "metadata": {},
   "outputs": [],
   "source": [
    "W_ = get_inferred_network(W, reconstructions)"
   ]
  },
  {
   "cell_type": "code",
   "execution_count": 6,
   "metadata": {},
   "outputs": [
    {
     "data": {
      "text/plain": [
       "array([[0., 0., 0., 0., 0., 0., 0., 0., 0., 0., 0., 0., 0., 0., 0.],\n",
       "       [0., 1., 0., 0., 1., 0., 0., 1., 0., 0., 0., 0., 0., 0., 0.],\n",
       "       [0., 0., 1., 0., 0., 0., 1., 1., 0., 0., 0., 0., 1., 0., 0.],\n",
       "       [1., 0., 0., 0., 0., 0., 1., 0., 1., 0., 0., 0., 0., 1., 0.],\n",
       "       [0., 0., 0., 0., 0., 1., 0., 0., 0., 0., 0., 0., 0., 1., 0.],\n",
       "       [0., 0., 0., 0., 0., 0., 0., 0., 0., 0., 0., 0., 0., 0., 0.],\n",
       "       [1., 0., 0., 0., 0., 1., 0., 0., 0., 0., 0., 0., 0., 0., 0.],\n",
       "       [1., 0., 0., 0., 0., 0., 0., 0., 1., 0., 0., 0., 0., 1., 0.],\n",
       "       [0., 0., 0., 0., 0., 1., 0., 0., 0., 0., 0., 0., 0., 1., 0.],\n",
       "       [0., 0., 0., 0., 0., 0., 1., 0., 0., 0., 0., 0., 0., 0., 0.],\n",
       "       [0., 0., 0., 0., 0., 0., 1., 0., 1., 0., 1., 0., 0., 0., 0.],\n",
       "       [0., 0., 0., 0., 0., 0., 0., 0., 0., 0., 0., 0., 1., 0., 0.],\n",
       "       [1., 0., 0., 0., 0., 0., 0., 0., 1., 0., 0., 0., 0., 1., 0.],\n",
       "       [0., 0., 0., 0., 0., 0., 0., 0., 0., 0., 0., 0., 0., 0., 0.],\n",
       "       [1., 0., 0., 0., 0., 0., 1., 0., 1., 0., 0., 0., 0., 1., 0.]])"
      ]
     },
     "execution_count": 6,
     "metadata": {},
     "output_type": "execute_result"
    }
   ],
   "source": [
    "W_"
   ]
  }
 ],
 "metadata": {
  "kernelspec": {
   "display_name": "nw_estim",
   "language": "python",
   "name": "python3"
  },
  "language_info": {
   "codemirror_mode": {
    "name": "ipython",
    "version": 3
   },
   "file_extension": ".py",
   "mimetype": "text/x-python",
   "name": "python",
   "nbconvert_exporter": "python",
   "pygments_lexer": "ipython3",
   "version": "3.9.16"
  },
  "vscode": {
   "interpreter": {
    "hash": "5cdb21b498f41c957d560d72b5819de03edaa6563a45773bca0ce15eb97f4fab"
   }
  }
 },
 "nbformat": 4,
 "nbformat_minor": 2
}