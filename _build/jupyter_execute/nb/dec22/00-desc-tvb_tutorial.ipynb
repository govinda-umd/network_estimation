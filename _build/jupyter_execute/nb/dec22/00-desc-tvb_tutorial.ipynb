{
 "cells": [
  {
   "attachments": {},
   "cell_type": "markdown",
   "metadata": {},
   "source": [
    "# December 20, 2022: The Virtual Brain (TVB) tutorial"
   ]
  },
  {
   "cell_type": "code",
   "execution_count": null,
   "metadata": {},
   "outputs": [],
   "source": [
    "import numpy as np"
   ]
  }
 ],
 "metadata": {
  "kernelspec": {
   "display_name": "expln-ai3.9",
   "language": "python",
   "name": "python3"
  },
  "language_info": {
   "name": "python",
   "version": "3.9.10 (main, Jan 15 2022, 18:56:52) \n[GCC 7.5.0]"
  },
  "vscode": {
   "interpreter": {
    "hash": "3b5cb7249c2b05c08ddca5a7278173987b98c572958faaa00b04c99c3e034fdc"
   }
  }
 },
 "nbformat": 4,
 "nbformat_minor": 2
}