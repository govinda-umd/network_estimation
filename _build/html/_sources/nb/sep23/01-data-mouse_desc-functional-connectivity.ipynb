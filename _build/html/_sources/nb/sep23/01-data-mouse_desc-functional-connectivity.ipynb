{
 "cells": [
  {
   "cell_type": "markdown",
   "metadata": {},
   "source": [
    "# Sep 27, 2023: functional connectivity"
   ]
  },
  {
   "cell_type": "code",
   "execution_count": 1,
   "metadata": {},
   "outputs": [],
   "source": [
    "import csv\n",
    "import os\n",
    "import numpy as np\n",
    "import pandas as pd\n",
    "import scipy as sp \n",
    "import pickle \n",
    "from os.path import join as pjoin\n",
    "from itertools import product\n",
    "from tqdm import tqdm\n",
    "from copy import deepcopy\n",
    "from pathlib import Path\n",
    "import subprocess\n",
    "from scipy import sparse\n",
    "\n",
    "# nilearn\n",
    "from nilearn import image\n",
    "\n",
    "# networkx\n",
    "import networkx as nx \n",
    "\n",
    "# plotting\n",
    "import matplotlib as mpl\n",
    "import matplotlib.pyplot as plt\n",
    "import seaborn as sns\n",
    "from mpl_toolkits.mplot3d import Axes3D\n",
    "from matplotlib.cm import rainbow\n",
    "\n",
    "plt.rcParamsDefault['font.family'] = \"sans-serif\"\n",
    "plt.rcParamsDefault['font.sans-serif'] = \"Arial\"\n",
    "plt.rcParams['font.size'] = 14\n",
    "plt.rcParams[\"errorbar.capsize\"] = 0.5\n",
    "\n",
    "import cmasher as cmr  # CITE ITS PAPER IN YOUR MANUSCRIPT\n",
    "\n",
    "# ignore user warnings\n",
    "import warnings\n",
    "warnings.filterwarnings(\"ignore\") #, category=UserWarning)"
   ]
  },
  {
   "cell_type": "code",
   "execution_count": 2,
   "metadata": {},
   "outputs": [],
   "source": [
    "class ARGS():\n",
    "    pass\n",
    "\n",
    "args = ARGS()"
   ]
  },
  {
   "cell_type": "code",
   "execution_count": 3,
   "metadata": {},
   "outputs": [],
   "source": [
    "TS_path = f'/home/govindas/mouse_dataset/voxel/voxel_timeseries_txt_files'\n",
    "NW_EDGES_path = f'/home/govindas/mouse_dataset/voxel/nw_edges'\n",
    "ts_files = os.listdir(TS_path)"
   ]
  },
  {
   "cell_type": "code",
   "execution_count": 4,
   "metadata": {},
   "outputs": [
    {
     "name": "stderr",
     "output_type": "stream",
     "text": [
      "100%|██████████| 200/200 [7:19:39<00:00, 131.90s/it]  \n"
     ]
    }
   ],
   "source": [
    "for ts_file in tqdm(ts_files):\n",
    "    ts = np.loadtxt(f'{TS_path}/{ts_file}').T[3:, :] # time x vox\n",
    "    # FC\n",
    "    R = np.corrcoef(ts, rowvar=False)\n",
    "    R = np.nan_to_num(R)\n",
    "    thresh = np.nanpercentile(np.abs(R).flatten(), q=95,)\n",
    "    R *= R > thresh\n",
    "    # print(R.shape)\n",
    "    R = np.triu(R, k=1)\n",
    "    # edge list\n",
    "    E = np.stack(np.where(R), axis=-1)\n",
    "    edges_file = ts_file.split('_')\n",
    "    edges_file[-1] = 'desc-nw-edges.txt'\n",
    "    edges_file = '_'.join(edges_file)\n",
    "    with open(f'{NW_EDGES_path}/{edges_file}', 'w', newline='') as f:\n",
    "        wr = csv.writer(f, delimiter='\\t')\n",
    "        wr.writerows(E)\n",
    "    # clear memory\n",
    "    del ts\n",
    "    del R\n",
    "    del E"
   ]
  }
 ],
 "metadata": {
  "kernelspec": {
   "display_name": "nw_estim",
   "language": "python",
   "name": "python3"
  },
  "language_info": {
   "codemirror_mode": {
    "name": "ipython",
    "version": 3
   },
   "file_extension": ".py",
   "mimetype": "text/x-python",
   "name": "python",
   "nbconvert_exporter": "python",
   "pygments_lexer": "ipython3",
   "version": "3.9.17"
  },
  "orig_nbformat": 4
 },
 "nbformat": 4,
 "nbformat_minor": 2
}
