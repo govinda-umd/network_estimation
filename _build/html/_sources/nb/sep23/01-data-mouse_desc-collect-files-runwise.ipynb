{
 "cells": [
  {
   "cell_type": "markdown",
   "metadata": {},
   "source": [
    "# Sep 26, 2023: collect data files per sub, ses, run"
   ]
  },
  {
   "cell_type": "code",
   "execution_count": 1,
   "metadata": {},
   "outputs": [],
   "source": [
    "import csv\n",
    "import os\n",
    "import numpy as np\n",
    "import pandas as pd\n",
    "import scipy as sp \n",
    "import pickle \n",
    "from os.path import join as pjoin\n",
    "from itertools import product\n",
    "from tqdm import tqdm\n",
    "from copy import deepcopy\n",
    "from pathlib import Path\n",
    "import subprocess\n",
    "\n",
    "# nilearn\n",
    "from nilearn import image\n",
    "\n",
    "# plotting\n",
    "import matplotlib as mpl\n",
    "import matplotlib.pyplot as plt\n",
    "import seaborn as sns\n",
    "from mpl_toolkits.mplot3d import Axes3D\n",
    "from matplotlib.cm import rainbow\n",
    "\n",
    "plt.rcParamsDefault['font.family'] = \"sans-serif\"\n",
    "plt.rcParamsDefault['font.sans-serif'] = \"Arial\"\n",
    "plt.rcParams['font.size'] = 14\n",
    "plt.rcParams[\"errorbar.capsize\"] = 0.5\n",
    "\n",
    "import cmasher as cmr  # CITE ITS PAPER IN YOUR MANUSCRIPT\n",
    "\n",
    "# ignore user warnings\n",
    "import warnings\n",
    "warnings.filterwarnings(\"ignore\", category=UserWarning)"
   ]
  },
  {
   "cell_type": "code",
   "execution_count": 2,
   "metadata": {},
   "outputs": [],
   "source": [
    "class ARGS():\n",
    "    pass\n",
    "\n",
    "args = ARGS()\n",
    "\n",
    "args.subs = np.arange(1, 11)\n",
    "args.sess = np.arange(1, 4)\n",
    "args.num_runs = 7"
   ]
  },
  {
   "cell_type": "code",
   "execution_count": 3,
   "metadata": {},
   "outputs": [],
   "source": [
    "censor_path = f'/home/govindas/mouse_dataset/voxel/frame_censoring_mask'\n",
    "mask_path = f'/home/govindas/mouse_dataset/voxel/commonspace_mask'\n",
    "data_path = f'/home/govindas/mouse_dataset/voxel/cleaned_timeseries'\n",
    "COLLECT_path = f'/home/govindas/mouse_dataset/voxel/all_file_collections'\n",
    "TS_path = f'/home/govindas/mouse_dataset/voxel/voxel_timeseries_txt_files'\n",
    "ROI_TS_path = f'/home/govindas/mouse_dataset/roi/roi_timeseries_txt_files'"
   ]
  },
  {
   "cell_type": "code",
   "execution_count": 4,
   "metadata": {},
   "outputs": [],
   "source": [
    "def get_censor_file(sub, ses, run):\n",
    "    try:\n",
    "        censor_files = [\n",
    "            f \n",
    "            for f in os.listdir(censor_path)\n",
    "            if f'SLC{sub:02d}' in f\n",
    "            if f'ses-{ses}' in f\n",
    "            if f'run-{run}' in f\n",
    "        ]\n",
    "        censor_file = os.listdir(f'{censor_path}/{censor_files[0]}')[0]\n",
    "        assert(censor_file.split('/')[-1].split('.')[-1] == 'csv')\n",
    "        censor_file = f\"{censor_path}/{censor_files[0]}/{censor_file}\"\n",
    "        return censor_file\n",
    "    except: return None\n",
    "\n",
    "def get_mask_file(sub, ses, run):\n",
    "    try:\n",
    "        mask_files = [\n",
    "            f \n",
    "            for f in os.listdir(mask_path)\n",
    "            if f'SLC{sub:02d}' in f\n",
    "            if f'ses-{ses}' in f\n",
    "        ]\n",
    "        mask_run_files = [\n",
    "            f\n",
    "            for f in os.listdir(f'{mask_path}/{mask_files[0]}')\n",
    "            if f'run_{run}' in f\n",
    "        ]\n",
    "        mask_file = os.listdir(f'{mask_path}/{mask_files[0]}/{mask_run_files[0]}')[0]\n",
    "        assert(mask_file.split('/')[-1].split('.')[-1] == 'gz')\n",
    "        mask_file = f'{mask_path}/{mask_files[0]}/{mask_run_files[0]}/{mask_file}'\n",
    "        return mask_file\n",
    "    except: return None\n",
    "\n",
    "def get_data_file(sub, ses, run):\n",
    "    try:\n",
    "        data_files = [\n",
    "            f \n",
    "            for f in os.listdir(data_path)\n",
    "            if f'SLC{sub:02d}' in f\n",
    "            if f'ses-{ses}' in f\n",
    "            if f'run-{run}' in f\n",
    "        ]\n",
    "        data_file = os.listdir(f'{data_path}/{data_files[0]}')[0]\n",
    "        assert(data_file.split('/')[-1].split('.')[-1] == 'gz')\n",
    "        data_file = f'{data_path}/{data_files[0]}/{data_file}'\n",
    "        return data_file\n",
    "    except: return None"
   ]
  },
  {
   "cell_type": "code",
   "execution_count": 5,
   "metadata": {},
   "outputs": [
    {
     "name": "stderr",
     "output_type": "stream",
     "text": [
      "30it [00:00, 554.02it/s]\n"
     ]
    }
   ],
   "source": [
    "for (sub, ses) in tqdm(product(args.subs, args.sess)):\n",
    "        \n",
    "    for run in np.arange(1,args.num_runs+1,2):\n",
    "        censor_file = get_censor_file(sub, ses, run)\n",
    "        mask_file = get_mask_file(sub, ses, run)\n",
    "        data_file = get_data_file(sub, ses, run)\n",
    "        \n",
    "        if (censor_file is None or mask_file is None or data_file is None):\n",
    "            continue\n",
    "        \n",
    "        task = [\n",
    "            t \n",
    "            for t in censor_file.split('/')[-1].split('_') \n",
    "            if 'task' in t\n",
    "        ][0].split('-')[-1]\n",
    "        \n",
    "        identity = f'sub-SLC{sub:02d}_ses-{ses}_run-{run}_task-{task}'\n",
    "        ts_file = f'{TS_path}/{identity}_desc-ts.txt'\n",
    "        roi_ts_file = f'{ROI_TS_path}/{identity}_desc-ts.txt'\n",
    "        with open(\n",
    "            f'{COLLECT_path}/{identity}_desc-files.txt', \n",
    "            'w', newline=''\n",
    "        ) as f:\n",
    "            wr = csv.writer(f, delimiter='\\t')\n",
    "            wr.writerows([\n",
    "                [censor_file], [mask_file], \n",
    "                [data_file], [ts_file], \n",
    "                [roi_ts_file],\n",
    "            ])"
   ]
  }
 ],
 "metadata": {
  "kernelspec": {
   "display_name": "nw_estim",
   "language": "python",
   "name": "python3"
  },
  "language_info": {
   "codemirror_mode": {
    "name": "ipython",
    "version": 3
   },
   "file_extension": ".py",
   "mimetype": "text/x-python",
   "name": "python",
   "nbconvert_exporter": "python",
   "pygments_lexer": "ipython3",
   "version": "3.9.17"
  },
  "orig_nbformat": 4
 },
 "nbformat": 4,
 "nbformat_minor": 2
}
