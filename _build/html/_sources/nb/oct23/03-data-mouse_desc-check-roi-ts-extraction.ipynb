{
 "cells": [
  {
   "cell_type": "markdown",
   "metadata": {},
   "source": [
    "# Oct 30, 2023: ROI time series extraction and back-projection"
   ]
  },
  {
   "cell_type": "code",
   "execution_count": 1,
   "metadata": {},
   "outputs": [],
   "source": [
    "import csv\n",
    "import os\n",
    "import sys\n",
    "import numpy as np\n",
    "import pandas as pd\n",
    "import scipy as sp \n",
    "import pickle \n",
    "from os.path import join as pjoin\n",
    "from itertools import product\n",
    "from tqdm import tqdm\n",
    "from copy import deepcopy\n",
    "from pathlib import Path\n",
    "import subprocess\n",
    "from scipy import sparse\n",
    "\n",
    "# nii imaging\n",
    "from allensdk.core.mouse_connectivity_cache import (\n",
    "    MouseConnectivityCache,\n",
    "    MouseConnectivityApi\n",
    ")\n",
    "import nrrd\n",
    "import ants\n",
    "\n",
    "# networkx\n",
    "import networkx as nx \n",
    "\n",
    "# plotting\n",
    "import matplotlib as mpl\n",
    "import matplotlib.pyplot as plt\n",
    "import seaborn as sns\n",
    "from mpl_toolkits.mplot3d import Axes3D\n",
    "from matplotlib.cm import rainbow\n",
    "\n",
    "plt.rcParamsDefault['font.family'] = \"sans-serif\"\n",
    "plt.rcParamsDefault['font.sans-serif'] = \"Arial\"\n",
    "plt.rcParams['font.size'] = 14\n",
    "plt.rcParams[\"errorbar.capsize\"] = 0.5\n",
    "\n",
    "import cmasher as cmr  # CITE ITS PAPER IN YOUR MANUSCRIPT\n",
    "\n",
    "# ignore user warnings\n",
    "import warnings\n",
    "warnings.filterwarnings(\"ignore\") #, category=UserWarning)"
   ]
  },
  {
   "cell_type": "code",
   "execution_count": 2,
   "metadata": {},
   "outputs": [],
   "source": [
    "class ARGS():\n",
    "    pass\n",
    "\n",
    "args = ARGS()\n",
    "\n",
    "args.out_path = (\n",
    "    f'/home/govindas/mouse_dataset/allen_atlas_ccfv3' \n",
    "    f'/hadi/parcellation'\n",
    ")"
   ]
  },
  {
   "cell_type": "code",
   "execution_count": 3,
   "metadata": {},
   "outputs": [],
   "source": [
    "regions_df = pd.read_pickle(f'{args.out_path}/regions.df')\n",
    "layers02 = regions_df[regions_df.acro == 'Isocortex'][regions_df.layer.isin([0, 2])]"
   ]
  },
  {
   "cell_type": "code",
   "execution_count": 4,
   "metadata": {},
   "outputs": [
    {
     "data": {
      "text/html": [
       "<div>\n",
       "<style scoped>\n",
       "    .dataframe tbody tr th:only-of-type {\n",
       "        vertical-align: middle;\n",
       "    }\n",
       "\n",
       "    .dataframe tbody tr th {\n",
       "        vertical-align: top;\n",
       "    }\n",
       "\n",
       "    .dataframe thead th {\n",
       "        text-align: right;\n",
       "    }\n",
       "</style>\n",
       "<table border=\"1\" class=\"dataframe\">\n",
       "  <thead>\n",
       "    <tr style=\"text-align: right;\">\n",
       "      <th></th>\n",
       "      <th>id</th>\n",
       "      <th>acro</th>\n",
       "      <th>hemis</th>\n",
       "      <th>region</th>\n",
       "      <th>layer</th>\n",
       "    </tr>\n",
       "  </thead>\n",
       "  <tbody>\n",
       "    <tr>\n",
       "      <th>0</th>\n",
       "      <td>193</td>\n",
       "      <td>Isocortex</td>\n",
       "      <td>1</td>\n",
       "      <td>1</td>\n",
       "      <td>1</td>\n",
       "    </tr>\n",
       "    <tr>\n",
       "      <th>1</th>\n",
       "      <td>194</td>\n",
       "      <td>Isocortex</td>\n",
       "      <td>1</td>\n",
       "      <td>2</td>\n",
       "      <td>1</td>\n",
       "    </tr>\n",
       "    <tr>\n",
       "      <th>2</th>\n",
       "      <td>195</td>\n",
       "      <td>Isocortex</td>\n",
       "      <td>1</td>\n",
       "      <td>3</td>\n",
       "      <td>1</td>\n",
       "    </tr>\n",
       "    <tr>\n",
       "      <th>3</th>\n",
       "      <td>196</td>\n",
       "      <td>Isocortex</td>\n",
       "      <td>1</td>\n",
       "      <td>4</td>\n",
       "      <td>1</td>\n",
       "    </tr>\n",
       "    <tr>\n",
       "      <th>4</th>\n",
       "      <td>197</td>\n",
       "      <td>Isocortex</td>\n",
       "      <td>1</td>\n",
       "      <td>5</td>\n",
       "      <td>1</td>\n",
       "    </tr>\n",
       "    <tr>\n",
       "      <th>...</th>\n",
       "      <td>...</td>\n",
       "      <td>...</td>\n",
       "      <td>...</td>\n",
       "      <td>...</td>\n",
       "      <td>...</td>\n",
       "    </tr>\n",
       "    <tr>\n",
       "      <th>681</th>\n",
       "      <td>1450</td>\n",
       "      <td>CB</td>\n",
       "      <td>2</td>\n",
       "      <td>1425</td>\n",
       "      <td>-1</td>\n",
       "    </tr>\n",
       "    <tr>\n",
       "      <th>682</th>\n",
       "      <td>1451</td>\n",
       "      <td>CB</td>\n",
       "      <td>2</td>\n",
       "      <td>1426</td>\n",
       "      <td>-1</td>\n",
       "    </tr>\n",
       "    <tr>\n",
       "      <th>683</th>\n",
       "      <td>1452</td>\n",
       "      <td>CB</td>\n",
       "      <td>2</td>\n",
       "      <td>1427</td>\n",
       "      <td>-1</td>\n",
       "    </tr>\n",
       "    <tr>\n",
       "      <th>684</th>\n",
       "      <td>1453</td>\n",
       "      <td>CB</td>\n",
       "      <td>2</td>\n",
       "      <td>1428</td>\n",
       "      <td>-1</td>\n",
       "    </tr>\n",
       "    <tr>\n",
       "      <th>685</th>\n",
       "      <td>1454</td>\n",
       "      <td>CB</td>\n",
       "      <td>2</td>\n",
       "      <td>1429</td>\n",
       "      <td>-1</td>\n",
       "    </tr>\n",
       "  </tbody>\n",
       "</table>\n",
       "<p>686 rows × 5 columns</p>\n",
       "</div>"
      ],
      "text/plain": [
       "       id       acro  hemis  region  layer\n",
       "0     193  Isocortex      1       1      1\n",
       "1     194  Isocortex      1       2      1\n",
       "2     195  Isocortex      1       3      1\n",
       "3     196  Isocortex      1       4      1\n",
       "4     197  Isocortex      1       5      1\n",
       "..    ...        ...    ...     ...    ...\n",
       "681  1450         CB      2    1425     -1\n",
       "682  1451         CB      2    1426     -1\n",
       "683  1452         CB      2    1427     -1\n",
       "684  1453         CB      2    1428     -1\n",
       "685  1454         CB      2    1429     -1\n",
       "\n",
       "[686 rows x 5 columns]"
      ]
     },
     "execution_count": 4,
     "metadata": {},
     "output_type": "execute_result"
    }
   ],
   "source": [
    "regions_modified_df = regions_df.drop(layers02.index)\n",
    "regions_modified_df = regions_modified_df.reset_index(drop=True)\n",
    "regions_modified_df"
   ]
  },
  {
   "cell_type": "code",
   "execution_count": 5,
   "metadata": {},
   "outputs": [
    {
     "data": {
      "text/plain": [
       "687"
      ]
     },
     "execution_count": 5,
     "metadata": {},
     "output_type": "execute_result"
    }
   ],
   "source": [
    "parcels_img = ants.image_read(\n",
    "    f'{args.out_path}/warped_on_n162/parcels_warped_cm.nii.gz'\n",
    ")\n",
    "parcels = parcels_img.numpy()\n",
    "len(np.unique(parcels))"
   ]
  },
  {
   "cell_type": "code",
   "execution_count": 6,
   "metadata": {},
   "outputs": [
    {
     "data": {
      "text/plain": [
       "[<matplotlib.lines.Line2D at 0x7fb5eb399250>]"
      ]
     },
     "execution_count": 6,
     "metadata": {},
     "output_type": "execute_result"
    },
    {
     "data": {
      "image/png": "[encoded data removed]",
      "text/plain": [
       "<Figure size 640x480 with 1 Axes>"
      ]
     },
     "metadata": {},
     "output_type": "display_data"
    }
   ],
   "source": [
    "rois = regions_modified_df.id.values\n",
    "parcels_test = np.zeros_like(parcels)\n",
    "for roi in rois:\n",
    "    parcels_test += (parcels == roi) * roi \n",
    "\n",
    "parcels_img.new_image_like(\n",
    "    data=parcels_test\n",
    ").to_filename(\n",
    "    f'/home/govindas/mouse_dataset/roi/tmp/parcels_test.nii.gz'\n",
    ")\n",
    "plt.plot(range(len(rois)), rois)"
   ]
  },
  {
   "cell_type": "code",
   "execution_count": 7,
   "metadata": {},
   "outputs": [
    {
     "data": {
      "text/plain": [
       "[<matplotlib.lines.Line2D at 0x7fb5eb2855e0>]"
      ]
     },
     "execution_count": 7,
     "metadata": {},
     "output_type": "execute_result"
    },
    {
     "data": {
      "image/png": "[encoded data removed]",
      "text/plain": [
       "<Figure size 640x480 with 1 Axes>"
      ]
     },
     "metadata": {},
     "output_type": "display_data"
    }
   ],
   "source": [
    "roi_labels = np.loadtxt(\n",
    "    f'/home/govindas/mouse_dataset/roi/tmp/atlas_ts.txt'\n",
    ")\n",
    "plt.plot(range(len(roi_labels)), roi_labels)"
   ]
  },
  {
   "cell_type": "code",
   "execution_count": 8,
   "metadata": {},
   "outputs": [
    {
     "name": "stdout",
     "output_type": "stream",
     "text": [
      "(522, 686)\n",
      "(686,)\n"
     ]
    },
    {
     "data": {
      "text/plain": [
       "array([0.48990664, 0.52849162, 0.51280994])"
      ]
     },
     "execution_count": 8,
     "metadata": {},
     "output_type": "execute_result"
    }
   ],
   "source": [
    "ts = np.loadtxt(\n",
    "    f'/home/govindas/mouse_dataset/roi/tmp/ts.txt'\n",
    ")\n",
    "print(ts.shape)\n",
    "vs = np.zeros(ts.shape[1])\n",
    "vs[[0, 34, 67]] = np.std(ts, axis=0)[[0, 34, 67]]\n",
    "print(vs.shape)\n",
    "\n",
    "vs[[0, 34, 67]]"
   ]
  },
  {
   "cell_type": "code",
   "execution_count": 9,
   "metadata": {},
   "outputs": [
    {
     "data": {
      "text/plain": [
       "array([193., 227., 260.])"
      ]
     },
     "execution_count": 9,
     "metadata": {},
     "output_type": "execute_result"
    }
   ],
   "source": [
    "roi_labels[[0, 34, 67]]"
   ]
  },
  {
   "cell_type": "code",
   "execution_count": 10,
   "metadata": {},
   "outputs": [],
   "source": [
    "groups = np.zeros_like(parcels)\n",
    "for idx, roi in enumerate(roi_labels):\n",
    "    groups += (parcels_test == roi) * vs[idx]\n",
    "parcels_img.new_image_like(\n",
    "    groups\n",
    ").to_filename(\n",
    "    f'/home/govindas/mouse_dataset/roi/tmp/groups.nii.gz'\n",
    ")"
   ]
  },
  {
   "cell_type": "code",
   "execution_count": 12,
   "metadata": {},
   "outputs": [],
   "source": [
    "regions_df.to_csv(\n",
    "    f'/home/govindas/mouse_dataset/allen_atlas_ccfv3/hadi/parcellation/regions.csv'\n",
    ")"
   ]
  }
 ],
 "metadata": {
  "kernelspec": {
   "display_name": "nw_estim",
   "language": "python",
   "name": "python3"
  },
  "language_info": {
   "codemirror_mode": {
    "name": "ipython",
    "version": 3
   },
   "file_extension": ".py",
   "mimetype": "text/x-python",
   "name": "python",
   "nbconvert_exporter": "python",
   "pygments_lexer": "ipython3",
   "version": "3.9.17"
  }
 },
 "nbformat": 4,
 "nbformat_minor": 2
}
